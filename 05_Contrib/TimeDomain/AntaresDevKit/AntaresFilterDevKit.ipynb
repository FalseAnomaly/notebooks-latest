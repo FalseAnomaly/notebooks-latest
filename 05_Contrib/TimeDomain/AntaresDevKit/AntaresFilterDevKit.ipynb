{
 "cells": [
  {
   "cell_type": "code",
   "execution_count": 1,
   "metadata": {},
   "outputs": [],
   "source": [
    "__author__ = 'Carl Stubens <carl.stubens@noirlab.edu>'\n",
    "__edited__ = 'Gautham Narayan, Chien-Hsiu Lee <chien-hsiu.lee@noirlab.edu>'\n",
    "__version__ = '20211130' # yyyymmdd\n",
    "__datasets__ = ['']\n",
    "__keywords__ = ['ANTARES', 'transient']"
   ]
  },
  {
   "cell_type": "markdown",
   "metadata": {},
   "source": [
    "# ANTARES Filter Development Kit\n",
    "\n",
    "_Carl Stubens, Gautham Narayan, Chien-Hsiu Lee, ANTARES Team._\n",
    "\n",
    "_Many thanks to Mike Fitzpatrick, Adam Scott, Knut Olsen, Jennifer Andrews, Robert Nikutta._\n",
    "\n",
    "## Summary\n",
    "\n",
    "This Notebook demonstrates how to write filters for [ANTARES](http://antares.noirlab.edu) and test them against a sample of real data from [ZTF](http://ztf.caltech.edu/).\n",
    "\n",
    "This Notebook is intended to be used in Astro Data Lab's Jupyter environment. There, you will have access to ANTARES data. If you're not running in Data Lab, [sign up for DataLab](https://datalab.noirlab.edu), then [log in to the notebook server](https://datalab.noirlab.edu/devbooks).\n",
    "\n",
    "For new Data Lab accounts, this notebook will be automatically included in your `notebooks/` directory. Otherwise, you can save this `.ipynb` notebook file locally, and then upload it to your Data Lab Jupyter notebook server (use the 'Upload' button in the upper right corner).\n",
    "\n",
    "In Data Lab, you MUST use the Kernel version \"Python 3 (ANTARES 0.4)\".\n",
    "## Goals\n",
    "\n",
    "To demonstrate:\n",
    "\n",
    "1. How to write filters using the ANTARES filter API.\n",
    "1. How to test filters against a small test dataset.\n",
    "\n",
    "\n",
    "## Table of Contents\n",
    "\n",
    "* [0. Background information on ANTARES](#background)\n",
    "* [1. Connect to ANTARES database](#connect)\n",
    "* [2. Write a Filter](#write)\n",
    " * [2.1 Hellow World](#write-one)\n",
    " * [2.2 Example of a real Filter](#write-two)\n",
    " * [2.3 Structure of a Filter](#write-three)\n",
    "* [3. Test a Filter](#test)\n",
    "* [4. Upload and use Data File](#data)\n",
    "* [5. Submit Filter to ANTARES](#submit)\n",
    "\n",
    "<a class=\"anchor\" id=\"background\"></a>\n",
    "## 0. Background information on ANTARES\n",
    "\n",
    "ANTARES receives alerts from surveys in real-time and sends them through a processing pipeline. The pipeline contains the following stages:\n",
    "\n",
    "1. Associate the Alert with the nearest point of known past measurements within a 1\" radius. We call this a Locus.\n",
    "2. Discard Alerts with a high probability of being false detections.\n",
    "3. Discard Alerts with poor image quality.\n",
    "4. Look up associated objects in our catalogs.\n",
    "5. If the Alert's Locus has two or more measurements on it, execute the Filters.\n",
    "\n",
    "The filters are python functions which take a LocusData object as a single parameter. Functions on the LocusData provide access to the Alert's properties, the data from past Alerts on the Locus, and the associated catalog objects. The LocusData also provides functions to set new properties on the Alert, and to send it to output streams.\n",
    "\n",
    "<a class=\"anchor\" id=\"connect\"></a>\n",
    "## 1. Initalize the dev kit\n",
    "\n",
    "This will configure the `antares` package to connect to the test database"
   ]
  },
  {
   "cell_type": "code",
   "execution_count": 2,
   "metadata": {
    "tags": []
   },
   "outputs": [
    {
     "name": "stdout",
     "output_type": "stream",
     "text": [
      "Loading ANTARES from /data0/sw/antares-kernel/lib/python3.9/site-packages/antares/__init__.py\n",
      "\n",
      "        _    _   _ _____  _    ____  _____ ____\n",
      "       / \\  | \\ | |_   _|/ \\  |  _ \\| ____/ ___|\n",
      "      / _ \\ |  \\| | | | / _ \\ | |_| |  _| \\___ \\\\\n",
      "     / ___ \\| |\\  | | |/ ___ \\|  _ /| |___ ___| |\n",
      "    /_/   \\_\\_| \\_| |_/_/   \\_\\_| \\_\\_____|____/   v2.1.5\n",
      "    \n",
      "2022-08-10 13:13:54,643 - WARNING MainThread settings.py:setup_prometheus:106 - Prometheus failed to start with [Errno 98] Address already in use\n",
      "Testing loading a random Locus with `dk.get_locus()`...\n",
      "2022-08-10 13:13:58,620 - INFO MainThread settings.py:cassandra_session_factory:67 - Establishing connection to Cassandra\n",
      "2022-08-10 13:13:59,956 - INFO MainThread settings.py:cassandra_session_factory:67 - Establishing connection to Cassandra\n",
      "2022-08-10 13:14:01,180 - INFO MainThread settings.py:cassandra_session_factory:67 - Establishing connection to Cassandra\n",
      "2022-08-10 13:14:05,327 - WARNING MainThread cassandra.py:list_by_location:1169 - Catalog object not found (catalog_id=19, object_id=548958647)\n",
      "\n",
      "ANTARES v2.1.5 DevKit is ready!\n",
      "Website: http://antares.noirlab.edu\n",
      "Documentation: http://noao.gitlab.io/antares/filter-documentation/\n",
      "\n"
     ]
    },
    {
     "name": "stderr",
     "output_type": "stream",
     "text": [
      "/data0/sw/antares-kernel/lib/python3.9/site-packages/pandas/core/arraylike.py:397: RuntimeWarning: invalid value encountered in log10\n",
      "  result = getattr(ufunc, method)(*inputs, **kwargs)\n"
     ]
    }
   ],
   "source": [
    "# Imports\n",
    "import antares.devkit as dk\n",
    "dk.init()\n",
    "# You should see a happy message that says that \"ANTARES DevKit is ready!\""
   ]
  },
  {
   "cell_type": "markdown",
   "metadata": {},
   "source": [
    "<a class=\"anchor\" id=\"write\"></a>\n",
    "## 2. Write a Filter\n",
    "\n",
    "<a class=\"anchor\" id=\"write-one\"></a>\n",
    "### 2.1 Hello world\n",
    "\n",
    "Let’s make a simple `HelloWorld` filter which tags all Loci `hello_world`:\n"
   ]
  },
  {
   "cell_type": "code",
   "execution_count": 3,
   "metadata": {},
   "outputs": [],
   "source": [
    "class HelloWorld(dk.Filter):\n",
    "    OUTPUT_TAGS = [\n",
    "        {\n",
    "            'name': 'hello_world',\n",
    "            'description': 'hello!',\n",
    "        },\n",
    "    ]\n",
    "\n",
    "    def run(self, locus):\n",
    "        print('Hello Locus', locus.locus_id)\n",
    "        locus.tag('hello_world')"
   ]
  },
  {
   "cell_type": "markdown",
   "metadata": {},
   "source": [
    "Let’s run the filter on a randomly chosen real Locus from the database:"
   ]
  },
  {
   "cell_type": "code",
   "execution_count": 4,
   "metadata": {},
   "outputs": [
    {
     "name": "stdout",
     "output_type": "stream",
     "text": [
      "2022-08-10 13:14:09,061 - WARNING MainThread cassandra.py:list_by_location:1169 - Catalog object not found (catalog_id=19, object_id=548958647)\n",
      "Hello Locus ANT2018h5lrq\n",
      "{'locus_id': 'ANT2018h5lrq', 'locus_data': FilterContext(locus_id=\"ANT2018h5lrq\"), 't': 0.00020771899999871835, 'new_locus_properties': {}, 'new_alert_properties': {}, 'new_tags': {'hello_world'}, 'raised_halt': False}\n"
     ]
    },
    {
     "name": "stderr",
     "output_type": "stream",
     "text": [
      "/data0/sw/antares-kernel/lib/python3.9/site-packages/pandas/core/arraylike.py:397: RuntimeWarning: invalid value encountered in log10\n",
      "  result = getattr(ufunc, method)(*inputs, **kwargs)\n"
     ]
    }
   ],
   "source": [
    "# Fetch 1 random Locus ID from the test dataset\n",
    "locus_id = dk.get_locus_ids(1)[0]\n",
    "\n",
    "# Execute HelloWorld filter on the locus\n",
    "report = dk.run_filter(HelloWorld, locus=locus_id)\n",
    "\n",
    "# `run_filter()` returns a report of what the filter did. Take a look at it:\n",
    "print(report)"
   ]
  },
  {
   "cell_type": "markdown",
   "metadata": {},
   "source": [
    "<a class=\"anchor\" id=\"write-two\"></a>\n",
    "### 2.2 Example of a real Filter\n",
    "\n",
    "As an example, here’s a version of the “High SNR” filter which is one of the defaults included in ANTARES. It tags Loci which have at least one Alert with a high signal-noise ratio:"
   ]
  },
  {
   "cell_type": "code",
   "execution_count": 5,
   "metadata": {},
   "outputs": [],
   "source": [
    "class HighSNR(dk.Filter):\n",
    "    NAME = \"High SNR\"\n",
    "    ERROR_SLACK_CHANNEL = \"\"  # Put your Slack user ID here\n",
    "    REQUIRED_LOCUS_PROPERTIES = [\n",
    "        'ztf_object_id',\n",
    "    ]\n",
    "    REQUIRED_ALERT_PROPERTIES = [\n",
    "        'passband',\n",
    "        'ztf_sigmapsf',\n",
    "    ]\n",
    "    OUTPUT_LOCUS_PROPERTIES = []\n",
    "    OUTPUT_ALERT_PROPERTIES = []\n",
    "    OUTPUT_TAGS = [\n",
    "        {\n",
    "            'name': 'high_snr',\n",
    "            'description': 'Locus has one or more Alerts with high SNR.',\n",
    "        },\n",
    "    ]\n",
    "\n",
    "    def run(self, locus):\n",
    "        \"\"\"\n",
    "        If this Alert has a high SNR, then tag the Locus \"high_snr\".\n",
    "        \"\"\"\n",
    "        # The threshold is dependent on the band that is being imaged.\n",
    "        # These thresholds should flag ~2-3% of alerts.\n",
    "        snr_threshold = {\n",
    "            'g': 50.0,\n",
    "            'R': 55.0,\n",
    "        }\n",
    "        passband = locus.alert.properties['ant_passband']\n",
    "        if passband not in snr_threshold:\n",
    "            print(f'passband {passband} is not supported by this filter.')\n",
    "            return  # Do nothing.\n",
    "        threshold = snr_threshold[passband]\n",
    "        sigmapsf = locus.alert.properties['ztf_sigmapsf']  # Get the ZTF Alert property \"sigmapsf\"\n",
    "        alert_snr = 1.0 / sigmapsf\n",
    "        alert_id = locus.alert.alert_id  # Get the ANTARES alert_id\n",
    "        ztf_object_id = locus.properties['ztf_object_id']  # Get the ZTF Object ID\n",
    "        print(f'Alert {alert_id}')\n",
    "        print(f'Object {ztf_object_id}')\n",
    "        print(f'snr = {alert_snr}')\n",
    "        if alert_snr > threshold:\n",
    "            print('High SNR detected')\n",
    "            locus.tag('high_snr')"
   ]
  },
  {
   "cell_type": "markdown",
   "metadata": {},
   "source": [
    "<a class=\"anchor\" id=\"write-three\"></a>\n",
    "### 2.3 Structure of a Filter\n",
    "\n",
    "\n",
    "The filter `MyFilter` below does nothing of scientific interest, but it demonstrates the most basic use of the filter API.\n",
    "\n",
    "The Filter API consists of the Locus Object, which is passed to the Filter as the single parameter. The `MyFilter` shows examples of how to use the Locus data. For detailed information on the Locus Object, please visit ANTARES documentation at https://noao.gitlab.io/antares/filter-documentation/devkit/locus.html"
   ]
  },
  {
   "cell_type": "code",
   "execution_count": 6,
   "metadata": {},
   "outputs": [],
   "source": [
    "class MyFilter(dk.Filter):\n",
    "\n",
    "    # Required.\n",
    "    #\n",
    "    # This allows you to receive error logs through Slack.\n",
    "    # See footnotes below for more details.\n",
    "    ERROR_SLACK_CHANNEL = '<my_slack_member_id>'\n",
    "\n",
    "    # Optional.\n",
    "    #\n",
    "    # List of Locus properties which the Filter depends on.\n",
    "    # If an incoming Alert's Locus does not have all properties listed here,\n",
    "    # then the Filter will not run on it.\n",
    "    INPUT_LOCUS_PROPERTIES = [\n",
    "        # eg:\n",
    "        'ztf_object_id',\n",
    "        # etc.\n",
    "    ]\n",
    "\n",
    "    # Optional.\n",
    "    #\n",
    "    # List of Alert properties which the Filter depends on.\n",
    "    # If an incoming Alert does not have all properties listed here, then\n",
    "    # the Filter will not run on it.\n",
    "    INPUT_ALERT_PROPERTIES = [\n",
    "        # eg:\n",
    "        'passband',\n",
    "        'mag',\n",
    "        'ztf_magpsf',\n",
    "        # etc.\n",
    "    ]\n",
    "\n",
    "    # Optional.\n",
    "    #\n",
    "    # List of Tag names which the Filter depends on.\n",
    "    # If an incoming Alert's Locus does not have all Tags listed here, then\n",
    "    # the Filter will not run on it.\n",
    "    INPUT_TAGS = [\n",
    "        # eg:\n",
    "        'high_snr',\n",
    "        # etc.\n",
    "    ]\n",
    "\n",
    "    # Required.\n",
    "    #\n",
    "    # A list of all Alert properties which the filter may set.\n",
    "    # If your filter doesn't set properties, then value should be an\n",
    "    # empty list.\n",
    "    # 'name' must be formatted like '<author>_<property_name>'.\n",
    "    # 'type' must be one of the strings: 'int', 'float', or 'str'.\n",
    "    # 'description' should briefly describe what the property means.\n",
    "    OUTPUT_LOCUS_PROPERTIES = [\n",
    "        # eg:\n",
    "        {\n",
    "            'name': 'stubens_interest_score',\n",
    "            'type': 'float',\n",
    "            'description': 'interestingness of the alert by algorithm XYZ',\n",
    "        },\n",
    "        {\n",
    "            'name': 'stubens_object_class',\n",
    "            'type': 'str',\n",
    "            'description': 'probable class of object by algorithm ABC',\n",
    "        },\n",
    "        # etc.\n",
    "    ]\n",
    "\n",
    "    # Required.\n",
    "    #\n",
    "    # A list of all Alert properties which the filter may set.\n",
    "    # If your filter doesn't set properties, then value should be an\n",
    "    # empty list.\n",
    "    # 'name' must be formatted like '<author>_<property_name>'.\n",
    "    # 'type' must be one of the strings: 'int', 'float', or 'str'.\n",
    "    # 'description' should briefly describe what the property means.\n",
    "    OUTPUT_ALERT_PROPERTIES = [\n",
    "        # eg:\n",
    "        {\n",
    "            'name': 'stubens_g_minus_r',\n",
    "            'type': 'float',\n",
    "            'description': 'estimated g-minus-r magnitude',\n",
    "        },\n",
    "        # etc.\n",
    "    ]\n",
    "\n",
    "    # Required.\n",
    "    #\n",
    "    # A list tags names which this Filter may produce.\n",
    "    # If your filter does't tag Loci, then this list should be empty.\n",
    "    # 'name' must be formatted like '<author>_<property_name>'.\n",
    "    # 'description' should briefly describe what the tag means.\n",
    "    OUTPUT_TAGS = [\n",
    "        # eg:\n",
    "        {\n",
    "            'name': 'stubens_transients',\n",
    "            'description': 'Probable transient according to method PQE'\n",
    "        },\n",
    "        # etc.\n",
    "    ]\n",
    "\n",
    "    # Optional.\n",
    "    #\n",
    "    # If your filter requires access to data files, they must be declared here.\n",
    "    # See footnotes below for more details on how to work with data files.\n",
    "    REQUIRES_FILES = [\n",
    "        # eg:\n",
    "        'soraisam_myFile.txt',\n",
    "        'soraisam_myOtherFile.bin',\n",
    "        # etc.\n",
    "    ]\n",
    "\n",
    "    # Optional.\n",
    "    #\n",
    "    # This function is called once per night when ANTARES reboots and\n",
    "    # filters are instantiated. If your filter needs to do any work to prepare\n",
    "    # itself to run, that logic should go here.\n",
    "    # Examples:\n",
    "    #  - Loading data from files\n",
    "    #  - Constructing datastructures\n",
    "    #  - Instantiating machine-learning model objects\n",
    "    def setup(self):\n",
    "        ...\n",
    "\n",
    "    # Required.\n",
    "    #\n",
    "    # This is the function which is called to process an Alert.\n",
    "    # All setup work should have been done in `setup()` in order to make this\n",
    "    # function run as efficiently as possible.\n",
    "    # See footnotes below for description of the `locus` object.\n",
    "    def run(self, locus):\n",
    "        ...\n",
    "\n"
   ]
  },
  {
   "cell_type": "markdown",
   "metadata": {},
   "source": [
    "<a class=\"anchor\" id=\"test\"></a>\n",
    "## 3. Test a filter\n",
    "\n",
    "\n",
    "Let’s run a simple `HelloWorld` filter:"
   ]
  },
  {
   "cell_type": "code",
   "execution_count": 7,
   "metadata": {},
   "outputs": [],
   "source": [
    "class HelloWorld(dk.Filter):\n",
    "    OUTPUT_TAGS = [\n",
    "        {\n",
    "            'name': 'hello_world',\n",
    "            'description': 'hello!',\n",
    "        },\n",
    "    ]\n",
    "\n",
    "    def run(self, locus):\n",
    "        print('Hello Locus', locus.locus_id)\n",
    "        locus.tag('hello_world')\n"
   ]
  },
  {
   "cell_type": "markdown",
   "metadata": {},
   "source": [
    "We can use `run_filter()` to run the filter on a randomly chose real Locus from the database. We can also ask the filter to run a specific locus by giving a locus ID:"
   ]
  },
  {
   "cell_type": "code",
   "execution_count": 8,
   "metadata": {},
   "outputs": [
    {
     "name": "stdout",
     "output_type": "stream",
     "text": [
      "2022-08-10 13:14:24,790 - WARNING MainThread cassandra.py:list_by_location:1169 - Catalog object not found (catalog_id=19, object_id=548958647)\n"
     ]
    },
    {
     "name": "stderr",
     "output_type": "stream",
     "text": [
      "/data0/sw/antares-kernel/lib/python3.9/site-packages/pandas/core/arraylike.py:397: RuntimeWarning: invalid value encountered in log10\n",
      "  result = getattr(ufunc, method)(*inputs, **kwargs)\n"
     ]
    },
    {
     "name": "stdout",
     "output_type": "stream",
     "text": [
      "Hello Locus ANT2018h5lrq\n",
      "{'locus_id': 'ANT2018h5lrq', 'locus_data': FilterContext(locus_id=\"ANT2018h5lrq\"), 't': 0.00010604399999891712, 'new_locus_properties': {}, 'new_alert_properties': {}, 'new_tags': {'hello_world'}, 'raised_halt': False}\n",
      "Hello Locus ANT2020hcm7s\n",
      "{'locus_id': 'ANT2020hcm7s', 'locus_data': FilterContext(locus_id=\"ANT2020hcm7s\"), 't': 0.00010958000000016455, 'new_locus_properties': {}, 'new_alert_properties': {}, 'new_tags': {'hello_world'}, 'raised_halt': False}\n"
     ]
    }
   ],
   "source": [
    "# Execute HelloWorld filter on a random locus\n",
    "report = dk.run_filter(HelloWorld)\n",
    "\n",
    "# `run_filter()` returns a report of what the filter did. Take a look at it:\n",
    "print(report)\n",
    "\n",
    "\n",
    "# Execute HelloWorld filter on a specified locus\n",
    "locus_id = 'ANT2020hcm7s'\n",
    "report = dk.run_filter(HelloWorld, locus=locus_id)\n",
    "\n",
    "# `run_filter()` returns a report of what the filter did. Take a look at it:\n",
    "print(report)"
   ]
  },
  {
   "cell_type": "markdown",
   "metadata": {},
   "source": [
    "For testing purpose, we recommend to run the filter on multiple Loci using `run_many()`:\n"
   ]
  },
  {
   "cell_type": "code",
   "execution_count": 9,
   "metadata": {
    "scrolled": true,
    "tags": []
   },
   "outputs": [
    {
     "name": "stdout",
     "output_type": "stream",
     "text": [
      "2022-08-10 13:14:53,649 - WARNING MainThread cassandra.py:list_by_location:1169 - Catalog object not found (catalog_id=19, object_id=548958647)\n"
     ]
    },
    {
     "name": "stderr",
     "output_type": "stream",
     "text": [
      "/data0/sw/antares-kernel/lib/python3.9/site-packages/pandas/core/arraylike.py:397: RuntimeWarning: invalid value encountered in log10\n",
      "  result = getattr(ufunc, method)(*inputs, **kwargs)\n"
     ]
    },
    {
     "name": "stdout",
     "output_type": "stream",
     "text": [
      "Hello Locus ANT2018h5lrq\n",
      "Hello Locus ANT202284zos5406d9j\n",
      "2022-08-10 13:14:55,817 - WARNING MainThread cassandra.py:list_by_location:1169 - Catalog object not found (catalog_id=19, object_id=472988617)\n",
      "Hello Locus ANT20202uum4\n",
      "2022-08-10 13:14:56,674 - WARNING MainThread cassandra.py:list_by_location:1169 - Catalog object not found (catalog_id=19, object_id=592386369)\n",
      "Hello Locus ANT2022sz5ssrdu1dhv\n",
      "Hello Locus ANT2022wcnvfar1iaxa\n",
      "2022-08-10 13:14:59,157 - WARNING MainThread cassandra.py:list_by_location:1169 - Catalog object not found (catalog_id=19, object_id=492387242)\n"
     ]
    },
    {
     "name": "stderr",
     "output_type": "stream",
     "text": [
      "/data0/sw/antares-kernel/lib/python3.9/site-packages/pandas/core/arraylike.py:397: RuntimeWarning: invalid value encountered in log10\n",
      "  result = getattr(ufunc, method)(*inputs, **kwargs)\n"
     ]
    },
    {
     "name": "stdout",
     "output_type": "stream",
     "text": [
      "Hello Locus ANT2018hc6cm\n",
      "2022-08-10 13:15:01,003 - WARNING MainThread cassandra.py:list_by_location:1169 - Catalog object not found (catalog_id=19, object_id=554583015)\n"
     ]
    },
    {
     "name": "stderr",
     "output_type": "stream",
     "text": [
      "/data0/sw/antares-kernel/lib/python3.9/site-packages/pandas/core/arraylike.py:397: RuntimeWarning: invalid value encountered in log10\n",
      "  result = getattr(ufunc, method)(*inputs, **kwargs)\n"
     ]
    },
    {
     "name": "stdout",
     "output_type": "stream",
     "text": [
      "Hello Locus ANT2019nbtus\n",
      "2022-08-10 13:15:02,619 - WARNING MainThread cassandra.py:list_by_location:1169 - Catalog object not found (catalog_id=19, object_id=471662039)\n"
     ]
    },
    {
     "name": "stderr",
     "output_type": "stream",
     "text": [
      "/data0/sw/antares-kernel/lib/python3.9/site-packages/pandas/core/arraylike.py:397: RuntimeWarning: invalid value encountered in log10\n",
      "  result = getattr(ufunc, method)(*inputs, **kwargs)\n"
     ]
    },
    {
     "name": "stdout",
     "output_type": "stream",
     "text": [
      "Hello Locus ANT20217n3te\n",
      "2022-08-10 13:15:03,944 - WARNING MainThread cassandra.py:list_by_location:1169 - Catalog object not found (catalog_id=19, object_id=511257660)\n"
     ]
    },
    {
     "name": "stderr",
     "output_type": "stream",
     "text": [
      "/data0/sw/antares-kernel/lib/python3.9/site-packages/pandas/core/arraylike.py:397: RuntimeWarning: invalid value encountered in log10\n",
      "  result = getattr(ufunc, method)(*inputs, **kwargs)\n"
     ]
    },
    {
     "name": "stdout",
     "output_type": "stream",
     "text": [
      "Hello Locus ANT2019awmuk\n",
      "Hello Locus ANT202201gghmzf3kzz\n",
      "2022-08-10 13:15:06,188 - WARNING MainThread cassandra.py:list_by_location:1169 - Catalog object not found (catalog_id=19, object_id=568623508)\n"
     ]
    },
    {
     "name": "stderr",
     "output_type": "stream",
     "text": [
      "/data0/sw/antares-kernel/lib/python3.9/site-packages/pandas/core/arraylike.py:397: RuntimeWarning: invalid value encountered in log10\n",
      "  result = getattr(ufunc, method)(*inputs, **kwargs)\n"
     ]
    },
    {
     "name": "stdout",
     "output_type": "stream",
     "text": [
      "Hello Locus ANT20206tdje\n",
      "2022-08-10 13:15:08,734 - WARNING MainThread cassandra.py:list_by_location:1169 - Catalog object not found (catalog_id=19, object_id=468850192)\n"
     ]
    },
    {
     "name": "stderr",
     "output_type": "stream",
     "text": [
      "/data0/sw/antares-kernel/lib/python3.9/site-packages/pandas/core/arraylike.py:397: RuntimeWarning: invalid value encountered in log10\n",
      "  result = getattr(ufunc, method)(*inputs, **kwargs)\n"
     ]
    },
    {
     "name": "stdout",
     "output_type": "stream",
     "text": [
      "Hello Locus ANT2020qgnjo\n",
      "2022-08-10 13:15:10,953 - WARNING MainThread cassandra.py:list_by_location:1169 - Catalog object not found (catalog_id=19, object_id=572048708)\n",
      "Hello Locus ANT202045kqm\n",
      "2022-08-10 13:15:12,239 - WARNING MainThread cassandra.py:list_by_location:1169 - Catalog object not found (catalog_id=19, object_id=589266727)\n",
      "Hello Locus ANT2022om7a6nuh4lrx\n",
      "2022-08-10 13:15:14,911 - WARNING MainThread cassandra.py:list_by_location:1169 - Catalog object not found (catalog_id=19, object_id=592793524)\n"
     ]
    },
    {
     "name": "stderr",
     "output_type": "stream",
     "text": [
      "/data0/sw/antares-kernel/lib/python3.9/site-packages/pandas/core/arraylike.py:397: RuntimeWarning: invalid value encountered in log10\n",
      "  result = getattr(ufunc, method)(*inputs, **kwargs)\n"
     ]
    },
    {
     "name": "stdout",
     "output_type": "stream",
     "text": [
      "Hello Locus ANT2018hayaa\n",
      "2022-08-10 13:15:16,994 - WARNING MainThread cassandra.py:list_by_location:1169 - Catalog object not found (catalog_id=19, object_id=468403334)\n"
     ]
    },
    {
     "name": "stderr",
     "output_type": "stream",
     "text": [
      "/data0/sw/antares-kernel/lib/python3.9/site-packages/pandas/core/arraylike.py:397: RuntimeWarning: invalid value encountered in log10\n",
      "  result = getattr(ufunc, method)(*inputs, **kwargs)\n"
     ]
    },
    {
     "name": "stdout",
     "output_type": "stream",
     "text": [
      "Hello Locus ANT2020aehmxqq\n"
     ]
    },
    {
     "name": "stderr",
     "output_type": "stream",
     "text": [
      "WARNING: AstropyDeprecationWarning: The truth value of a Quantity is ambiguous. In the future this will raise a ValueError. [astropy.units.quantity]\n"
     ]
    },
    {
     "name": "stdout",
     "output_type": "stream",
     "text": [
      "Hello Locus ANT2022pryenjmb8vwm\n",
      "2022-08-10 13:15:19,545 - WARNING MainThread cassandra.py:list_by_location:1169 - Catalog object not found (catalog_id=19, object_id=544105239)\n",
      "Hello Locus ANT2020aengcka\n",
      "2022-08-10 13:15:21,144 - WARNING MainThread cassandra.py:list_by_location:1169 - Catalog object not found (catalog_id=19, object_id=515803367)\n"
     ]
    },
    {
     "name": "stderr",
     "output_type": "stream",
     "text": [
      "/data0/sw/antares-kernel/lib/python3.9/site-packages/pandas/core/arraylike.py:397: RuntimeWarning: invalid value encountered in log10\n",
      "  result = getattr(ufunc, method)(*inputs, **kwargs)\n"
     ]
    },
    {
     "name": "stdout",
     "output_type": "stream",
     "text": [
      "Hello Locus ANT2020z2wla\n",
      "Hello Locus ANT20227os4qm7bi5mf\n",
      "2022-08-10 13:15:23,546 - WARNING MainThread cassandra.py:list_by_location:1169 - Catalog object not found (catalog_id=19, object_id=504401148)\n",
      "Hello Locus ANT2020sbt2e\n",
      "2022-08-10 13:15:25,339 - WARNING MainThread cassandra.py:list_by_location:1169 - Catalog object not found (catalog_id=19, object_id=538687544)\n",
      "Hello Locus ANT20202uuky\n",
      "2022-08-10 13:15:27,861 - WARNING MainThread cassandra.py:list_by_location:1169 - Catalog object not found (catalog_id=19, object_id=591979701)\n"
     ]
    },
    {
     "name": "stderr",
     "output_type": "stream",
     "text": [
      "/data0/sw/antares-kernel/lib/python3.9/site-packages/pandas/core/arraylike.py:397: RuntimeWarning: invalid value encountered in log10\n",
      "  result = getattr(ufunc, method)(*inputs, **kwargs)\n"
     ]
    },
    {
     "name": "stdout",
     "output_type": "stream",
     "text": [
      "Hello Locus ANT2020luytg\n",
      "2022-08-10 13:15:29,393 - WARNING MainThread cassandra.py:list_by_location:1169 - Catalog object not found (catalog_id=19, object_id=547152769)\n"
     ]
    },
    {
     "name": "stderr",
     "output_type": "stream",
     "text": [
      "/data0/sw/antares-kernel/lib/python3.9/site-packages/pandas/core/arraylike.py:397: RuntimeWarning: invalid value encountered in log10\n",
      "  result = getattr(ufunc, method)(*inputs, **kwargs)\n"
     ]
    },
    {
     "name": "stdout",
     "output_type": "stream",
     "text": [
      "Hello Locus ANT20212p54u\n",
      "2022-08-10 13:15:30,985 - WARNING MainThread cassandra.py:list_by_location:1169 - Catalog object not found (catalog_id=19, object_id=507360904)\n"
     ]
    },
    {
     "name": "stderr",
     "output_type": "stream",
     "text": [
      "/data0/sw/antares-kernel/lib/python3.9/site-packages/pandas/core/arraylike.py:397: RuntimeWarning: invalid value encountered in log10\n",
      "  result = getattr(ufunc, method)(*inputs, **kwargs)\n"
     ]
    },
    {
     "name": "stdout",
     "output_type": "stream",
     "text": [
      "Hello Locus ANT2020z222g\n",
      "2022-08-10 13:15:33,162 - WARNING MainThread cassandra.py:list_by_location:1169 - Catalog object not found (catalog_id=19, object_id=511807598)\n"
     ]
    },
    {
     "name": "stderr",
     "output_type": "stream",
     "text": [
      "WARNING: AstropyDeprecationWarning: The truth value of a Quantity is ambiguous. In the future this will raise a ValueError. [astropy.units.quantity]\n"
     ]
    },
    {
     "name": "stdout",
     "output_type": "stream",
     "text": [
      "Hello Locus ANT2018ibyoa\n",
      "2022-08-10 13:15:35,165 - WARNING MainThread cassandra.py:list_by_location:1169 - Catalog object not found (catalog_id=19, object_id=502154600)\n"
     ]
    },
    {
     "name": "stderr",
     "output_type": "stream",
     "text": [
      "/data0/sw/antares-kernel/lib/python3.9/site-packages/pandas/core/arraylike.py:397: RuntimeWarning: invalid value encountered in log10\n",
      "  result = getattr(ufunc, method)(*inputs, **kwargs)\n"
     ]
    },
    {
     "name": "stdout",
     "output_type": "stream",
     "text": [
      "Hello Locus ANT2020z225k\n",
      "Hello Locus ANT2022wte1pvglgdl5\n",
      "Hello Locus ANT2022oqifuv8mxr88\n",
      "2022-08-10 13:15:37,631 - WARNING MainThread cassandra.py:list_by_location:1169 - Catalog object not found (catalog_id=19, object_id=526666788)\n"
     ]
    },
    {
     "name": "stderr",
     "output_type": "stream",
     "text": [
      "/data0/sw/antares-kernel/lib/python3.9/site-packages/pandas/core/arraylike.py:397: RuntimeWarning: invalid value encountered in log10\n",
      "  result = getattr(ufunc, method)(*inputs, **kwargs)\n"
     ]
    },
    {
     "name": "stdout",
     "output_type": "stream",
     "text": [
      "Hello Locus ANT2022le4ty9rc8mzn\n",
      "Hello Locus ANT2022vvjfedp4ihls\n",
      "Hello Locus ANT2020lxfuy\n",
      "2022-08-10 13:15:40,684 - WARNING MainThread cassandra.py:list_by_location:1169 - Catalog object not found (catalog_id=19, object_id=517857938)\n"
     ]
    },
    {
     "name": "stderr",
     "output_type": "stream",
     "text": [
      "/data0/sw/antares-kernel/lib/python3.9/site-packages/pandas/core/arraylike.py:397: RuntimeWarning: invalid value encountered in log10\n",
      "  result = getattr(ufunc, method)(*inputs, **kwargs)\n"
     ]
    },
    {
     "name": "stdout",
     "output_type": "stream",
     "text": [
      "Hello Locus ANT2020aezxmgy\n",
      "2022-08-10 13:15:41,856 - WARNING MainThread cassandra.py:list_by_location:1169 - Catalog object not found (catalog_id=19, object_id=538965567)\n"
     ]
    },
    {
     "name": "stderr",
     "output_type": "stream",
     "text": [
      "/data0/sw/antares-kernel/lib/python3.9/site-packages/pandas/core/arraylike.py:397: RuntimeWarning: invalid value encountered in log10\n",
      "  result = getattr(ufunc, method)(*inputs, **kwargs)\n"
     ]
    },
    {
     "name": "stdout",
     "output_type": "stream",
     "text": [
      "Hello Locus ANT20213hbwq\n",
      "2022-08-10 13:15:43,555 - WARNING MainThread cassandra.py:list_by_location:1169 - Catalog object not found (catalog_id=19, object_id=549799634)\n"
     ]
    },
    {
     "name": "stderr",
     "output_type": "stream",
     "text": [
      "/data0/sw/antares-kernel/lib/python3.9/site-packages/pandas/core/arraylike.py:397: RuntimeWarning: invalid value encountered in log10\n",
      "  result = getattr(ufunc, method)(*inputs, **kwargs)\n"
     ]
    },
    {
     "name": "stdout",
     "output_type": "stream",
     "text": [
      "Hello Locus ANT2020p7s6c\n",
      "Hello Locus ANT2022sq882ybua6fu\n",
      "2022-08-10 13:15:45,963 - WARNING MainThread cassandra.py:list_by_location:1169 - Catalog object not found (catalog_id=19, object_id=489208920)\n"
     ]
    },
    {
     "name": "stderr",
     "output_type": "stream",
     "text": [
      "/data0/sw/antares-kernel/lib/python3.9/site-packages/pandas/core/arraylike.py:397: RuntimeWarning: invalid value encountered in log10\n",
      "  result = getattr(ufunc, method)(*inputs, **kwargs)\n"
     ]
    },
    {
     "name": "stdout",
     "output_type": "stream",
     "text": [
      "Hello Locus ANT2018mnzzo\n",
      "2022-08-10 13:15:47,763 - WARNING MainThread cassandra.py:list_by_location:1169 - Catalog object not found (catalog_id=19, object_id=490800411)\n"
     ]
    },
    {
     "name": "stderr",
     "output_type": "stream",
     "text": [
      "/data0/sw/antares-kernel/lib/python3.9/site-packages/pandas/core/arraylike.py:397: RuntimeWarning: invalid value encountered in log10\n",
      "  result = getattr(ufunc, method)(*inputs, **kwargs)\n"
     ]
    },
    {
     "name": "stdout",
     "output_type": "stream",
     "text": [
      "Hello Locus ANT2020lumr6\n",
      "Hello Locus ANT2022bonajwguj68b\n",
      "2022-08-10 13:15:50,900 - WARNING MainThread cassandra.py:list_by_location:1169 - Catalog object not found (catalog_id=19, object_id=565470881)\n"
     ]
    },
    {
     "name": "stderr",
     "output_type": "stream",
     "text": [
      "/data0/sw/antares-kernel/lib/python3.9/site-packages/pandas/core/arraylike.py:397: RuntimeWarning: invalid value encountered in log10\n",
      "  result = getattr(ufunc, method)(*inputs, **kwargs)\n"
     ]
    },
    {
     "name": "stdout",
     "output_type": "stream",
     "text": [
      "Hello Locus ANT2020z2vms\n",
      "Hello Locus ANT2022t3fzel65s43g\n",
      "2022-08-10 13:15:52,853 - WARNING MainThread cassandra.py:list_by_location:1169 - Catalog object not found (catalog_id=19, object_id=510706062)\n"
     ]
    },
    {
     "name": "stderr",
     "output_type": "stream",
     "text": [
      "/data0/sw/antares-kernel/lib/python3.9/site-packages/pandas/core/arraylike.py:397: RuntimeWarning: invalid value encountered in log10\n",
      "  result = getattr(ufunc, method)(*inputs, **kwargs)\n"
     ]
    },
    {
     "name": "stdout",
     "output_type": "stream",
     "text": [
      "Hello Locus ANT2021fhczw\n",
      "2022-08-10 13:15:54,513 - WARNING MainThread cassandra.py:list_by_location:1169 - Catalog object not found (catalog_id=19, object_id=518954102)\n"
     ]
    },
    {
     "name": "stderr",
     "output_type": "stream",
     "text": [
      "/data0/sw/antares-kernel/lib/python3.9/site-packages/pandas/core/arraylike.py:397: RuntimeWarning: invalid value encountered in log10\n",
      "  result = getattr(ufunc, method)(*inputs, **kwargs)\n"
     ]
    },
    {
     "name": "stdout",
     "output_type": "stream",
     "text": [
      "Hello Locus ANT2020pcx6i\n",
      "Hello Locus ANT202285kw9pprr34t\n",
      "2022-08-10 13:15:56,936 - WARNING MainThread cassandra.py:list_by_location:1169 - Catalog object not found (catalog_id=19, object_id=510981891)\n"
     ]
    },
    {
     "name": "stderr",
     "output_type": "stream",
     "text": [
      "/data0/sw/antares-kernel/lib/python3.9/site-packages/pandas/core/arraylike.py:397: RuntimeWarning: invalid value encountered in log10\n",
      "  result = getattr(ufunc, method)(*inputs, **kwargs)\n"
     ]
    },
    {
     "name": "stdout",
     "output_type": "stream",
     "text": [
      "Hello Locus ANT2020lzep4\n",
      "Hello Locus ANT2022msdzamqajuu3\n",
      "2022-08-10 13:15:59,802 - WARNING MainThread cassandra.py:list_by_location:1169 - Catalog object not found (catalog_id=19, object_id=585146141)\n"
     ]
    },
    {
     "name": "stderr",
     "output_type": "stream",
     "text": [
      "/data0/sw/antares-kernel/lib/python3.9/site-packages/pandas/core/arraylike.py:397: RuntimeWarning: invalid value encountered in log10\n",
      "  result = getattr(ufunc, method)(*inputs, **kwargs)\n"
     ]
    },
    {
     "name": "stdout",
     "output_type": "stream",
     "text": [
      "Hello Locus ANT2020pubp4\n",
      "Hello Locus ANT2022ci5xylord3qe\n",
      "Hello Locus ANT2022yflceiioi4he\n",
      "Hello Locus ANT20227liiraokppig\n",
      "Hello Locus ANT20223q61z9so8gzp\n",
      "Hello Locus ANT2022wifvhu1hgvj8\n",
      "2022-08-10 13:16:05,190 - WARNING MainThread cassandra.py:list_by_location:1169 - Catalog object not found (catalog_id=19, object_id=569909003)\n"
     ]
    },
    {
     "name": "stderr",
     "output_type": "stream",
     "text": [
      "/data0/sw/antares-kernel/lib/python3.9/site-packages/pandas/core/arraylike.py:397: RuntimeWarning: invalid value encountered in log10\n",
      "  result = getattr(ufunc, method)(*inputs, **kwargs)\n"
     ]
    },
    {
     "name": "stdout",
     "output_type": "stream",
     "text": [
      "Hello Locus ANT2020z2vnu\n",
      "2022-08-10 13:16:06,891 - WARNING MainThread cassandra.py:list_by_location:1169 - Catalog object not found (catalog_id=19, object_id=527209169)\n"
     ]
    },
    {
     "name": "stderr",
     "output_type": "stream",
     "text": [
      "/data0/sw/antares-kernel/lib/python3.9/site-packages/pandas/core/arraylike.py:397: RuntimeWarning: invalid value encountered in log10\n",
      "  result = getattr(ufunc, method)(*inputs, **kwargs)\n"
     ]
    },
    {
     "name": "stdout",
     "output_type": "stream",
     "text": [
      "Hello Locus ANT2020qhv4s\n",
      "Hello Locus ANT20229r32zqdbx3xd\n",
      "2022-08-10 13:16:09,183 - WARNING MainThread cassandra.py:list_by_location:1169 - Catalog object not found (catalog_id=19, object_id=512769266)\n",
      "Hello Locus ANT202045hxo\n",
      "2022-08-10 13:16:10,602 - WARNING MainThread cassandra.py:list_by_location:1169 - Catalog object not found (catalog_id=19, object_id=516625498)\n"
     ]
    },
    {
     "name": "stderr",
     "output_type": "stream",
     "text": [
      "/data0/sw/antares-kernel/lib/python3.9/site-packages/pandas/core/arraylike.py:397: RuntimeWarning: invalid value encountered in log10\n",
      "  result = getattr(ufunc, method)(*inputs, **kwargs)\n"
     ]
    },
    {
     "name": "stdout",
     "output_type": "stream",
     "text": [
      "Hello Locus ANT2020aekxwny\n",
      "Hello Locus ANT2022z2c9zsl3lyi1\n",
      "Hello Locus ANT20222t6123a325tg\n",
      "Hello Locus ANT2022fs81pa94uypm\n",
      "2022-08-10 13:16:13,971 - WARNING MainThread cassandra.py:list_by_location:1169 - Catalog object not found (catalog_id=19, object_id=558128352)\n"
     ]
    },
    {
     "name": "stderr",
     "output_type": "stream",
     "text": [
      "/data0/sw/antares-kernel/lib/python3.9/site-packages/pandas/core/arraylike.py:397: RuntimeWarning: invalid value encountered in log10\n",
      "  result = getattr(ufunc, method)(*inputs, **kwargs)\n"
     ]
    },
    {
     "name": "stdout",
     "output_type": "stream",
     "text": [
      "Hello Locus ANT2020qixa4\n",
      "Hello Locus ANT2022k76yv401ugd0\n",
      "Hello Locus ANT2022hnbm13161e5p\n",
      "2022-08-10 13:16:16,701 - WARNING MainThread cassandra.py:list_by_location:1169 - Catalog object not found (catalog_id=19, object_id=510290808)\n",
      "Hello Locus ANT2021axlzi\n",
      "Hello Locus ANT2022nksgjuhh7uby\n"
     ]
    },
    {
     "name": "stderr",
     "output_type": "stream",
     "text": [
      "/data0/sw/antares-kernel/lib/python3.9/site-packages/pandas/core/arraylike.py:397: RuntimeWarning: invalid value encountered in log10\n",
      "  result = getattr(ufunc, method)(*inputs, **kwargs)\n"
     ]
    },
    {
     "name": "stdout",
     "output_type": "stream",
     "text": [
      "Hello Locus ANT2020k2loc\n",
      "2022-08-10 13:16:21,017 - WARNING MainThread cassandra.py:list_by_location:1169 - Catalog object not found (catalog_id=19, object_id=835737716)\n"
     ]
    },
    {
     "name": "stderr",
     "output_type": "stream",
     "text": [
      "/data0/sw/antares-kernel/lib/python3.9/site-packages/pandas/core/arraylike.py:397: RuntimeWarning: invalid value encountered in log10\n",
      "  result = getattr(ufunc, method)(*inputs, **kwargs)\n"
     ]
    },
    {
     "name": "stdout",
     "output_type": "stream",
     "text": [
      "Hello Locus ANT2020656nu\n",
      "2022-08-10 13:16:22,792 - WARNING MainThread cassandra.py:list_by_location:1169 - Catalog object not found (catalog_id=19, object_id=887541554)\n"
     ]
    },
    {
     "name": "stderr",
     "output_type": "stream",
     "text": [
      "/data0/sw/antares-kernel/lib/python3.9/site-packages/pandas/core/arraylike.py:397: RuntimeWarning: invalid value encountered in log10\n",
      "  result = getattr(ufunc, method)(*inputs, **kwargs)\n"
     ]
    },
    {
     "name": "stdout",
     "output_type": "stream",
     "text": [
      "Hello Locus ANT2018g67c4\n",
      "2022-08-10 13:16:24,436 - WARNING MainThread cassandra.py:list_by_location:1169 - Catalog object not found (catalog_id=19, object_id=873749389)\n",
      "Hello Locus ANT2019ekbgq\n",
      "Hello Locus ANT2022tapq9wivg5sz\n",
      "Hello Locus ANT2022g5fwxd1lon1p\n",
      "2022-08-10 13:16:27,416 - WARNING MainThread cassandra.py:list_by_location:1169 - Catalog object not found (catalog_id=19, object_id=864703191)\n"
     ]
    },
    {
     "name": "stderr",
     "output_type": "stream",
     "text": [
      "/data0/sw/antares-kernel/lib/python3.9/site-packages/pandas/core/arraylike.py:397: RuntimeWarning: invalid value encountered in log10\n",
      "  result = getattr(ufunc, method)(*inputs, **kwargs)\n"
     ]
    },
    {
     "name": "stdout",
     "output_type": "stream",
     "text": [
      "Hello Locus ANT2018gcwyq\n",
      "2022-08-10 13:16:29,239 - WARNING MainThread cassandra.py:list_by_location:1169 - Catalog object not found (catalog_id=19, object_id=860504408)\n",
      "Hello Locus ANT2019bh3rm\n",
      "Hello Locus ANT2022hwf5ki4m8wcp\n",
      "Hello Locus ANT2022n25j7nbqphbi\n",
      "2022-08-10 13:16:31,588 - WARNING MainThread cassandra.py:list_by_location:1169 - Catalog object not found (catalog_id=19, object_id=898235882)\n",
      "Hello Locus ANT20228oli4o80w5yf\n",
      "2022-08-10 13:16:33,322 - WARNING MainThread cassandra.py:list_by_location:1169 - Catalog object not found (catalog_id=19, object_id=902073776)\n"
     ]
    },
    {
     "name": "stderr",
     "output_type": "stream",
     "text": [
      "/data0/sw/antares-kernel/lib/python3.9/site-packages/pandas/core/arraylike.py:397: RuntimeWarning: invalid value encountered in log10\n",
      "  result = getattr(ufunc, method)(*inputs, **kwargs)\n"
     ]
    },
    {
     "name": "stdout",
     "output_type": "stream",
     "text": [
      "Hello Locus ANT2020mjq7c\n",
      "2022-08-10 13:16:36,034 - WARNING MainThread cassandra.py:list_by_location:1169 - Catalog object not found (catalog_id=19, object_id=913432592)\n"
     ]
    },
    {
     "name": "stderr",
     "output_type": "stream",
     "text": [
      "/data0/sw/antares-kernel/lib/python3.9/site-packages/pandas/core/arraylike.py:397: RuntimeWarning: invalid value encountered in log10\n",
      "  result = getattr(ufunc, method)(*inputs, **kwargs)\n"
     ]
    },
    {
     "name": "stdout",
     "output_type": "stream",
     "text": [
      "Hello Locus ANT2018hxi5o\n",
      "Hello Locus ANT20227tekwp2ryqte\n",
      "Hello Locus ANT202226cmkalqs6s3\n",
      "2022-08-10 13:16:39,930 - WARNING MainThread cassandra.py:list_by_location:1169 - Catalog object not found (catalog_id=19, object_id=814997098)\n",
      "Hello Locus ANT2020maf76\n",
      "Hello Locus ANT202283bnculzwnz7\n",
      "2022-08-10 13:16:41,821 - WARNING MainThread cassandra.py:list_by_location:1169 - Catalog object not found (catalog_id=19, object_id=917436470)\n",
      "Hello Locus ANT2022414jtaogt1o3\n",
      "2022-08-10 13:16:43,197 - WARNING MainThread cassandra.py:list_by_location:1169 - Catalog object not found (catalog_id=19, object_id=869295660)\n"
     ]
    },
    {
     "name": "stderr",
     "output_type": "stream",
     "text": [
      "/data0/sw/antares-kernel/lib/python3.9/site-packages/pandas/core/arraylike.py:397: RuntimeWarning: invalid value encountered in log10\n",
      "  result = getattr(ufunc, method)(*inputs, **kwargs)\n"
     ]
    },
    {
     "name": "stdout",
     "output_type": "stream",
     "text": [
      "Hello Locus ANT2020pdogm\n",
      "2022-08-10 13:16:45,393 - WARNING MainThread cassandra.py:list_by_location:1169 - Catalog object not found (catalog_id=19, object_id=828391917)\n"
     ]
    },
    {
     "name": "stderr",
     "output_type": "stream",
     "text": [
      "/data0/sw/antares-kernel/lib/python3.9/site-packages/pandas/core/arraylike.py:397: RuntimeWarning: invalid value encountered in log10\n",
      "  result = getattr(ufunc, method)(*inputs, **kwargs)\n"
     ]
    },
    {
     "name": "stdout",
     "output_type": "stream",
     "text": [
      "Hello Locus ANT2018genra\n",
      "Hello Locus ANT20220crqqfr6ekcd\n",
      "2022-08-10 13:16:48,157 - WARNING MainThread cassandra.py:list_by_location:1169 - Catalog object not found (catalog_id=19, object_id=869295294)\n",
      "Hello Locus ANT2019242tg\n",
      "Hello Locus ANT2022mt866wahp7nn\n",
      "2022-08-10 13:16:50,805 - WARNING MainThread cassandra.py:list_by_location:1169 - Catalog object not found (catalog_id=19, object_id=881737998)\n",
      "Hello Locus ANT2020jpnji\n",
      "2022-08-10 13:16:53,227 - WARNING MainThread cassandra.py:list_by_location:1169 - Catalog object not found (catalog_id=19, object_id=919656063)\n"
     ]
    },
    {
     "name": "stderr",
     "output_type": "stream",
     "text": [
      "/data0/sw/antares-kernel/lib/python3.9/site-packages/pandas/core/arraylike.py:397: RuntimeWarning: invalid value encountered in log10\n",
      "  result = getattr(ufunc, method)(*inputs, **kwargs)\n"
     ]
    },
    {
     "name": "stdout",
     "output_type": "stream",
     "text": [
      "Hello Locus ANT2018gezli\n",
      "Hello Locus ANT20220j6yzkuyhixs\n",
      "2022-08-10 13:16:56,431 - WARNING MainThread cassandra.py:list_by_location:1169 - Catalog object not found (catalog_id=19, object_id=898954032)\n"
     ]
    },
    {
     "name": "stderr",
     "output_type": "stream",
     "text": [
      "/data0/sw/antares-kernel/lib/python3.9/site-packages/pandas/core/arraylike.py:397: RuntimeWarning: invalid value encountered in log10\n",
      "  result = getattr(ufunc, method)(*inputs, **kwargs)\n"
     ]
    },
    {
     "name": "stdout",
     "output_type": "stream",
     "text": [
      "Hello Locus ANT2018gfins\n",
      "2022-08-10 13:16:58,528 - WARNING MainThread cassandra.py:list_by_location:1169 - Catalog object not found (catalog_id=19, object_id=828391341)\n",
      "Hello Locus ANT2020uym3w\n",
      "Hello Locus ANT2022u57bscx5qs6e\n",
      "2022-08-10 13:17:01,084 - WARNING MainThread cassandra.py:list_by_location:1169 - Catalog object not found (catalog_id=19, object_id=842535323)\n",
      "Hello Locus ANT2018gexh2\n",
      "2022-08-10 13:17:03,323 - WARNING MainThread cassandra.py:list_by_location:1169 - Catalog object not found (catalog_id=19, object_id=889824228)\n"
     ]
    },
    {
     "name": "stderr",
     "output_type": "stream",
     "text": [
      "/data0/sw/antares-kernel/lib/python3.9/site-packages/pandas/core/arraylike.py:397: RuntimeWarning: invalid value encountered in log10\n",
      "  result = getattr(ufunc, method)(*inputs, **kwargs)\n"
     ]
    },
    {
     "name": "stdout",
     "output_type": "stream",
     "text": [
      "Hello Locus ANT2018h5okc\n",
      "2022-08-10 13:17:05,509 - WARNING MainThread cassandra.py:list_by_location:1169 - Catalog object not found (catalog_id=19, object_id=889824391)\n"
     ]
    },
    {
     "name": "stderr",
     "output_type": "stream",
     "text": [
      "/data0/sw/antares-kernel/lib/python3.9/site-packages/pandas/core/arraylike.py:397: RuntimeWarning: invalid value encountered in log10\n",
      "  result = getattr(ufunc, method)(*inputs, **kwargs)\n"
     ]
    },
    {
     "name": "stdout",
     "output_type": "stream",
     "text": [
      "Hello Locus ANT2018gaxfw\n",
      "2022-08-10 13:17:07,877 - WARNING MainThread cassandra.py:list_by_location:1169 - Catalog object not found (catalog_id=19, object_id=869293596)\n",
      "Hello Locus ANT2018gdlly\n",
      "Hello Locus ANT2022ihamovf0r4ll\n",
      "Hello Locus ANT2020o7xw6\n",
      "{'n': 100, 'results': [{'locus_id': 'ANT2018h5lrq', 'locus_data': FilterContext(locus_id=\"ANT2018h5lrq\"), 't': 0.00010888899999983437, 'new_locus_properties': {}, 'new_alert_properties': {}, 'new_tags': {'hello_world'}, 'raised_halt': False}, {'locus_id': 'ANT202284zos5406d9j', 'locus_data': FilterContext(locus_id=\"ANT202284zos5406d9j\"), 't': 0.0001129269999999849, 'new_locus_properties': {}, 'new_alert_properties': {}, 'new_tags': {'hello_world'}, 'raised_halt': False}, {'locus_id': 'ANT20202uum4', 'locus_data': FilterContext(locus_id=\"ANT20202uum4\"), 't': 0.00011399999999994748, 'new_locus_properties': {}, 'new_alert_properties': {}, 'new_tags': {'hello_world'}, 'raised_halt': False}, {'locus_id': 'ANT2022sz5ssrdu1dhv', 'locus_data': FilterContext(locus_id=\"ANT2022sz5ssrdu1dhv\"), 't': 0.00013392299999992474, 'new_locus_properties': {}, 'new_alert_properties': {}, 'new_tags': {'hello_world'}, 'raised_halt': False}, {'locus_id': 'ANT2022wcnvfar1iaxa', 'locus_data': FilterContext(locus_id=\"ANT2022wcnvfar1iaxa\"), 't': 0.00010633800000015015, 'new_locus_properties': {}, 'new_alert_properties': {}, 'new_tags': {'hello_world'}, 'raised_halt': False}, {'locus_id': 'ANT2018hc6cm', 'locus_data': FilterContext(locus_id=\"ANT2018hc6cm\"), 't': 0.00015420900000151505, 'new_locus_properties': {}, 'new_alert_properties': {}, 'new_tags': {'hello_world'}, 'raised_halt': False}, {'locus_id': 'ANT2019nbtus', 'locus_data': FilterContext(locus_id=\"ANT2019nbtus\"), 't': 0.00012300600000081374, 'new_locus_properties': {}, 'new_alert_properties': {}, 'new_tags': {'hello_world'}, 'raised_halt': False}, {'locus_id': 'ANT20217n3te', 'locus_data': FilterContext(locus_id=\"ANT20217n3te\"), 't': 0.00012011699999980863, 'new_locus_properties': {}, 'new_alert_properties': {}, 'new_tags': {'hello_world'}, 'raised_halt': False}, {'locus_id': 'ANT2019awmuk', 'locus_data': FilterContext(locus_id=\"ANT2019awmuk\"), 't': 0.00010271600000066883, 'new_locus_properties': {}, 'new_alert_properties': {}, 'new_tags': {'hello_world'}, 'raised_halt': False}, {'locus_id': 'ANT202201gghmzf3kzz', 'locus_data': FilterContext(locus_id=\"ANT202201gghmzf3kzz\"), 't': 0.00012527099999992686, 'new_locus_properties': {}, 'new_alert_properties': {}, 'new_tags': {'hello_world'}, 'raised_halt': False}, {'locus_id': 'ANT20206tdje', 'locus_data': FilterContext(locus_id=\"ANT20206tdje\"), 't': 0.00010105199999976833, 'new_locus_properties': {}, 'new_alert_properties': {}, 'new_tags': {'hello_world'}, 'raised_halt': False}, {'locus_id': 'ANT2020qgnjo', 'locus_data': FilterContext(locus_id=\"ANT2020qgnjo\"), 't': 0.00010572799999764015, 'new_locus_properties': {}, 'new_alert_properties': {}, 'new_tags': {'hello_world'}, 'raised_halt': False}, {'locus_id': 'ANT202045kqm', 'locus_data': FilterContext(locus_id=\"ANT202045kqm\"), 't': 0.00011599899999836794, 'new_locus_properties': {}, 'new_alert_properties': {}, 'new_tags': {'hello_world'}, 'raised_halt': False}, {'locus_id': 'ANT2022om7a6nuh4lrx', 'locus_data': FilterContext(locus_id=\"ANT2022om7a6nuh4lrx\"), 't': 0.00012469500000023004, 'new_locus_properties': {}, 'new_alert_properties': {}, 'new_tags': {'hello_world'}, 'raised_halt': False}, {'locus_id': 'ANT2018hayaa', 'locus_data': FilterContext(locus_id=\"ANT2018hayaa\"), 't': 0.0001623769999987701, 'new_locus_properties': {}, 'new_alert_properties': {}, 'new_tags': {'hello_world'}, 'raised_halt': False}, {'locus_id': 'ANT2020aehmxqq', 'locus_data': FilterContext(locus_id=\"ANT2020aehmxqq\"), 't': 0.00010303799999888952, 'new_locus_properties': {}, 'new_alert_properties': {}, 'new_tags': {'hello_world'}, 'raised_halt': False}, {'locus_id': 'ANT2022pryenjmb8vwm', 'locus_data': FilterContext(locus_id=\"ANT2022pryenjmb8vwm\"), 't': 0.00010285999999837259, 'new_locus_properties': {}, 'new_alert_properties': {}, 'new_tags': {'hello_world'}, 'raised_halt': False}, {'locus_id': 'ANT2020aengcka', 'locus_data': FilterContext(locus_id=\"ANT2020aengcka\"), 't': 0.00010431899999829852, 'new_locus_properties': {}, 'new_alert_properties': {}, 'new_tags': {'hello_world'}, 'raised_halt': False}, {'locus_id': 'ANT2020z2wla', 'locus_data': FilterContext(locus_id=\"ANT2020z2wla\"), 't': 9.434900000115931e-05, 'new_locus_properties': {}, 'new_alert_properties': {}, 'new_tags': {'hello_world'}, 'raised_halt': False}, {'locus_id': 'ANT20227os4qm7bi5mf', 'locus_data': FilterContext(locus_id=\"ANT20227os4qm7bi5mf\"), 't': 0.00010921800000218695, 'new_locus_properties': {}, 'new_alert_properties': {}, 'new_tags': {'hello_world'}, 'raised_halt': False}, {'locus_id': 'ANT2020sbt2e', 'locus_data': FilterContext(locus_id=\"ANT2020sbt2e\"), 't': 0.0001272959999987222, 'new_locus_properties': {}, 'new_alert_properties': {}, 'new_tags': {'hello_world'}, 'raised_halt': False}, {'locus_id': 'ANT20202uuky', 'locus_data': FilterContext(locus_id=\"ANT20202uuky\"), 't': 0.00011561399999848732, 'new_locus_properties': {}, 'new_alert_properties': {}, 'new_tags': {'hello_world'}, 'raised_halt': False}, {'locus_id': 'ANT2020luytg', 'locus_data': FilterContext(locus_id=\"ANT2020luytg\"), 't': 0.00015281399999977907, 'new_locus_properties': {}, 'new_alert_properties': {}, 'new_tags': {'hello_world'}, 'raised_halt': False}, {'locus_id': 'ANT20212p54u', 'locus_data': FilterContext(locus_id=\"ANT20212p54u\"), 't': 0.0004419609999999352, 'new_locus_properties': {}, 'new_alert_properties': {}, 'new_tags': {'hello_world'}, 'raised_halt': False}, {'locus_id': 'ANT2020z222g', 'locus_data': FilterContext(locus_id=\"ANT2020z222g\"), 't': 0.00016731199999853175, 'new_locus_properties': {}, 'new_alert_properties': {}, 'new_tags': {'hello_world'}, 'raised_halt': False}, {'locus_id': 'ANT2018ibyoa', 'locus_data': FilterContext(locus_id=\"ANT2018ibyoa\"), 't': 0.00017577500000243163, 'new_locus_properties': {}, 'new_alert_properties': {}, 'new_tags': {'hello_world'}, 'raised_halt': False}, {'locus_id': 'ANT2020z225k', 'locus_data': FilterContext(locus_id=\"ANT2020z225k\"), 't': 0.00042429000000154815, 'new_locus_properties': {}, 'new_alert_properties': {}, 'new_tags': {'hello_world'}, 'raised_halt': False}, {'locus_id': 'ANT2022wte1pvglgdl5', 'locus_data': FilterContext(locus_id=\"ANT2022wte1pvglgdl5\"), 't': 0.0001337320000018849, 'new_locus_properties': {}, 'new_alert_properties': {}, 'new_tags': {'hello_world'}, 'raised_halt': False}, {'locus_id': 'ANT2022oqifuv8mxr88', 'locus_data': FilterContext(locus_id=\"ANT2022oqifuv8mxr88\"), 't': 0.00013447999999982585, 'new_locus_properties': {}, 'new_alert_properties': {}, 'new_tags': {'hello_world'}, 'raised_halt': False}, {'locus_id': 'ANT2022le4ty9rc8mzn', 'locus_data': FilterContext(locus_id=\"ANT2022le4ty9rc8mzn\"), 't': 0.0004310519999997098, 'new_locus_properties': {}, 'new_alert_properties': {}, 'new_tags': {'hello_world'}, 'raised_halt': False}, {'locus_id': 'ANT2022vvjfedp4ihls', 'locus_data': FilterContext(locus_id=\"ANT2022vvjfedp4ihls\"), 't': 0.00013332199999993577, 'new_locus_properties': {}, 'new_alert_properties': {}, 'new_tags': {'hello_world'}, 'raised_halt': False}, {'locus_id': 'ANT2020lxfuy', 'locus_data': FilterContext(locus_id=\"ANT2020lxfuy\"), 't': 0.0002647679999974173, 'new_locus_properties': {}, 'new_alert_properties': {}, 'new_tags': {'hello_world'}, 'raised_halt': False}, {'locus_id': 'ANT2020aezxmgy', 'locus_data': FilterContext(locus_id=\"ANT2020aezxmgy\"), 't': 0.0001357070000018723, 'new_locus_properties': {}, 'new_alert_properties': {}, 'new_tags': {'hello_world'}, 'raised_halt': False}, {'locus_id': 'ANT20213hbwq', 'locus_data': FilterContext(locus_id=\"ANT20213hbwq\"), 't': 0.0004953749999998536, 'new_locus_properties': {}, 'new_alert_properties': {}, 'new_tags': {'hello_world'}, 'raised_halt': False}, {'locus_id': 'ANT2020p7s6c', 'locus_data': FilterContext(locus_id=\"ANT2020p7s6c\"), 't': 0.0004338910000001306, 'new_locus_properties': {}, 'new_alert_properties': {}, 'new_tags': {'hello_world'}, 'raised_halt': False}, {'locus_id': 'ANT2022sq882ybua6fu', 'locus_data': FilterContext(locus_id=\"ANT2022sq882ybua6fu\"), 't': 0.00013894699999994486, 'new_locus_properties': {}, 'new_alert_properties': {}, 'new_tags': {'hello_world'}, 'raised_halt': False}, {'locus_id': 'ANT2018mnzzo', 'locus_data': FilterContext(locus_id=\"ANT2018mnzzo\"), 't': 0.00014626500000147757, 'new_locus_properties': {}, 'new_alert_properties': {}, 'new_tags': {'hello_world'}, 'raised_halt': False}, {'locus_id': 'ANT2020lumr6', 'locus_data': FilterContext(locus_id=\"ANT2020lumr6\"), 't': 0.00031451899999979105, 'new_locus_properties': {}, 'new_alert_properties': {}, 'new_tags': {'hello_world'}, 'raised_halt': False}, {'locus_id': 'ANT2022bonajwguj68b', 'locus_data': FilterContext(locus_id=\"ANT2022bonajwguj68b\"), 't': 0.00013667300000008709, 'new_locus_properties': {}, 'new_alert_properties': {}, 'new_tags': {'hello_world'}, 'raised_halt': False}, {'locus_id': 'ANT2020z2vms', 'locus_data': FilterContext(locus_id=\"ANT2020z2vms\"), 't': 0.000135258000000249, 'new_locus_properties': {}, 'new_alert_properties': {}, 'new_tags': {'hello_world'}, 'raised_halt': False}, {'locus_id': 'ANT2022t3fzel65s43g', 'locus_data': FilterContext(locus_id=\"ANT2022t3fzel65s43g\"), 't': 0.0001351679999999078, 'new_locus_properties': {}, 'new_alert_properties': {}, 'new_tags': {'hello_world'}, 'raised_halt': False}, {'locus_id': 'ANT2021fhczw', 'locus_data': FilterContext(locus_id=\"ANT2021fhczw\"), 't': 0.0001241249999992533, 'new_locus_properties': {}, 'new_alert_properties': {}, 'new_tags': {'hello_world'}, 'raised_halt': False}, {'locus_id': 'ANT2020pcx6i', 'locus_data': FilterContext(locus_id=\"ANT2020pcx6i\"), 't': 0.00013537299999910601, 'new_locus_properties': {}, 'new_alert_properties': {}, 'new_tags': {'hello_world'}, 'raised_halt': False}, {'locus_id': 'ANT202285kw9pprr34t', 'locus_data': FilterContext(locus_id=\"ANT202285kw9pprr34t\"), 't': 0.0007487280000013641, 'new_locus_properties': {}, 'new_alert_properties': {}, 'new_tags': {'hello_world'}, 'raised_halt': False}, {'locus_id': 'ANT2020lzep4', 'locus_data': FilterContext(locus_id=\"ANT2020lzep4\"), 't': 0.00014640399999876763, 'new_locus_properties': {}, 'new_alert_properties': {}, 'new_tags': {'hello_world'}, 'raised_halt': False}, {'locus_id': 'ANT2022msdzamqajuu3', 'locus_data': FilterContext(locus_id=\"ANT2022msdzamqajuu3\"), 't': 0.00012945099999939202, 'new_locus_properties': {}, 'new_alert_properties': {}, 'new_tags': {'hello_world'}, 'raised_halt': False}, {'locus_id': 'ANT2020pubp4', 'locus_data': FilterContext(locus_id=\"ANT2020pubp4\"), 't': 0.0001228189999977758, 'new_locus_properties': {}, 'new_alert_properties': {}, 'new_tags': {'hello_world'}, 'raised_halt': False}, {'locus_id': 'ANT2022ci5xylord3qe', 'locus_data': FilterContext(locus_id=\"ANT2022ci5xylord3qe\"), 't': 0.00013440300000411298, 'new_locus_properties': {}, 'new_alert_properties': {}, 'new_tags': {'hello_world'}, 'raised_halt': False}, {'locus_id': 'ANT2022yflceiioi4he', 'locus_data': FilterContext(locus_id=\"ANT2022yflceiioi4he\"), 't': 0.00026187799999632944, 'new_locus_properties': {}, 'new_alert_properties': {}, 'new_tags': {'hello_world'}, 'raised_halt': False}, {'locus_id': 'ANT20227liiraokppig', 'locus_data': FilterContext(locus_id=\"ANT20227liiraokppig\"), 't': 0.0001325560000040582, 'new_locus_properties': {}, 'new_alert_properties': {}, 'new_tags': {'hello_world'}, 'raised_halt': False}, {'locus_id': 'ANT20223q61z9so8gzp', 'locus_data': FilterContext(locus_id=\"ANT20223q61z9so8gzp\"), 't': 0.0001281740000038667, 'new_locus_properties': {}, 'new_alert_properties': {}, 'new_tags': {'hello_world'}, 'raised_halt': False}, {'locus_id': 'ANT2022wifvhu1hgvj8', 'locus_data': FilterContext(locus_id=\"ANT2022wifvhu1hgvj8\"), 't': 0.000126544000004003, 'new_locus_properties': {}, 'new_alert_properties': {}, 'new_tags': {'hello_world'}, 'raised_halt': False}, {'locus_id': 'ANT2020z2vnu', 'locus_data': FilterContext(locus_id=\"ANT2020z2vnu\"), 't': 0.0001434499999959371, 'new_locus_properties': {}, 'new_alert_properties': {}, 'new_tags': {'hello_world'}, 'raised_halt': False}, {'locus_id': 'ANT2020qhv4s', 'locus_data': FilterContext(locus_id=\"ANT2020qhv4s\"), 't': 0.0004439160000018205, 'new_locus_properties': {}, 'new_alert_properties': {}, 'new_tags': {'hello_world'}, 'raised_halt': False}, {'locus_id': 'ANT20229r32zqdbx3xd', 'locus_data': FilterContext(locus_id=\"ANT20229r32zqdbx3xd\"), 't': 0.00012801300000120364, 'new_locus_properties': {}, 'new_alert_properties': {}, 'new_tags': {'hello_world'}, 'raised_halt': False}, {'locus_id': 'ANT202045hxo', 'locus_data': FilterContext(locus_id=\"ANT202045hxo\"), 't': 0.00021426600000040708, 'new_locus_properties': {}, 'new_alert_properties': {}, 'new_tags': {'hello_world'}, 'raised_halt': False}, {'locus_id': 'ANT2020aekxwny', 'locus_data': FilterContext(locus_id=\"ANT2020aekxwny\"), 't': 0.00013042799999851695, 'new_locus_properties': {}, 'new_alert_properties': {}, 'new_tags': {'hello_world'}, 'raised_halt': False}, {'locus_id': 'ANT2022z2c9zsl3lyi1', 'locus_data': FilterContext(locus_id=\"ANT2022z2c9zsl3lyi1\"), 't': 0.0001324039999985871, 'new_locus_properties': {}, 'new_alert_properties': {}, 'new_tags': {'hello_world'}, 'raised_halt': False}, {'locus_id': 'ANT20222t6123a325tg', 'locus_data': FilterContext(locus_id=\"ANT20222t6123a325tg\"), 't': 0.00013124200000191877, 'new_locus_properties': {}, 'new_alert_properties': {}, 'new_tags': {'hello_world'}, 'raised_halt': False}, {'locus_id': 'ANT2022fs81pa94uypm', 'locus_data': FilterContext(locus_id=\"ANT2022fs81pa94uypm\"), 't': 0.00013144599999748152, 'new_locus_properties': {}, 'new_alert_properties': {}, 'new_tags': {'hello_world'}, 'raised_halt': False}, {'locus_id': 'ANT2020qixa4', 'locus_data': FilterContext(locus_id=\"ANT2020qixa4\"), 't': 0.00013467400000166663, 'new_locus_properties': {}, 'new_alert_properties': {}, 'new_tags': {'hello_world'}, 'raised_halt': False}, {'locus_id': 'ANT2022k76yv401ugd0', 'locus_data': FilterContext(locus_id=\"ANT2022k76yv401ugd0\"), 't': 0.0001285539999997809, 'new_locus_properties': {}, 'new_alert_properties': {}, 'new_tags': {'hello_world'}, 'raised_halt': False}, {'locus_id': 'ANT2022hnbm13161e5p', 'locus_data': FilterContext(locus_id=\"ANT2022hnbm13161e5p\"), 't': 0.0001320319999962294, 'new_locus_properties': {}, 'new_alert_properties': {}, 'new_tags': {'hello_world'}, 'raised_halt': False}, {'locus_id': 'ANT2021axlzi', 'locus_data': FilterContext(locus_id=\"ANT2021axlzi\"), 't': 0.00014044499999954496, 'new_locus_properties': {}, 'new_alert_properties': {}, 'new_tags': {'hello_world'}, 'raised_halt': False}, {'locus_id': 'ANT2022nksgjuhh7uby', 'locus_data': FilterContext(locus_id=\"ANT2022nksgjuhh7uby\"), 't': 0.00021017000000256303, 'new_locus_properties': {}, 'new_alert_properties': {}, 'new_tags': {'hello_world'}, 'raised_halt': False}, {'locus_id': 'ANT2020k2loc', 'locus_data': FilterContext(locus_id=\"ANT2020k2loc\"), 't': 0.00043731000000235554, 'new_locus_properties': {}, 'new_alert_properties': {}, 'new_tags': {'hello_world'}, 'raised_halt': False}, {'locus_id': 'ANT2020656nu', 'locus_data': FilterContext(locus_id=\"ANT2020656nu\"), 't': 0.00012778499999654969, 'new_locus_properties': {}, 'new_alert_properties': {}, 'new_tags': {'hello_world'}, 'raised_halt': False}, {'locus_id': 'ANT2018g67c4', 'locus_data': FilterContext(locus_id=\"ANT2018g67c4\"), 't': 0.00013528200000223478, 'new_locus_properties': {}, 'new_alert_properties': {}, 'new_tags': {'hello_world'}, 'raised_halt': False}, {'locus_id': 'ANT2019ekbgq', 'locus_data': FilterContext(locus_id=\"ANT2019ekbgq\"), 't': 0.00014316400000069507, 'new_locus_properties': {}, 'new_alert_properties': {}, 'new_tags': {'hello_world'}, 'raised_halt': False}, {'locus_id': 'ANT2022tapq9wivg5sz', 'locus_data': FilterContext(locus_id=\"ANT2022tapq9wivg5sz\"), 't': 0.0002820509999992282, 'new_locus_properties': {}, 'new_alert_properties': {}, 'new_tags': {'hello_world'}, 'raised_halt': False}, {'locus_id': 'ANT2022g5fwxd1lon1p', 'locus_data': FilterContext(locus_id=\"ANT2022g5fwxd1lon1p\"), 't': 0.0001310059999966029, 'new_locus_properties': {}, 'new_alert_properties': {}, 'new_tags': {'hello_world'}, 'raised_halt': False}, {'locus_id': 'ANT2018gcwyq', 'locus_data': FilterContext(locus_id=\"ANT2018gcwyq\"), 't': 0.0001438440000001151, 'new_locus_properties': {}, 'new_alert_properties': {}, 'new_tags': {'hello_world'}, 'raised_halt': False}, {'locus_id': 'ANT2019bh3rm', 'locus_data': FilterContext(locus_id=\"ANT2019bh3rm\"), 't': 0.0001487329999960707, 'new_locus_properties': {}, 'new_alert_properties': {}, 'new_tags': {'hello_world'}, 'raised_halt': False}, {'locus_id': 'ANT2022hwf5ki4m8wcp', 'locus_data': FilterContext(locus_id=\"ANT2022hwf5ki4m8wcp\"), 't': 0.0001356249999986403, 'new_locus_properties': {}, 'new_alert_properties': {}, 'new_tags': {'hello_world'}, 'raised_halt': False}, {'locus_id': 'ANT2022n25j7nbqphbi', 'locus_data': FilterContext(locus_id=\"ANT2022n25j7nbqphbi\"), 't': 0.00012455099999897357, 'new_locus_properties': {}, 'new_alert_properties': {}, 'new_tags': {'hello_world'}, 'raised_halt': False}, {'locus_id': 'ANT20228oli4o80w5yf', 'locus_data': FilterContext(locus_id=\"ANT20228oli4o80w5yf\"), 't': 0.00013241599999957998, 'new_locus_properties': {}, 'new_alert_properties': {}, 'new_tags': {'hello_world'}, 'raised_halt': False}, {'locus_id': 'ANT2020mjq7c', 'locus_data': FilterContext(locus_id=\"ANT2020mjq7c\"), 't': 7.774099999835471e-05, 'new_locus_properties': {}, 'new_alert_properties': {}, 'new_tags': {'hello_world'}, 'raised_halt': False}, {'locus_id': 'ANT2018hxi5o', 'locus_data': FilterContext(locus_id=\"ANT2018hxi5o\"), 't': 0.00016229199999884258, 'new_locus_properties': {}, 'new_alert_properties': {}, 'new_tags': {'hello_world'}, 'raised_halt': False}, {'locus_id': 'ANT20227tekwp2ryqte', 'locus_data': FilterContext(locus_id=\"ANT20227tekwp2ryqte\"), 't': 0.00013245099999892318, 'new_locus_properties': {}, 'new_alert_properties': {}, 'new_tags': {'hello_world'}, 'raised_halt': False}, {'locus_id': 'ANT202226cmkalqs6s3', 'locus_data': FilterContext(locus_id=\"ANT202226cmkalqs6s3\"), 't': 0.00012647700000201212, 'new_locus_properties': {}, 'new_alert_properties': {}, 'new_tags': {'hello_world'}, 'raised_halt': False}, {'locus_id': 'ANT2020maf76', 'locus_data': FilterContext(locus_id=\"ANT2020maf76\"), 't': 0.0001735250000010069, 'new_locus_properties': {}, 'new_alert_properties': {}, 'new_tags': {'hello_world'}, 'raised_halt': False}, {'locus_id': 'ANT202283bnculzwnz7', 'locus_data': FilterContext(locus_id=\"ANT202283bnculzwnz7\"), 't': 0.00013343199999837907, 'new_locus_properties': {}, 'new_alert_properties': {}, 'new_tags': {'hello_world'}, 'raised_halt': False}, {'locus_id': 'ANT2022414jtaogt1o3', 'locus_data': FilterContext(locus_id=\"ANT2022414jtaogt1o3\"), 't': 0.00012649100000317048, 'new_locus_properties': {}, 'new_alert_properties': {}, 'new_tags': {'hello_world'}, 'raised_halt': False}, {'locus_id': 'ANT2020pdogm', 'locus_data': FilterContext(locus_id=\"ANT2020pdogm\"), 't': 0.0001676779999968403, 'new_locus_properties': {}, 'new_alert_properties': {}, 'new_tags': {'hello_world'}, 'raised_halt': False}, {'locus_id': 'ANT2018genra', 'locus_data': FilterContext(locus_id=\"ANT2018genra\"), 't': 0.0004809070000035831, 'new_locus_properties': {}, 'new_alert_properties': {}, 'new_tags': {'hello_world'}, 'raised_halt': False}, {'locus_id': 'ANT20220crqqfr6ekcd', 'locus_data': FilterContext(locus_id=\"ANT20220crqqfr6ekcd\"), 't': 0.00013373399999494495, 'new_locus_properties': {}, 'new_alert_properties': {}, 'new_tags': {'hello_world'}, 'raised_halt': False}, {'locus_id': 'ANT2019242tg', 'locus_data': FilterContext(locus_id=\"ANT2019242tg\"), 't': 0.00016449299999976574, 'new_locus_properties': {}, 'new_alert_properties': {}, 'new_tags': {'hello_world'}, 'raised_halt': False}, {'locus_id': 'ANT2022mt866wahp7nn', 'locus_data': FilterContext(locus_id=\"ANT2022mt866wahp7nn\"), 't': 0.0001447850000033668, 'new_locus_properties': {}, 'new_alert_properties': {}, 'new_tags': {'hello_world'}, 'raised_halt': False}, {'locus_id': 'ANT2020jpnji', 'locus_data': FilterContext(locus_id=\"ANT2020jpnji\"), 't': 0.0001537810000016293, 'new_locus_properties': {}, 'new_alert_properties': {}, 'new_tags': {'hello_world'}, 'raised_halt': False}, {'locus_id': 'ANT2018gezli', 'locus_data': FilterContext(locus_id=\"ANT2018gezli\"), 't': 0.00012021500000258811, 'new_locus_properties': {}, 'new_alert_properties': {}, 'new_tags': {'hello_world'}, 'raised_halt': False}, {'locus_id': 'ANT20220j6yzkuyhixs', 'locus_data': FilterContext(locus_id=\"ANT20220j6yzkuyhixs\"), 't': 0.00013516599999974233, 'new_locus_properties': {}, 'new_alert_properties': {}, 'new_tags': {'hello_world'}, 'raised_halt': False}, {'locus_id': 'ANT2018gfins', 'locus_data': FilterContext(locus_id=\"ANT2018gfins\"), 't': 0.00011442099999925404, 'new_locus_properties': {}, 'new_alert_properties': {}, 'new_tags': {'hello_world'}, 'raised_halt': False}, {'locus_id': 'ANT2020uym3w', 'locus_data': FilterContext(locus_id=\"ANT2020uym3w\"), 't': 0.0001439760000039314, 'new_locus_properties': {}, 'new_alert_properties': {}, 'new_tags': {'hello_world'}, 'raised_halt': False}, {'locus_id': 'ANT2022u57bscx5qs6e', 'locus_data': FilterContext(locus_id=\"ANT2022u57bscx5qs6e\"), 't': 0.00013031499999982543, 'new_locus_properties': {}, 'new_alert_properties': {}, 'new_tags': {'hello_world'}, 'raised_halt': False}, {'locus_id': 'ANT2018gexh2', 'locus_data': FilterContext(locus_id=\"ANT2018gexh2\"), 't': 0.00014240100000506573, 'new_locus_properties': {}, 'new_alert_properties': {}, 'new_tags': {'hello_world'}, 'raised_halt': False}, {'locus_id': 'ANT2018h5okc', 'locus_data': FilterContext(locus_id=\"ANT2018h5okc\"), 't': 0.00015007999999738786, 'new_locus_properties': {}, 'new_alert_properties': {}, 'new_tags': {'hello_world'}, 'raised_halt': False}, {'locus_id': 'ANT2018gaxfw', 'locus_data': FilterContext(locus_id=\"ANT2018gaxfw\"), 't': 0.00013970099999482954, 'new_locus_properties': {}, 'new_alert_properties': {}, 'new_tags': {'hello_world'}, 'raised_halt': False}, {'locus_id': 'ANT2018gdlly', 'locus_data': FilterContext(locus_id=\"ANT2018gdlly\"), 't': 0.00016776999999734699, 'new_locus_properties': {}, 'new_alert_properties': {}, 'new_tags': {'hello_world'}, 'raised_halt': False}, {'locus_id': 'ANT2022ihamovf0r4ll', 'locus_data': FilterContext(locus_id=\"ANT2022ihamovf0r4ll\"), 't': 0.00014186299999607854, 'new_locus_properties': {}, 'new_alert_properties': {}, 'new_tags': {'hello_world'}, 'raised_halt': False}, {'locus_id': 'ANT2020o7xw6', 'locus_data': FilterContext(locus_id=\"ANT2020o7xw6\"), 't': 0.00013190299999621402, 'new_locus_properties': {}, 'new_alert_properties': {}, 'new_tags': {'hello_world'}, 'raised_halt': False}], 't_50_percentile': 0.00013444150000196942, 't_90_percentile': 0.0002852977999992848, 't_95_percentile': 0.00043754255000223453, 't_99_percentile': 0.00049790852999987}\n"
     ]
    },
    {
     "name": "stderr",
     "output_type": "stream",
     "text": [
      "/data0/sw/antares-kernel/lib/python3.9/site-packages/pandas/core/arraylike.py:397: RuntimeWarning: invalid value encountered in log10\n",
      "  result = getattr(ufunc, method)(*inputs, **kwargs)\n"
     ]
    }
   ],
   "source": [
    "# Execute HelloWorld filter on 100 random locii\n",
    "report = dk.run_many(HelloWorld, n=100)\n",
    "\n",
    "# `run_many()` returns a report of what the filter did. Take a look at it:\n",
    "print(report)"
   ]
  },
  {
   "cell_type": "markdown",
   "metadata": {},
   "source": [
    "## Constructing Locus Objects\n",
    "You can also construct your own Locus objects for testing:"
   ]
  },
  {
   "cell_type": "code",
   "execution_count": 10,
   "metadata": {},
   "outputs": [
    {
     "name": "stdout",
     "output_type": "stream",
     "text": [
      "2022-08-10 13:17:11,382 - WARNING MainThread cassandra.py:list_by_location:1169 - Catalog object not found (catalog_id=19, object_id=490951081)\n",
      "2022-08-10 13:17:11,460 - WARNING MainThread ztf_flux_correction.py:correct_mags:61 - Attempt to correct magnitudes failed, missing fields\n",
      "Building the lightcurve with the following missing columns: {'ant_magerr', 'ant_passband', 'ant_maglim', 'ant_dec', 'ant_survey', 'ant_ra'}\n",
      "Hello Locus locus1\n"
     ]
    },
    {
     "data": {
      "text/plain": [
       "{'locus_id': 'locus1',\n",
       " 'locus_data': FilterContext(locus_id=\"locus1\"),\n",
       " 't': 0.001019798000001515,\n",
       " 'new_locus_properties': {},\n",
       " 'new_alert_properties': {},\n",
       " 'new_tags': {'hello_world'},\n",
       " 'raised_halt': False}"
      ]
     },
     "execution_count": 10,
     "metadata": {},
     "output_type": "execute_result"
    }
   ],
   "source": [
    "ra, dec = 88.2744186, -5.0010774\n",
    "locus_dict = {\n",
    "    'locus_id': 'locus1',\n",
    "    'ra': ra,\n",
    "    'dec': dec,\n",
    "    'properties': {\n",
    "        'num_alerts': 2,\n",
    "        'num_mag_values': 2,\n",
    "    },\n",
    "    'tags': [],\n",
    "    'watch_list_ids': [],\n",
    "    'watch_object_ids': [],\n",
    "    'catalog_objects': dk.search_catalogs(ra, dec),\n",
    "    'alerts': [\n",
    "        {\n",
    "            'alert_id': 'alert1',\n",
    "            'locus_id': 'locus1',\n",
    "            'mjd': 58794.272488399874,\n",
    "            'properties': {\n",
    "                'ant_mag': 15.1,\n",
    "            },\n",
    "        },\n",
    "        {\n",
    "            'alert_id': 'alert2',\n",
    "            'locus_id': 'locus1',\n",
    "            'mjd': 58799.50587960007,\n",
    "            'properties': {\n",
    "                'ant_mag': 15.2,\n",
    "            }\n",
    "        },\n",
    "    ],\n",
    "}\n",
    "\n",
    "locus = dk.locus_from_dict(locus_dict)\n",
    "\n",
    "dk.run_filter(HelloWorld, locus)"
   ]
  },
  {
   "cell_type": "markdown",
   "metadata": {},
   "source": [
    "<a class=\"anchor\" id=\"data\"></a>\n",
    "## 4. Upload and use Data File\n",
    "\n",
    "Some filters require access to data files, such as statistical models. ANTARES supports this by storing such files as binary blobs in a database table. These data files can then be loaded into filters when the filter’s `setup()` function is called.\n",
    "\n",
    "### Uploading files into ANTARES\n",
    "\n",
    "The detail of uploading files into ANTARES can be found at ANTARES [Documentation](https://noao.gitlab.io/antares/filter-documentation/devkit/files.html)"
   ]
  },
  {
   "cell_type": "markdown",
   "metadata": {},
   "source": [
    "### Accessing Files from Filters\n",
    "In the `setup()` function of your filter, file data are available as bytes objects.\n",
    "\n",
    "Here is an example of a filter which requires a file, transforms that file into a Python object or datastructure, and then uses that object when the filter runs:"
   ]
  },
  {
   "cell_type": "code",
   "execution_count": 11,
   "metadata": {},
   "outputs": [],
   "source": [
    "import antares.devkit as dk\n",
    "\n",
    "\n",
    "class MyFilter(dk.Filter):\n",
    "    REQUIRES_FILES = [\n",
    "        'cstubens_myFile.txt'\n",
    "    ]\n",
    "\n",
    "    def setup(self):\n",
    "        \"\"\"\n",
    "        ANTARES will call this function once at the beginning of each night\n",
    "        when filters are loaded.\n",
    "        \"\"\"\n",
    "        # ANTARES will load all files in `REQUIRED_FILES` into a dict\n",
    "        # on the filter object `self.files`. Values in this dictionary\n",
    "        # will be byte strings of class `bytes`.\n",
    "        # You can then access them like:\n",
    "        file_data = self.files['cstubens_myFile.txt']\n",
    "\n",
    "        # Construct a Python object or datastructure from the raw `file_data`.\n",
    "        # TODO: your code here\n",
    "        # Then, you can store it on the filter instance for use in `run()`:\n",
    "        self.my_object = my_object\n",
    "\n",
    "    def run(self, locus):\n",
    "        \"\"\"\n",
    "        ANTARES will call this function in real-time for each incoming Alert.\n",
    "        \"\"\"\n",
    "        # Here you can use `self.my_object` in your processing of the alert.\n",
    "        # TODO: your code here"
   ]
  },
  {
   "cell_type": "markdown",
   "metadata": {},
   "source": [
    "### Filter Submission\n",
    "BEFORE you submit your filter to ANTARES, you must contact us to request that we copy your datafiles from the DevKit database into the production database. Please provide the file `key` value(s) which you uploaded the files to."
   ]
  },
  {
   "cell_type": "markdown",
   "metadata": {},
   "source": [
    "<a class=\"anchor\" id=\"submit\"></a>\n",
    "## 5. Submit Filter to ANTARES\n",
    "\n",
    "When you're ready to submit your filter to ANTARES, go to the [filters](https://antares.noirlab.edu/filters) page on the ANTARES website and click \"Add\".\n",
    "\n",
    "**Note**: We highly recommend setting an `ERROR_LOG_SLACK_CHANNEL` on your filter so that you will receive notifications of errors. See [Debugging Filters in Production](https://noao.gitlab.io/antares/filter-documentation/devkit/debugging.html#devkit-debugging).\n",
    "\n",
    "When you submit your filter you will need to provide:\n",
    "\n",
    "* **Name** – A unique name for your filter. Name your filter like:\n",
    "\n",
    "     * Format: `<author or group>_<name>`\n",
    "\n",
    "     * eg: `stubens_sn1a_candidates`\n",
    "     \n",
    "\n",
    "* **Description** – A brief text description of your filter. Will be publicly visible.\n",
    "\n",
    "\n",
    "* **Handler** – The name of the filter class in your code. The handler name does not need to be unique outside of your code.\n",
    "\n",
    "\n",
    "* **Code** – A block of code which includes:\n",
    "\n",
    "     * your import statements\n",
    "\n",
    "     * filter class\n",
    "\n",
    "     * any helper functions that your filter needs\n"
   ]
  }
 ],
 "metadata": {
  "kernelspec": {
   "display_name": "Python 3 (ANTARES)",
   "language": "python",
   "name": "antares_py3.7"
  },
  "language_info": {
   "codemirror_mode": {
    "name": "ipython",
    "version": 3
   },
   "file_extension": ".py",
   "mimetype": "text/x-python",
   "name": "python",
   "nbconvert_exporter": "python",
   "pygments_lexer": "ipython3",
   "version": "3.9.12"
  }
 },
 "nbformat": 4,
 "nbformat_minor": 4
}
