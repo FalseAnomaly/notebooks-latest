{
 "cells": [
  {
   "cell_type": "markdown",
   "metadata": {
    "id": "29o7NvVB0EeZ"
   },
   "source": [
    "<img src=\"Figures/logo154.svg\" alt=\"to Go logo\" width=\"100\" align=\"right\"/>\n",
    "<br>\n",
    "<br>\n",
    "<font size='6'><u><b>Large Scale Structure of the Universe</b></u></font>\n",
    "<br>\n",
    "\n",
    "This notebook is interactive, and we will use it to learn and explore the distribution of galaxies in the universe. We follow a similar approach as other notebooks you might have used.\n",
    "\n",
    "Feel comfortable to ask questions as you go along!\n",
    "___"
   ]
  },
  {
   "cell_type": "markdown",
   "metadata": {
    "id": "PXNFGkXg0EfG"
   },
   "source": [
    "# Table of Contents\n",
    "\n",
    "* [How to Use This Notebook](#How-to-Use-This-Notebook)\n",
    "* [Pre-Activity Setup](#Pre-Activity-Setup)\n",
    "* [Activity 1: How Far Away are Galaxies?](#Activity-1:-How-Far-Away-are-Galaxies?)\n",
    "    * [Part 1.1: Plot a Reference Spectrum](#Part-1.1:-Plot-a-Reference-Spectrum)\n",
    "    * [Part 1.2: Plot a Galaxy Spectrum](#Part-1.2:-Plot-a-Galaxy-Spectrum)\n",
    "    * [Part 1.3: Measure Redshifts](#Part-1.3:-Measure-Redshifts)\n",
    "    * [Part 1.4: Mystery Galaxy](#Part-1.4:-Mystery-Galaxy)\n",
    "    * [Part 1.5: Redshift Ruler](#Part-1.5:-Redshift-Ruler)\n",
    "* [Activity 2: Look at the Position of Many Galaxies](#Activity-2:-Look-at-the-Position-of-Many-Galaxies)\n",
    "    * [Part 2.1: Selecting Galaxies in a Region of the Sky](#Part-2.1:-Selecting-Galaxies-in-a-Region-of-the-Sky)\n",
    "    * [Part 2.2: Adding the 3rd Dimension](#Part-2.2:-Adding-the-3rd-Dimension)\n",
    "    * [Part 2.3: Zooming In and Zooming Out](#Part-2.3:-Zooming-In-and-Zooming-Out)\n",
    "___"
   ]
  },
  {
   "cell_type": "markdown",
   "metadata": {
    "id": "3DVW_N1C0EfU"
   },
   "source": [
    "# How to Use This Notebook\n",
    "\n",
    "The webpage you are in is actually an app called a Python Notebook — much like the ones on your phone. This app consists of cells.\n",
    "\n",
    "An *input* cell looks like a light grey box with an `In [ ]:` on its left. Input cells each contain code — instructions to make the computer do something.\n",
    "\n",
    "To activate or select a cell, click anywhere inside of it.\n",
    "\n",
    "<div class='alert alert-info'>\n",
    "    <font size='3'><b>Select the cell below and read its contents.</b></font>\n",
    "</div>"
   ]
  },
  {
   "cell_type": "code",
   "execution_count": null,
   "metadata": {
    "id": "mxG3o0S60Eff"
   },
   "outputs": [],
   "source": [
    "# Text that follows a \"#\" is a comment.\n",
    "# Comments do not affect your code in any way.\n",
    "# Always read the comments at the top of each cell you interact with.\n",
    "# Comments will be used to describe what the cell's code is actually doing."
   ]
  },
  {
   "cell_type": "markdown",
   "metadata": {
    "id": "ehSYVaFZ0Efy"
   },
   "source": [
    "To execute or run a selected cell, click the little play button or hit `[Shift + Enter]` on your keyboard.\n",
    "\n",
    "<div class='alert alert-info'>\n",
    "    <font size='3'><b>Select the cell below and read its contents. Then, run the cell.</b></font>\n",
    "        <br> If a warning appears, just click <em>\"Run Anyway\"</em>, this code is safe ;) \n",
    "    <br> Also, if you want to save your progress, click the <em>\"Copy to Drive\"</em> button at the top.\n",
    "</div>"
   ]
  },
  {
   "cell_type": "code",
   "execution_count": null,
   "metadata": {
    "id": "ZJfu7qAn0Ef7"
   },
   "outputs": [],
   "source": [
    "# Text that DOESN'T follow a \"#\" is considered code.\n",
    "# Lines of code are instructions given to your computer.\n",
    "# The line of code below is a \"print\" statement.\n",
    "# A print statement literally prints out the text between its quotes.\n",
    "\n",
    "print(\"Congrats! You have successfully run your first cell!\")"
   ]
  },
  {
   "cell_type": "markdown",
   "metadata": {
    "id": "K24Di1XM0EgE"
   },
   "source": [
    "Running a cell creates an *output* directly below it. An output can be some text, a graph, an interactive slider, or even nothing at all! When you have run a cell a number appears between the brackets, for instance [1].\n",
    "\n",
    "You can learn more about how Python Notebooks work at https://try.jupyter.org/\n",
    "___"
   ]
  },
  {
   "cell_type": "markdown",
   "metadata": {
    "id": "-DL-Iyk40EgM"
   },
   "source": [
    "# Pre-Activity Setup\n",
    "\n",
    "In order for any of the activities to work properly, you must import the libraries needed for the code in this notebook.\n",
    "\n",
    "Go to the “Runtime” menu and select the option to “Run all.” Running all helps to ensure a cell was not skipped and all libraries are imported to help the activities work properly. As you work through the Python Notebook, you may also re-run each cell individually.\n",
    "\n",
    "<div class='alert alert-info'>\n",
    "    <font size='3'><b>Select and run the cell below.</b></font>\n",
    "</div>"
   ]
  },
  {
   "cell_type": "code",
   "execution_count": null,
   "metadata": {
    "id": "48Fyu5x70EgT"
   },
   "outputs": [],
   "source": [
    "#If you are running this notebook in Colab, you should install these packages:\n",
    "!pip install ipympl astroML &> /dev/null\n",
    "print(\"You have successfully installed: astroML\")"
   ]
  },
  {
   "cell_type": "code",
   "execution_count": null,
   "metadata": {
    "id": "EeLqihBn0Ega"
   },
   "outputs": [],
   "source": [
    "\"\"\"Import libraries.\n",
    "\n",
    "Here, you are importing the libraries needed for this notebook. These libraries set up the plotting environment in\n",
    "your browser.\n",
    "\"\"\"\n",
    "\n",
    "import numpy as np\n",
    "\n",
    "%matplotlib inline\n",
    "import matplotlib.pyplot as plt\n",
    "%config InlineBackend.figure_format = 'retina'\n",
    "import matplotlib.cm as cm\n",
    "import matplotlib.path as mpath\n",
    "from mpl_toolkits.mplot3d import Axes3D\n",
    "\n",
    "from IPython.core.display import Image, Markdown, display\n",
    "\n",
    "from ipywidgets import *\n",
    "\n",
    "from astroML.datasets import fetch_sdss_S82standards, fetch_sdss_specgals, fetch_sdss_spectrum, fetch_vega_spectrum\n",
    "from astroML.plotting import MultiAxes\n",
    "\n",
    "print('Done! You have successfully imported the libraries.')"
   ]
  },
  {
   "cell_type": "markdown",
   "metadata": {
    "id": "xkmTTlg_0Egh"
   },
   "source": [
    "___"
   ]
  },
  {
   "cell_type": "markdown",
   "metadata": {
    "id": "HKCgGfbp0Egm"
   },
   "source": [
    "# Activity 1: How Far Away are Galaxies?\n",
    "\n",
    "In this activity, you will learn how astronomers measure distances to galaxies. You will get to compare galaxies to figure out which ones are closer or further away from us. You can then use this method for many more galaxies on your own as well!\n",
    "\n",
    "As in the first notebook, we are going to use data from the [Sloan Digital Sky Survey (SDSS)](http://sdss.org). This project used a telescope at Apache Point in New Mexico to look at the northern sky.\n",
    "\n",
    "<figure>\n",
    "    <center>\n",
    "        <br>\n",
    "        <img src='https://apod.nasa.gov/apod/image/9806/sloan_fermilab_big.jpg', width='300'>\n",
    "        <br>\n",
    "        <figcaption>\n",
    "            <font color='grey'>\n",
    "                <b>Image 1:</b>\n",
    "                The Sloan Telescope at Apache Point, New Mexico.\n",
    "                <br>\n",
    "                <b>Image Credit:</b>\n",
    "                SDSS Team, Fermilab Visual Media Services\n",
    "            </font>\n",
    "        </figcaption>\n",
    "    </center>\n",
    "</figure>\n",
    "\n",
    "The Sloan survey team found millions of stars and galaxies, and made their big data set public. In this activity, we will retrieve and examine galaxy data!\n",
    "\n",
    "So how did Sloan take spectra of millions of stars and galaxies? The team used metal plates like the one shown below, with a hundreds of holes aligned with the stars and galaxies to be observed. An optical fiber is placed in each hole in order to transfer the light to the instrument and camera. As you will see below, the data are identified by their **Plate** number, their **Fiber** number, and the date when they were obtained - the **MJD** [(Modified Julian Date)](https://en.wikipedia.org/wiki/Julian_day).\n",
    "\n",
    "<figure>\n",
    "    <center>\n",
    "        <br>\n",
    "        <img src='http://www.nature.com/polopoly_fs/7.2192.1325671958!/image/Dark-Energy.jpg_gen/derivatives/fullsize/Dark-Energy.jpg', width='300'>\n",
    "        <br>\n",
    "        <figcaption>\n",
    "            <font color='grey'>\n",
    "                <b>Image 2:</b>\n",
    "                Holes in aluminum plates let the light from stars and galaxies passed to an optical fiber to the instrument.\n",
    "                <br>\n",
    "                <b>Image Credit:</b>\n",
    "                D. Long, SDSS-III\n",
    "            </font>\n",
    "        </figcaption>\n",
    "    </center>\n",
    "</figure>\n",
    "\n",
    "<figure>\n",
    "    <center>\n",
    "        <br>\n",
    "        <img src='https://newscenter.lbl.gov/wp-content/uploads/sites/2/2008/09/schlegel.jpg', width='300'>\n",
    "        <br>\n",
    "        <figcaption>\n",
    "            <font color='grey'>\n",
    "                <b>Image 3:</b>\n",
    "                David Schlegel, Principal Investigator of the BOSS survey (follow-up to SDSS), holding one fiber plug plate.\n",
    "            </font>\n",
    "        </figcaption>\n",
    "    </center>\n",
    "</figure>\n",
    "\n",
    "There were thousands of plates used (~2500 for SDSS), each with 640 fibers, which together gives 1.6 million spectra (including galaxies, stars, and extra spectra on blank sky).\n",
    "___"
   ]
  },
  {
   "cell_type": "markdown",
   "metadata": {
    "id": "JJm01BxN0Egt"
   },
   "source": [
    "## Part 1.1: Plot a Reference Spectrum\n",
    "\n",
    "A reference spectrum means that it is at redshift zero (not moving toward or away from us). In this case, the reference spectrum is that of a single star.\n",
    "\n",
    "<div class='alert alert-info'>\n",
    "    <h3 class='alert-heading'>Helpful Reminder(s)</h3>\n",
    "    <ul>\n",
    "        <li>Click anywhere inside of a cell to select it.</li>\n",
    "        <li>Hit [Shift + Enter] to run a selected cell.</li>\n",
    "    </ul>\n",
    "</div>"
   ]
  },
  {
   "cell_type": "code",
   "execution_count": null,
   "metadata": {
    "id": "CtIenZN00Egz"
   },
   "outputs": [],
   "source": [
    "\"\"\"Fetch and plot the reference spectrum.\n",
    "\n",
    "The \"Plate\", \"MJD\", and \"Fiber\" numbers of the reference spectrum are entered below. They are used to gather\n",
    "wavelength and brightness data. That data is then plotted on a graph.\n",
    "\"\"\"\n",
    "\n",
    "# Fetch the reference spectrum.\n",
    "plate = 396\n",
    "mjd = 51816\n",
    "fiber = 605\n",
    "spec = fetch_sdss_spectrum(plate, mjd, fiber)\n",
    "\n",
    "# Plot the reference spectrum.\n",
    "fig = plt.figure(1,figsize=(10,5))\n",
    "ax = fig.add_subplot(111)\n",
    "ax.set_title('Reference Spectrum')\n",
    "ax.set_xlabel('Wavelength [Å]')\n",
    "ax.set_ylabel('Relative Brightness')\n",
    "ax.set_yticks([])\n",
    "ln, = ax.plot(spec.wavelength(), spec.spectrum/spec.spectrum.max(), c='red', lw=0.5, label='Reference')\n",
    "ax.legend()\n",
    "fig.canvas.toolbar_position = 'bottom'\n",
    "\n",
    "def f():\n",
    "    ln.set_label('Reference')\n",
    "    ax.legend()\n",
    "\n",
    "layout = {'width':'initial'}\n",
    "style = {'description_width':'150px'}"
   ]
  },
  {
   "cell_type": "markdown",
   "metadata": {
    "id": "R8bCEAzP0Eg5"
   },
   "source": [
    "___"
   ]
  },
  {
   "cell_type": "markdown",
   "metadata": {
    "id": "etuSnE4A0Eg8"
   },
   "source": [
    "## Part 1.2: Plot a Galaxy Spectrum\n",
    "\n",
    "Here, you will plot the spectrum of a galaxy. Look for similarities and differences in its shape and lines relative to the reference spectrum."
   ]
  },
  {
   "cell_type": "code",
   "execution_count": null,
   "metadata": {
    "id": "8r49yxs30EhB",
    "tags": []
   },
   "outputs": [],
   "source": [
    "\"\"\"Fetch and plot the galaxy spectrum.\n",
    "\n",
    "The \"Plate\", \"MJD\", and \"Fiber\" numbers of the galaxy spectrum are entered below. They are used to gather\n",
    "wavelength and brightness data. That data is then plotted on a graph.\n",
    "\"\"\"\n",
    "\n",
    "# Fetch the galaxy spectrum.\n",
    "plate = 2434\n",
    "mjd = 53826\n",
    "fiber = 359\n",
    "spec1 = fetch_sdss_spectrum(plate, mjd, fiber)\n",
    "\n",
    "# Plot the galaxy spectrum.\n",
    "fig = plt.figure(2,figsize=(10,5))\n",
    "ax = fig.add_subplot(111)\n",
    "ax.set_title('Galaxy Spectrum')\n",
    "ax.set_xlabel('Wavelength [Å]')\n",
    "ax.set_ylabel('Relative Brightness')\n",
    "ax.set_yticks([])\n",
    "ln, = ax.plot(spec1.wavelength(), spec1.spectrum/spec1.spectrum.max(), c='blue', lw=0.3, label='Galaxy')\n",
    "ax.legend()\n",
    "fig.canvas.toolbar_position = 'bottom'\n",
    "\n",
    "def f():\n",
    "    ln.set_label('Galaxy')\n",
    "    ax.legend()"
   ]
  },
  {
   "cell_type": "markdown",
   "metadata": {
    "id": "ckvMOibI0EhF"
   },
   "source": [
    "<div class='alert alert-success'>\n",
    "    <h3 class='alert-heading'>Quick Question(s)</h3>\n",
    "    <ul>\n",
    "        <li>Do you notice differences between the shapes two spectra?</li>\n",
    "        <li>Do you notice similar patterns in the line features (dips)?</li>\n",
    "    </ul>\n",
    "</div>\n",
    "\n",
    "___"
   ]
  },
  {
   "cell_type": "markdown",
   "metadata": {
    "id": "PaOaSq7W0EhH"
   },
   "source": [
    "## Part 1.3: Measure Redshifts\n",
    "\n",
    "The next step here is to overlay a reference spectrum (called a template) onto the galaxy spectra from above.\n",
    "\n",
    "> <u><b>Remember:</b></u> A galaxy is a collection of billion of stars, so the shape of the spectrum is not identical to the reference spectrum of a single star. But because the stars have the same elements, notice similar \"dips\" in the spectra."
   ]
  },
  {
   "cell_type": "code",
   "execution_count": null,
   "metadata": {
    "id": "MS7oMt0J0EhK"
   },
   "outputs": [],
   "source": [
    "\"\"\"Plot the reference and galaxy spectra.\n",
    "\n",
    "The reference and galaxy spectra are plotted side by side. They can be compared analytically so that the galaxy\n",
    "spectrum's redshift value can be determined.\n",
    "\"\"\"\n",
    "# Create the interactive widget.\n",
    "def f(w3, w4):\n",
    "    # Plot the reference and galaxy spectra.\n",
    "    fig = plt.figure(3,figsize=(10,5))\n",
    "    ax = fig.add_subplot(111)\n",
    "    ax.set_title('Reference vs. Galaxy Spectra')\n",
    "    ax.set_xlabel('Wavelength [Å]')\n",
    "    ax.set_ylabel('Relative Brightness')\n",
    "    ax.set_yticks([])\n",
    "    ax.set_xlim(3700,7700)\n",
    "    fig.canvas.toolbar_position = 'bottom'\n",
    "\n",
    "    ln1, = ax.plot(spec.wavelength(), spec.spectrum/spec.spectrum.max(), c='red', lw=0.4, label='Reference')\n",
    "    ln2, = ax.plot(spec1.wavelength(), spec1.spectrum/spec1.spectrum.max(), c='blue', lw=0.4, label='Galaxy')\n",
    "\n",
    "    ln1.set_xdata(spec.wavelength() * (1 + w3))\n",
    "    ln1.set_ydata(spec.spectrum/spec.spectrum.max() + w4)\n",
    "    ax.legend()\n",
    "    \n",
    "box_layout = {'display':'flex', 'flex_flow':'column', 'border':'1px solid grey', 'width':'initial'}\n",
    "w3 = FloatSlider(description='Redshift:', value=0, min=0, max=0.2, step=0.01, layout=layout, style=style)\n",
    "w4 = FloatSlider(description='Vertical Separation:', value=0, min=-1, max=1, step=0.02, layout=layout, style=style)\n",
    "\n",
    "plot = interactive(f, w3=w3, w4=w4)\n",
    "plot.layout = box_layout\n",
    "display(plot)"
   ]
  },
  {
   "cell_type": "markdown",
   "metadata": {
    "id": "c-vSwsgx0EhR"
   },
   "source": [
    "<div class='alert alert-success'>\n",
    "    <h3 class='alert-heading'>Quick Question(s)</h3>\n",
    "    <ul>\n",
    "        <li>Do you notice how the galaxy spectrum is shifted with respect to the reference spectrum?</li>\n",
    "    </ul>\n",
    "</div>\n",
    "\n",
    "This is what we saw as the **redshift** due to the expansion of the universe, which causes galaxies to appear to recede away from us.\n",
    "___"
   ]
  },
  {
   "cell_type": "markdown",
   "metadata": {
    "id": "EfqplM-B0EhS"
   },
   "source": [
    "## Part 1.4: Mystery Galaxy\n",
    "\n",
    "The next step adds four new mystery galaxies to analyze. As with the one before, find the redshift of each of the four mystery galaxies. Compare your answers with the person next to you."
   ]
  },
  {
   "cell_type": "code",
   "execution_count": null,
   "metadata": {
    "id": "yT-i5jjU0EhU"
   },
   "outputs": [],
   "source": [
    "\"\"\"Plot the reference and mystery galaxy spectra.\n",
    "\n",
    "Various mystery galaxy spectra are plotted next to the reference to showcase a variety of redshifts.\n",
    "\"\"\"\n",
    "plt.close()\n",
    "# Fetch the mystery galaxy spectrum.\n",
    "plate = 2121\n",
    "mjd = 54180\n",
    "fiber = 414\n",
    "spec2 = fetch_sdss_spectrum(plate, mjd, fiber)\n",
    "\n",
    "# Create the interactive widget.\n",
    "def f(w3, w4, w6):\n",
    "    global spec2\n",
    "    fig = plt.figure(4, figsize=(10,5))\n",
    "    ax = fig.add_subplot(111)\n",
    "    ax.set_title('Reference vs. Mystery Galaxy 1 Spectra')\n",
    "    ax.set_xlabel('Wavelength [Å]')\n",
    "    ax.set_ylabel('Relative Brightness')\n",
    "    ax.set_yticks([])\n",
    "    ax.set_xlim(3700,7700)\n",
    "    ln1, = ax.plot(spec.wavelength(), spec.spectrum/spec.spectrum.max(), c='red', lw=0.5, label='Reference')\n",
    "    ln2, = ax.plot(spec2.wavelength(), spec2.spectrum/spec2.spectrum.max(), c='blue', lw=0.5, label='Galaxy')\n",
    "    fig.canvas.toolbar_position = 'bottom'\n",
    "\n",
    "    if w6 == 'Mystery Galaxy 1':\n",
    "        plate = 2121\n",
    "        mjd = 54180\n",
    "        fiber = 414\n",
    "        ax.set_title('Reference vs. Mystery Galaxy 1 Spectra')\n",
    "    if w6 == 'Mystery Galaxy 2':\n",
    "        plate = 1759\n",
    "        mjd = 53081\n",
    "        fiber = 126\n",
    "        ax.set_title('Reference vs. Mystery Galaxy 2 Spectra')\n",
    "    if w6 == 'Mystery Galaxy 3':\n",
    "        plate = 1839\n",
    "        mjd = 53471\n",
    "        fiber = 310\n",
    "        ax.set_title('Reference vs. Mystery Galaxy 3 Spectra')\n",
    "    if w6 == 'Mystery Galaxy 4':\n",
    "        plate = 2121\n",
    "        mjd = 54180\n",
    "        fiber = 523\n",
    "        ax.set_title('Reference vs. Mystery Galaxy 4 Spectra')\n",
    "    spec2 = fetch_sdss_spectrum(plate, mjd, fiber)\n",
    "    ln2.set_xdata(spec2.wavelength())\n",
    "    ln2.set_ydata(spec2.spectrum/spec2.spectrum.max())\n",
    "    ln1.set_xdata(spec.wavelength() * (1 + w3))\n",
    "    ln1.set_ydata(spec.spectrum/spec.spectrum.max() + w4)\n",
    "    ln1.set_label('Reference')\n",
    "    ln2.set_label('Galaxy')\n",
    "    ax.legend()\n",
    "\n",
    "w3 = FloatSlider(description='Redshift:', value=0, min=0, max=0.2, step=0.01, layout=layout, style=style)\n",
    "w4 = FloatSlider(description='Vertical Separation:', value=0, min=-1, max=1, step=0.02, layout=layout, style=style)\n",
    "galaxies = ['Mystery Galaxy 1', 'Mystery Galaxy 2', 'Mystery Galaxy 3', 'Mystery Galaxy 4']\n",
    "w6 = ToggleButtons(description='Mystery Galaxy:', options=galaxies, layout=layout, style=style)\n",
    "plot = interactive(f, w3=w3, w4=w4, w6=w6)\n",
    "plot.layout = box_layout\n",
    "display(plot)"
   ]
  },
  {
   "cell_type": "markdown",
   "metadata": {
    "id": "kFHTXmo30Eha"
   },
   "source": [
    "<div class='alert alert-warning'>\n",
    "    <h3 class='alert-heading'>Discussion Question(s)</h3>\n",
    "    <ul>\n",
    "        <li>Which galaxy is closer to us and why?</li>\n",
    "    </ul>\n",
    "</div>\n",
    "\n",
    "Now, let's check the redshift and learn more information about these galaxies. [Click this link.](http://cas.sdss.org/dr14/en/tools/explore/Summary.aspx) Click \"Search\" on the left hand side menu bar, and then enter the **Plate**, **Fiber** and **MJD** for any one of the mystery galaxies above (find these in the code), and hit \"Go\". If you click on the image, you can move around, zoom in and out - it's like Google Maps for the night sky!\n",
    "___"
   ]
  },
  {
   "cell_type": "markdown",
   "metadata": {
    "id": "r6bbs_nI0EiM"
   },
   "source": [
    "## What's next?\n",
    "\n",
    "Well done! You have measured redshifts for two galaxies, which is how astronomers determine distances to galaxies. Remember, the further away a galaxy is from us, the faster is seems to be moving away from us, and the more its light (spectrum) is redshifted! That's because the universe is expanding.\n",
    "\n",
    "Next, let's see what we can learn if we apply this information to many galaxies. Onward to exploring our vast universe!\n",
    "___"
   ]
  },
  {
   "cell_type": "markdown",
   "metadata": {
    "id": "nVyTWeka0EiO"
   },
   "source": [
    "# Activity 2: Look at the Position of Many Galaxies\n",
    "\n",
    "Similarly to using coordinates of latitude and longitude, the coordinates on the sky are defined onto a sphere. They are called **RA** (Right Ascension) and **Dec** (Declination). There are two illustrations below of these coordinate systems.\n",
    "\n",
    "<figure>\n",
    "    <center>\n",
    "        <br>\n",
    "        <img src='http://voyages.sdss.org/wp-content/uploads/2015/10/pre-flight-celestial-sphere.jpg', width='300'>\n",
    "        <br>\n",
    "        <figcaption>\n",
    "            <font color='grey'>\n",
    "                <b>Figure 4:</b>\n",
    "                Illustration of the celestial coordinate system with RA and Dec. You can read <a href='http://dev.skyserver.sdss3.org/voyages/pre-flight/ra-and-dec.aspx'>here</a> for an explanation by the SDSS team.\n",
    "            </font>\n",
    "        </figcaption>\n",
    "    </center>\n",
    "</figure>\n",
    "\n",
    "<figure>\n",
    "    <center>\n",
    "        <br>\n",
    "        <img src='https://upload.wikimedia.org/wikipedia/commons/9/98/Ra_and_dec_on_celestial_sphere.png', width='300'>\n",
    "        <br>\n",
    "        <figcaption>\n",
    "            <font color='grey'>\n",
    "                <b>Figure 5:</b>\n",
    "                Illustration of the celestial coordinate system with RA and Dec. You can read on Wikipedia about <a href='https://en.wikipedia.org/wiki/Right_ascension'>Right Ascension</a> and <a href='https://en.wikipedia.org/wiki/Declination'>Declination</a>.\n",
    "            </font>\n",
    "        </figcaption>\n",
    "    </center>\n",
    "</figure>\n",
    "\n",
    "___"
   ]
  },
  {
   "cell_type": "markdown",
   "metadata": {
    "id": "kPTztUcW0EjK"
   },
   "source": [
    "## Part 2.1: Selecting Galaxies in a Region of the Sky\n",
    "\n",
    "Next, we will fetch the positions of galaxies on the sky, and plot their RA and Dec coordinates. Run the cells below to actually fetch the galaxy sample and plot their positions on the sky.\n",
    "\n",
    "<div class='alert alert-info'>\n",
    "    <h3 class='alert-heading'>Helpful Reminder(s)</h3>\n",
    "    <ul>\n",
    "        <li>Click anywhere inside of a cell to select it.</li>\n",
    "        <li>Hit [Shift + Enter] to run a selected cell.</li>\n",
    "    </ul>\n",
    "</div>"
   ]
  },
  {
   "cell_type": "code",
   "execution_count": null,
   "metadata": {
    "id": "EzXUJsyn0EjN"
   },
   "outputs": [],
   "source": [
    "\"\"\"Fetch and plot a section of the sky from the SDSS data.\"\"\"\n",
    "# close previous instance to save memory\n",
    "plt.close()\n",
    "# Fetch the SDSS sata.\n",
    "data = fetch_sdss_specgals()\n",
    "print('Done retrieving the galaxy sample.\\n')\n",
    "\n",
    "# Define the coordinate variables for plotting.\n",
    "RA = data['ra']\n",
    "DEC = data['dec']\n",
    "print('Range for RA values: %s    %s' %(np.round(np.amin(RA)),np.round(np.amax(RA))))\n",
    "print('Range for Dec values: %s    %s' %(np.round(np.amin(DEC)),np.round(np.amax(DEC))))\n",
    "\n",
    "# Convert RA range to [-180, 180] instead of [0, 360].\n",
    "RA -= 180\n",
    "print('Range for RA values after conversion: %s    %s' %(np.round(np.amin(RA)),np.round(np.amax(RA))))\n",
    "\n",
    "# Plot the RA/DEC positions.\n",
    "fig = plt.figure(figsize=(8,7.5))\n",
    "ax = fig.add_subplot(111, fc='black')\n",
    "ax.set_title('SDSS Galaxies',fontsize=16)\n",
    "ax.set_xlabel('RA [degrees]',fontsize=16)\n",
    "ax.set_ylabel('Dec [degrees]',fontsize=16)\n",
    "ax.set_xlim(-8, 8)  # Range for the x axis (horizontal)\n",
    "ax.set_ylim(0, 16)  # Range for the y axis (vertical)\n",
    "ln, = ax.plot(RA, DEC, c='white', marker='.', ms=1, ls='', alpha=0.5)\n",
    "fig.canvas.toolbar_position = 'bottom'"
   ]
  },
  {
   "cell_type": "markdown",
   "metadata": {
    "id": "2Ig0LRQh0EjQ"
   },
   "source": [
    "___"
   ]
  },
  {
   "cell_type": "markdown",
   "metadata": {
    "id": "-E-GH-sX0EjU"
   },
   "source": [
    "## Part 2.2: Adding the 3rd Dimension\n",
    "\n",
    "We saw before that in order to know the full distribution in 3D, we need to know how far away the galaxies are located. Here, we will add the information from the redshift.\n",
    "\n",
    "> <u><b>Remember:</b></u> The larger the redshift, the further away the galaxy!\n",
    "\n",
    "First, we will plot all galaxies in white, and show galaxies that have approximately the same redshift in yellow. In this first example, we will select for values of redshift with a slider widget. This is done by computing galaxies in a window of $\\pm 0.01$ around the value of the redshift slider. We call this an interval of redshift."
   ]
  },
  {
   "cell_type": "code",
   "execution_count": null,
   "metadata": {
    "id": "97lUi2K_0EjW"
   },
   "outputs": [],
   "source": [
    "\"\"\"Highlight distant galaxies based on redshift.\"\"\"\n",
    "# close previous instance to save memory\n",
    "plt.close()\n",
    "# Fetch the SDSS data.\n",
    "data = fetch_sdss_specgals()\n",
    "print('Done retrieving the galaxy sample.\\n')\n",
    "\n",
    "# Define the coordinate variables for plotting.\n",
    "RA = data['ra']\n",
    "DEC = data['dec']\n",
    "\n",
    "# Convert RA range to [-180, 180] instead of [0, 360].\n",
    "RA -= 180\n",
    "\n",
    "# Define redshift variable z.\n",
    "z = data['z']\n",
    "\n",
    "# Select a redshift range to highlight.\n",
    "rz = np.where(np.absolute(z) < 0.01)\n",
    "\n",
    "# Create the interactive widget.\n",
    "def f(w3):\n",
    "    global rz\n",
    "    # Plot the RA/DEC positions.\n",
    "    fig = plt.figure(figsize=(8,7.5))\n",
    "    ax = fig.add_subplot(111, fc='black')\n",
    "    ax.set_title('SDSS Galaxies',fontsize=16)\n",
    "    ax.set_xlabel('RA [degrees]',fontsize=16)\n",
    "    ax.set_ylabel('Dec [degrees]',fontsize=16)\n",
    "    ax.set_xlim(-8, 8)  # Range for the x axis (horizontal)\n",
    "    ax.set_ylim(0, 16)  # Range for the y axis (vertical)\n",
    "    ln1, = ax.plot(RA, DEC, c='white', marker='.', ms=1, ls='', alpha=0.5)\n",
    "    ln2, = ax.plot(RA[rz], DEC[rz], c='yellow', marker='.', ms=3, ls='', alpha=1)  # rz selected galaxies\n",
    "    fig.canvas.toolbar_position = 'bottom'\n",
    "\n",
    "    rz = np.where(np.absolute(z-w3) < 0.01)\n",
    "    ln2.set_data([RA[rz], DEC[rz]])\n",
    "\n",
    "w3 = FloatSlider(description='Redshift:', value=0, min=0.02, max=0.2, step=0.01, layout=layout, style=style)\n",
    "plot = interactive(f, w3=w3)\n",
    "plot.layout = box_layout\n",
    "display(plot)"
   ]
  },
  {
   "cell_type": "markdown",
   "metadata": {
    "id": "XHR9qwEO0EjY"
   },
   "source": [
    "Now, instead of showing just one interval of redshift in yellow, we will show the redshift of each galaxy color-coded. Each galaxy is shown with a dot, and each dot will have a color corresponding to the redshift: purple/blue colors mean a low redshift like between $0$ and $0.05$, then green/yellow mean slightly higher redshift like $0.1$, and so on until the higher redshift shown here of $0.2$ in red. Remember that this means that points with exactly the same color are at the same distance from us!"
   ]
  },
  {
   "cell_type": "code",
   "execution_count": null,
   "metadata": {
    "id": "Kfd9Wp9f0EjZ"
   },
   "outputs": [],
   "source": [
    "\"\"\"Color-code distant galaxies based on redshift.\"\"\"\n",
    "\n",
    "# Fetch the SDSS data.\n",
    "data = fetch_sdss_specgals()\n",
    "\n",
    "# Define the coordinate variables for plotting.\n",
    "RA = data['ra']\n",
    "DEC = data['dec']\n",
    "\n",
    "# Convert RA range to [-180, 180] instead of [0, 360].\n",
    "RA -= 180\n",
    "\n",
    "# Define redshift variable z.\n",
    "z = data['z']\n",
    "\n",
    "# Plot the RA/DEC positions.\n",
    "fig = plt.figure(figsize=(9,7))\n",
    "ax = fig.add_subplot(111, fc='black')\n",
    "ax.set_title('SDSS Galaxies (Color-Coded by Redshift)',fontsize=16)\n",
    "ax.set_xlabel('RA [degrees]',fontsize=16)\n",
    "ax.set_ylabel('Dec [degrees]',fontsize=16)\n",
    "ax.set_xlim(-8, 8)\n",
    "ax.set_ylim(0, 16)\n",
    "# Overplot a rectangle with the smallest region (zoomed in)\n",
    "ax.plot([-2, -2, 2, 2], [0, 4, 4, 0], color='white', ls='--', lw=1)\n",
    "ln = ax.scatter(RA, DEC, s=2, c=z, lw=0, cmap=cm.rainbow, vmin=0, vmax=0.2)\n",
    "fig.colorbar(ln)  # Color bar\n",
    "fig.canvas.toolbar_position = 'bottom'\n",
    "\n",
    "# Count how many galaxies are within the plot.\n",
    "points = np.column_stack([RA, DEC])\n",
    "verts = np.array([[-8, -8, 8, 8], [0, 16, 16, 0]]).T\n",
    "path = mpath.Path(verts)\n",
    "points_inside = points[path.contains_points(points)]\n",
    "print('--------------------------------------------')\n",
    "print('  Number of galaxies in the figure: %s' %np.count_nonzero(points_inside))\n",
    "print('--------------------------------------------')"
   ]
  },
  {
   "cell_type": "markdown",
   "metadata": {
    "id": "gw0MYabv0Ejd"
   },
   "source": [
    "The color bar to the right-hand side shows the correspondence between color and redshift. As mentioned before, points with exactly the same color are at the same distance from us. Purple points are the closest to us, then blue, aqua, green and so on. Think about which galaxies/colors are near and which galaxies/colors are far.\n",
    "\n",
    "<div class='alert alert-success'>\n",
    "    <h3 class='alert-heading'>Quick Question(s)</h3>\n",
    "    <ul>\n",
    "        <li>Can you use this information to imagine the distribution of galaxies in 3D?</li>\n",
    "        <li>Do you notice any structure together at the same distance from us?</li>\n",
    "    </ul>\n",
    "</div>\n",
    "\n",
    "___"
   ]
  },
  {
   "cell_type": "markdown",
   "metadata": {
    "id": "gXrUReRw0Ejf"
   },
   "source": [
    "## Part 2.3: Zooming In and Zooming Out\n",
    "\n",
    "Now, we will repeat the plots from Part 2.2 above, but with a zoom on a smaller region (\"zooming in\"), and then over a larger region (\"zooming out\")."
   ]
  },
  {
   "cell_type": "code",
   "execution_count": null,
   "metadata": {
    "id": "vVxVfARZ0Ejh"
   },
   "outputs": [],
   "source": [
    "\"\"\"Color-code distant galaxies based on redshift (zoomed-in).\"\"\"\n",
    "# close previous instance to save memory\n",
    "plt.close()\n",
    "# Fetch the SDSS data.\n",
    "data = fetch_sdss_specgals()\n",
    "\n",
    "# Define the coordinate variables for plotting.\n",
    "RA = data['ra']\n",
    "DEC = data['dec']\n",
    "\n",
    "# Convert RA range to [-180, 180] instead of [0, 360].\n",
    "RA -= 180\n",
    "\n",
    "# Define redshift variable z.\n",
    "z = data['z']\n",
    "\n",
    "# Plot the RA/DEC positions.\n",
    "fig = plt.figure(figsize=(9,7))\n",
    "ax = fig.add_subplot(111, fc='black')\n",
    "ax.set_title('SDSS Galaxies (Color-Coded by Redshift)',fontsize=16)\n",
    "ax.set_xlabel('RA [degrees]',fontsize=16)\n",
    "ax.set_ylabel('DEC [degrees]',fontsize=16)\n",
    "ax.set_xlim(-2, 2)\n",
    "ax.set_ylim(0, 4)\n",
    "ln = ax.scatter(RA, DEC, s=5, c=z, lw=0, cmap=cm.rainbow, vmin=0, vmax=0.2)\n",
    "fig.colorbar(ln)  # Color bar\n",
    "fig.canvas.toolbar_position = 'bottom'\n",
    "\n",
    "# Count how many galaxies are within the plot.\n",
    "points = np.column_stack([RA, DEC])\n",
    "verts = np.array([[-2, -2, 2, 2], [0, 4, 4, 0]]).T\n",
    "path = mpath.Path(verts)\n",
    "points_inside = points[path.contains_points(points)]\n",
    "print('--------------------------------------------')\n",
    "print('  Number of galaxies in the figure: %s' %np.count_nonzero(points_inside))\n",
    "print('--------------------------------------------')"
   ]
  },
  {
   "cell_type": "markdown",
   "metadata": {
    "id": "0P-j6vvX0Ejj"
   },
   "source": [
    "<div class='alert alert-success'>\n",
    "    <h3 class='alert-heading'>Quick Question(s)</h3>\n",
    "    <ul>\n",
    "        <li>Do you see any interesting galaxy structures?</li>\n",
    "        <li>What galaxy structures are closer/further from you?</li>\n",
    "    </ul>\n",
    "</div>\n",
    "\n",
    "Now, let's step back and plot galaxies over a large region of the sky!"
   ]
  },
  {
   "cell_type": "code",
   "execution_count": null,
   "metadata": {
    "id": "oKYRKgCX0Ejn"
   },
   "outputs": [],
   "source": [
    "\"\"\"Color-code distant galaxies based on redshift (zoomed-out).\"\"\"\n",
    "# close previous instance to save memory\n",
    "plt.close()\n",
    "# Fetch the SDSS data.\n",
    "data = fetch_sdss_specgals()\n",
    "\n",
    "# Define the coordinate variables for plotting.\n",
    "RA = data['ra']\n",
    "DEC = data['dec']\n",
    "\n",
    "# Convert RA range to [-180, 180] instead of [0, 360].\n",
    "RA -= 180\n",
    "\n",
    "# Define redshift variable z.\n",
    "z = data['z']\n",
    "\n",
    "# Plot the RA/DEC positions.\n",
    "fig = plt.figure(figsize=(13.5,10))\n",
    "ax = fig.add_subplot(111, fc='black')\n",
    "ax.set_title('SDSS Galaxies (Color-Coded by Redshift)', fontsize=16)\n",
    "ax.set_xlabel('RA [degrees]', fontsize=16)\n",
    "ax.set_ylabel('DEC [degrees]', fontsize=16)\n",
    "ax.set_xlim(-16, 16)\n",
    "ax.set_ylim(0, 32)\n",
    "# Overplot a rectangle with the first region\n",
    "ax.plot([-8, -8, 8, 8], [0, 16, 16, 0], color='white', ls='--', lw=1)\n",
    "# Overplot a rectangle with the smallest region (zoomed in)\n",
    "ax.plot([-2, -2, 2, 2], [0, 4, 4, 0], color='white')\n",
    "ln = ax.scatter(RA, DEC, s=1, c=z, lw=0, cmap=cm.rainbow, vmin=0, vmax=0.2)\n",
    "fig.colorbar(ln)  # Color bar\n",
    "fig.canvas.toolbar_position = 'bottom'\n",
    "\n",
    "# Count how many galaxies are within the plot.\n",
    "points = np.column_stack([RA, DEC])\n",
    "verts = np.array([[-16, -16, 16, 16], [0, 32, 32, 0]]).T\n",
    "path = mpath.Path(verts)\n",
    "points_inside = points[path.contains_points(points)]\n",
    "print('--------------------------------------------')\n",
    "print('Number of galaxies in the figure: %s' %np.count_nonzero(points_inside))\n",
    "print('--------------------------------------------')"
   ]
  },
  {
   "cell_type": "markdown",
   "metadata": {
    "id": "Ao23pMRs0Ejp"
   },
   "source": [
    "<div class='alert alert-danger'>\n",
    "    <h3 class='alert-heading'>Concluding Question(s)</h3>\n",
    "    <ol>\n",
    "        <li>How many times more galaxies are in the large (zoomed out) view relative to the small (zoomed in) view?</li>\n",
    "        <li>How many times can you fit the small region within the large region? (Hint: compute the size from the axes)</li>\n",
    "        <li>Are those two numbers above the same? What does it mean?</li>\n",
    "        <li>What do you see now on the zoomed out view?</li>\n",
    "        <li>Are those structures smaller or larger?</li>\n",
    "    </ol>\n",
    "</div>\n",
    "\n",
    "___"
   ]
  },
  {
   "cell_type": "code",
   "execution_count": null,
   "metadata": {
    "id": "a8pO0i4B0Ejq"
   },
   "outputs": [],
   "source": [
    "# Cell for calulations (fill in numbers below otherwise it will not execute well!)\n",
    "\n",
    "#1 How many times more galaxies are there in the large region compared to the small region?\n",
    "# BELOW: REPLACE THE '1's WITH THE CORRECT NUMBERS\n",
    "Number_in_largest_region = 1\n",
    "Number_in_smallest_region = 1\n",
    "ratio = Number_in_largest_region / Number_in_smallest_region\n",
    "print('Ratio of number of galaxies:', ratio)\n",
    "\n",
    "#2 How many times can the small region fit within the large region? (hint: large region is 32 degrees on a side)\n",
    "# BELOW: REPLACE THE '1's WITH THE CORRECT NUMBERS\n",
    "area_of_largest_region = 1\n",
    "area_of_smallest_region = 1\n",
    "ratio = area_of_largest_region / area_of_smallest_region\n",
    "print('Ratio of areas on the sky:', ratio)"
   ]
  },
  {
   "cell_type": "markdown",
   "metadata": {
    "id": "d3_Pjbd_2BCN"
   },
   "source": [
    "##### Written by Stephanie Juneau (NOIRLab), Leah Fulmer, Andres Jaramillo, Gautham Narayan & Juan-David Vargas (last updated on 03/18/2022)\n"
   ]
  }
 ],
 "metadata": {
  "anaconda-cloud": {},
  "colab": {
   "name": "Copy of Large_Scale_Structure_of_the_Universe.ipynb",
   "provenance": []
  },
  "kernelspec": {
   "display_name": "Python 3",
   "language": "python",
   "name": "python3"
  },
  "language_info": {
   "codemirror_mode": {
    "name": "ipython",
    "version": 3
   },
   "file_extension": ".py",
   "mimetype": "text/x-python",
   "name": "python",
   "nbconvert_exporter": "python",
   "pygments_lexer": "ipython3",
   "version": "3.9.5"
  }
 },
 "nbformat": 4,
 "nbformat_minor": 1
}
