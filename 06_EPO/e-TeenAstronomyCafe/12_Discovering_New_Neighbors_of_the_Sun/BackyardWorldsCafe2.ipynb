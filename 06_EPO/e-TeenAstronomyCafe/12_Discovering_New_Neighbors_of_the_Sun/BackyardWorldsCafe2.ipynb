{
 "cells": [
  {
   "cell_type": "markdown",
   "metadata": {
    "id": "xaAWBSED0vEd"
   },
   "source": [
    "<br>\n",
    "<br>\n",
    "<font size='6'><u><b>Discovering New Neighbors of the Sun</b></u></font>\n",
    "<br>\n",
    "\n",
    "_**Written by Aaron Meisner, NSF's NOIRLab**_"
   ]
  },
  {
   "cell_type": "markdown",
   "metadata": {
    "id": "JPlZbsgP1qGm"
   },
   "source": [
    "# Table of Contents\n",
    "\n",
    "* [How to Use This Notebook](#How-to-Use-This-Notebook)\n",
    "* [Pre-Activity Setup](#Pre-Activity-Setup)\n",
    "* [Objective: Discovering Brown Dwarfs](#Objective:-Discovering-Brown-Dwarfs)\n",
    "* [Activity 1: Motions of stars (and brown dwarfs)](#Activity-1:-Motions-of-stars-(and-brown-dwarfs))\n",
    "* [Activity 2: Colors of stars and brown dwarfs](#Activity-2:Colors-of-stars-and-brown-dwarfs)\n",
    "* [Looking for brown dwarfs based on motion & color](#Looking-for-brown-dwarfs-based-on-motion-&-color)\n",
    "* [Activity 3: Discover the Brown Dwarfs!](#Activity-3:-Discover-the-Brown-Dwarfs!)"
   ]
  },
  {
   "cell_type": "markdown",
   "metadata": {
    "id": "lrCSzip40i38"
   },
   "source": [
    "# How to Use This Notebook\n",
    "\n",
    "The webpage you are in is actually an app - much like the ones on your cellphone. This app consists of cells.\n",
    "\n",
    "An *input* cell looks like a light grey box with an `In [ ]:` on its left. Input cells each contain code - instructions to make the computer do something.\n",
    "\n",
    "To activate or select a cell, click anywhere inside of it.\n",
    "\n",
    "<div class='alert alert-info'>\n",
    "    <font size='3'><b>Select the cell below and read its contents.</b></font>\n",
    "</div>"
   ]
  },
  {
   "cell_type": "code",
   "execution_count": null,
   "metadata": {
    "id": "gK8fGaY71FJH"
   },
   "outputs": [],
   "source": [
    "# Text that follows a \"#\" is known as a comment.\n",
    "# Comments do not affect your code in any way.\n",
    "# You should always read the comments at the top of each cell you interact with.\n",
    "# Comments will be used to describe what the cell's code is actually doing."
   ]
  },
  {
   "cell_type": "markdown",
   "metadata": {
    "id": "6lRcrxpO1Iiu"
   },
   "source": [
    "To execute or run a selected cell, hit `[Shift + Enter]` on your keyboard.\n",
    "\n",
    "<div class='alert alert-info'>\n",
    "    <font size='3'><b>Select the cell below and read its contents. Then, run the cell.</b></font>\n",
    "        <br> If a warning appears, just click <em>\"Run Anyway\"</em>, this code is safe ;) \n",
    "    <br> Also, if you want to save your progress, click the <em>\"Copy to Drive\"</em> button at the top.\n",
    "</div>"
   ]
  },
  {
   "cell_type": "code",
   "execution_count": null,
   "metadata": {
    "colab": {
     "base_uri": "https://localhost:8080/"
    },
    "id": "L_OeY6Hc1NP0",
    "outputId": "c39ee427-d4fc-47b7-a100-0223826dbd0f"
   },
   "outputs": [],
   "source": [
    "# Text that DOESN'T follow a \"#\" is considered code.\n",
    "# Lines of code are instructions given to your computer.\n",
    "# The line of code below is a \"print\" statement.\n",
    "# A print statement literally prints out the text between its quotes.\n",
    "\n",
    "print(\"Congrats! You have successfully run your first cell!\")"
   ]
  },
  {
   "cell_type": "markdown",
   "metadata": {
    "id": "4N9eq1Zl1TBl"
   },
   "source": [
    "Running a cell creates an *output* directly below it. An output can be some text, a graph, an interactive slider, or even nothing at all! For that last case, you know you have run a cell when the `In [ ]:` becomes `In [#]:`, where \"#\" is any number.\n",
    "\n",
    "You can learn more about how Jupyter notebooks work at https://try.jupyter.org/\n",
    "___"
   ]
  },
  {
   "cell_type": "markdown",
   "metadata": {
    "id": "uFvS-XIm1X17"
   },
   "source": [
    "# Pre-Activity Setup\n",
    "\n",
    "In order for any of the activities to work properly, you must import the libraries needed for the code in this notebook.\n",
    "\n",
    "<div class='alert alert-info'>\n",
    "    <font size='3'><b>Select and run the cell below.</b></font>\n",
    "</div>"
   ]
  },
  {
   "cell_type": "code",
   "execution_count": null,
   "metadata": {
    "colab": {
     "base_uri": "https://localhost:8080/"
    },
    "id": "arabcv0-1cK2",
    "outputId": "28bd9566-af8c-41dd-c5b9-999a9d2aba71"
   },
   "outputs": [],
   "source": [
    "# Here, you are importing the libraries needed for this notebook.\n",
    "# These libraries set up the plotting environment in your browser.\n",
    "\n",
    "%matplotlib inline\n",
    "import matplotlib.pyplot as plt\n",
    "from matplotlib.patches import Circle\n",
    "from matplotlib.collections import PatchCollection\n",
    "plt.style.use('ggplot')\n",
    "from collections import OrderedDict\n",
    "import numpy as np\n",
    "import astropy.units as u\n",
    "from astropy.units import imperial\n",
    "from IPython.display import display\n",
    "from ipywidgets import interactive, interact, FloatSlider\n",
    "\n",
    "print(\"\\nDone! You have successfully imported the libraries.\")"
   ]
  },
  {
   "cell_type": "markdown",
   "metadata": {
    "id": "DspiDj4kpyoC"
   },
   "source": [
    "# Objective: Discovering Brown Dwarfs\n",
    "\n",
    "In this notebook we'll explore a bit of the physics, astronomy and math behind how we can discover new nearby neighbors of the Sun referred to as [brown dwarfs](https://en.wikipedia.org/wiki/Brown_dwarf). Then we'll look through some telescope data to identify real brown dwarfs hidden among other stars, galaxies and detector noise.\n",
    "\n",
    "Brown dwarfs are celestial objects with masses in between those of stars and those of giant planets like Jupiter. Below is an artist rendering of a brown dwarf. You can think of them like oversized versions of Jupiter, but floating around all alone in interstellar space.\n",
    "\n",
    "<img src=\"https://upload.wikimedia.org/wikipedia/commons/thumb/e/e0/Artist%E2%80%99s_conception_of_a_brown_dwarf_like_2MASSJ22282889-431026.jpg/1920px-Artist%E2%80%99s_conception_of_a_brown_dwarf_like_2MASSJ22282889-431026.jpg\" width=\"800\">\n",
    "\n",
    "You might wonder: why should we care about brown dwarfs? There are many different ways to answer this. The atmospheres of brown dwarfs are very similar to those of giant exoplanets, but can be characterized in detail without the glare of a much brighter host star interfering. These brown dwarf atmospheres show strong signatures of water and methane. Some brown dwarfs may in fact be rogue planets ejected from the star system in which they were originally born.\n",
    "\n",
    "Because brown dwarfs are so dim, it still remains possible that there could be an as-yet overlooked brown dwarf closer to us than [Proxima Centauri](https://en.wikipedia.org/wiki/Proxima_Centauri), awaiting discovery in existing telescope data. This would be a historic discovery and makes the search for new brown dwarfs very exciting!\n",
    "\n",
    "In the [Backyard Worlds](https://en.wikipedia.org/wiki/Backyard_Worlds) project, we search for brown dwarfs in [infrared](https://en.wikipedia.org/wiki/Infrared) images taken by NASA's [Wide-field Infrared Survey Explorer](https://en.wikipedia.org/wiki/Wide-field_Infrared_Survey_Explorer) (WISE) telescope.\n",
    "\n",
    "# Activity 1: Motions of stars (and brown dwarfs)\n",
    "\n",
    "Brown dwarfs are cold and dim, so they can only be detected when nearby to us. All inhabitants of our Milky Way Galaxy, such as stars and brown dwarfs, are moving relative to the Sun. But we perceive the objects close to us as having a high apparent motion across the sky. This can be seen in the Barnard's Star example image blink from today's lecture.\n",
    "\n",
    "<center><img src=\"https://upload.wikimedia.org/wikipedia/commons/6/6c/Barnard2005.gif\" width=\"400\"></center>\n",
    "\n",
    "Note that the above animation is on a loop; Barnard's star doesn't actually \"jump backward\" at any point, it just keeps moving along essentially a straight line trajectory.\n",
    "\n",
    "Mathematically, for a star of fixed speed $v$ (in the plane perpendicular to the line of sight from us to the star), we have:\n",
    "\n",
    "$\\mu \\propto v/d$\n",
    "\n",
    "Here $v$ would be in units of distance over time (like m/s or km/s), $d$ is the distance between us and the star (in units like light years) and $\\mu$ is the rate of apparent motion across the sky, which astronomers refer to as **proper motion**. Proper motion has units of angular displacement per unit time. It turns out that the convenient unit of proper motion for nearby stars is [arcseconds](https://en.wikipedia.org/wiki/Minute_and_second_of_arc) per year, where one arcsecond is 1/3600 of a degree. Barnard's Star has the highest proper motion of any currently known star or brown dwarf, at roughly 10.4 arcseconds/year. It is possible that through searches like Backyard Worlds, we could discover a brown dwarf that breaks this proper motion record!\n",
    "\n",
    "Let's take a look at how the fast apparent motion of Barnard's Star plays out in a modern astronomical catalog (from the [Gaia](https://en.wikipedia.org/wiki/Gaia_(spacecraft)) mission). The code below shows the locations of stars in a 40 [arcminute](https://en.wikipedia.org/wiki/Minute_and_second_of_arc) diameter patch of the sky, similar in size to the full Moon.\n",
    "\n"
   ]
  },
  {
   "cell_type": "code",
   "execution_count": null,
   "metadata": {
    "id": "0tiRoQxcCrJZ"
   },
   "outputs": [],
   "source": [
    "# set up Python environment...\n",
    "\n",
    "from ipywidgets import *\n",
    "import numpy as np\n",
    "import matplotlib.pyplot as plt\n",
    "import pandas as pd"
   ]
  },
  {
   "cell_type": "code",
   "execution_count": null,
   "metadata": {
    "id": "8FBDJzJUoKwQ"
   },
   "outputs": [],
   "source": [
    "url = 'https://raw.githubusercontent.com/ameisner/cafe/master/etc/gaia_barnards_star.csv'\n",
    "df = pd.read_csv(url)"
   ]
  },
  {
   "cell_type": "code",
   "execution_count": null,
   "metadata": {
    "colab": {
     "base_uri": "https://localhost:8080/",
     "height": 567,
     "referenced_widgets": [
      "d0f4772b55244c5c9782b3416899f77e",
      "70aac860ab5543308b56382fdc9035cc",
      "c0b557c26596490b8e81c531d06831b5",
      "f61cd67ff266446784d495ade01c58de",
      "96235c2f31074b04b3aa761a09d28643",
      "d047189e43bc42afb673b5b0f5054318",
      "cc8f2cf1c7c245769147653e6a05ee50"
     ]
    },
    "id": "5d3DpdM7oV2B",
    "outputId": "66b92cd8-116b-47ae-f4d4-76fb497cd232"
   },
   "outputs": [],
   "source": [
    "def plot_stars(dt_yr=0):\n",
    "  global df\n",
    "\n",
    "  xmin = np.min(df['RA'])\n",
    "  xmax = np.max(df['RA'])\n",
    "\n",
    "  ymin = np.min(df['DEC'])\n",
    "  ymax = np.max(df['DEC'])\n",
    "\n",
    "  ra = df['RA'] + dt_yr*np.cos(df['DEC']/(180/np.pi))*df['PMRA']/(3600.0*1000.0)\n",
    "  dec = df['DEC'] + dt_yr*df['PMDEC']/(3600.0*1000.0)\n",
    "\n",
    "  plt.figure(figsize=(8, 8))\n",
    "  plt.scatter(ra, dec, edgecolor='none', s=10, c='k', marker='+')\n",
    "\n",
    "  plt.scatter(ra[400], dec[400], marker='o', facecolor='none',\n",
    "              s=100, edgecolor='r')\n",
    "\n",
    "  plt.xlim((xmax, xmin)) # east to the left...\n",
    "  plt.ylim((ymax, ymin)) # to match the Barnard's Star GIF shown earlier...\n",
    "\n",
    "  plt.xlabel('right ascension (degrees)')\n",
    "  plt.ylabel('declination (degrees)')\n",
    "\n",
    "print('NOTE: CLICKING THE SLIDER THEN HOLDING THE RIGHT ARROW WILL GIVE YOU A CONTINUOUS \"MOVIE\" OF THE MOTIONS')\n",
    "interact(plot_stars, dt_yr=(0, 100, 1))"
   ]
  },
  {
   "cell_type": "markdown",
   "metadata": {
    "id": "1YJGmmuTo166"
   },
   "source": [
    "The star with a red circle around it is a randomly selected star that happens to be at a distance of $\\sim$3,900 light years from the Sun. Most stars in this sky patch are similarly distant from the Sun -- on order a few thousand light years. For comparison, Barnard's Star is just under 6 light years away from the Sun! Notice that during one century, a star many thousands of light years away appears to stay at essentially a fixed position.\n",
    "\n",
    "**Can you find Barnard's Star by eye?** Hint: Barnard's Star has the largest proper motion of any star on the entire sky, so it will look like it's moving a lot faster than any other star in this small sky region."
   ]
  },
  {
   "cell_type": "markdown",
   "metadata": {
    "id": "NrDCp41Kusv-"
   },
   "source": [
    "What if we look at the motions on longer timescales, say 0 to 10,000 years in increments of 100 years? Here's what we see:"
   ]
  },
  {
   "cell_type": "code",
   "execution_count": null,
   "metadata": {
    "colab": {
     "base_uri": "https://localhost:8080/",
     "height": 549,
     "referenced_widgets": [
      "faafad8780d84625832bab35a8085a5d",
      "753078de63c84b6eb9f7bf3b7ce03dc3",
      "d0e3ec748efe48fe86b3c97ed8d3eac2",
      "9773edb7cb8d465a9f2521fdb8e2b621",
      "af5f7e459d144b7dbf097bd778ddb880",
      "3e82af899e7148ffbf71402dd6fafeb7",
      "a1493faa5643437a8be4384dbe81c983"
     ]
    },
    "id": "Iw0PXdMxpMVn",
    "outputId": "ef08feef-b8df-43d1-9baa-056944510031"
   },
   "outputs": [],
   "source": [
    "interact(plot_stars, dt_yr=(0, 10000, 100))"
   ]
  },
  {
   "cell_type": "markdown",
   "metadata": {
    "id": "8kD0IHFTux_z"
   },
   "source": [
    "So over ~10,000 years, all the stars, even the distant ones, appear to move noticeably.\n",
    "\n",
    "**Question**: why don't we see the motion of Barnard's Star using the above slider with 100 year time increments?\n",
    "\n",
    "What about even longer time scales, 1 million years in increments of 1,000 years? That's shown here:"
   ]
  },
  {
   "cell_type": "code",
   "execution_count": null,
   "metadata": {
    "colab": {
     "base_uri": "https://localhost:8080/",
     "height": 549,
     "referenced_widgets": [
      "f68909faf9fa41949d32198db91fc409",
      "836274bff16841189f7d0ef0edbde544",
      "6909f21fa7334c479d10f7e22e458ad1",
      "6e64caaf2f574935a9f98d260d9474d4",
      "bfa0da2e275a48dba76a73b5e79c4acf",
      "1afdb8e34adc442baa9bd0a5772d441c",
      "dba4d51bf3b74138bceeeb647a9d79f9"
     ]
    },
    "id": "Krt1taihpjL8",
    "outputId": "989f4140-e940-4e0b-ae32-a13f5927c5c0"
   },
   "outputs": [],
   "source": [
    "interact(plot_stars, dt_yr=(0, 1000000, 1000))"
   ]
  },
  {
   "cell_type": "markdown",
   "metadata": {
    "id": "uYLgGXm5D8lu"
   },
   "source": [
    "**Bonus Discussion Question**: after a long time (millions of years), all the stars in this visualization \"go away\". If we were to actually look at a patch of sky for millions of years, would all the stars \"go away\"?"
   ]
  },
  {
   "cell_type": "markdown",
   "metadata": {
    "id": "PeCuazwl0G0H"
   },
   "source": [
    "# Activity 2: Colors of stars and brown dwarfs\n",
    "\n",
    "If you've looked at the night sky, you've probably noticed that stars come in different colors. The color of a star is indicative of its temperature. A blue/white looking star is relatively hot, while a red star (say, a red dwarf like Barnard's Star) will look more yellow/orange in color.\n",
    "\n",
    "We can think of this in a simplified way, approximating the [spectrum](https://en.wikipedia.org/wiki/Spectrum) -- light emission as a function of [wavelength](https://en.wikipedia.org/wiki/Wavelength) -- of each star as a [blackbody curve](https://en.wikipedia.org/wiki/Planck%27s_law).\n",
    "\n",
    "The following code makes plots illustrating how the color of a star shifts from blue to red as you go from the hottest stars ($\\sim$50,000 Kelvin) to cold brown dwarfs (temperature = 700 Kelvin). [Kelvin](https://en.wikipedia.org/wiki/Kelvin) is a temperature scale used by physicists and astronomers. The transition from star to brown dwarf happens at roughly 2,200 Kelvin. For comparison, the Sun has a temperature of ~5,800 Kelvin.\n",
    "\n",
    "The [peak wavelength](https://skyserver.sdss.org/dr1/en/proj/advanced/color/peakwavelength.asp) of the light emission shifts from short (blue) wavelengths to long (red) wavelengths as the temperature decreases.\n"
   ]
  },
  {
   "cell_type": "code",
   "execution_count": null,
   "metadata": {
    "colab": {
     "base_uri": "https://localhost:8080/",
     "height": 339,
     "referenced_widgets": [
      "eb1e34b38b8f4aa181e9c82dcaa17a08",
      "8d5b92e9a9e048bfbbef4cb38f22d9a5",
      "a604d319d8314123991ada1c5e7db818",
      "0d26fba2955b45f3b12de22f5d707532",
      "eee3ce6e859441ffbb0ee5e2cf79f3f1",
      "06fce92307e64a65b103b5b489199d78",
      "f205484ca3a64f32b8caae668a6bfd11"
     ]
    },
    "id": "fSU6yvMfC0Nl",
    "outputId": "b4349f71-7545-4d40-ba40-88c6cf436482"
   },
   "outputs": [],
   "source": [
    "url = 'https://raw.githubusercontent.com/ameisner/cafe/master/etc/blackbody_wise_flux_ratios.csv'\n",
    "df = pd.read_csv(url)\n",
    "\n",
    "def plot_planck(T):\n",
    "  # make sure to normalize\n",
    "\n",
    "  plt.figure(figsize=(18, 4))\n",
    "  plt.subplot(1, 2, 1)\n",
    "  lambda_values_nm = np.arange(100, 8000)\n",
    "  lambda_values_m = (1e-9)*lambda_values_nm\n",
    "\n",
    "  c = 3e8\n",
    "  nu_values = c/lambda_values_m\n",
    "\n",
    "  k_b = 1.380649e-23\n",
    "  h = 6.62607015e-34\n",
    "\n",
    "  B_nu_T = np.power(nu_values, 3)/(np.exp(h*nu_values/(k_b*T)) - 1)\n",
    "\n",
    "  B_nu_T /= np.max(B_nu_T) # normalize so that the peak has value 1\n",
    "\n",
    "  lambda_values_um = lambda_values_nm/1000\n",
    "  plt.plot(lambda_values_um, B_nu_T, c='k')\n",
    "\n",
    "  wav_lim_um_blue = (3, 3.9)\n",
    "  wav_lim_um_red = (4.1, 5)\n",
    "\n",
    "  plt.plot([wav_lim_um_blue[0]]*2, [0, 1], c='b')\n",
    "  plt.plot([3.9,3.9], [0, 1], c='b')\n",
    "  plt.plot([4.1,4.1], [0, 1], c='r')\n",
    "  plt.plot([5, 5], [0, 1], c='r')\n",
    "\n",
    "  plt.text(3.07, 0.55, 'WISE low\\nwavelength\\nchannel', c='b', fontsize=12,\n",
    "           rotation=90)\n",
    "  \n",
    "  plt.text(4.17, 0.55, 'WISE long\\nwavelength\\nchannel', c='r', fontsize=12,\n",
    "           rotation=90)\n",
    "\n",
    "  plt.ylim((0, 1.025))\n",
    "  plt.xlim((0, 8))\n",
    "\n",
    "  title = 'temperature = ' + str(int(T)) + ' Kelvin ('\n",
    "  title += 'STAR' if T > 2200 else 'BROWN DWARF'\n",
    "  title += ')'\n",
    "\n",
    "  plt.title(title)\n",
    "  plt.xlabel('wavelength (microns)')\n",
    "  plt.ylabel('normalized flux per unit frequency')\n",
    "\n",
    "  plt.subplot(1, 2, 2)\n",
    "\n",
    "  flux_ratio_num = np.sum(B_nu_T[(lambda_values_um > wav_lim_um_red[0]) & (lambda_values_um < wav_lim_um_red[1])]) \n",
    "  flux_ratio_den = np.sum(B_nu_T[(lambda_values_um > wav_lim_um_blue[0]) & (lambda_values_um < wav_lim_um_blue[1])]) \n",
    "\n",
    "  flux_ratio = flux_ratio_num/flux_ratio_den\n",
    "\n",
    "  global df\n",
    "  plt.plot(df['t_vals'], df['flux_ratio_vals'], c='k')\n",
    "\n",
    "  plt.xlim((700, 30000))\n",
    "  plt.ylim((0, 2))\n",
    "\n",
    "  plt.scatter([T], [flux_ratio], marker='o', s=100, c='k')\n",
    "\n",
    "  plt.xlabel('temperature', fontsize=16)\n",
    "  plt.ylabel('(red flux) / (blue flux) ratio', fontsize=16)\n",
    "\n",
    "  plt.title(title)\n",
    "\n",
    "  ax = plt.gca()\n",
    "  ax.tick_params(axis='both', which='major', labelsize=14)\n",
    "  ax.tick_params(axis='both', which='minor', labelsize=14)\n",
    "\n",
    "layout = {'width':'initial'}\n",
    "box_layout = {'display':'flex', 'flex_flow':'column', 'align-items':'center', 'border':'1px solid grey', 'width':'initial'}\n",
    "\n",
    "# start at 5800 K because that's roughly the temperature of the Sun\n",
    "T = FloatSlider(value=5800, min=700, max=30000, step=50, continuous_update=True, layout=layout)\n",
    "\n",
    "plot4 = interactive(plot_planck, T=T)\n",
    "plot4.layout = box_layout\n",
    "display(plot4)"
   ]
  },
  {
   "cell_type": "markdown",
   "metadata": {
    "id": "_9VwvHUl1Oyv"
   },
   "source": [
    "The black line of the left hand plot shows how the overall spectrum and its peak location shift toward longer wavelengths as you go from a hotter to a colder star (assuming simplified blackbody emission for now). The right hand plot shows the ratio of amount of light emitted in two infrared wavelength ranges, one centered at $\\sim$3.5 microns and the other centered at $\\sim$4.5 microns. A [micron](https://en.wikipedia.org/wiki/Micrometre) is a unit of length, equal to 1000 [nanometers](https://en.wikipedia.org/wiki/Nanometre). For a sense of scale, the typical width of a strand of spider web silk is a few microns. You may have noticed the word [\"flux\"](https://en.wikipedia.org/wiki/Radiative_flux) in the plot labels. Flux is basically just another word for amount of energy emitted per unit time per unit area.\n",
    "\n",
    "Most stars have a fairly similar ratio of light at 4.5 microns to light at 3.5 microns. But when we reach the coldest brown dwarfs, this ratio becomes dramatically higher. Thus, we can search for cold nearby brown dwarfs not only based on their proper motion, but also based on their \"color\" at infrared wavelengths. In this context, by \"color\" astronomers mean the ratio of amount of light emitted at two different wavelengths. Objects that look very bright at 4.5 microns relative to how bright they are at 3.5 microns will be strong brown dwarf candidates and are said to have a very \"red color\" because they emit more strongly at the longer wavelength of these two wavelengths. The plotted wavelength intervals have been chosen because these are the wavelengths at which the WISE telescope maps the sky, and we'll be looking at images from the WISE telescope later in this activity."
   ]
  },
  {
   "cell_type": "markdown",
   "metadata": {
    "id": "oRb-Hgu_4sai"
   },
   "source": [
    "**Bonus Physics Question**: you'll notice that for most temperatures in the right hand plot, the ratio of flux at 3.5 microns to flux at 4.5 microns is relatively constant. Why is that?\n",
    "\n",
    "Incidentally, the detailed spectra of brown dwarfs look much weirder than a simple blackbody, primarily due to methane and water absorption that carve out deep valleys and sharp peaks in the profile of light as a function of wavelength. An example is shown below:\n",
    "\n",
    "<img src=\"https://astrobites.org/wp-content/uploads/2017/05/fig2.png\" width=\"800\">\n",
    "\n",
    "That's right -- there's water in the atmospheres of brown dwarfs, either in the form of steam / water vapor or, in the case of the coldest brown dwarfs, water ice clouds!\n",
    "\n",
    "The temperature of [this object](https://en.wikipedia.org/wiki/WISEA_1101%2B5400) (the first brown dwarf discovered by Backyard Worlds citizen scientists!) is $\\sim$1,200 Kelvin. For comparison, the Sun's temperature is a much hotter $\\sim$5,800 Kelvin and Jupiter's temperature is significantly cooler, $\\sim$150 Kelvin.\n",
    "\n",
    "Looking at this spectrum, there are a couple of features that tell us it's a brown dwarf:\n",
    "\n",
    "(1) If we imagine a smooth blackbody-like envelope that ignores the deep water/methane absorption troughs, it would peak somewhere in the ~1.3 micron range. For comparison, the Sun (temperature ~5,800 K) peaks at roughly 0.5 microns (roughly 500 nanometers). From [Wien's law](https://en.wikipedia.org/wiki/Wien%27s_displacement_law), we know that the peak of the blackbody spectrum shifts redward as temperature gets colder. An object with spectrum peaking near 1.3 microns would need to be a few times cooler than the Sun, cold enough to be a brown dwarf.\n",
    "\n",
    "(2) The extreme water/methane absorption features are a distinctive hallmark of brown dwarfs -- the spectrum of a [star](https://www.esa.int/ESA_Multimedia/Images/2017/12/Solar_spectrum) or galaxy just doesn't look like that at all. This type of absorption signature gets imprinted when a relatively cool gas (the brown dwarf upper atmosphere) is sitting in front of a relatively hot source (the deeper, hotter layers of the brown dwarf atmosphere). This absorption band creation is a consequence of [Kirchoff's laws](https://www.e-education.psu.edu/astro801/content/l3_p6.html).\n"
   ]
  },
  {
   "cell_type": "markdown",
   "metadata": {
    "id": "Y0Qm2cFk2jgb"
   },
   "source": [
    "# Looking for brown dwarfs based on motion & color\n",
    "\n",
    "Now that we have some background on the distinctive motions and colors of brown dwarfs, let's discuss how Backyard Worlds uses both of these traits to discover new brown dwarfs nearby to the Sun. Backyard Worlds looks at images from NASA's [Wide-field Infrared Survey Explorer](https://en.wikipedia.org/wiki/Wide-field_Infrared_Survey_Explorer) (WISE) telescope. These images have square [pixels](https://en.wikipedia.org/wiki/Pixel) that are 2.75 arcseconds on a side, and the data set spans a $\\sim$10 year time period (from roughly 2010 to 2020). So Barnard's Star would appear to move by\n",
    "\n",
    "10.4 arcseconds/year $\\times$ 10 years / (2.75 arcseconds/pixel) $\\sim$ 38 WISE pixels\n",
    "\n",
    "Over the course of the available data.\n",
    "\n",
    "What is the limit of motions we can detected with the WISE data? Roughly speaking, we can 'see' a movement of about 1 pixel, which would correspond to:\n",
    "\n",
    "2.75 arcseconds / 10 years = 0.275 arcseconds per year.\n",
    "\n",
    "Let's visually examine a few examples of what recent brown dwarf discoveries made by Backyard Worlds citizen scientists look like in the actual WISE data used to discover them. Here's what a brown dwarf moving at roughly 1.5 arcsecond per year looks like.\n",
    "\n",
    "<img src=\"https://raw.githubusercontent.com/ameisner/cafe/master/etc/w1930.gif\" width=\"200\">\n",
    "\n",
    "Note that the above animation is on a loop. This animation and the others like it in the remainder of this notebook have a sidelength of 2 arcminutes.\n",
    "\n",
    "The brown dwarf moves toward the bottom right corner of the image over the ~2010-2020 time period, then jumps back upward/leftward to its starting position when the loop resets. This brown dwarf was first discovered by Backyard Worlds citizen scientists in October 2017. The Backyard Worlds science team has subsequently observed it with the [Spitzer Space Telescope](https://en.wikipedia.org/wiki/Spitzer_Space_Telescope), finding that it is one of the coldest known brown dwarfs, with a temperature of 350 +/- 80 Kelvin. Notice that in addition to the motion of this object, it has a distinctive orange color very different from the black color of much more distant stars and galaxies in the image.\n",
    "\n",
    "Here's a brown dwarf moving significantly slower ($\\sim$0.5 arcseconds/year, roughly 20$\\times$ slower than Barnard's star), but still in a way that's visually perceptible relative to the much more distant background stars and galaxies that appear to stay fixed.\n",
    "\n",
    "<img src=\"https://raw.githubusercontent.com/ameisner/cafe/master/etc/w2243.gif\" width=\"200\">\n",
    "\n",
    "This brown dwarf was first discovered by Backyard Worlds citizen scientists in April 2018. **Question**: Which direction do you see this brown dwarf moving over time?\n",
    "\n",
    "\n",
    "Next up is a trickier case. In the initial part of the animation, the brown dwarf overlaps with a brighter star. Astronomers call this \"blending\" or \"source confusion\". This blending often fools computer-based searches for brown dwarfs, because it messes up the automated color and motion measurements. But luckily citizen scientists searching visually can understand what's going on!\n",
    "\n",
    "<img src=\"https://raw.githubusercontent.com/ameisner/cafe/master/etc/w1553.gif\" width=\"200\">\n",
    "\n",
    "\n",
    "Let's keep going on the theme of tricky cases. In addition to blending/confusion, detector noise and defects can also masquerade as red and/or moving sources, and therefore show up as \"bogus\" brown dwarf candidates. Here's one example, a so-called \"ghost\" in the WISE data:\n",
    "\n",
    "\n",
    "<img src=\"https://raw.githubusercontent.com/ameisner/cafe/master/etc/ghost.gif\" width=\"200\">\n",
    "\n",
    "It looks very red, but it has an odd donut-shaped appearance which is different from the shape of stars in the imagery, hence we know it can't be a real brown dwarf. If you follow [this link](https://www.legacysurvey.org/viewer/?ra=12.4397&dec=-13.5258&layer=unwise-neo6&zoom=13), you can see that this ghost is sourced by a bright star that's just \"off the screen\" in this animation.\n",
    "\n",
    "Here's another bogus candidate, this time a piece of a bright star's [diffraction spike](https://en.wikipedia.org/wiki/Diffraction_spike):\n",
    "\n",
    "<img src=\"https://raw.githubusercontent.com/ameisner/cafe/master/etc/diffraction_spike.gif\" width=\"200\">\n",
    "\n",
    "The source at the center is staying still, but it's hard to tell for sure because the line-like diffraction spike is obscuring it, and also making the source misleadingly look somewhat red.\n",
    "\n",
    "Lastly, \"crowded fields\" -- areas of the sky such as the plane of our Milky Way Galaxy with lots of stars -- can be more difficult to comprehend, both for computer programs and for humans. Here's a crowded field example:\n",
    "\n",
    "<img src=\"https://raw.githubusercontent.com/ameisner/cafe/master/etc/w1936.gif\" width=\"200\">\n",
    "\n",
    "**Questions**: which direction is this brown dwarf moving, and how many unrelated stars overlap with it during this WISE movie?\n",
    "\n",
    "# Activity 3: Discover the brown dwarfs!\n",
    "\n",
    "Here's a Google Sheet with a couple dozen brown dwarf candidates. The candidate in each case is at the center of the field of view (but keep your eyes out for celestial objects that might be moving in other parts of each movie!). Each team should collaborate on its own copy of the spreadsheet, filling out the \"NOTES\" column with the team members' thoughts about whether each candidate is a brown dwarf or not. Then we will reconvene the whole group to discuss. By the way, several of the brown dwarfs in this example data set were first discovered by Backyard Worlds volunteers within the last few years!\n",
    "\n",
    "## Like staring at movies of brown dwarf candidates?\n",
    "\n",
    "Anyone can participate in the Backyard Worlds project, which is accessible online for free and with no registration required at:\n",
    "\n",
    "https://backyardworlds.org/"
   ]
  }
 ],
 "metadata": {
  "colab": {
   "collapsed_sections": [],
   "name": "BackyardWorldsCafe2",
   "provenance": []
  },
  "kernelspec": {
   "display_name": "Python 3",
   "language": "python",
   "name": "python3"
  },
  "language_info": {
   "codemirror_mode": {
    "name": "ipython",
    "version": 3
   },
   "file_extension": ".py",
   "mimetype": "text/x-python",
   "name": "python",
   "nbconvert_exporter": "python",
   "pygments_lexer": "ipython3",
   "version": "3.9.5"
  },
  "widgets": {
   "application/vnd.jupyter.widget-state+json": {
    "06fce92307e64a65b103b5b489199d78": {
     "model_module": "@jupyter-widgets/base",
     "model_module_version": "1.2.0",
     "model_name": "LayoutModel",
     "state": {
      "_model_module": "@jupyter-widgets/base",
      "_model_module_version": "1.2.0",
      "_model_name": "LayoutModel",
      "_view_count": null,
      "_view_module": "@jupyter-widgets/base",
      "_view_module_version": "1.2.0",
      "_view_name": "LayoutView",
      "align_content": null,
      "align_items": null,
      "align_self": null,
      "border": null,
      "bottom": null,
      "display": null,
      "flex": null,
      "flex_flow": null,
      "grid_area": null,
      "grid_auto_columns": null,
      "grid_auto_flow": null,
      "grid_auto_rows": null,
      "grid_column": null,
      "grid_gap": null,
      "grid_row": null,
      "grid_template_areas": null,
      "grid_template_columns": null,
      "grid_template_rows": null,
      "height": null,
      "justify_content": null,
      "justify_items": null,
      "left": null,
      "margin": null,
      "max_height": null,
      "max_width": null,
      "min_height": null,
      "min_width": null,
      "object_fit": null,
      "object_position": null,
      "order": null,
      "overflow": null,
      "overflow_x": null,
      "overflow_y": null,
      "padding": null,
      "right": null,
      "top": null,
      "visibility": null,
      "width": "initial"
     }
    },
    "0d26fba2955b45f3b12de22f5d707532": {
     "model_module": "@jupyter-widgets/output",
     "model_module_version": "1.0.0",
     "model_name": "OutputModel",
     "state": {
      "_dom_classes": [],
      "_model_module": "@jupyter-widgets/output",
      "_model_module_version": "1.0.0",
      "_model_name": "OutputModel",
      "_view_count": null,
      "_view_module": "@jupyter-widgets/output",
      "_view_module_version": "1.0.0",
      "_view_name": "OutputView",
      "layout": "IPY_MODEL_f205484ca3a64f32b8caae668a6bfd11",
      "msg_id": "",
      "outputs": [
       {
        "data": {
         "image/png": "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\n",
         "text/plain": "<Figure size 1296x288 with 2 Axes>"
        },
        "metadata": {},
        "output_type": "display_data"
       }
      ]
     }
    },
    "1afdb8e34adc442baa9bd0a5772d441c": {
     "model_module": "@jupyter-widgets/base",
     "model_module_version": "1.2.0",
     "model_name": "LayoutModel",
     "state": {
      "_model_module": "@jupyter-widgets/base",
      "_model_module_version": "1.2.0",
      "_model_name": "LayoutModel",
      "_view_count": null,
      "_view_module": "@jupyter-widgets/base",
      "_view_module_version": "1.2.0",
      "_view_name": "LayoutView",
      "align_content": null,
      "align_items": null,
      "align_self": null,
      "border": null,
      "bottom": null,
      "display": null,
      "flex": null,
      "flex_flow": null,
      "grid_area": null,
      "grid_auto_columns": null,
      "grid_auto_flow": null,
      "grid_auto_rows": null,
      "grid_column": null,
      "grid_gap": null,
      "grid_row": null,
      "grid_template_areas": null,
      "grid_template_columns": null,
      "grid_template_rows": null,
      "height": null,
      "justify_content": null,
      "justify_items": null,
      "left": null,
      "margin": null,
      "max_height": null,
      "max_width": null,
      "min_height": null,
      "min_width": null,
      "object_fit": null,
      "object_position": null,
      "order": null,
      "overflow": null,
      "overflow_x": null,
      "overflow_y": null,
      "padding": null,
      "right": null,
      "top": null,
      "visibility": null,
      "width": null
     }
    },
    "3e82af899e7148ffbf71402dd6fafeb7": {
     "model_module": "@jupyter-widgets/base",
     "model_module_version": "1.2.0",
     "model_name": "LayoutModel",
     "state": {
      "_model_module": "@jupyter-widgets/base",
      "_model_module_version": "1.2.0",
      "_model_name": "LayoutModel",
      "_view_count": null,
      "_view_module": "@jupyter-widgets/base",
      "_view_module_version": "1.2.0",
      "_view_name": "LayoutView",
      "align_content": null,
      "align_items": null,
      "align_self": null,
      "border": null,
      "bottom": null,
      "display": null,
      "flex": null,
      "flex_flow": null,
      "grid_area": null,
      "grid_auto_columns": null,
      "grid_auto_flow": null,
      "grid_auto_rows": null,
      "grid_column": null,
      "grid_gap": null,
      "grid_row": null,
      "grid_template_areas": null,
      "grid_template_columns": null,
      "grid_template_rows": null,
      "height": null,
      "justify_content": null,
      "justify_items": null,
      "left": null,
      "margin": null,
      "max_height": null,
      "max_width": null,
      "min_height": null,
      "min_width": null,
      "object_fit": null,
      "object_position": null,
      "order": null,
      "overflow": null,
      "overflow_x": null,
      "overflow_y": null,
      "padding": null,
      "right": null,
      "top": null,
      "visibility": null,
      "width": null
     }
    },
    "6909f21fa7334c479d10f7e22e458ad1": {
     "model_module": "@jupyter-widgets/controls",
     "model_module_version": "1.5.0",
     "model_name": "IntSliderModel",
     "state": {
      "_dom_classes": [],
      "_model_module": "@jupyter-widgets/controls",
      "_model_module_version": "1.5.0",
      "_model_name": "IntSliderModel",
      "_view_count": null,
      "_view_module": "@jupyter-widgets/controls",
      "_view_module_version": "1.5.0",
      "_view_name": "IntSliderView",
      "continuous_update": true,
      "description": "dt_yr",
      "description_tooltip": null,
      "disabled": false,
      "layout": "IPY_MODEL_1afdb8e34adc442baa9bd0a5772d441c",
      "max": 1000000,
      "min": 0,
      "orientation": "horizontal",
      "readout": true,
      "readout_format": "d",
      "step": 1000,
      "style": "IPY_MODEL_bfa0da2e275a48dba76a73b5e79c4acf",
      "value": 0
     }
    },
    "6e64caaf2f574935a9f98d260d9474d4": {
     "model_module": "@jupyter-widgets/output",
     "model_module_version": "1.0.0",
     "model_name": "OutputModel",
     "state": {
      "_dom_classes": [],
      "_model_module": "@jupyter-widgets/output",
      "_model_module_version": "1.0.0",
      "_model_name": "OutputModel",
      "_view_count": null,
      "_view_module": "@jupyter-widgets/output",
      "_view_module_version": "1.0.0",
      "_view_name": "OutputView",
      "layout": "IPY_MODEL_dba4d51bf3b74138bceeeb647a9d79f9",
      "msg_id": "",
      "outputs": [
       {
        "data": {
         "image/png": "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\n",
         "text/plain": "<Figure size 576x576 with 1 Axes>"
        },
        "metadata": {},
        "output_type": "display_data"
       }
      ]
     }
    },
    "70aac860ab5543308b56382fdc9035cc": {
     "model_module": "@jupyter-widgets/base",
     "model_module_version": "1.2.0",
     "model_name": "LayoutModel",
     "state": {
      "_model_module": "@jupyter-widgets/base",
      "_model_module_version": "1.2.0",
      "_model_name": "LayoutModel",
      "_view_count": null,
      "_view_module": "@jupyter-widgets/base",
      "_view_module_version": "1.2.0",
      "_view_name": "LayoutView",
      "align_content": null,
      "align_items": null,
      "align_self": null,
      "border": null,
      "bottom": null,
      "display": null,
      "flex": null,
      "flex_flow": null,
      "grid_area": null,
      "grid_auto_columns": null,
      "grid_auto_flow": null,
      "grid_auto_rows": null,
      "grid_column": null,
      "grid_gap": null,
      "grid_row": null,
      "grid_template_areas": null,
      "grid_template_columns": null,
      "grid_template_rows": null,
      "height": null,
      "justify_content": null,
      "justify_items": null,
      "left": null,
      "margin": null,
      "max_height": null,
      "max_width": null,
      "min_height": null,
      "min_width": null,
      "object_fit": null,
      "object_position": null,
      "order": null,
      "overflow": null,
      "overflow_x": null,
      "overflow_y": null,
      "padding": null,
      "right": null,
      "top": null,
      "visibility": null,
      "width": null
     }
    },
    "753078de63c84b6eb9f7bf3b7ce03dc3": {
     "model_module": "@jupyter-widgets/base",
     "model_module_version": "1.2.0",
     "model_name": "LayoutModel",
     "state": {
      "_model_module": "@jupyter-widgets/base",
      "_model_module_version": "1.2.0",
      "_model_name": "LayoutModel",
      "_view_count": null,
      "_view_module": "@jupyter-widgets/base",
      "_view_module_version": "1.2.0",
      "_view_name": "LayoutView",
      "align_content": null,
      "align_items": null,
      "align_self": null,
      "border": null,
      "bottom": null,
      "display": null,
      "flex": null,
      "flex_flow": null,
      "grid_area": null,
      "grid_auto_columns": null,
      "grid_auto_flow": null,
      "grid_auto_rows": null,
      "grid_column": null,
      "grid_gap": null,
      "grid_row": null,
      "grid_template_areas": null,
      "grid_template_columns": null,
      "grid_template_rows": null,
      "height": null,
      "justify_content": null,
      "justify_items": null,
      "left": null,
      "margin": null,
      "max_height": null,
      "max_width": null,
      "min_height": null,
      "min_width": null,
      "object_fit": null,
      "object_position": null,
      "order": null,
      "overflow": null,
      "overflow_x": null,
      "overflow_y": null,
      "padding": null,
      "right": null,
      "top": null,
      "visibility": null,
      "width": null
     }
    },
    "836274bff16841189f7d0ef0edbde544": {
     "model_module": "@jupyter-widgets/base",
     "model_module_version": "1.2.0",
     "model_name": "LayoutModel",
     "state": {
      "_model_module": "@jupyter-widgets/base",
      "_model_module_version": "1.2.0",
      "_model_name": "LayoutModel",
      "_view_count": null,
      "_view_module": "@jupyter-widgets/base",
      "_view_module_version": "1.2.0",
      "_view_name": "LayoutView",
      "align_content": null,
      "align_items": null,
      "align_self": null,
      "border": null,
      "bottom": null,
      "display": null,
      "flex": null,
      "flex_flow": null,
      "grid_area": null,
      "grid_auto_columns": null,
      "grid_auto_flow": null,
      "grid_auto_rows": null,
      "grid_column": null,
      "grid_gap": null,
      "grid_row": null,
      "grid_template_areas": null,
      "grid_template_columns": null,
      "grid_template_rows": null,
      "height": null,
      "justify_content": null,
      "justify_items": null,
      "left": null,
      "margin": null,
      "max_height": null,
      "max_width": null,
      "min_height": null,
      "min_width": null,
      "object_fit": null,
      "object_position": null,
      "order": null,
      "overflow": null,
      "overflow_x": null,
      "overflow_y": null,
      "padding": null,
      "right": null,
      "top": null,
      "visibility": null,
      "width": null
     }
    },
    "8d5b92e9a9e048bfbbef4cb38f22d9a5": {
     "model_module": "@jupyter-widgets/base",
     "model_module_version": "1.2.0",
     "model_name": "LayoutModel",
     "state": {
      "_model_module": "@jupyter-widgets/base",
      "_model_module_version": "1.2.0",
      "_model_name": "LayoutModel",
      "_view_count": null,
      "_view_module": "@jupyter-widgets/base",
      "_view_module_version": "1.2.0",
      "_view_name": "LayoutView",
      "align_content": null,
      "align_items": null,
      "align_self": null,
      "border": "1px solid grey",
      "bottom": null,
      "display": "flex",
      "flex": null,
      "flex_flow": "column",
      "grid_area": null,
      "grid_auto_columns": null,
      "grid_auto_flow": null,
      "grid_auto_rows": null,
      "grid_column": null,
      "grid_gap": null,
      "grid_row": null,
      "grid_template_areas": null,
      "grid_template_columns": null,
      "grid_template_rows": null,
      "height": null,
      "justify_content": null,
      "justify_items": null,
      "left": null,
      "margin": null,
      "max_height": null,
      "max_width": null,
      "min_height": null,
      "min_width": null,
      "object_fit": null,
      "object_position": null,
      "order": null,
      "overflow": null,
      "overflow_x": null,
      "overflow_y": null,
      "padding": null,
      "right": null,
      "top": null,
      "visibility": null,
      "width": "initial"
     }
    },
    "96235c2f31074b04b3aa761a09d28643": {
     "model_module": "@jupyter-widgets/controls",
     "model_module_version": "1.5.0",
     "model_name": "SliderStyleModel",
     "state": {
      "_model_module": "@jupyter-widgets/controls",
      "_model_module_version": "1.5.0",
      "_model_name": "SliderStyleModel",
      "_view_count": null,
      "_view_module": "@jupyter-widgets/base",
      "_view_module_version": "1.2.0",
      "_view_name": "StyleView",
      "description_width": "",
      "handle_color": null
     }
    },
    "9773edb7cb8d465a9f2521fdb8e2b621": {
     "model_module": "@jupyter-widgets/output",
     "model_module_version": "1.0.0",
     "model_name": "OutputModel",
     "state": {
      "_dom_classes": [],
      "_model_module": "@jupyter-widgets/output",
      "_model_module_version": "1.0.0",
      "_model_name": "OutputModel",
      "_view_count": null,
      "_view_module": "@jupyter-widgets/output",
      "_view_module_version": "1.0.0",
      "_view_name": "OutputView",
      "layout": "IPY_MODEL_a1493faa5643437a8be4384dbe81c983",
      "msg_id": "",
      "outputs": [
       {
        "data": {
         "image/png": "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\n",
         "text/plain": "<Figure size 576x576 with 1 Axes>"
        },
        "metadata": {},
        "output_type": "display_data"
       }
      ]
     }
    },
    "a1493faa5643437a8be4384dbe81c983": {
     "model_module": "@jupyter-widgets/base",
     "model_module_version": "1.2.0",
     "model_name": "LayoutModel",
     "state": {
      "_model_module": "@jupyter-widgets/base",
      "_model_module_version": "1.2.0",
      "_model_name": "LayoutModel",
      "_view_count": null,
      "_view_module": "@jupyter-widgets/base",
      "_view_module_version": "1.2.0",
      "_view_name": "LayoutView",
      "align_content": null,
      "align_items": null,
      "align_self": null,
      "border": null,
      "bottom": null,
      "display": null,
      "flex": null,
      "flex_flow": null,
      "grid_area": null,
      "grid_auto_columns": null,
      "grid_auto_flow": null,
      "grid_auto_rows": null,
      "grid_column": null,
      "grid_gap": null,
      "grid_row": null,
      "grid_template_areas": null,
      "grid_template_columns": null,
      "grid_template_rows": null,
      "height": null,
      "justify_content": null,
      "justify_items": null,
      "left": null,
      "margin": null,
      "max_height": null,
      "max_width": null,
      "min_height": null,
      "min_width": null,
      "object_fit": null,
      "object_position": null,
      "order": null,
      "overflow": null,
      "overflow_x": null,
      "overflow_y": null,
      "padding": null,
      "right": null,
      "top": null,
      "visibility": null,
      "width": null
     }
    },
    "a604d319d8314123991ada1c5e7db818": {
     "model_module": "@jupyter-widgets/controls",
     "model_module_version": "1.5.0",
     "model_name": "FloatSliderModel",
     "state": {
      "_dom_classes": [],
      "_model_module": "@jupyter-widgets/controls",
      "_model_module_version": "1.5.0",
      "_model_name": "FloatSliderModel",
      "_view_count": null,
      "_view_module": "@jupyter-widgets/controls",
      "_view_module_version": "1.5.0",
      "_view_name": "FloatSliderView",
      "continuous_update": true,
      "description": "T",
      "description_tooltip": null,
      "disabled": false,
      "layout": "IPY_MODEL_06fce92307e64a65b103b5b489199d78",
      "max": 30000,
      "min": 700,
      "orientation": "horizontal",
      "readout": true,
      "readout_format": ".2f",
      "step": 50,
      "style": "IPY_MODEL_eee3ce6e859441ffbb0ee5e2cf79f3f1",
      "value": 5800
     }
    },
    "af5f7e459d144b7dbf097bd778ddb880": {
     "model_module": "@jupyter-widgets/controls",
     "model_module_version": "1.5.0",
     "model_name": "SliderStyleModel",
     "state": {
      "_model_module": "@jupyter-widgets/controls",
      "_model_module_version": "1.5.0",
      "_model_name": "SliderStyleModel",
      "_view_count": null,
      "_view_module": "@jupyter-widgets/base",
      "_view_module_version": "1.2.0",
      "_view_name": "StyleView",
      "description_width": "",
      "handle_color": null
     }
    },
    "bfa0da2e275a48dba76a73b5e79c4acf": {
     "model_module": "@jupyter-widgets/controls",
     "model_module_version": "1.5.0",
     "model_name": "SliderStyleModel",
     "state": {
      "_model_module": "@jupyter-widgets/controls",
      "_model_module_version": "1.5.0",
      "_model_name": "SliderStyleModel",
      "_view_count": null,
      "_view_module": "@jupyter-widgets/base",
      "_view_module_version": "1.2.0",
      "_view_name": "StyleView",
      "description_width": "",
      "handle_color": null
     }
    },
    "c0b557c26596490b8e81c531d06831b5": {
     "model_module": "@jupyter-widgets/controls",
     "model_module_version": "1.5.0",
     "model_name": "IntSliderModel",
     "state": {
      "_dom_classes": [],
      "_model_module": "@jupyter-widgets/controls",
      "_model_module_version": "1.5.0",
      "_model_name": "IntSliderModel",
      "_view_count": null,
      "_view_module": "@jupyter-widgets/controls",
      "_view_module_version": "1.5.0",
      "_view_name": "IntSliderView",
      "continuous_update": true,
      "description": "dt_yr",
      "description_tooltip": null,
      "disabled": false,
      "layout": "IPY_MODEL_d047189e43bc42afb673b5b0f5054318",
      "max": 100,
      "min": 0,
      "orientation": "horizontal",
      "readout": true,
      "readout_format": "d",
      "step": 1,
      "style": "IPY_MODEL_96235c2f31074b04b3aa761a09d28643",
      "value": 0
     }
    },
    "cc8f2cf1c7c245769147653e6a05ee50": {
     "model_module": "@jupyter-widgets/base",
     "model_module_version": "1.2.0",
     "model_name": "LayoutModel",
     "state": {
      "_model_module": "@jupyter-widgets/base",
      "_model_module_version": "1.2.0",
      "_model_name": "LayoutModel",
      "_view_count": null,
      "_view_module": "@jupyter-widgets/base",
      "_view_module_version": "1.2.0",
      "_view_name": "LayoutView",
      "align_content": null,
      "align_items": null,
      "align_self": null,
      "border": null,
      "bottom": null,
      "display": null,
      "flex": null,
      "flex_flow": null,
      "grid_area": null,
      "grid_auto_columns": null,
      "grid_auto_flow": null,
      "grid_auto_rows": null,
      "grid_column": null,
      "grid_gap": null,
      "grid_row": null,
      "grid_template_areas": null,
      "grid_template_columns": null,
      "grid_template_rows": null,
      "height": null,
      "justify_content": null,
      "justify_items": null,
      "left": null,
      "margin": null,
      "max_height": null,
      "max_width": null,
      "min_height": null,
      "min_width": null,
      "object_fit": null,
      "object_position": null,
      "order": null,
      "overflow": null,
      "overflow_x": null,
      "overflow_y": null,
      "padding": null,
      "right": null,
      "top": null,
      "visibility": null,
      "width": null
     }
    },
    "d047189e43bc42afb673b5b0f5054318": {
     "model_module": "@jupyter-widgets/base",
     "model_module_version": "1.2.0",
     "model_name": "LayoutModel",
     "state": {
      "_model_module": "@jupyter-widgets/base",
      "_model_module_version": "1.2.0",
      "_model_name": "LayoutModel",
      "_view_count": null,
      "_view_module": "@jupyter-widgets/base",
      "_view_module_version": "1.2.0",
      "_view_name": "LayoutView",
      "align_content": null,
      "align_items": null,
      "align_self": null,
      "border": null,
      "bottom": null,
      "display": null,
      "flex": null,
      "flex_flow": null,
      "grid_area": null,
      "grid_auto_columns": null,
      "grid_auto_flow": null,
      "grid_auto_rows": null,
      "grid_column": null,
      "grid_gap": null,
      "grid_row": null,
      "grid_template_areas": null,
      "grid_template_columns": null,
      "grid_template_rows": null,
      "height": null,
      "justify_content": null,
      "justify_items": null,
      "left": null,
      "margin": null,
      "max_height": null,
      "max_width": null,
      "min_height": null,
      "min_width": null,
      "object_fit": null,
      "object_position": null,
      "order": null,
      "overflow": null,
      "overflow_x": null,
      "overflow_y": null,
      "padding": null,
      "right": null,
      "top": null,
      "visibility": null,
      "width": null
     }
    },
    "d0e3ec748efe48fe86b3c97ed8d3eac2": {
     "model_module": "@jupyter-widgets/controls",
     "model_module_version": "1.5.0",
     "model_name": "IntSliderModel",
     "state": {
      "_dom_classes": [],
      "_model_module": "@jupyter-widgets/controls",
      "_model_module_version": "1.5.0",
      "_model_name": "IntSliderModel",
      "_view_count": null,
      "_view_module": "@jupyter-widgets/controls",
      "_view_module_version": "1.5.0",
      "_view_name": "IntSliderView",
      "continuous_update": true,
      "description": "dt_yr",
      "description_tooltip": null,
      "disabled": false,
      "layout": "IPY_MODEL_3e82af899e7148ffbf71402dd6fafeb7",
      "max": 10000,
      "min": 0,
      "orientation": "horizontal",
      "readout": true,
      "readout_format": "d",
      "step": 100,
      "style": "IPY_MODEL_af5f7e459d144b7dbf097bd778ddb880",
      "value": 0
     }
    },
    "d0f4772b55244c5c9782b3416899f77e": {
     "model_module": "@jupyter-widgets/controls",
     "model_module_version": "1.5.0",
     "model_name": "VBoxModel",
     "state": {
      "_dom_classes": [
       "widget-interact"
      ],
      "_model_module": "@jupyter-widgets/controls",
      "_model_module_version": "1.5.0",
      "_model_name": "VBoxModel",
      "_view_count": null,
      "_view_module": "@jupyter-widgets/controls",
      "_view_module_version": "1.5.0",
      "_view_name": "VBoxView",
      "box_style": "",
      "children": [
       "IPY_MODEL_c0b557c26596490b8e81c531d06831b5",
       "IPY_MODEL_f61cd67ff266446784d495ade01c58de"
      ],
      "layout": "IPY_MODEL_70aac860ab5543308b56382fdc9035cc"
     }
    },
    "dba4d51bf3b74138bceeeb647a9d79f9": {
     "model_module": "@jupyter-widgets/base",
     "model_module_version": "1.2.0",
     "model_name": "LayoutModel",
     "state": {
      "_model_module": "@jupyter-widgets/base",
      "_model_module_version": "1.2.0",
      "_model_name": "LayoutModel",
      "_view_count": null,
      "_view_module": "@jupyter-widgets/base",
      "_view_module_version": "1.2.0",
      "_view_name": "LayoutView",
      "align_content": null,
      "align_items": null,
      "align_self": null,
      "border": null,
      "bottom": null,
      "display": null,
      "flex": null,
      "flex_flow": null,
      "grid_area": null,
      "grid_auto_columns": null,
      "grid_auto_flow": null,
      "grid_auto_rows": null,
      "grid_column": null,
      "grid_gap": null,
      "grid_row": null,
      "grid_template_areas": null,
      "grid_template_columns": null,
      "grid_template_rows": null,
      "height": null,
      "justify_content": null,
      "justify_items": null,
      "left": null,
      "margin": null,
      "max_height": null,
      "max_width": null,
      "min_height": null,
      "min_width": null,
      "object_fit": null,
      "object_position": null,
      "order": null,
      "overflow": null,
      "overflow_x": null,
      "overflow_y": null,
      "padding": null,
      "right": null,
      "top": null,
      "visibility": null,
      "width": null
     }
    },
    "eb1e34b38b8f4aa181e9c82dcaa17a08": {
     "model_module": "@jupyter-widgets/controls",
     "model_module_version": "1.5.0",
     "model_name": "VBoxModel",
     "state": {
      "_dom_classes": [
       "widget-interact"
      ],
      "_model_module": "@jupyter-widgets/controls",
      "_model_module_version": "1.5.0",
      "_model_name": "VBoxModel",
      "_view_count": null,
      "_view_module": "@jupyter-widgets/controls",
      "_view_module_version": "1.5.0",
      "_view_name": "VBoxView",
      "box_style": "",
      "children": [
       "IPY_MODEL_a604d319d8314123991ada1c5e7db818",
       "IPY_MODEL_0d26fba2955b45f3b12de22f5d707532"
      ],
      "layout": "IPY_MODEL_8d5b92e9a9e048bfbbef4cb38f22d9a5"
     }
    },
    "eee3ce6e859441ffbb0ee5e2cf79f3f1": {
     "model_module": "@jupyter-widgets/controls",
     "model_module_version": "1.5.0",
     "model_name": "SliderStyleModel",
     "state": {
      "_model_module": "@jupyter-widgets/controls",
      "_model_module_version": "1.5.0",
      "_model_name": "SliderStyleModel",
      "_view_count": null,
      "_view_module": "@jupyter-widgets/base",
      "_view_module_version": "1.2.0",
      "_view_name": "StyleView",
      "description_width": "",
      "handle_color": null
     }
    },
    "f205484ca3a64f32b8caae668a6bfd11": {
     "model_module": "@jupyter-widgets/base",
     "model_module_version": "1.2.0",
     "model_name": "LayoutModel",
     "state": {
      "_model_module": "@jupyter-widgets/base",
      "_model_module_version": "1.2.0",
      "_model_name": "LayoutModel",
      "_view_count": null,
      "_view_module": "@jupyter-widgets/base",
      "_view_module_version": "1.2.0",
      "_view_name": "LayoutView",
      "align_content": null,
      "align_items": null,
      "align_self": null,
      "border": null,
      "bottom": null,
      "display": null,
      "flex": null,
      "flex_flow": null,
      "grid_area": null,
      "grid_auto_columns": null,
      "grid_auto_flow": null,
      "grid_auto_rows": null,
      "grid_column": null,
      "grid_gap": null,
      "grid_row": null,
      "grid_template_areas": null,
      "grid_template_columns": null,
      "grid_template_rows": null,
      "height": null,
      "justify_content": null,
      "justify_items": null,
      "left": null,
      "margin": null,
      "max_height": null,
      "max_width": null,
      "min_height": null,
      "min_width": null,
      "object_fit": null,
      "object_position": null,
      "order": null,
      "overflow": null,
      "overflow_x": null,
      "overflow_y": null,
      "padding": null,
      "right": null,
      "top": null,
      "visibility": null,
      "width": null
     }
    },
    "f61cd67ff266446784d495ade01c58de": {
     "model_module": "@jupyter-widgets/output",
     "model_module_version": "1.0.0",
     "model_name": "OutputModel",
     "state": {
      "_dom_classes": [],
      "_model_module": "@jupyter-widgets/output",
      "_model_module_version": "1.0.0",
      "_model_name": "OutputModel",
      "_view_count": null,
      "_view_module": "@jupyter-widgets/output",
      "_view_module_version": "1.0.0",
      "_view_name": "OutputView",
      "layout": "IPY_MODEL_cc8f2cf1c7c245769147653e6a05ee50",
      "msg_id": "",
      "outputs": [
       {
        "data": {
         "image/png": "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\n",
         "text/plain": "<Figure size 576x576 with 1 Axes>"
        },
        "metadata": {},
        "output_type": "display_data"
       }
      ]
     }
    },
    "f68909faf9fa41949d32198db91fc409": {
     "model_module": "@jupyter-widgets/controls",
     "model_module_version": "1.5.0",
     "model_name": "VBoxModel",
     "state": {
      "_dom_classes": [
       "widget-interact"
      ],
      "_model_module": "@jupyter-widgets/controls",
      "_model_module_version": "1.5.0",
      "_model_name": "VBoxModel",
      "_view_count": null,
      "_view_module": "@jupyter-widgets/controls",
      "_view_module_version": "1.5.0",
      "_view_name": "VBoxView",
      "box_style": "",
      "children": [
       "IPY_MODEL_6909f21fa7334c479d10f7e22e458ad1",
       "IPY_MODEL_6e64caaf2f574935a9f98d260d9474d4"
      ],
      "layout": "IPY_MODEL_836274bff16841189f7d0ef0edbde544"
     }
    },
    "faafad8780d84625832bab35a8085a5d": {
     "model_module": "@jupyter-widgets/controls",
     "model_module_version": "1.5.0",
     "model_name": "VBoxModel",
     "state": {
      "_dom_classes": [
       "widget-interact"
      ],
      "_model_module": "@jupyter-widgets/controls",
      "_model_module_version": "1.5.0",
      "_model_name": "VBoxModel",
      "_view_count": null,
      "_view_module": "@jupyter-widgets/controls",
      "_view_module_version": "1.5.0",
      "_view_name": "VBoxView",
      "box_style": "",
      "children": [
       "IPY_MODEL_d0e3ec748efe48fe86b3c97ed8d3eac2",
       "IPY_MODEL_9773edb7cb8d465a9f2521fdb8e2b621"
      ],
      "layout": "IPY_MODEL_753078de63c84b6eb9f7bf3b7ce03dc3"
     }
    }
   }
  }
 },
 "nbformat": 4,
 "nbformat_minor": 1
}
