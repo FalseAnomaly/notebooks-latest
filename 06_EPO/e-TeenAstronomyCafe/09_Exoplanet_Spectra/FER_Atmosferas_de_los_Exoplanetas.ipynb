{
 "cells": [
  {
   "cell_type": "markdown",
   "metadata": {
    "id": "rYMl2UdX-V7L"
   },
   "source": [
    "# Encontrando los Ingredientes de Otros Mundos\n",
    "\n",
    "Didier Queloz y Michel Mayor encontraron el primer exoplaneta orbitando una estrella similar al Sol, lo que les valió el [premio Nobel de Física 2019](https://www.nobelprize.org/prizes/physics/2019/summary/). Desde entonces, el número de planetas conocidos ha crecido exponencialmente. Ahora, los astrónomos van más allá de solo hecho de descubrir planetas fuera del Sistema Solar, tienen el desafio de aprender sobre sus atmósferas. En este \"simulador\" obtendremos espectros de sistemas de exoplanetas para entender de qué están hechas sus atmósferas.\n",
    "\n",
    "___"
   ]
  },
  {
   "cell_type": "markdown",
   "metadata": {
    "id": "uHMh0LI--V7N"
   },
   "source": [
    "# Table of Contents\n",
    "\n",
    "* [Cómo Usar esta Guía](#Cómo-Usar-esta-Guía)\n",
    "* [Configuración Previa a la Actividad](#Configuración-Previa-a-la-Actividad)\n",
    "* [Actividad 1: Introducción - Curvas de Luz del Planeta](#Actividad-1:-Introducción---Curvas-de-Luz-del-Planeta)\n",
    "* [Actividad 2: Radio del Planeta](#Actividad-2:-Radio-del-Planeta)\n",
    "* [Actividad 3: Un espectro Planetario](#Actividad-3:-Un-espectro-Planetario)\n",
    "* [Actividad 4: Ejemplos de Atmósferas de Planetas](#Actividad-4:-Ejemplos-de-Atmósferas-de-Planetas)\n",
    "* [Actividad 5: Atmósferas de Planetas Misteriosos](#Actividad-5:-Atmósferas-de-Planetas-Misteriosos)\n",
    "* [Actividad 6: Conclusiones](#Actividad-6:-Conclusiones)\n",
    "\n",
    "___"
   ]
  },
  {
   "cell_type": "markdown",
   "metadata": {
    "id": "eS0PBNEd-V7O"
   },
   "source": [
    "# Cómo Usar esta Guía\n",
    "\n",
    "La página web en la que se encuentra es en realidad una aplicación llamada Python Notebook, muy parecida a las de su teléfono. Esta aplicación consta de celdas.\n",
    "\n",
    "Una celda de *entrada/input* parece un cuadro gris claro con `[ ]` a su izquierda. Cada una de las celdas de entrada contiene código: instrucciones para hacer que la computadora haga algo.\n",
    "\n",
    "Para activar o seleccionar una celda, haga clic en cualquier lugar dentro de ella.\n",
    "\n",
    "\\\\\n",
    "<div class='alert alert-info'>\n",
    "    <font size='3'><b>Seleccione la celda de abajo y lea su contenido.</b></font>\n",
    "</div>"
   ]
  },
  {
   "cell_type": "code",
   "execution_count": null,
   "metadata": {
    "id": "wMcQtWcI-V7P"
   },
   "outputs": [],
   "source": [
    "# El texto que sigue a un \"#\" es un comentario.\n",
    "# Los comentarios no afectan su código de ninguna manera.\n",
    "# Lea siempre los comentarios en la parte superior de cada celda con la que interactúe.\n",
    "# Los comentarios se utilizarán para describir lo que realmente está haciendo el código de la celda."
   ]
  },
  {
   "cell_type": "markdown",
   "metadata": {
    "id": "BycV-A7e-V7W"
   },
   "source": [
    "Para ejecutar una celda seleccionada, haga clic en el pequeño botón de reproducción o presione `[Shift + Enter]` en su teclado.\n",
    "\n",
    "\\\\\n",
    "<div class='alert alert-info'>\n",
    "    <font size='3'><b>Seleccione la celda de abajo y lea su contenido. Luego, ejecute la celda.</b></font>\n",
    "        <br> Si aparece una advertencia, simplemente haga clic en <em>\"Ejecutar de todos modos (/Run Anyway, REVISAR CON UN PC EN ESPAÑOL)\"</em>, este código es seguro 😉 \n",
    "        <br> Además, si desea guardar tú progreso, haga clic en el botón <em>\"Copiar a Drive(/Copy to Drive, REVISAR CON UN PC EN ESPAÑOL)\"</em> en la parte superior.\n",
    "      </div>"
   ]
  },
  {
   "cell_type": "code",
   "execution_count": null,
   "metadata": {
    "colab": {
     "base_uri": "https://localhost:8080/"
    },
    "id": "0vowkWIT-V7X",
    "outputId": "108e4269-edf7-455d-ffbd-340dca3f8c97"
   },
   "outputs": [],
   "source": [
    "# El texto que NO esta antecedido por un \"#\" se considera código.\n",
    "# Las líneas de código son instrucciones dadas a su computadora.\n",
    "# La línea de código a continuación es una instrucción de \"impresión\", que literalmente imprime el texto entre comillas.\n",
    "\n",
    "print(\"¡Felicitaciones! ¡Has ejecutado con éxito tu primera celda!\")"
   ]
  },
  {
   "cell_type": "markdown",
   "metadata": {
    "id": "4706Z_0A-V7b"
   },
   "source": [
    "Ejecutar una celda crea una salida directamente debajo de ella. Una salida puede ser un texto, un gráfico, un control deslizante interactivo, ¡o incluso nada en absoluto! Cuando ha corrido una celda, aparece un número entre corchetes, por ejemplo [1] al lado izquierdo de la celda.\n",
    "\n",
    "<div class='alert alert-info'>\n",
    "    <font size='3'><b>Abra todas las secciones de este bloc de notas seleccionando el menú \"Ver\" y \"Expandir secciones\" </b></font>\n",
    "        <br> \n",
    "</div>\n",
    "\n",
    "\n",
    "Puede obtener más información sobre cómo funcionan los Python Notebooks en https://try.jupyter.org/ (Página en Ingles)\n",
    "___"
   ]
  },
  {
   "cell_type": "markdown",
   "metadata": {
    "id": "-p-fmrcY-V7c"
   },
   "source": [
    "# Configuración Previa a la Actividad\n",
    "\n",
    "Para que cualquiera de las actividades funcione correctamente, debe importar las bibliotecas necesarias para el funcionamiento del código de esta guía. Estos ya deberían haberse cargado cuando ejecutó todas las celdas.\n",
    "\n",
    "Vaya a la sección “Runtime” () del menú y seleccione la opción “Run all”. Esta opción se asegura de que todas las celdas fueron ejecutadas y todas las librerías necesarias para las actividades han sido importadas. A medida que avance a través del notebook, puede ejecutar de nuevo la celda que desee."
   ]
  },
  {
   "cell_type": "code",
   "execution_count": null,
   "metadata": {
    "colab": {
     "base_uri": "https://localhost:8080/"
    },
    "id": "S_nkoED7-V7c",
    "outputId": "75310885-1aa7-4dcd-cb75-e5d64bdbab9f"
   },
   "outputs": [],
   "source": [
    "# Las siguientes pasos cargamos las bibliotecas necesarias para correr el código de esta guía.\n",
    "from httpimport import remote_repo\n",
    "\n",
    "repoURL = 'https://raw.githubusercontent.com/astro-datalab/notebooks-latest/master/06_EPO/e-TeenAstronomyCafe/'\n",
    "\n",
    "with remote_repo(['lightcurve_sliderES'], repoURL+'09_Exoplanet_Spectra') :\n",
    "    import lightcurve_sliderES\n",
    "    \n",
    "print(\"Bibliotecas importadas con éxito.\")"
   ]
  },
  {
   "cell_type": "code",
   "execution_count": null,
   "metadata": {
    "colab": {
     "base_uri": "https://localhost:8080/"
    },
    "id": "GW4unPgr-V7f",
    "outputId": "5001d547-9b75-4bed-891a-e546d66ab8a9"
   },
   "outputs": [],
   "source": [
    "lightcurve_sliderES.initial_imports()\n",
    "\n",
    "print(\"Archivos importados con éxito.\")"
   ]
  },
  {
   "cell_type": "markdown",
   "metadata": {
    "id": "eRqdQjxw-V7h"
   },
   "source": [
    "<div class='alert alert-info'>\n",
    "    <font size='3'><b>Ajuste el control deslizante a continuación a 5.0.</b></font>\n",
    "</div>"
   ]
  },
  {
   "cell_type": "code",
   "execution_count": null,
   "metadata": {
    "colab": {
     "base_uri": "https://localhost:8080/",
     "height": 146
    },
    "id": "cW3kA4r6-V7i",
    "outputId": "04de7cef-a1b9-4bec-85b5-e957f7cf47ad"
   },
   "outputs": [],
   "source": [
    "lightcurve_sliderES.practice_slider()"
   ]
  },
  {
   "cell_type": "markdown",
   "metadata": {
    "id": "XCGsRNFa-V7k"
   },
   "source": [
    "<div class='alert alert-info'>\n",
    "    <font size='3'><b>Pase el cursor sobre el texto verde a continuación.</b></font>\n",
    "</div>"
   ]
  },
  {
   "cell_type": "markdown",
   "metadata": {
    "id": "7wu-s1yY-V7k"
   },
   "source": [
    "**Finalmente**, habrán algunas <span title=\"Terminología es un lenguaje especial utilizado por personas en un campo de estudio específico, generalmente como un atajo\"><font color='green'>terminologías</font></span> utilizadas en esta guía. Puede pasar el cursor sobre el texto para obtener más información."
   ]
  },
  {
   "cell_type": "markdown",
   "metadata": {
    "id": "m8v1UG5yBsKY"
   },
   "source": [
    "<div class='alert alert-info'>\n",
    "    <font size='3'><b>En este punto, asegúrese de haber ejecutado todas las celdas y expandido todas las secciones siguiendo las instrucciones anteriores.</b></font>\n",
    "</div>\n",
    "\n",
    "___"
   ]
  },
  {
   "cell_type": "markdown",
   "metadata": {
    "id": "N9RVec8e-V7k"
   },
   "source": [
    "# Actividad 1: Introducción - Curvas de Luz del Planeta"
   ]
  },
  {
   "cell_type": "markdown",
   "metadata": {
    "id": "drTEok3c-V7l"
   },
   "source": [
    "Comencemos con una <span title=\"Esta es una gráfica que muestra cómo cambia el brillo de un sistema estrella + planeta en función del tiempo a medida que el planeta pasa frente a la estrella.\"><font color='green'>curva de luz de un tránsito de un exoplaneta</font></span>. Esta es una gráfica que muestra cómo el brillo de un sistema estrella + planeta cambia con el tiempo a medida que el planeta pasa frente a la estrella. El eje **x** es el tiempo en horas, el eje **y** es el brillo en porcentaje. El tiempo se muestra en relación con <span title=\"Este es el momento en que un planeta y una estrella se alinean\"><font color='green'>centro del transito</font></span>, que es cuando el planeta y la estrella se alinean.\n",
    "\n",
    "\\\\\n",
    "<div class='alert alert-info'>\n",
    "    <font size='3'><b>Arrastre el control deslizante para cambiar la hora. <br>Mira lo que sucede con el brillo (Curva de Luz) y el planeta que cruza la estrella (animación de la estrella)</b></font>\n",
    "</div>\n"
   ]
  },
  {
   "cell_type": "code",
   "execution_count": null,
   "metadata": {
    "colab": {
     "base_uri": "https://localhost:8080/",
     "height": 617
    },
    "id": "rfZC251z-V7l",
    "outputId": "870145e5-8a5d-4a5c-ddf6-00296dc7e19e"
   },
   "outputs": [],
   "source": [
    "lightcurve_sliderES.lightcurve_slider(free_radius=False)"
   ]
  },
  {
   "cell_type": "markdown",
   "metadata": {
    "id": "FmUk7kym-V7n"
   },
   "source": [
    "<font size='4' color='#0076b6'>\n",
    "    <b>Pregunta 1: ¿Cuándo cambia el brillo? ¿Por qué crees que es 100% al principio y al final de la gráfica?</b>\n",
    "</font>\n",
    "\n",
    "___"
   ]
  },
  {
   "cell_type": "markdown",
   "metadata": {
    "id": "FH1EOmp9-V7n"
   },
   "source": [
    "# Actividad 2: Radio del Planeta\n",
    "La siguiente gráfica es otra <span title=\"Esta es una gráfica que muestra cómo cambia el brillo de un sistema estrella + planeta en función del tiempo a medida que el planeta pasa frente a la estrella.\"><font color='green'>curva de luz de un exoplaneta en transito</font></span>. Esto debería ser familiar a lo que viste arriba con los mismos ejes y forma. Ahora, hemos agregado una nueva variable, el radio del planeta. Aquí, damos el radio del planeta en <span title=\"El radio de la Tierra es de poco más de 6.000 kilometros. Podrías colocar unas 11 Tierras a lo largo de Júpiter y unas 109 Tierras a lo largo del sol.\"><font color='green'>radio terrestre</font></span>. Considerando que el radio de la Tierra es de 6.371 km.\n",
    "\n",
    "\n",
    "<div class='alert alert-info'>\n",
    "    <font size='3'><b>\n",
    "\n",
    "*   Arrastre el control deslizante del Radio para ver cómo afecta la curva de luz y la vista de la estrella y el planeta.\n",
    "*   Arrastre el control deslizante Tiempo a una posición diferente para ver cómo afecta la geometría allí. En realidad, no podemos ver el círculo negro sino solo la curva de luz.\n",
    "</b></font>\n",
    "</div>\n"
   ]
  },
  {
   "cell_type": "code",
   "execution_count": null,
   "metadata": {
    "colab": {
     "base_uri": "https://localhost:8080/",
     "height": 617
    },
    "id": "-vFurprK-V7n",
    "outputId": "f5953d1b-b9f7-4f44-f796-c4a0d182b010"
   },
   "outputs": [],
   "source": [
    "lightcurve_sliderES.lightcurve_slider()"
   ]
  },
  {
   "cell_type": "markdown",
   "metadata": {
    "id": "qzfiZCZD-V7p"
   },
   "source": [
    "<font size='4' color='#0076b6'>\n",
    "    <b>\n",
    "        Pregunta 2: ¿Aumentar el radio del planeta hace que la caída de la curva de luz sea más profunda o menos profunda?<br>\n",
    "    </b>\n",
    "</font>\n",
    "<br>\n",
    "<font size='4' color='#0076b6'>\n",
    "    <b>\n",
    "        Pregunta 3: ¿Cómo afecta el radio del planeta al rango de tiempo en el cual cae la curva de luz cae por debajo del 100%?\n",
    "    </b>\n",
    "</font>\n",
    "\n",
    "\n",
    "___"
   ]
  },
  {
   "cell_type": "markdown",
   "metadata": {
    "id": "Dvy8wdN6-V7p"
   },
   "source": [
    "# Actividad 3: Un espectro Planetario"
   ]
  },
  {
   "cell_type": "markdown",
   "metadata": {
    "id": "iJg_ERsc-V7q"
   },
   "source": [
    "#### 3.a. Tamaño del planeta en diferentes colores"
   ]
  },
  {
   "cell_type": "markdown",
   "metadata": {
    "id": "nIGn4rtR-V7q"
   },
   "source": [
    "Ahora exploremos qué sucede si un planeta tiene una atmósfera. Algunos colores de luz (<span title=\"En una onda periódica la longitud de onda es la distancia física entre dos puntos a partir de los cuales la onda se repite.\"><font color='green'>longitudes de onda</font></span>) atravesarán la atmósfera, mientras que otros serán absorbidos o dispersados. Puede notar esto en nuestro planeta, La Tierra, durante las puestas de sol, donde la atmósfera dispersa la luz azul y la luz roja atraviesa la atmósfera. Desde la perspectiva del espacio, la Tierra se ve un poco más grande en las <span title=\"En una onda periódica la longitud de onda es la distancia física entre dos puntos a partir de los cuales la onda se repite.\"><font color='green'>longitudes de onda</font></span> azules que en las rojas. \n",
    "\n",
    "Veamos qué sucede con el tamaño efectivo de un planeta en cada color cuando agregas una atmósfera a un planeta. \n",
    "\n",
    "El control deslizante a continuación controla el espesor de la atmósfera en <span title=\"El radio de la Tierra es de poco más de 6.000 kilometros. Podrías colocar unas 11 Tierras a lo largo de Júpiter y unas 109 Tierras a lo largo del sol.\"><font color='green'>radio Terrestre</font></span>. Los ejes **x** e **y** son reglas efectivas para medir el tamaño del planeta en <span title=\"El radio de la Tierra es de poco más de 6.000 kilometros. Podrías colocar unas 11 Tierras a lo largo de Júpiter y unas 109 Tierras a lo largo del sol.\"><font color='green'>radio Terrestre</font></span>.\n",
    "\n",
    "<div class='alert alert-info'>\n",
    "    <font size='3'><b>Arrastre el control deslizante para cambiar el espesor atmosférico.</b></font>\n",
    "</div>\n",
    "\n"
   ]
  },
  {
   "cell_type": "code",
   "execution_count": null,
   "metadata": {
    "colab": {
     "base_uri": "https://localhost:8080/",
     "height": 417
    },
    "id": "CrSdXICF-V7q",
    "outputId": "7a272770-dc19-42f7-9156-b39ac27bb630"
   },
   "outputs": [],
   "source": [
    "lightcurve_sliderES.scattering_slider(plots=['planet'])"
   ]
  },
  {
   "cell_type": "markdown",
   "metadata": {
    "id": "aciXuTWl-V7s"
   },
   "source": [
    "<font size='4' color='#0076b6'>\n",
    "    <b>\n",
    "        Pregunta 4: ¿En qué color aparece el planeta más grande?\n",
    "    </b>\n",
    "</font>\n",
    "<br>\n",
    "<br>\n",
    "<font size='4' color='#0076b6'>\n",
    "    <b>\n",
    "        Pregunta 5: ¿Cómo podrías saber si un planeta tiene atmósfera?\n",
    "    </b>\n",
    "</font>\n"
   ]
  },
  {
   "cell_type": "markdown",
   "metadata": {
    "id": "2k067e6q-V7s"
   },
   "source": [
    "#### 3.b. Una gráfica del espectro"
   ]
  },
  {
   "cell_type": "markdown",
   "metadata": {
    "id": "bKK1nfrR-V7s"
   },
   "source": [
    "La forma en que los astrónomos visualizan la imagen en color de arriba de un planeta es a través de un <span title=\"Un espectro es un gráfico del tamaño del planeta versus la longitud de onda.\"><font color='green'>espectro de transmisión</font></span>. Esta es una gráfica del tamaño del planeta en  <span title=\"El radio de la Tierra es de poco más de 6.000 kilometros. Podrías colocar unas 11 Tierras a lo largo de Júpiter y unas 109 Tierras a lo largo del sol.\"><font color='green'>radio Terrestre</font></span> versus la <span title=\"En una onda periódica la longitud de onda es la distancia física entre dos puntos a partir de los cuales la onda se repite.\"><font color='green'>longitudes de onda</font></span>. La longitud de onda se mide en unidades de  <span title=\"Un micrón es una unidad de longitud que es una millonésima parte de un metro. El cabello humano tiene unas 75 micras de diámetro.\"><font color='green'>micrón</font></span>. Un micrón es la millonésima parte de un metro. El ancho típico de un cabello humano es de 75 micrones (Smith 2002, *Metrología Industrial*).\n",
    "\n",
    "\n",
    "<div class='alert alert-info'>\n",
    "    <font size='3'><b>Arrastre el control deslizante para cambiar el espesor atmosférico.</b></font>\n",
    "</div>\n"
   ]
  },
  {
   "cell_type": "code",
   "execution_count": null,
   "metadata": {
    "colab": {
     "base_uri": "https://localhost:8080/",
     "height": 817
    },
    "id": "gCbhMEA0-V7s",
    "outputId": "61105f37-5783-4442-fe63-f97a449bac2e"
   },
   "outputs": [],
   "source": [
    "lightcurve_sliderES.scattering_slider(plots=['planet','spectrum'])"
   ]
  },
  {
   "cell_type": "markdown",
   "metadata": {
    "id": "diySa7sK-V7u"
   },
   "source": [
    "<font size='4' color='#0076b6'>\n",
    "    <b>\n",
    "        Pregunta 6: ¿Cómo describirías el espectro cuando la pendiente de esta línea es cero?\n",
    "    </b>\n",
    "</font>\n",
    "<br>\n",
    "<br>\n",
    "<font size='4' color='#0076b6'>\n",
    "    <b>\n",
    "        Pregunta 7: ¿Cómo describirías la atmósfera cuando la pendiente de esta línea es cero?\n",
    "    </b>\n",
    "</font>\n"
   ]
  },
  {
   "cell_type": "markdown",
   "metadata": {
    "id": "DbNsWrte-V7u"
   },
   "source": [
    "#### 3.c. Curva de luz multicolor"
   ]
  },
  {
   "cell_type": "markdown",
   "metadata": {
    "id": "kfbp71ha-V7u"
   },
   "source": [
    "Ahora que hemos construido una cierta comprensión de las <span title=\"Esta es una gráfica que muestra cómo cambia el brillo de un sistema estrella + planeta en función del tiempo a medida que el planeta pasa frente a la estrella.\"><font color='green'>curvas de luz del tránsito de un exoplanetas</font></span> en [Sección 1](#1.-Introducción---Curvas-de-Luz-del-Planeta) y [Sección 2](##Actividad-2:-Radio-del-Planeta), los examinaremos en diferentes <span title=\"En una onda periódica la longitud de onda es la distancia física entre dos puntos a partir de los cuales la onda se repite\"><font color='green'>longitudes de onda</font></span>. La curva de luz y el radio del planeta pueden ser diferentes de una longitud de onda a la siguiente porque parte de la luz atraviesa la atmósfera mientras que otra luz es absorbida. Ahora examinará la curva de luz para diferentes colores con una variable para el espesor de una atmósfera en radios terrestres. <span title=\"El radio de la Tierra es de poco más de 6.000 kilometros. Podrías colocar unas 11 Tierras a lo largo de Júpiter y unas 109 Tierras a lo largo del sol.\"><font color='green'>radios terrestres</font></span>.\n",
    "\n",
    "<div class='alert alert-info'>\n",
    "    <font size='3'><b>Arrastre el control deslizante para cambiar el espesor atmosférico.</b></font>\n",
    "</div>\n",
    "\n"
   ]
  },
  {
   "cell_type": "code",
   "execution_count": null,
   "metadata": {
    "id": "AU1f5SWC-V7v"
   },
   "outputs": [],
   "source": [
    "lightcurve_sliderES.scattering_slider(plots=['planet','spectrum','lightcurve'])"
   ]
  },
  {
   "cell_type": "markdown",
   "metadata": {
    "id": "E3-Iwbco-V7w"
   },
   "source": [
    "<font size='4' color='#0076b6'>\n",
    "    <b>\n",
    "      Pregunta 8: ¿Qué tipo de observaciones podrías hacer para saber si un planeta tiene atmósfera?\n",
    "    </b>\n",
    "</font>\n",
    "\n",
    "___"
   ]
  },
  {
   "cell_type": "markdown",
   "metadata": {
    "id": "lgsddFRq-V7w"
   },
   "source": [
    "# Actividad 4: Ejemplos de atmósferas de planetas\n",
    "\n",
    "Ahora que tenemos una idea de cómo <span title=\"A spectrum is a plot of a planet's size versus wavelength.\"><font color='green'>espectros de transmisión</font></span> funciona, consideremos diferentes tipos de modelos. Los tamaños atmosféricos se han hecho más grandes que la realidad para que sean más fáciles de ver."
   ]
  },
  {
   "cell_type": "markdown",
   "metadata": {
    "id": "mcmFlwRW-V7x"
   },
   "source": [
    "#### Una atmósfera de vapor de agua\n",
    "\n",
    "\n",
    "El siguiente modelo atmosférico contiene vapor de agua. Las moléculas de agua vibrarán y rotarán en algunas <span title=\"En una onda periódica la longitud de onda es la distancia física entre dos puntos a partir de los cuales la onda se repite\"><font color='green'>longitudes de onda</font></span> mejor que en otras, por lo que el planeta se verá más grande en esas longitudes de onda cercanas a los 2,6 <span title=\"Un micrón es una unidad de longitud que es una millonésima parte de un metro. El cabello humano tiene unas 75 micras de diámetro.\"><font color='green'>micrones</font></span>.\n",
    "\n",
    "<div class='alert alert-info'>\n",
    "    <font size='3'><b>Inspeccione el espectro a continuación.</b></font>\n",
    "</div>\n"
   ]
  },
  {
   "cell_type": "code",
   "execution_count": null,
   "metadata": {
    "colab": {
     "base_uri": "https://localhost:8080/",
     "height": 417
    },
    "id": "IL__UaiA-V7x",
    "outputId": "d0ae3707-d9d1-4080-b4c5-24944daaa41e"
   },
   "outputs": [],
   "source": [
    "lightcurve_sliderES.example_spectra(atmospheres=['H2O'])"
   ]
  },
  {
   "cell_type": "markdown",
   "metadata": {
    "id": "OqQEl0Ui-V7y"
   },
   "source": [
    "#### Una atmósfera de metano\n",
    "\n",
    "El siguiente modelo atmosférico contiene metano. Como el agua, las moléculas de metano vibrarán y rotarán a una <span title=\"En una onda periódica la longitud de onda es la distancia física entre dos puntos a partir de los cuales la onda se repite\"><font color='green'>longitudes de onda</font></span> mejor que a otra. Sin embargo, el metano tiene una configuración diferente de átomos, por lo que el planeta parece más grande, cerca de 3,4 <span title=\"Un micrón es una unidad de longitud que es una millonésima parte de un metro. El cabello humano tiene unas 75 micras de diámetro.\"><font color='green'>micrones</font></span>.\n",
    "\n",
    "<div class='alert alert-info'>\n",
    "    <font size='3'><b>Inspeccione el espectro a continuación.</b></font>\n",
    "</div>\n",
    "\n"
   ]
  },
  {
   "cell_type": "code",
   "execution_count": null,
   "metadata": {
    "colab": {
     "base_uri": "https://localhost:8080/",
     "height": 417
    },
    "id": "EKjOY6iD-V7y",
    "outputId": "24cc7e14-b857-460b-a47b-7ee70c2eecc9"
   },
   "outputs": [],
   "source": [
    "lightcurve_sliderES.example_spectra(atmospheres=['CH4'])"
   ]
  },
  {
   "cell_type": "markdown",
   "metadata": {
    "id": "mO6dkuUo-V70"
   },
   "source": [
    "#### Una atmósfera de dióxido de carbono\n",
    "\n",
    "CEl dióxido de carbono es otra configuración de moléculas con dos átomos de oxígeno en lados opuestos del carbono. La simetría de la molécula significa que solo hay unas pocas formas de hacer vibrar el dióxido de carbono. Este planeta se verá más grande en 2.8 <span title=\"Un micrón es una unidad de longitud que es una millonésima parte de un metro. El cabello humano tiene unas 75 micras de diámetro.\"><font color='green'>micrones</font></span> y 4.4 <span title=\"Un micrón es una unidad de longitud que es una millonésima parte de un metro. El cabello humano tiene unas 75 micras de diámetro.\"><font color='green'>micrones</font></span> pero más pequeño en la mayoría de las otras  <span title=\"En una onda periódica la longitud de onda es la distancia física entre dos puntos a partir de los cuales la onda se repite\"><font color='green'>longitudes de onda</font></span>.\n",
    "\n",
    "<div class='alert alert-info'>\n",
    "    <font size='3'><b>Inspeccione el espectro a continuación.</b></font>\n",
    "</div>\n"
   ]
  },
  {
   "cell_type": "code",
   "execution_count": null,
   "metadata": {
    "colab": {
     "base_uri": "https://localhost:8080/",
     "height": 417
    },
    "id": "KOFZIjtn-V70",
    "outputId": "48bb68e3-4d6f-429c-d02d-156542963aee"
   },
   "outputs": [],
   "source": [
    "lightcurve_sliderES.example_spectra(atmospheres=['CO2'])"
   ]
  },
  {
   "cell_type": "markdown",
   "metadata": {
    "id": "TKXmAGAA-V71"
   },
   "source": [
    "#### Sin atmósfera\n",
    "\n",
    "Si un planeta no tiene atmósfera, todas las <span title=\"En una onda periódica la longitud de onda es la distancia física entre dos puntos a partir de los cuales la onda se repite\"><font color='green'>longitudes de onda</font></span> estarán en el limite rocoso del planeta. Por lo tanto, un planeta sin aire se verá del mismo tamaño en todas las longitudes de onda.\n",
    "\n",
    "<div class='alert alert-info'>\n",
    "    <font size='3'><b>Inspeccione el espectro a continuación.</b></font>\n",
    "</div>\n"
   ]
  },
  {
   "cell_type": "code",
   "execution_count": null,
   "metadata": {
    "colab": {
     "base_uri": "https://localhost:8080/",
     "height": 417
    },
    "id": "5sDHqgeb-V71",
    "outputId": "ebc4020a-5c51-4684-f092-e0f4cc391e7c"
   },
   "outputs": [],
   "source": [
    "lightcurve_sliderES.example_spectra(atmospheres=['No Atmosphere'])"
   ]
  },
  {
   "cell_type": "markdown",
   "metadata": {
    "id": "BY80jFnQ-V72"
   },
   "source": [
    "<font size='4' color='#0076b6'>\n",
    "    <b>\n",
    "        Pregunta 9: Hay una superficie sólida visible aquí. ¿A qué nivel (en radios terrestres) se encuentra la superficie? ¿Dónde crees que estaba en las atmósferas anteriores?\n",
    "    </b>\n",
    "</font>\n",
    "\n",
    "\n",
    "___"
   ]
  },
  {
   "cell_type": "markdown",
   "metadata": {
    "id": "nk3lOZEF-V73"
   },
   "source": [
    "# Actividad 5: Atmósferas de planetas misteriosos\n",
    "\n",
    "Ahora estás jugando el papel de un astrónomo. Mide la curva de luz de un planeta a diferentes <span title=\"En una onda periódica la longitud de onda es la distancia física entre dos puntos a partir de los cuales la onda se repite\"><font color='green'>longitudes de onda</font></span> y esto se muestra a continuación como una dispersión de puntos en cada color. Deberá averiguar cuál es el radio del planeta (en  <span title=\"El radio de la Tierra es de poco más de 6.000 kilometros. Podrías colocar unas 11 Tierras a lo largo de Júpiter y unas 109 Tierras a lo largo del sol.\"><font color='green'>radios terrestres</font></span>) para esa <span title=\"En una onda periódica la longitud de onda es la distancia física entre dos puntos a partir de los cuales la onda se repite\"><font color='green'>longitudes de onda</font></span>.\n"
   ]
  },
  {
   "cell_type": "markdown",
   "metadata": {
    "id": "gwRYUKnj-V73"
   },
   "source": [
    "#### Planeta Misterioso 1"
   ]
  },
  {
   "cell_type": "markdown",
   "metadata": {
    "id": "_A6ou8DF-V73"
   },
   "source": [
    "\n",
    "<div class='alert alert-info'>\n",
    "    <font size='3'><b>Arrastre los controles deslizantes para hacer que las líneas coincidan con los puntos de cada color, formando las líneas que mejor se ajusten. Asegúrese de desplazarse lo suficiente para ver ambos gráficos.\n",
    "\n",
    "</b></font>\n",
    "</div>\n",
    "\n"
   ]
  },
  {
   "cell_type": "code",
   "execution_count": null,
   "metadata": {
    "colab": {
     "base_uri": "https://localhost:8080/",
     "height": 917
    },
    "id": "AOPycwW_-V73",
    "outputId": "7f263c1c-25ff-4a51-99a5-8a8d11982482"
   },
   "outputs": [],
   "source": [
    "lightcurve_sliderES.transmission_spec_slider(mysteryNum=2)"
   ]
  },
  {
   "cell_type": "markdown",
   "metadata": {
    "id": "aKBMqWIf-V75"
   },
   "source": [
    "Ahora ha encontrado un <span title=\"Un espectro es un gráfico del tamaño del planeta versus la longitud de onda.\"><font color='green'>espectro de transmisión</font></span> del planeta que mejor se ajusta a los datos.\n",
    "\n"
   ]
  },
  {
   "cell_type": "code",
   "execution_count": null,
   "metadata": {
    "colab": {
     "base_uri": "https://localhost:8080/",
     "height": 197
    },
    "id": "aa4kM057-V75",
    "outputId": "e52ae337-2a96-432c-c962-01f7414895d7"
   },
   "outputs": [],
   "source": [
    "lightcurve_sliderES.example_spectra()"
   ]
  },
  {
   "cell_type": "markdown",
   "metadata": {
    "id": "2dq9hAJx-V76"
   },
   "source": [
    "<font size='4' color='#0076b6'>\n",
    "    <b>\n",
    "       Pregunta 10: Compare su espectro de transmisión con los modelos. ¿Qué tipo de ambiente encontraste?\n",
    "    </b>\n",
    "</font>\n"
   ]
  },
  {
   "cell_type": "markdown",
   "metadata": {
    "id": "nS0nBLRK-V76"
   },
   "source": [
    "#### Planeta Misterioso 2"
   ]
  },
  {
   "cell_type": "markdown",
   "metadata": {
    "id": "MpXHglgP-V77"
   },
   "source": [
    "\n",
    "<div class='alert alert-info'>\n",
    "    <font size='3'><b>Arrastre los controles deslizantes para hacer que las líneas coincidan con los puntos de cada color, formando las líneas que mejor se ajusten. Asegúrese de desplazarse lo suficiente para ver ambos gráficos.\n",
    "\n",
    "</b></font>\n",
    "</div>\n",
    "\n"
   ]
  },
  {
   "cell_type": "code",
   "execution_count": null,
   "metadata": {
    "colab": {
     "base_uri": "https://localhost:8080/",
     "height": 917
    },
    "id": "C3J_p7g0-V77",
    "outputId": "6861baf1-54a8-4369-f408-c6d908e3c9eb"
   },
   "outputs": [],
   "source": [
    "lightcurve_sliderES.transmission_spec_slider(mysteryNum=1)"
   ]
  },
  {
   "cell_type": "markdown",
   "metadata": {
    "id": "_wstsvbS-V78"
   },
   "source": [
    "Ahora ha encontrado un  <span title=\"Un espectro es un gráfico del tamaño del planeta versus la longitud de onda.\"><font color='green'>espectro de transmisión</font></span> del planeta que mejor se ajusta a los datos."
   ]
  },
  {
   "cell_type": "code",
   "execution_count": null,
   "metadata": {
    "colab": {
     "base_uri": "https://localhost:8080/",
     "height": 197
    },
    "id": "PWnDCWRg-V78",
    "outputId": "9fc0edc8-74c5-40e1-cd6a-03d6088089fb"
   },
   "outputs": [],
   "source": [
    "lightcurve_sliderES.example_spectra()"
   ]
  },
  {
   "cell_type": "markdown",
   "metadata": {
    "id": "xGXOXiBr-V79"
   },
   "source": [
    "<font size='4' color='#0076b6'>\n",
    "    <b>\n",
    "        Pregunta 11: Compare su espectro de transmisión con los modelos. ¿Qué tipo de ambiente encontraste?\n",
    "    </b>\n",
    "</font>"
   ]
  },
  {
   "cell_type": "markdown",
   "metadata": {
    "id": "BAoiuiau-V79"
   },
   "source": [
    "#### Planeta Misterioso "
   ]
  },
  {
   "cell_type": "markdown",
   "metadata": {
    "id": "d6zxWQaz-V7-"
   },
   "source": [
    "\n",
    "<div class='alert alert-info'>\n",
    "    <font size='3'><b>Arrastre los controles deslizantes para hacer que las líneas coincidan con los puntos de cada color, formando las líneas que mejor se ajusten. Asegúrese de desplazarse lo suficiente para ver ambos gráficos.\n",
    "\n",
    "</b></font>\n",
    "</div>\n",
    "\n"
   ]
  },
  {
   "cell_type": "code",
   "execution_count": null,
   "metadata": {
    "colab": {
     "base_uri": "https://localhost:8080/",
     "height": 917
    },
    "id": "nksLJGHF-V7-",
    "outputId": "f6e4c335-0724-42a8-f479-8ba7a582738b"
   },
   "outputs": [],
   "source": [
    "lightcurve_sliderES.transmission_spec_slider(mysteryNum=3)"
   ]
  },
  {
   "cell_type": "markdown",
   "metadata": {
    "id": "qkhSStyb-V7_"
   },
   "source": [
    "Ahora ha encontrado un  <span title=\"Un espectro es un gráfico del tamaño del planeta versus la longitud de onda.\"><font color='green'>espectro de transmisión</font></span> del planeta que mejor se ajusta a los datos.\n"
   ]
  },
  {
   "cell_type": "code",
   "execution_count": null,
   "metadata": {
    "colab": {
     "base_uri": "https://localhost:8080/",
     "height": 197
    },
    "id": "7tEeDf5Z-V7_",
    "outputId": "62d57af7-5901-4803-e6c7-ff325a93e51d"
   },
   "outputs": [],
   "source": [
    "lightcurve_sliderES.example_spectra()"
   ]
  },
  {
   "cell_type": "markdown",
   "metadata": {
    "id": "3KoJlWvZ-V8A"
   },
   "source": [
    "<font size='4' color='#0076b6'>\n",
    "    <b>\n",
    "        Pregunta 12: Compare su espectro de transmisión con los modelos. ¿Qué tipo de ambiente encontraste?\n",
    "    </b>\n",
    "</font>\n"
   ]
  },
  {
   "cell_type": "markdown",
   "metadata": {
    "id": "wrfCgHVK-V8A"
   },
   "source": [
    "#### Mystery Planet 4"
   ]
  },
  {
   "cell_type": "markdown",
   "metadata": {
    "id": "NzoTJtqR-V8A"
   },
   "source": [
    "\n",
    "<div class='alert alert-info'>\n",
    "    <font size='3'><b>Arrastre los controles deslizantes para hacer que las líneas coincidan con los puntos de cada color, formando las líneas que mejor se ajusten. Asegúrese de desplazarse lo suficiente para ver ambos gráficos.\n",
    "\n",
    "</b></font>\n",
    "</div>\n",
    "\n"
   ]
  },
  {
   "cell_type": "code",
   "execution_count": null,
   "metadata": {
    "colab": {
     "base_uri": "https://localhost:8080/",
     "height": 917
    },
    "id": "12wWpbvL-V8A",
    "outputId": "fa83c3f1-47b1-4de5-f927-b38192c3d9d1"
   },
   "outputs": [],
   "source": [
    "lightcurve_sliderES.transmission_spec_slider(mysteryNum=4)"
   ]
  },
  {
   "cell_type": "markdown",
   "metadata": {
    "id": "ZPHxHeeP-V8B"
   },
   "source": [
    "Ahora ha encontrado un  <span title=\"Un espectro es un gráfico del tamaño del planeta versus la longitud de onda.\"><font color='green'>espectro de transmisión</font></span> del planeta que mejor se ajusta a los datos.\n",
    "\n"
   ]
  },
  {
   "cell_type": "code",
   "execution_count": null,
   "metadata": {
    "colab": {
     "base_uri": "https://localhost:8080/",
     "height": 197
    },
    "id": "zaS6TXD2-V8C",
    "outputId": "d9a09419-cc10-4042-ab10-e9fc9f80a866"
   },
   "outputs": [],
   "source": [
    "lightcurve_sliderES.example_spectra()"
   ]
  },
  {
   "cell_type": "markdown",
   "metadata": {
    "id": "mFsyypDh-V8D"
   },
   "source": [
    "<font size='4' color='#0076b6'>\n",
    "    <b>\n",
    "        Pregunta 13: Compare su espectro de transmisión con los modelos. ¿Qué tipo de ambiente encontraste?\n",
    "    </b>\n",
    "</font>\n",
    "\n",
    "___"
   ]
  },
  {
   "cell_type": "markdown",
   "metadata": {
    "id": "95cBTMBV-V8D"
   },
   "source": [
    "# Actividad 6: Conclusiones\n",
    "\n",
    "¡Felicidades! Ahora estás averiguando de qué están hechas las atmósferas de los planetas o si un planeta carece de atmósfera. En atmósferas reales, obtendremos una mezcla de moléculas que nos pueden informar sobre la química de los planetas y, algún día, incluso ayudarnos a encontrar vida en otras partes del Universo. \n",
    "\n",
    "Los astrónomos están explorando atmósferas de planetas reales con telescopios operativos actualmente y a la espera de que nuevos telescopios comiencen a operar, como el telescopio espacial James Webb. Puede leer sobre el telescopio Webb y ver imágenes del mismo en [jwst.nasa.gov/](https://jwst.nasa.gov/content/features/index.html#educationalFeatures).\n"
   ]
  },
  {
   "cell_type": "markdown",
   "metadata": {
    "id": "WmldeH4n-V8D"
   },
   "source": [
    "<!-- <div class='alert alert-info'>\n",
    "    <font size='3'><b>If you are doing this for a class, turn in your answers to the bold questions. If you are doing it for fun, you're done!</b></font><br> -->\n",
    "\n",
    "\n",
    "\n",
    "\n",
    "————\n",
    "\n",
    "##### Python Notebook by [Everett Schlawin](http://mips.as.arizona.edu/~schlawin/) and the [NOIR Lab's Teen Astronomy Cafe Team](http://www.teenastronomycafe.org)\n",
    "\n",
    "#### Version 1.0\n",
    "\n",
    "The source code for this notebook is available at <a href=\"https://github.com/eas342/interactive_lc\">https://github.com/eas342/interactive_lc</a>."
   ]
  }
 ],
 "metadata": {
  "colab": {
   "collapsed_sections": [],
   "name": "FER -  Espectros de los Exoplanetas.ipynb",
   "provenance": [],
   "toc_visible": true
  },
  "kernelspec": {
   "display_name": "Python 3",
   "language": "python",
   "name": "python3"
  },
  "language_info": {
   "codemirror_mode": {
    "name": "ipython",
    "version": 3
   },
   "file_extension": ".py",
   "mimetype": "text/x-python",
   "name": "python",
   "nbconvert_exporter": "python",
   "pygments_lexer": "ipython3",
   "version": "3.9.5"
  }
 },
 "nbformat": 4,
 "nbformat_minor": 1
}
