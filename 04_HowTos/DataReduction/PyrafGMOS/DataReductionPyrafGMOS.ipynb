{
 "cells": [
  {
   "cell_type": "code",
   "execution_count": null,
   "id": "e58dd5b2-6a7c-4664-a5ad-c2e8419a90a2",
   "metadata": {},
   "outputs": [],
   "source": [
    "__author__ = 'Vinicius Placco <vinicius.placco@noirlab.edu>, Brian Molina Merino <brian.merino@noirlab.edu>'\n",
    "__version__ = '20230420' # yyyymmdd\n",
    "__keywords__ = ['IRAF','Gemini','GMOS','data reduction']"
   ]
  },
  {
   "cell_type": "markdown",
   "id": "d840a613-6fc8-4b31-b4e3-12ba33e10da4",
   "metadata": {},
   "source": [
    "# Gemini GMOS Longslit Spectroscopy data reduction using Pyraf\n",
    "*Authors: Brian Molina Merino, Vinicius Placco*\n",
    "\n",
    "*Adapted from https://gitlab.com/nsf-noirlab/csdc/usngo/IRAF_tutorials*"
   ]
  },
  {
   "cell_type": "markdown",
   "id": "b8427ca2-58e0-48cd-806e-ede76d6f2de8",
   "metadata": {},
   "source": [
    "## Table of contents\n",
    "* [Goals](#goals)\n",
    "* [Summary](#summary)\n",
    "* [Disclaimers and attribution](#disclaimer)\n",
    "* [Imports and setup](#imports)\n",
    "* [Downloading data for reduction](#download)\n",
    "* [Begin Basic Reduction](#Basic_Reduction)\n",
    "* [Determine Wavelength Solution](#Wavelength_Solution)\n",
    "* [Extract Spectrum](#Extract_Spectrum)\n",
    "* [Display Output](#Display_Output)\n",
    "* [Clean-up (optional)](#Clean-up)\n",
    "* [Resources](#Resources)\n",
    "\n",
    "<a class=\"anchor\" id=\"goals\"></a>\n",
    "# Goals\n",
    "Showcase how to perform GMOS longslit spectroscopy data reduction using the Gemini Pyraf package on the Data Lab science platform. The steps include downloading data from the Gemini archive, processing of flat and bias frames, and finally the creation of a single wavelength-calibrated 1D spectrum. For simplicity, there is no flux calibration in this example.\n",
    "\n",
    "<a class=\"anchor\" id=\"summary\"></a>\n",
    "# Summary\n",
    "In this notebook, we present an example of a Gemini GMOS notebook that works in the Data Lab environment to fully reduce GMOS longslit B600 spectroscopy data. This is a version of the GMOS longslit Hamamatsu reduction tutorial presented here:\n",
    "https://gitlab.com/nsf-noirlab/csdc/usngo/IRAF_tutorials.\n",
    "The general GMOS data reduction cookbook from the US National Gemini Office is linked here:\n",
    "https://noirlab.edu/science/programs/csdc/usngo/gmos-cookbook/. The object in this example is the standard star <a href=\"http://simbad.u-strasbg.fr/simbad/sim-id?Ident=HD166379\">HD166379</a>, observed as part of the Gemini North program <a href=\"https://archive.gemini.edu/searchform/GN-2018B-Q-403-54\">GN-2018B-Q-54</a>. The exposure time was 5 seconds, with the flat-field and CuAr arc-lamp taken right after the science observation.\n",
    "\n",
    "<a class=\"anchor\" id=\"disclaimer\"></a>\n",
    "# Disclaimer & attribution\n",
    "If you use this notebook for your published science, please acknowledge the following:\n",
    "\n",
    "* Data Lab concept paper: Fitzpatrick et al., \"The NOAO Data Laboratory: a conceptual overview\", SPIE, 9149, 2014, http://dx.doi.org/10.1117/12.2057445\n",
    "\n",
    "* Data Lab disclaimer: https://datalab.noirlab.edu/disclaimers.php\n",
    "\n",
    "* NOIRLab acknowledgment page for the use of data from the Gemini Observatory: https://noirlab.edu/science/about/scientific-acknowledgments#gemini"
   ]
  },
  {
   "cell_type": "markdown",
   "id": "0b62ade6-53a2-47f4-872d-f1d21ae07869",
   "metadata": {
    "tags": []
   },
   "source": [
    "<a class=\"anchor\" id=\"imports\"></a>\n",
    "# Imports and setup"
   ]
  },
  {
   "cell_type": "code",
   "execution_count": null,
   "id": "235fe604-47ea-46db-a2d1-5f8e828437c2",
   "metadata": {
    "tags": []
   },
   "outputs": [],
   "source": [
    "from pyraf import iraf\n",
    "from pyraf.iraf import gemini, gmos\n",
    "from astropy.io import fits\n",
    "import matplotlib.pyplot as plt\n",
    "import numpy as np"
   ]
  },
  {
   "cell_type": "markdown",
   "id": "32b04b3f-d12a-498e-9975-dcf74fa8a10a",
   "metadata": {},
   "source": [
    "<a class=\"anchor\" id=\"download\"></a>\n",
    "# Downloading data from the Gemini archive\n",
    "\n",
    "Create a list of the file names of the raw GMOS longslit B600 spectroscopy data, and use wget to download these from the Gemini archive. The dataset includes bias, flat-field, arc-lamp, and one science exposure."
   ]
  },
  {
   "cell_type": "code",
   "execution_count": null,
   "id": "06782fa8-836c-4095-add5-948a20889e74",
   "metadata": {
    "tags": []
   },
   "outputs": [],
   "source": [
    "%%bash\n",
    "\n",
    "# create file that lists FITS files to be downloaded\n",
    "echo \"\n",
    "https://archive.gemini.edu/file/N20190302S0248.fits\n",
    "https://archive.gemini.edu/file/N20190302S0249.fits\n",
    "https://archive.gemini.edu/file/N20190302S0250.fits\n",
    "https://archive.gemini.edu/file/N20190304S0204_bias.fits\" > gmos.list\n",
    "\n",
    "# download with wget FITS files from Gemini archive for processing (in quiet mode)\n",
    "wget --no-check-certificate -N -q -i gmos.list"
   ]
  },
  {
   "cell_type": "markdown",
   "id": "e93af6e9-ae0f-4854-9443-43340e807a29",
   "metadata": {},
   "source": [
    "<a class=\"anchor\" id=\"Basic_Reduction\"></a>\n",
    "# Basic Reduction\n",
    "\n",
    "Basic reduction (including bias subtraction) of the science, arc, and flat frames. The second to last step generates the final flat field and applies it to the science frame. In the first three commands, the raw frames run through `gsreduce` for mosaicing (`fl_gmosaic=\"Yes\"`) without flat-fielding, trimming, bax pixel masking, or wavelength solution (`fl_flat=\"No\"`, `fl_fixpix=\"No\"`, `fl_gsappwave=\"No\"`, `fl_cut=\"No\"`). The fourth command creates the final flat field and the last command applies it to the science frame.\n",
    "\n",
    "*Note: during the data reduction in the next three cells, a number of temporary files (starting with `tmp`) will be created and deleted. In addition, after each reduction step, a `fits` file is created using the name of the original file with a 1-letter prefix (e.g. `sN20190302S0250`). Single letters will continue to be added until the final extracted spectrum is generated. This cell will take a few minutes to execute.*"
   ]
  },
  {
   "cell_type": "code",
   "execution_count": null,
   "id": "21705410-834a-40b9-9168-ad2a6e11a481",
   "metadata": {
    "scrolled": true,
    "tags": []
   },
   "outputs": [],
   "source": [
    "%%time\n",
    "\n",
    "gmos.gsreduce(inimages=\"N20190302S0248\", \n",
    "              fl_flat=\"No\", fl_gmosaic=\"Yes\", fl_fixpix=\"No\", fl_gsappwave=\"No\", \n",
    "              fl_cut=\"No\", bias=\"N20190304S0204_bias\")\n",
    "\n",
    "gmos.gsreduce(inimages=\"N20190302S0249\", rawpath=\"./\", \n",
    "              fl_flat=\"No\", fl_gmosaic=\"Yes\", fl_fixpix=\"No\", fl_gsappwave=\"No\", \n",
    "              fl_cut=\"No\", bias=\"N20190304S0204_bias\")\n",
    "\n",
    "gmos.gsreduce(inimages=\"N20190302S0250\", rawpath=\"./\", \n",
    "              fl_flat=\"No\", fl_gmosaic=\"Yes\", fl_fixpix=\"No\", fl_gsappwave=\"No\", \n",
    "              fl_cut=\"No\", bias=\"N20190304S0204_bias\")\n",
    "\n",
    "gmos.gsflat(inflats=\"gsN20190302S0250\", specflat=\"N20190302S0250_flat\",\n",
    "            order=\"23\", fl_over=\"Yes\")\n",
    "\n",
    "gmos.gsreduce(inimages=\"gsN20190302S0248\", flat=\"N20190302S0250_flat\",\n",
    "              fl_over=\"No\", fl_bias=\"No\", fl_trim=\"No\")"
   ]
  },
  {
   "cell_type": "markdown",
   "id": "2839ca22-091a-4606-bbf2-025149178b47",
   "metadata": {},
   "source": [
    "<a class=\"anchor\" id=\"Wavelength_Solution\"></a>\n",
    "# Determine Wavelength Solution\n",
    "\n",
    "Non-interactively (`fl_inte=\"no\"`) determine the wavelength solution and apply it to the arc lamp frame."
   ]
  },
  {
   "cell_type": "code",
   "execution_count": null,
   "id": "6bdc183d-bc8e-4007-9710-e8c5cfc4d753",
   "metadata": {
    "scrolled": true,
    "tags": []
   },
   "outputs": [],
   "source": [
    "gmos.gswavelength(inimages=\"gsN20190302S0249\", fl_inte=\"no\")\n",
    "gmos.gstransform(inimages=\"gsN20190302S0249\", wavtraname=\"gsN20190302S0249\")"
   ]
  },
  {
   "cell_type": "markdown",
   "id": "74420527-f2c9-483c-bb49-737ee72ec6ff",
   "metadata": {},
   "source": [
    "<a class=\"anchor\" id=\"Extract_Spectrum\"></a>\n",
    "# Extract Spectrum\n",
    "\n",
    "Apply the wavelength solution to the science frame, perform sky-subtraction, and extract the stellar spectrum in non-interactive (`fl_inte=\"no\"`) mode."
   ]
  },
  {
   "cell_type": "code",
   "execution_count": null,
   "id": "816a6159-54ea-4022-806a-7cf9518c1b80",
   "metadata": {
    "scrolled": true,
    "tags": []
   },
   "outputs": [],
   "source": [
    "gmos.gstransform(inimages=\"gsgsN20190302S0248\", wavtran=\"gsN20190302S0249\")\n",
    "gmos.gsskysub(input=\"tgsgsN20190302S0248\")\n",
    "gmos.gsextract(inimages=\"stgsgsN20190302S0248\", fl_inte=\"no\")"
   ]
  },
  {
   "cell_type": "markdown",
   "id": "84445fc9-6edf-422e-b398-c5a1013353ca",
   "metadata": {},
   "source": [
    "<a class=\"anchor\" id=\"Display_Output\"></a>\n",
    "# Display the fully reduced spectrum\n",
    "\n",
    "Read the reduced spectrum with astropy, creating arrays for the flux and wavelength. The `wave` array is generated by getting the number of pixels in the `flux` array and using the wavelength values for the first pixel (`CRVAL1`) and wavelength step (`CD1_1`)."
   ]
  },
  {
   "cell_type": "code",
   "execution_count": null,
   "id": "06e7ddf6-3ca4-4a87-8812-438f67dd4a51",
   "metadata": {},
   "outputs": [],
   "source": [
    "iraf_out = fits.open(\"estgsgsN20190302S0248.fits\")\n",
    "\n",
    "flux = iraf_out[2].data\n",
    "wave = np.arange(flux.shape[0]) * iraf_out[2].header['CD1_1'] + iraf_out[2].header['CRVAL1']"
   ]
  },
  {
   "cell_type": "markdown",
   "id": "d5360582-b954-4e33-8cf9-ecff73326eda",
   "metadata": {},
   "source": [
    "Display the spectrum using standard matplotlib.pyplot routines."
   ]
  },
  {
   "cell_type": "code",
   "execution_count": null,
   "id": "89ebe58b-588b-4a3d-a030-e7788a061ed4",
   "metadata": {},
   "outputs": [],
   "source": [
    "plt.figure(figsize = (18,9))\n",
    "plt.xlim(3800,5000)\n",
    "plt.ylim(0,100000)\n",
    "plt.plot(wave,flux, linewidth=5)\n",
    "plt.xlabel('Wavelength [$\\AA$]',fontsize=14,fontweight='bold')\n",
    "plt.ylabel('Flux [counts]',fontsize=14,fontweight='bold')\n",
    "plt.title('Reduced Spectrum of HD166379',fontsize=16,fontweight='bold')\n",
    "plt.show()"
   ]
  },
  {
   "cell_type": "markdown",
   "id": "30f97e2b-68ca-4ccd-88b2-29189ea53c6d",
   "metadata": {},
   "source": [
    "<a class=\"anchor\" id=\"Clean-up\"></a>\n",
    "# Clean-up (optional)\n",
    "\n",
    "Erase all fits files, lists, logs, and database created during the reduction. For that, uncomment the line below and execute. (This is necessary for instance if you wish to re-run the notebook, since some of the files produced can not be overwritten with Gemini IRAF.)"
   ]
  },
  {
   "cell_type": "code",
   "execution_count": null,
   "id": "947cfc49-cdfa-454b-80f2-25eac4727adc",
   "metadata": {},
   "outputs": [],
   "source": [
    "#!rm -f *N2019030*.fits Afx*.fits gmos.list gmos.log _sed tmp* # remove files\n",
    "#!rm -rf database/ # remove directories"
   ]
  },
  {
   "cell_type": "markdown",
   "id": "65299ed8-d1ec-4c2d-9249-24574af995fb",
   "metadata": {},
   "source": [
    "<a class=\"anchor\" id=\"Resources\"></a>\n",
    "# Resources\n",
    "\n",
    "US NGO GMOS Reduction Cookbook: https://noirlab.edu/science/programs/csdc/usngo/gmos-cookbook/\n",
    "\n",
    "GMOS longslit Hamamatsu reduction tutorial: https://gitlab.com/nsf-noirlab/csdc/usngo/IRAF_tutorials"
   ]
  }
 ],
 "metadata": {
  "kernelspec": {
   "display_name": "Gemini (Py2.7)",
   "language": "python",
   "name": "geminiconda"
  },
  "language_info": {
   "codemirror_mode": {
    "name": "ipython",
    "version": 2
   },
   "file_extension": ".py",
   "mimetype": "text/x-python",
   "name": "python",
   "nbconvert_exporter": "python",
   "pygments_lexer": "ipython2",
   "version": "2.7.18"
  }
 },
 "nbformat": 4,
 "nbformat_minor": 5
}
