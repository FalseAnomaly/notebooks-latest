{
 "cells": [
  {
   "cell_type": "code",
   "execution_count": 1,
   "id": "45b2410f-9454-4d30-aa12-b477752adbdf",
   "metadata": {},
   "outputs": [],
   "source": [
    "__author__ = 'Alice Jacques <alice.jacques@noirlab.edu>, Steve Pothier <steve.pothier@noirlab.edu>, Adam Bolton <adam.bolton@noirlab.edu>'\n",
    "__version__ = '20220926' # yyyymmdd; \n",
    "__datasets__ = ['sdss_dr16','boss_dr16']  \n",
    "__keywords__ = ['spectroscopy', 'HowTo', 'sdss spectra', 'tutorial']"
   ]
  },
  {
   "cell_type": "markdown",
   "id": "2f4d7bbd-5c36-4f02-8bbc-91a890d7f4d5",
   "metadata": {},
   "source": [
    "# How to use SPARCL\n",
    "MVP release of SPectra Analysis and Retrievable Catalog Lab (SPARCL)"
   ]
  },
  {
   "cell_type": "markdown",
   "id": "b33c904a-f1de-49e0-850d-1e8d00f15e3d",
   "metadata": {},
   "source": [
    "### Table of contents\n",
    "* [Goals & Summary](#goals)\n",
    "* [If necessary, install the most recent version of the SPARCL Client](#install)\n",
    "* [Imports and setup](#imports)\n",
    "* [Authentication](#auth)\n",
    "* [Data sets available in SPARCL](#datasets)\n",
    "* [Get the Default field names](#defaultfieldnames)\n",
    "* [Get All field names](#allfieldnames)\n",
    "* [Data discovery I: using SPARCL's <tt>client.find()</tt> method](#datadiscoveryI)\n",
    "* [Data discovery II: using Data Lab's <tt>sparcl.main</tt> table](#datadiscoveryII)\n",
    "* [Retrieve records using <tt>client.retrieve()</tt>](#retrieve)\n",
    "* [Join between IDs and spectrum records](#join)\n",
    "* [Access fields in records](#access)\n",
    "* [Convert retrieved output to Pandas DataFrame or Spectrum1D object](#convert)\n",
    "* [Plot spectra](#plot)\n",
    "* [Use <tt>client.missing()</tt> to find missing IDs in the SPARCL database](#missing)"
   ]
  },
  {
   "cell_type": "markdown",
   "id": "54de5b8f-b26c-446f-886b-4197a8524f49",
   "metadata": {},
   "source": [
    "<a class=\"anchor\" id=\"goals\"></a>\n",
    "## Goals & Summary \n",
    "\n",
    "SPARCL (SPectral Analysis and Retrievable Catalog Lab) is an online service for discovery and retrieval of one-dimensional optical-infrared spectra. SPARCL is designed to work for large survey datasets containing many millions of spectra, and to provide access to multiple different data sets through common methods. For more information, see the [SPARCL User Guide](https://astrosparcl.datalab.noirlab.edu/SPARCLUserManual).\n",
    "\n",
    "This notebook provides a basic introduction to using the SPARCL client (or sparclclient) to find and retrieve spectroscopic data within a Python notebook context. The sparclclient connects to the SPARCL server at [NSF's NOIRLab](https://noirlab.edu/public/) and provides access to the contents of the SPARCL database.\n",
    "\n",
    "To see the current data sets and number of spectra available in the SPARCL database, please visit the [SPARCL summary page](https://astrosparcl.datalab.noirlab.edu/sparc/).\n",
    "\n",
    "To get the latest sparclclient documentation, visit the [sparclclient readthedocs site](https://sparclclient.readthedocs.io/en/latest/).\n",
    "\n",
    "Feedback on SPARCL (questions, comments, science use cases, feature requests, bug reports, confusing error messages, etc.) can be submitted to datalab-spectro@noirlab.edu. For bug reports and confusing error messages, it's helpful if you include: a log of *what you did*, *the result you got*, and *the result you expected*."
   ]
  },
  {
   "cell_type": "markdown",
   "id": "fd649a7f-7e7d-4e46-940d-75e1e1e3b1c0",
   "metadata": {},
   "source": [
    "<a class=\"anchor\" id=\"install\"></a>\n",
    "### If necessary, install the most recent version of the SPARCL Client:\n",
    "### NOTE: After installing the most recent version, please restart your kernel."
   ]
  },
  {
   "cell_type": "code",
   "execution_count": 2,
   "id": "c9610266-dd30-451f-ab48-cb4217ee29c4",
   "metadata": {},
   "outputs": [],
   "source": [
    "## Uncomment the following only if SPARCL client is not already installed\n",
    "#!pip install sparclclient"
   ]
  },
  {
   "cell_type": "markdown",
   "id": "54f92d80-5b19-4819-9c48-7aca77d58e5d",
   "metadata": {},
   "source": [
    "<a class=\"anchor\" id=\"imports\"></a>\n",
    "## Imports and setup"
   ]
  },
  {
   "cell_type": "code",
   "execution_count": 3,
   "id": "e86a49f0-d3bc-444d-a9b2-a01f4b49330b",
   "metadata": {},
   "outputs": [],
   "source": [
    "# SPARCL imports\n",
    "from sparcl.client import SparclClient\n",
    "\n",
    "# 3rd party imports\n",
    "from time import time\n",
    "import numpy as np\n",
    "import astropy.units as u\n",
    "from specutils import Spectrum1D\n",
    "from astropy.nddata import InverseVariance\n",
    "from astropy.convolution import convolve, Gaussian1DKernel\n",
    "%matplotlib inline\n",
    "import matplotlib.pyplot as plt\n",
    "import pandas as pd\n",
    "\n",
    "# Data Lab imports\n",
    "from dl import queryClient as qc\n",
    "from dl import authClient as ac\n",
    "from getpass import getpass\n",
    "\n",
    "# plots default setup\n",
    "plt.rcParams['font.size'] = 14\n",
    "plt.rcParams['figure.figsize'] = (14,8)"
   ]
  },
  {
   "cell_type": "markdown",
   "id": "b91e9330-2fe6-4760-90de-87c8a889c29c",
   "metadata": {},
   "source": [
    "<a class=\"anchor\" id=\"auth\"></a>\n",
    "# Authentication\n",
    "Much of the functionality of Data Lab can be accessed without explicitly logging in (the service then uses an anonymous login). But some capacities, for instance saving the results of your queries to your virtual storage space, require a login (i.e. you will need a registered user account).\n",
    "\n",
    "If you need to log in to Data Lab, issue this command, and respond according to the instructions:"
   ]
  },
  {
   "cell_type": "code",
   "execution_count": 4,
   "id": "a52526d2-c10d-4597-a33f-1c1d5a5d0338",
   "metadata": {},
   "outputs": [
    {
     "data": {
      "text/plain": [
       "'demo00'"
      ]
     },
     "execution_count": 4,
     "metadata": {},
     "output_type": "execute_result"
    }
   ],
   "source": [
    "#ac.login(input(\"Enter user name: (+ENTER) \"),getpass(\"Enter password: (+ENTER) \"))\n",
    "ac.whoAmI()"
   ]
  },
  {
   "cell_type": "markdown",
   "id": "97737c1b-9543-4855-837d-f32622f38bfd",
   "metadata": {},
   "source": [
    "#### We now create a SPARCL client and print out version information:"
   ]
  },
  {
   "cell_type": "code",
   "execution_count": 5,
   "id": "0cbfabb9-9a9a-448c-a02c-93bde065fbe8",
   "metadata": {},
   "outputs": [
    {
     "data": {
      "text/plain": [
       "(sparclclient:1.0.0, api:8.0, https://astrosparcl.datalab.noirlab.edu/sparc, verbose=False, connect_timeout=1.1, read_timeout=5400.0)"
      ]
     },
     "execution_count": 5,
     "metadata": {},
     "output_type": "execute_result"
    }
   ],
   "source": [
    "client = SparclClient()\n",
    "client"
   ]
  },
  {
   "cell_type": "code",
   "execution_count": 8,
   "id": "a4575c4f-f559-4720-95f4-819daa8a57ea",
   "metadata": {},
   "outputs": [
    {
     "ename": "NameError",
     "evalue": "name 'sparcl' is not defined",
     "output_type": "error",
     "traceback": [
      "\u001b[0;31m---------------------------------------------------------------------------\u001b[0m",
      "\u001b[0;31mNameError\u001b[0m                                 Traceback (most recent call last)",
      "\u001b[0;32m<ipython-input-8-d9aa7cbad54d>\u001b[0m in \u001b[0;36m<module>\u001b[0;34m\u001b[0m\n\u001b[0;32m----> 1\u001b[0;31m \u001b[0mhelp\u001b[0m\u001b[0;34m(\u001b[0m\u001b[0msparcl\u001b[0m\u001b[0;34m.\u001b[0m\u001b[0mclient\u001b[0m\u001b[0;34m)\u001b[0m\u001b[0;34m\u001b[0m\u001b[0;34m\u001b[0m\u001b[0m\n\u001b[0m",
      "\u001b[0;31mNameError\u001b[0m: name 'sparcl' is not defined"
     ]
    }
   ],
   "source": [
    "help(sparcl.client)"
   ]
  },
  {
   "cell_type": "markdown",
   "id": "26df21ea-9dfe-4a8b-8d80-8e2096b2af57",
   "metadata": {},
   "source": [
    "<a class=\"anchor\" id=\"datasets\"></a>\n",
    "## Data sets available in SPARCL\n",
    "List all currently available data sets from the server/url associated with client"
   ]
  },
  {
   "cell_type": "code",
   "execution_count": null,
   "id": "b612c330-c743-40a4-94e2-6c47dcb31a65",
   "metadata": {},
   "outputs": [],
   "source": [
    "client.all_datasets"
   ]
  },
  {
   "cell_type": "markdown",
   "id": "6bc0adbb-de83-4e5a-85d5-795a651f97ce",
   "metadata": {},
   "source": [
    "<a class=\"anchor\" id=\"defaultfieldnames\"></a>\n",
    "## Get Default field names\n",
    "Gets fields tagged as 'default' that are common to all data sets in the `dataset_list` passed to the function. If `dataset_list` is None (the default), the function returns the intersection of 'default' fields across all datasets currently available in the SPARC database. The following example of this function produces the same output as it would with no `dataset_list` argument because we currently only have SDSS-DR16 and BOSS-DR16 records in the SPARC database."
   ]
  },
  {
   "cell_type": "code",
   "execution_count": null,
   "id": "158d6cc5-fb09-462e-bb7a-2618388b9965",
   "metadata": {},
   "outputs": [],
   "source": [
    "client.get_default_fields?"
   ]
  },
  {
   "cell_type": "code",
   "execution_count": null,
   "id": "90606d1b-0117-4edd-93a6-d1166aa0a1b5",
   "metadata": {},
   "outputs": [],
   "source": [
    "client.get_default_fields(dataset_list=['SDSS-DR16', 'BOSS-DR16'])"
   ]
  },
  {
   "cell_type": "markdown",
   "id": "d7e93c80-41a5-4132-9df2-882625d89915",
   "metadata": {},
   "source": [
    "<a class=\"anchor\" id=\"allfieldnames\"></a>\n",
    "## Get All field names\n",
    "Gets fields tagged as 'all' that are common to all data sets in the `dataset_list` passed to the function. If `dataset_list` is None (the default), the function returns the intersection of 'all' fields across all datasets currently available in the SPARC database.  The following example of this function produces the same output as it would with no `dataset_list` argument because we currently only have SDSS-DR16 and BOSS-DR16 records in the SPARC database."
   ]
  },
  {
   "cell_type": "code",
   "execution_count": null,
   "id": "e6808ef8-a037-4d85-b81e-a021d92ea188",
   "metadata": {},
   "outputs": [],
   "source": [
    "client.get_all_fields?"
   ]
  },
  {
   "cell_type": "code",
   "execution_count": null,
   "id": "a6d5de70-1b50-4c0b-8d24-7eaadb892dbe",
   "metadata": {},
   "outputs": [],
   "source": [
    "print(sorted(client.get_all_fields(dataset_list=['SDSS-DR16', 'BOSS-DR16'])))"
   ]
  },
  {
   "cell_type": "markdown",
   "id": "b150b159-5011-4df6-89d3-cea14dcb3f18",
   "metadata": {},
   "source": [
    "<a class=\"anchor\" id=\"datadiscoveryI\"></a>\n",
    "## Data discovery I: using SPARCL's `client.find()` method\n",
    "The first way you can discover your data is by using SPARCL's `client.find()` method, which allows you to find records in the SPARCL database based on certain parameters passed to the function. Only Core fields may be in the `outfields` and `constraints` parameters. The descriptions for all fields, including Core fields, is located [here](https://astrosparcl.datalab.noirlab.edu/sparc/sfc/). The SPARCL Core fields constraint types are:\n",
    "\n",
    "\n",
    "| Field name       | Constraint type | Example |\n",
    "|:----------------|:---------------|:-------|\n",
    "| id               | List of values (but not<br>intended for data discovery) | ['00001658-460c-4da1-987d-e493d8c9b89b',<br>'000017b6-56a2-4f87-8828-3a3409ba1083']\n",
    "| specid           | List of values | [6988698046080241664, 6971782884823945216]\n",
    "| targetid         | List of values | [1237679502171374316, 1237678619584692841]\n",
    "| data_release     | List of allowed values<br>from [SPARCL Categoricals](https://astrosparcl.datalab.noirlab.edu/sparc/cats/) | ['BOSS-DR16', 'SDSS-DR16']\n",
    "| datasetgroup     | List of allowed values<br>from [SPARCL Categoricals](https://astrosparcl.datalab.noirlab.edu/sparc/cats/) | ['SDSS_BOSS']\n",
    "| ra               | Range of values (may not<br>\"wrap\" around RA=0) | [44.53, 47.96]\n",
    "| dec              | Range of values | [2.03, 7.76]\n",
    "| redshift         | Range of values | [0.5, 0.9]\n",
    "| redshift_err     | Range of values | [0.000225, 0.000516]\n",
    "| redshift_warning | List of values  | [0, 3, 5]\n",
    "| spectype         | List of allowed values<br>from [SPARCL Categoricals](https://astrosparcl.datalab.noirlab.edu/sparc/cats/) | ['GALAXY', 'STAR']\n",
    "| instrument       | List of allowed values<br>from [SPARCL Categoricals](https://astrosparcl.datalab.noirlab.edu/sparc/cats/) | ['SDSS', 'BOSS']\n",
    "| telescope        | List of allowed values<br>from [SPARCL Categoricals](https://astrosparcl.datalab.noirlab.edu/sparc/cats/) | ['sloan25m']\n",
    "| site             | List of allowed values<br>from [SPARCL Categoricals](https://astrosparcl.datalab.noirlab.edu/sparc/cats/) |  ['apo']\n",
    "| specprimary      | List of values (but typically<br>would only include 1 if<br>being used for data<br>discovery constraints) | [1]\n",
    "| wavemin          | Range of values | [3607, 3608]\n",
    "| wavemax          | Range of values | [10363, 10364]\n",
    "| dateobs_center   | Range of values | ['2013-03-14T10:16:17Z',<br>'2014-05-24T12:10:00Z']\n",
    "| exptime          | Range of values | [3603.46, 3810.12]\n",
    "| updated          | Range of values | ['2022-08-20T21:37:50.636363Z',<br>'2022-09-20T20:00:00.000000Z']\n"
   ]
  },
  {
   "cell_type": "code",
   "execution_count": null,
   "id": "ff16fd4c-731e-4f03-8d5d-595278a9d61f",
   "metadata": {},
   "outputs": [],
   "source": [
    "client.find?"
   ]
  },
  {
   "cell_type": "markdown",
   "id": "c813edfc-479a-40ec-a00e-ed312055267c",
   "metadata": {},
   "source": [
    "#### Define the fields we want returned (`outfields`) and the constraints (`constraints`):"
   ]
  },
  {
   "cell_type": "code",
   "execution_count": null,
   "id": "398fedc1-b73c-41ef-8583-ca01ee8cc404",
   "metadata": {},
   "outputs": [],
   "source": [
    "out = ['id', 'ra', 'dec', 'redshift', 'spectype', 'data_release', 'redshift_err']\n",
    "cons = {'spectype': ['GALAXY'],\n",
    "        'redshift': [0.5, 0.9],\n",
    "        'data_release': ['BOSS-DR16', 'SDSS-DR16']}"
   ]
  },
  {
   "cell_type": "markdown",
   "id": "5dc3f11f-9e6b-493b-a3f9-39be9b080b79",
   "metadata": {},
   "source": [
    "#### Execute the `client.find()` method with our parameters:\n",
    "The `limit` argument here is being used for demonstration purposes only, and simply returns only the first 20 results here."
   ]
  },
  {
   "cell_type": "code",
   "execution_count": null,
   "id": "96e84ae0-05d6-4ede-b5d8-b71801a1c508",
   "metadata": {},
   "outputs": [],
   "source": [
    "found_I = client.find(outfields=out, constraints=cons, limit=20)\n",
    "[\"%s, %f, %f, %f\" % (f['id'],f['ra'],f['redshift'],f['redshift_err']) for f in found_I.records]"
   ]
  },
  {
   "cell_type": "markdown",
   "id": "318188d0-4979-49fc-bcbf-15f5e6c68cc7",
   "metadata": {},
   "source": [
    "<a class=\"anchor\" id=\"datadiscoveryII\"></a>\n",
    "## Data discovery II: using Data Lab's `sparcl.main` table\n",
    "The second way you can discover your data is by querying the `sparcl.main` table hosted at Data Lab. This table contains the following columns:\n"
   ]
  },
  {
   "cell_type": "code",
   "execution_count": null,
   "id": "7fd22d37-9d35-47f2-8c1d-57cab3a899e6",
   "metadata": {},
   "outputs": [],
   "source": [
    "print(qc.schema('sparcl.main'))"
   ]
  },
  {
   "cell_type": "markdown",
   "id": "7eeca1eb-f910-4347-97bb-084c8b1c8d9c",
   "metadata": {},
   "source": [
    "#### Query this table for a few rows of data:"
   ]
  },
  {
   "cell_type": "code",
   "execution_count": null,
   "id": "992affa0-ed13-4967-b4a1-183bf0e3dcea",
   "metadata": {},
   "outputs": [],
   "source": [
    "q = \"\"\"SELECT \n",
    "            id, ra, dec, redshift, spectype, data_release, redshift_err\n",
    "        FROM \n",
    "            sparcl.main\n",
    "        WHERE \n",
    "            spectype='GALAXY'\n",
    "            AND redshift>=0.5 AND redshift<=0.9\n",
    "            AND (data_release='BOSS-DR16' OR data_release='SDSS-DR16')\n",
    "            AND random_id BETWEEN 15.1 AND 15.4\n",
    "        LIMIT 20\n",
    "    \"\"\"\n",
    "found_II = qc.query(sql=q, fmt='pandas')  # output as Pandas DataFrame\n",
    "found_II"
   ]
  },
  {
   "cell_type": "markdown",
   "id": "bef1ccc0-4cf3-4fa7-9a50-cf353bb1015d",
   "metadata": {},
   "source": [
    "<a class=\"anchor\" id=\"retrieve\"></a>\n",
    "## Retrieve records using `client.retrieve()`\n",
    "In order to retrieve spectra records from SPARCL, pass the following to the `client.retrieve()` function:\n",
    "```\n",
    "uuid_list : List of IDs.\n",
    "dataset_list : List of data sets to search for the IDs in (default: None).\n",
    "include : List of field names to include in each record (default: 'DEFAULT').\n",
    "```\n",
    "\n",
    "**NOTE: A reasonable amount of records to request retrieval of is about 10,000. Exceeding this value may cause the retrieval to timeout or fail.**"
   ]
  },
  {
   "cell_type": "code",
   "execution_count": null,
   "id": "793050a3-bf05-400d-97e1-7807954525b6",
   "metadata": {},
   "outputs": [],
   "source": [
    "client.retrieve?"
   ]
  },
  {
   "cell_type": "markdown",
   "id": "0cd018ff-a3da-4be1-820a-130915c9f408",
   "metadata": {},
   "source": [
    "#### Use the IDs from the output of using `client.find()` to retrieve records from SPARCL:\n",
    "Note that `ids` in `found_I.ids` is a property name of the Found class. It is a list of records from all records, not a field name of a record."
   ]
  },
  {
   "cell_type": "code",
   "execution_count": null,
   "id": "3e775ec7-cfb1-4900-aba1-7aac24ff62ed",
   "metadata": {},
   "outputs": [],
   "source": [
    "# Define the fields to include in the retrieve function\n",
    "inc = ['id', 'data_release', 'redshift', 'flux', 'wavelength', 'model', 'ivar', 'mask', 'spectype']"
   ]
  },
  {
   "cell_type": "code",
   "execution_count": null,
   "id": "da84bdd5-36b8-4a71-be4e-d035ca745a27",
   "metadata": {},
   "outputs": [],
   "source": [
    "%%time\n",
    "ids_I = found_I.ids\n",
    "results_I = client.retrieve(uuid_list=ids_I,\n",
    "                          include=inc,\n",
    "                          dataset_list=['SDSS-DR16','BOSS-DR16'])\n",
    "results_I.info"
   ]
  },
  {
   "cell_type": "markdown",
   "id": "7f7390bb-a063-4e6d-923c-9c0ff43ad6fc",
   "metadata": {},
   "source": [
    "#### Use the IDs from the `sparcl.main` table to retrieve records from SPARCL:"
   ]
  },
  {
   "cell_type": "code",
   "execution_count": null,
   "id": "83d996bc-067c-48ac-9145-734fdd2ddea2",
   "metadata": {},
   "outputs": [],
   "source": [
    "%%time\n",
    "ids_II = found_II['id']\n",
    "results_II = client.retrieve(uuid_list=ids_II,\n",
    "                          include=inc,\n",
    "                          dataset_list=['SDSS-DR16','BOSS-DR16'])\n",
    "results_II.info"
   ]
  },
  {
   "cell_type": "markdown",
   "id": "195b56ce-f3ff-486d-90de-2c92fd384038",
   "metadata": {},
   "source": [
    "<a class=\"anchor\" id=\"join\"></a>\n",
    "## Join between IDs and spectrum records\n",
    "The ordering of the results of `client.retrieve()` are not necessarily sorted to match the order of the ids in the argument passed to the method. The following code shows one way to join between input IDs and output records. Joining in this way additionally allows for the possibility of missing records and duplicates, although those should not occur if the argument to `client.find()` is a list of valid universally unique SPARCL IDs."
   ]
  },
  {
   "cell_type": "code",
   "execution_count": null,
   "id": "a29c7965",
   "metadata": {},
   "outputs": [],
   "source": [
    "spec_ids_I = np.asarray([this_rec.id for this_rec in results_I.records])\n",
    "spec_ids_II = np.asarray([this_rec.id for this_rec in results_II.records])\n",
    "spec_match_I = [np.where(spec_ids_I == this_id)[0] for this_id in ids_I]\n",
    "spec_match_II = [np.where(spec_ids_II == this_id)[0] for this_id in ids_II]\n",
    "spec_match_II"
   ]
  },
  {
   "cell_type": "markdown",
   "id": "ae67a4a7-30e5-4127-be7b-01870d07b829",
   "metadata": {},
   "source": [
    "<a class=\"anchor\" id=\"access\"></a>\n",
    "## Access fields in records\n",
    "You can access the fields from records by using dot notation and dictionary indexing."
   ]
  },
  {
   "cell_type": "markdown",
   "id": "f63b8ab8-d5b3-4140-9ffb-5babd0232ce6",
   "metadata": {},
   "source": [
    "#### Accessing a record from our example using `client.find()` and `client.retrieve()`:"
   ]
  },
  {
   "cell_type": "code",
   "execution_count": null,
   "id": "ef4dc96a-b13d-4679-8a7f-c8461969d0be",
   "metadata": {},
   "outputs": [],
   "source": [
    "records_I = results_I.records[0]\n",
    "\n",
    "id_I = records_I.id\n",
    "data_release_I = records_I.data_release\n",
    "redshift_I = records_I.redshift\n",
    "flux_I = records_I.flux\n",
    "wavelength_I = records_I.wavelength\n",
    "model_I = records_I.model\n",
    "ivar_I = records_I.ivar\n",
    "mask_I = records_I.mask\n",
    "spectype_I = records_I.spectype"
   ]
  },
  {
   "cell_type": "markdown",
   "id": "88f6ce99-ee90-425f-92e5-94a2fcad9d58",
   "metadata": {},
   "source": [
    "<a class=\"anchor\" id=\"convert\"></a>\n",
    "## Convert retrieved output to Pandas DataFrame or Spectrum1D object"
   ]
  },
  {
   "cell_type": "markdown",
   "id": "76361815-ea8a-4bc5-9ed0-d1fdd1b20482",
   "metadata": {},
   "source": [
    "#### Pandas DataFrame:"
   ]
  },
  {
   "cell_type": "code",
   "execution_count": null,
   "id": "6b132668-8b93-470b-aa9a-8c68db5fad61",
   "metadata": {},
   "outputs": [],
   "source": [
    "df = pd.DataFrame([[r.id, r.redshift, r.wavelength, r.flux,]\n",
    "                    for r in results_I.records],\n",
    "                  columns=['id', 'redshift', 'wavelength', 'flux'])\n",
    "df"
   ]
  },
  {
   "cell_type": "markdown",
   "id": "ae3d37be-4f53-48b7-b4c3-b3a4478bfa80",
   "metadata": {},
   "source": [
    "#### Spectrum1D:\n",
    "When applicable, the units for each field are documented on the [Fields tab of the astrosparcl website](https://astrosparcl.datalab.noirlab.edu/sparc/sfc/)"
   ]
  },
  {
   "cell_type": "code",
   "execution_count": null,
   "id": "6f50c0b4-e112-4e96-9763-7c716c758419",
   "metadata": {},
   "outputs": [],
   "source": [
    "specs = [Spectrum1D(spectral_axis = r.wavelength*u.AA,\n",
    "                    flux = np.array(r.flux)* 10**-17 * u.Unit('erg cm-2 s-1 AA-1'),\n",
    "                    uncertainty = InverseVariance(np.array(r.ivar)),\n",
    "                    redshift = r.redshift,\n",
    "                    mask = r.mask)\n",
    "        for r in results_I.records]\n",
    "specs[0]"
   ]
  },
  {
   "cell_type": "code",
   "execution_count": null,
   "id": "931e87ef-11e4-42e4-96cc-7c63d50b0d49",
   "metadata": {},
   "outputs": [],
   "source": [
    "# Plot a couple\n",
    "f, ax = plt.subplots()  \n",
    "ax.step(specs[0].spectral_axis, specs[0].flux) \n",
    "ax.step(specs[1].spectral_axis, specs[1].flux)\n",
    "plt.show()"
   ]
  },
  {
   "cell_type": "markdown",
   "id": "fe520b15-2063-4c6e-beb0-64050889c3cd",
   "metadata": {},
   "source": [
    "<a class=\"anchor\" id=\"plot\"></a>\n",
    "## Plot spectra"
   ]
  },
  {
   "cell_type": "code",
   "execution_count": null,
   "id": "8405a5b5-7387-4a9d-acd8-3b29bbd91008",
   "metadata": {},
   "outputs": [],
   "source": [
    "def plot_spec(index, results):\n",
    "    \"\"\"\n",
    "    Pass an index value and the output from using client.retrieve()\n",
    "    to plot the spectrum at the specified index.\n",
    "    \"\"\"\n",
    "    \n",
    "    record = results.records[index]\n",
    "\n",
    "    id_ = record.id\n",
    "    data_release = record.data_release\n",
    "    flux = record.flux\n",
    "    wavelength = record.wavelength\n",
    "    model = record.model\n",
    "    spectype = record.spectype\n",
    "\n",
    "    plt.title(f\"Data Set = {data_release}, spectype = {spectype}, id = {id_}\")\n",
    "    plt.xlabel('$\\lambda\\ [\\AA]$')\n",
    "    plt.ylabel('$f_{\\lambda}$ $(10^{-17}$ $erg$ $s^{-1}$ $cm^{-2}$ $\\AA^{-1})$')\n",
    "    \n",
    "    # Plot unsmoothed spectrum in grey\n",
    "    plt.plot(wavelength, flux, color='k', alpha=0.2, label='Unsmoothed spectrum')\n",
    "    \n",
    "    # Overplot spectrum smoothed using a 1-D Gaussian Kernel in black\n",
    "    plt.plot(wavelength, convolve(flux, Gaussian1DKernel(5)), color='k', label='Smoothed spectrum')\n",
    "    \n",
    "    # Overplot the model spectrum in red\n",
    "    plt.plot(wavelength, model, color='r', label='Model spectrum')\n",
    "    \n",
    "    plt.legend()\n",
    "    plt.show()"
   ]
  },
  {
   "cell_type": "code",
   "execution_count": null,
   "id": "4b575d8b-2e9f-4c57-b411-761a7f7c02bc",
   "metadata": {},
   "outputs": [],
   "source": [
    "plot_spec(index=2, results=results_I)"
   ]
  },
  {
   "cell_type": "markdown",
   "id": "1ce77e44-1f63-4bcc-a1d5-1b657727d913",
   "metadata": {},
   "source": [
    "<a class=\"anchor\" id=\"missing\"></a>\n",
    "## Use `client.missing()` to find missing IDs in the SPARCL database"
   ]
  },
  {
   "cell_type": "code",
   "execution_count": null,
   "id": "5811e70f-99bf-40f6-be9b-0cee5e0059c0",
   "metadata": {},
   "outputs": [],
   "source": [
    "client.missing?"
   ]
  },
  {
   "cell_type": "markdown",
   "id": "25c70152-b2c6-48fa-92be-eb13ac286ddd",
   "metadata": {},
   "source": [
    "#### When you try to retrieve records from the SPARCL database with IDs that do not exist in the SPARCL database, a warning message will appear:"
   ]
  },
  {
   "cell_type": "code",
   "execution_count": null,
   "id": "c7dde612-9893-4d0d-90f9-27c1f19e85d6",
   "metadata": {},
   "outputs": [],
   "source": [
    "ids_test = ['00001658-460c-4da1-987d-e493d8c9b89b',\n",
    "            '000017b6-56a2-4f87-8828-3a3409ba1083',\n",
    "            '00001c20-b7ff-4367-af08-26432cd7e01d',\n",
    "            'c7436b52-f7a5-442b-a9e0-f37a3e23b5f9',\n",
    "            'ddbb57ee-8e90-4a0d-823b-0f5d97028076']\n",
    "\n",
    "res_test = client.retrieve(uuid_list=ids_test)"
   ]
  },
  {
   "cell_type": "markdown",
   "id": "0af25f03-23c5-4de3-a600-6d74c3766e02",
   "metadata": {},
   "source": [
    "#### In order to figure out which of the IDs from your list do not exist in the SPARCL database, use the `client.missing()` method:"
   ]
  },
  {
   "cell_type": "code",
   "execution_count": null,
   "id": "2f82da1d-780c-419a-9e09-bb6157267338",
   "metadata": {},
   "outputs": [],
   "source": [
    "client.missing(uuid_list=ids_test)"
   ]
  }
 ],
 "metadata": {
  "kernelspec": {
   "display_name": "Python 3",
   "language": "python",
   "name": "python3"
  },
  "language_info": {
   "codemirror_mode": {
    "name": "ipython",
    "version": 3
   },
   "file_extension": ".py",
   "mimetype": "text/x-python",
   "name": "python",
   "nbconvert_exporter": "python",
   "pygments_lexer": "ipython3",
   "version": "3.8.8"
  }
 },
 "nbformat": 4,
 "nbformat_minor": 5
}
