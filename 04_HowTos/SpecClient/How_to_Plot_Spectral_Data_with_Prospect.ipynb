{
 "cells": [
  {
   "cell_type": "code",
   "execution_count": null,
   "metadata": {},
   "outputs": [],
   "source": [
    "__author__ = 'Benjamin Weaver <benjamin.weaver@noirlab.edu>'\n",
    "__version__ = '20210125'\n",
    "__datasets__ = ['sdss_dr16']\n",
    "__keywords__ = ['HowTo','spectra','query','visualization','SDSS']"
   ]
  },
  {
   "cell_type": "markdown",
   "metadata": {},
   "source": [
    "# How to Plot Spectral Data with Prospect, Specutils and the Data Lab Spectrum Service\n",
    "\n",
    "## Table of Contents\n",
    "\n",
    "* [Goals](#Goals)\n",
    "* [Summary](#Summary)\n",
    "* [Disclaimer & Attribution](#Disclaimer-&-Attribution)\n",
    "* [Imports & Setup](#Imports-&-Setup)\n",
    "* [References & Resources](#References-&-Resources)\n",
    "\n",
    "## Goals\n",
    "\n",
    "Obtain SDSS spectra using the Data Lab spectrum service, convert data to [specutils](https://github.com/astropy/specutils) objects as needed, and use [prospect](https://github.com/desihub/prospect) to display the data.\n",
    "\n",
    "## Summary\n",
    "\n",
    "Prospect is an *interactive* spectrum visualization service that is being actively used by the DESI project for visual inspection of commissioning and survey validation spectra right now.  Rather than just a simple *flux* versus *wavelength* plot, the interactive spectrum display provides pan, zoom, known spectral lines, targeting and other catalog information, metadata, *etc.*  The [Bokeh](https://bokeh.org) library handles the low-level interactivity.\n",
    "\n",
    "We can leverage the generic spectrum container objects provided by [specutils](https://github.com/astropy/specutils) to allow Prospect to plot data from other surveys.  In this example, we are using [SDSS DR16](https://www.sdss.org/dr16/).\n",
    "\n",
    "In the future we will extend this functionality to additional instruments.  For example, we are excited by the possibility of using Prospect and the Data Lab spectrum service for Gemini spectra.\n",
    "\n",
    "## Disclaimer & Attribution\n",
    "\n",
    "If you use this notebook for your published science, please acknowledge the following:\n",
    "\n",
    "* Data Lab concept paper: Fitzpatrick et al., \"The NOAO Data Laboratory: a conceptual overview\", SPIE, 9149, 2014, http://dx.doi.org/10.1117/12.2057445\n",
    "* Data Lab disclaimer: https://datalab.noirlab.edu/disclaimers.php"
   ]
  },
  {
   "cell_type": "markdown",
   "metadata": {},
   "source": [
    "## Imports & Setup\n",
    "\n",
    "**TODO**: final clean-up needed when prospect is installed on the production server."
   ]
  },
  {
   "cell_type": "code",
   "execution_count": 1,
   "metadata": {},
   "outputs": [],
   "source": [
    "import os\n",
    "import sys\n",
    "# Manually install prospect for now.\n",
    "sys.path.insert(0, os.path.join(os.environ['HOME'], 'Documents', 'Code', 'git', 'desihub', 'prospect', 'py'))\n",
    "import numpy as np\n",
    "import astropy.units as u\n",
    "from astropy.table import Table\n",
    "from astropy.nddata import InverseVariance\n",
    "from specutils import Spectrum1D, SpectrumCollection, SpectrumList\n",
    "from prospect.specutils import read_spPlate, read_spZbest\n",
    "from prospect.plotspecutils import plotspectra\n",
    "from dl import queryClient as qc, storeClient as sc, specClient as spec"
   ]
  },
  {
   "cell_type": "markdown",
   "metadata": {},
   "source": [
    "## SDSS/eBOSS spPlate file\n",
    "\n",
    "SDSS spectra are stored per-plate in spPlate files.  These contain 640 spectra for the original SDSS spectrograph or 1000 spectra for the BOSS/eBOSS spectrograph.  All spPlate files have a common wavelength solution, so a spPlate file can be represented by a [Spectrum1D](https://specutils.readthedocs.io/en/stable/api/specutils.Spectrum1D.html#specutils.Spectrum1D) object.  This object is an input to the visualization system, so we need to get outputs from the spectrum service that match the inputs to the visualization."
   ]
  },
  {
   "cell_type": "markdown",
   "metadata": {},
   "source": [
    "## Find Plate 2955 in the Spectrum Service\n",
    "\n",
    "### Plate Location\n",
    "\n",
    "Here we find spectra corresponding to SDSS plate 2955, but using the spectrum service instead of reading the spectra from a file."
   ]
  },
  {
   "cell_type": "code",
   "execution_count": 4,
   "metadata": {},
   "outputs": [
    {
     "data": {
      "text/plain": [
       "array([235.4204  ,   1.644156])"
      ]
     },
     "execution_count": 4,
     "metadata": {},
     "output_type": "execute_result"
    }
   ],
   "source": [
    "plate = 2955\n",
    "# What the heck? Can't use a semicolon any longer?\n",
    "# q = \"SELECT ra, dec FROM sdss_dr16.platex WHERE plate = %d;\" % plate\n",
    "q = \"SELECT ra, dec FROM sdss_dr16.platex WHERE plate = {0:d}\".format(plate)\n",
    "r = qc.query(sql=q, fmt='array')\n",
    "r"
   ]
  },
  {
   "cell_type": "markdown",
   "metadata": {},
   "source": [
    "### Spectrum Identifiers\n",
    "\n",
    "SDSS plates are circular, so we'll do a cone search around the nominal plate center.  This gets us the spectrum identifiers we need to retrieve the spectra themselves."
   ]
  },
  {
   "cell_type": "code",
   "execution_count": 3,
   "metadata": {},
   "outputs": [
    {
     "data": {
      "text/plain": [
       "array([3327035125891360768, 3327036500280895488, 3327037050036709376,\n",
       "       3327038424426244096, 3327038974182057984, 3327040073693685760,\n",
       "       3327040348571592704, 3327040623449499648, 3327040898327406592,\n",
       "       3327041173205313536, 3327041722961127424, 3327041997839034368,\n",
       "       3327042822472755200, 3327043097350662144, 3327043372228569088,\n",
       "       3327043921984382976, 3327044196862289920, 3327045021496010752,\n",
       "       3327045296373917696, 3327046121007638528, 3327046670763452416,\n",
       "       3327047495397173248, 3327048045152987136, 3327048320030894080,\n",
       "       3327048594908801024, 3327048869786707968, 3327049144664614912,\n",
       "       3327049419542521856, 3327049694420428800, 3327050244176242688,\n",
       "       3327051068809963520, 3327051343687870464, 3327052443199498240,\n",
       "       3327052992955312128, 3327053267833219072, 3327053817589032960,\n",
       "       3327054092466939904, 3327054642222753792, 3327054917100660736,\n",
       "       3327055191978567680, 3327055466856474624, 3327056016612288512,\n",
       "       3327056566368102400, 3327056841246009344, 3327057116123916288,\n",
       "       3327057391001823232, 3327057665879730176, 3327057940757637120,\n",
       "       3327058215635544064, 3327058490513451008])"
      ]
     },
     "execution_count": 3,
     "metadata": {},
     "output_type": "execute_result"
    }
   ],
   "source": [
    "sdss_ids = spec.query(r[0], r[1], 1.5, fmt='array', out='', constraint='plate=2955 ORDER BY specobjid LIMIT 50')\n",
    "sdss_ids"
   ]
  },
  {
   "cell_type": "markdown",
   "metadata": {},
   "source": [
    "### Spectrum Service: Flux versus Wavelength\n",
    "\n",
    "Now we fetch the spectra.  The returned data will be compacted into a single `Spectrum1D` object."
   ]
  },
  {
   "cell_type": "code",
   "execution_count": 5,
   "metadata": {},
   "outputs": [
    {
     "name": "stdout",
     "output_type": "stream",
     "text": [
      "CPU times: user 99.5 ms, sys: 54.3 ms, total: 154 ms\n",
      "Wall time: 603 ms\n"
     ]
    },
    {
     "data": {
      "text/plain": [
       "<Spectrum1D(flux=<Quantity [[0., 0., 0., ..., 0., 0., 0.],\n",
       "           [0., 0., 0., ..., 0., 0., 0.],\n",
       "           [0., 0., 0., ..., 0., 0., 0.],\n",
       "           ...,\n",
       "           [0., 0., 0., ..., 0., 0., 0.],\n",
       "           [0., 0., 0., ..., 0., 0., 0.],\n",
       "           [0., 0., 0., ..., 0., 0., 0.]] erg / (Angstrom cm2 s)>, spectral_axis=<SpectralCoord [3802.77  , 3803.6448, 3804.522 , ..., 9217.223 , 9219.344 ,\n",
       "                9221.464 ] Angstrom, \n",
       "\tradial_velocity=0.0 km / s, \n",
       "\tredshift=0.0, \n",
       "\tdoppler_rest=0.0 Angstrom, \n",
       "\tdoppler_convention=None, \n",
       "\tobserver=None, \n",
       "\ttarget=None>, uncertainty=InverseVariance([[0., 0., 0., ..., 0., 0., 0.],\n",
       "                 [0., 0., 0., ..., 0., 0., 0.],\n",
       "                 [0., 0., 0., ..., 0., 0., 0.],\n",
       "                 ...,\n",
       "                 [0., 0., 0., ..., 0., 0., 0.],\n",
       "                 [0., 0., 0., ..., 0., 0., 0.],\n",
       "                 [0., 0., 0., ..., 0., 0., 0.]]))>"
      ]
     },
     "execution_count": 5,
     "metadata": {},
     "output_type": "execute_result"
    }
   ],
   "source": [
    "%%time\n",
    "sdss = spec.getSpec(sdss_ids, fmt='Spectrum1D', align=True)\n",
    "sdss"
   ]
  },
  {
   "cell_type": "markdown",
   "metadata": {},
   "source": [
    "### Redshift and other Metadata\n",
    "\n",
    "We also need target and redshift information, which is stored in the SpecObj catalog.  Although all information is extractable from the database, we need to reformat it to match the expectations of Prospect."
   ]
  },
  {
   "cell_type": "code",
   "execution_count": 6,
   "metadata": {},
   "outputs": [
    {
     "data": {
      "text/html": [
       "<i>Table length=50</i>\n",
       "<table id=\"table139974782589392\" class=\"table-striped table-bordered table-condensed\">\n",
       "<thead><tr><th>SPECOBJID</th><th>CLASS</th><th>SUBCLASS</th><th>Z</th><th>Z_ERR</th><th>RCHI2DIFF</th><th>ZWARNING</th></tr></thead>\n",
       "<thead><tr><th>int64</th><th>str6</th><th>str11</th><th>float64</th><th>float64</th><th>float64</th><th>int64</th></tr></thead>\n",
       "<tr><td>3327035125891360768</td><td>GALAXY</td><td>--</td><td>0.262199</td><td>6.42647e-05</td><td>0.161533</td><td>0</td></tr>\n",
       "<tr><td>3327036500280895488</td><td>GALAXY</td><td>--</td><td>0.21097</td><td>5.79199e-05</td><td>0.139213</td><td>0</td></tr>\n",
       "<tr><td>3327037050036709376</td><td>STAR</td><td>K5</td><td>-2.34944e-06</td><td>1.43502e-05</td><td>0.496992</td><td>0</td></tr>\n",
       "<tr><td>3327038424426244096</td><td>GALAXY</td><td>--</td><td>0.260543</td><td>6.22988e-05</td><td>0.225588</td><td>0</td></tr>\n",
       "<tr><td>3327038974182057984</td><td>GALAXY</td><td>--</td><td>0.112768</td><td>1.59947e-05</td><td>0.510905</td><td>0</td></tr>\n",
       "<tr><td>3327040073693685760</td><td>GALAXY</td><td>--</td><td>0.0636493</td><td>2.83125e-05</td><td>0.424366</td><td>0</td></tr>\n",
       "<tr><td>3327040348571592704</td><td>GALAXY</td><td>--</td><td>0.208361</td><td>4.18928e-05</td><td>1.17941</td><td>0</td></tr>\n",
       "<tr><td>3327040623449499648</td><td>GALAXY</td><td>--</td><td>0.0</td><td>0.0</td><td>0.0</td><td>134</td></tr>\n",
       "<tr><td>3327040898327406592</td><td>GALAXY</td><td>--</td><td>0.207845</td><td>4.12366e-05</td><td>0.619729</td><td>0</td></tr>\n",
       "<tr><td>3327041173205313536</td><td>QSO</td><td>--</td><td>0.0482522</td><td>0.000146161</td><td>0.000188351</td><td>4</td></tr>\n",
       "<tr><td>...</td><td>...</td><td>...</td><td>...</td><td>...</td><td>...</td><td>...</td></tr>\n",
       "<tr><td>3327055466856474624</td><td>GALAXY</td><td>--</td><td>0.16716</td><td>3.36683e-05</td><td>0.512133</td><td>0</td></tr>\n",
       "<tr><td>3327056016612288512</td><td>GALAXY</td><td>STARFORMING</td><td>0.0714023</td><td>1.37115e-05</td><td>0.611904</td><td>0</td></tr>\n",
       "<tr><td>3327056566368102400</td><td>GALAXY</td><td>--</td><td>0.0615529</td><td>1.59517e-05</td><td>1.04021</td><td>0</td></tr>\n",
       "<tr><td>3327056841246009344</td><td>QSO</td><td>--</td><td>1.13738</td><td>0.000636449</td><td>0.0662829</td><td>0</td></tr>\n",
       "<tr><td>3327057116123916288</td><td>STAR</td><td>F9</td><td>-0.000179363</td><td>1.31928e-05</td><td>0.833838</td><td>0</td></tr>\n",
       "<tr><td>3327057391001823232</td><td>STAR</td><td>A0</td><td>-0.000557598</td><td>3.88684e-05</td><td>0.199589</td><td>0</td></tr>\n",
       "<tr><td>3327057665879730176</td><td>STAR</td><td>M3</td><td>9.90423e-05</td><td>7.07054e-05</td><td>0.0925191</td><td>0</td></tr>\n",
       "<tr><td>3327057940757637120</td><td>GALAXY</td><td>--</td><td>0.412684</td><td>1.40111</td><td>0.00287706</td><td>5</td></tr>\n",
       "<tr><td>3327058215635544064</td><td>GALAXY</td><td>STARFORMING</td><td>0.0609967</td><td>8.68608e-06</td><td>1.60692</td><td>0</td></tr>\n",
       "<tr><td>3327058490513451008</td><td>QSO</td><td>BROADLINE</td><td>0.826127</td><td>0.00022075</td><td>0.276842</td><td>0</td></tr>\n",
       "</table>"
      ],
      "text/plain": [
       "<Table length=50>\n",
       "     SPECOBJID      CLASS    SUBCLASS  ...    Z_ERR     RCHI2DIFF  ZWARNING\n",
       "       int64         str6     str11    ...   float64     float64    int64  \n",
       "------------------- ------ ----------- ... ----------- ----------- --------\n",
       "3327035125891360768 GALAXY          -- ... 6.42647e-05    0.161533        0\n",
       "3327036500280895488 GALAXY          -- ... 5.79199e-05    0.139213        0\n",
       "3327037050036709376   STAR          K5 ... 1.43502e-05    0.496992        0\n",
       "3327038424426244096 GALAXY          -- ... 6.22988e-05    0.225588        0\n",
       "3327038974182057984 GALAXY          -- ... 1.59947e-05    0.510905        0\n",
       "3327040073693685760 GALAXY          -- ... 2.83125e-05    0.424366        0\n",
       "3327040348571592704 GALAXY          -- ... 4.18928e-05     1.17941        0\n",
       "3327040623449499648 GALAXY          -- ...         0.0         0.0      134\n",
       "3327040898327406592 GALAXY          -- ... 4.12366e-05    0.619729        0\n",
       "3327041173205313536    QSO          -- ... 0.000146161 0.000188351        4\n",
       "                ...    ...         ... ...         ...         ...      ...\n",
       "3327055466856474624 GALAXY          -- ... 3.36683e-05    0.512133        0\n",
       "3327056016612288512 GALAXY STARFORMING ... 1.37115e-05    0.611904        0\n",
       "3327056566368102400 GALAXY          -- ... 1.59517e-05     1.04021        0\n",
       "3327056841246009344    QSO          -- ... 0.000636449   0.0662829        0\n",
       "3327057116123916288   STAR          F9 ... 1.31928e-05    0.833838        0\n",
       "3327057391001823232   STAR          A0 ... 3.88684e-05    0.199589        0\n",
       "3327057665879730176   STAR          M3 ... 7.07054e-05   0.0925191        0\n",
       "3327057940757637120 GALAXY          -- ...     1.40111  0.00287706        5\n",
       "3327058215635544064 GALAXY STARFORMING ... 8.68608e-06     1.60692        0\n",
       "3327058490513451008    QSO   BROADLINE ...  0.00022075    0.276842        0"
      ]
     },
     "execution_count": 6,
     "metadata": {},
     "output_type": "execute_result"
    }
   ],
   "source": [
    "q = \"SELECT specobjid, class, subclass, z, zerr, rchi2diff, zwarning FROM sdss_dr16.specobj WHERE specobjid IN ({0}) ORDER BY specobjid\".format(','.join(map(str, sdss_ids.tolist())))\n",
    "sdss_z = qc.query(sql=q, fmt='table')\n",
    "for c in ('specobjid', 'class', 'subclass', 'z', 'zerr', 'rchi2diff', 'zwarning'):\n",
    "    if c == 'zerr':\n",
    "        sdss_z.rename_column(c, 'Z_ERR')\n",
    "    else:\n",
    "        sdss_z.rename_column(c, c.upper())\n",
    "sdss_z"
   ]
  },
  {
   "cell_type": "code",
   "execution_count": 7,
   "metadata": {},
   "outputs": [
    {
     "data": {
      "text/html": [
       "<i>Table length=50</i>\n",
       "<table id=\"table139974765759120\" class=\"table-striped table-bordered table-condensed\">\n",
       "<thead><tr><th>specobjid</th><th>targetobjid</th><th>RA</th><th>DEC</th><th>PRIMTARGET</th><th>SECTARGET</th><th>BOSS_TARGET1</th><th>ANCILLARY_TARGET1</th><th>ANCILLARY_TARGET2</th><th>EBOSS_TARGET0</th><th>EBOSS_TARGET1</th><th>EBOSS_TARGET2</th><th>u</th><th>g</th><th>r</th><th>i</th><th>z</th><th>OBJID [5]</th><th>MAG [5]</th></tr></thead>\n",
       "<thead><tr><th>int64</th><th>int64</th><th>float64</th><th>float64</th><th>int64</th><th>int64</th><th>int64</th><th>int64</th><th>int64</th><th>int64</th><th>int64</th><th>int64</th><th>float64</th><th>float64</th><th>float64</th><th>float64</th><th>float64</th><th>int64</th><th>float64</th></tr></thead>\n",
       "<tr><td>3327035125891360768</td><td>11268994537292320</td><td>236.58816</td><td>0.91476191</td><td>96</td><td>0</td><td>0</td><td>0</td><td>0</td><td>0</td><td>0</td><td>0</td><td>21.3034</td><td>19.1014</td><td>17.512</td><td>16.9372</td><td>16.5634</td><td>2327 .. 544</td><td>21.3034 .. 16.5634</td></tr>\n",
       "<tr><td>3327036500280895488</td><td>11268994537161253</td><td>236.31498</td><td>0.83142165</td><td>64</td><td>0</td><td>0</td><td>0</td><td>0</td><td>0</td><td>0</td><td>0</td><td>20.5745</td><td>19.0677</td><td>17.9301</td><td>17.3995</td><td>16.9857</td><td>2327 .. 549</td><td>20.5745 .. 16.9857</td></tr>\n",
       "<tr><td>3327037050036709376</td><td>11268994537095484</td><td>236.17657</td><td>0.91950364</td><td>64</td><td>0</td><td>0</td><td>0</td><td>0</td><td>0</td><td>0</td><td>0</td><td>19.8611</td><td>18.5047</td><td>17.7639</td><td>17.4456</td><td>17.246</td><td>2327 .. 316</td><td>19.8611 .. 17.246</td></tr>\n",
       "<tr><td>3327038424426244096</td><td>11268994537292314</td><td>236.57992</td><td>0.84114607</td><td>32</td><td>0</td><td>0</td><td>0</td><td>0</td><td>0</td><td>0</td><td>0</td><td>21.9935</td><td>19.606</td><td>18.0296</td><td>17.4561</td><td>17.0533</td><td>2327 .. 538</td><td>21.9935 .. 17.0533</td></tr>\n",
       "<tr><td>3327038974182057984</td><td>11268994537292219</td><td>236.63067</td><td>0.85355411</td><td>64</td><td>0</td><td>0</td><td>0</td><td>0</td><td>0</td><td>0</td><td>0</td><td>19.6481</td><td>18.0843</td><td>17.2542</td><td>16.8369</td><td>16.5255</td><td>2327 .. 443</td><td>19.6481 .. 16.5255</td></tr>\n",
       "<tr><td>3327040073693685760</td><td>11265262790246829</td><td>236.57247</td><td>1.3802039</td><td>64</td><td>0</td><td>0</td><td>0</td><td>0</td><td>0</td><td>0</td><td>0</td><td>20.0069</td><td>18.0379</td><td>17.1379</td><td>16.7259</td><td>16.3942</td><td>1458 .. 429</td><td>20.0069 .. 16.3942</td></tr>\n",
       "<tr><td>3327040348571592704</td><td>11265262790312240</td><td>236.66305</td><td>1.4061234</td><td>96</td><td>0</td><td>0</td><td>0</td><td>0</td><td>0</td><td>0</td><td>0</td><td>20.1158</td><td>17.9848</td><td>16.4976</td><td>15.9314</td><td>15.5032</td><td>1458 .. 304</td><td>20.1158 .. 15.5032</td></tr>\n",
       "<tr><td>3327040623449499648</td><td>11265262252261744</td><td>234.00554</td><td>1.1758617</td><td>64</td><td>0</td><td>0</td><td>0</td><td>0</td><td>0</td><td>0</td><td>0</td><td>--</td><td>--</td><td>--</td><td>--</td><td>--</td><td>1458 .. 368</td><td>0.0 .. 0.0</td></tr>\n",
       "<tr><td>3327040898327406592</td><td>11268995074162967</td><td>236.57875</td><td>1.3024246</td><td>64</td><td>0</td><td>0</td><td>0</td><td>0</td><td>0</td><td>0</td><td>0</td><td>21.2316</td><td>18.8937</td><td>17.5176</td><td>16.9796</td><td>16.5934</td><td>2327 .. 279</td><td>21.2316 .. 16.5934</td></tr>\n",
       "<tr><td>3327041173205313536</td><td>11265262790246975</td><td>236.60779</td><td>1.4217924</td><td>1</td><td>0</td><td>0</td><td>0</td><td>0</td><td>0</td><td>0</td><td>0</td><td>24.2818</td><td>21.3414</td><td>20.427</td><td>20.001</td><td>20.202</td><td>1458 .. 575</td><td>24.2818 .. 20.202</td></tr>\n",
       "<tr><td>...</td><td>...</td><td>...</td><td>...</td><td>...</td><td>...</td><td>...</td><td>...</td><td>...</td><td>...</td><td>...</td><td>...</td><td>...</td><td>...</td><td>...</td><td>...</td><td>...</td><td>...</td><td>...</td></tr>\n",
       "<tr><td>3327055466856474624</td><td>11265262790181186</td><td>236.35198</td><td>1.4705854</td><td>64</td><td>0</td><td>0</td><td>0</td><td>0</td><td>0</td><td>0</td><td>0</td><td>20.8962</td><td>18.9886</td><td>17.8426</td><td>17.311</td><td>16.9327</td><td>1458 .. 322</td><td>20.8962 .. 16.9327</td></tr>\n",
       "<tr><td>3327056016612288512</td><td>11265262790181282</td><td>236.43226</td><td>1.3820505</td><td>64</td><td>0</td><td>0</td><td>0</td><td>0</td><td>0</td><td>0</td><td>0</td><td>19.0154</td><td>17.4515</td><td>16.7012</td><td>16.2932</td><td>15.9995</td><td>1458 .. 418</td><td>19.0154 .. 15.9995</td></tr>\n",
       "<tr><td>3327056566368102400</td><td>11268994536767942</td><td>235.44215</td><td>0.87831515</td><td>64</td><td>0</td><td>0</td><td>0</td><td>0</td><td>0</td><td>0</td><td>0</td><td>20.0363</td><td>18.1093</td><td>17.0675</td><td>16.5035</td><td>16.0569</td><td>2327 .. 454</td><td>20.0363 .. 16.0569</td></tr>\n",
       "<tr><td>3327056841246009344</td><td>11268994536702418</td><td>235.30366</td><td>0.84224156</td><td>1048578</td><td>0</td><td>0</td><td>0</td><td>0</td><td>0</td><td>0</td><td>0</td><td>20.4995</td><td>20.0805</td><td>19.3639</td><td>18.9983</td><td>18.8024</td><td>2327 .. 466</td><td>20.4995 .. 18.8024</td></tr>\n",
       "<tr><td>3327057116123916288</td><td>284707516645555</td><td>235.31638</td><td>0.59804179</td><td>0</td><td>2</td><td>0</td><td>0</td><td>0</td><td>0</td><td>0</td><td>0</td><td>19.5035</td><td>18.1938</td><td>17.6475</td><td>17.4158</td><td>17.2983</td><td>752 .. 179</td><td>19.5035 .. 17.2983</td></tr>\n",
       "<tr><td>3327057391001823232</td><td>284707516645557</td><td>235.31813</td><td>0.43006452</td><td>0</td><td>2</td><td>0</td><td>0</td><td>0</td><td>0</td><td>0</td><td>0</td><td>19.2308</td><td>18.2738</td><td>17.9693</td><td>17.8646</td><td>17.8117</td><td>752 .. 181</td><td>19.2308 .. 17.8117</td></tr>\n",
       "<tr><td>3327057665879730176</td><td>11268994536768101</td><td>235.41088</td><td>0.90478873</td><td>536877056</td><td>0</td><td>0</td><td>0</td><td>0</td><td>0</td><td>0</td><td>0</td><td>23.7947</td><td>22.399</td><td>21.0487</td><td>20.0036</td><td>19.4506</td><td>2327 .. 613</td><td>23.7947 .. 19.4506</td></tr>\n",
       "<tr><td>3327057940757637120</td><td>11268994536703488</td><td>235.24978</td><td>0.85021657</td><td>0</td><td>16</td><td>0</td><td>0</td><td>0</td><td>0</td><td>0</td><td>0</td><td>--</td><td>--</td><td>--</td><td>--</td><td>--</td><td>2327 .. 1536</td><td>0.0 .. 0.0</td></tr>\n",
       "<tr><td>3327058215635544064</td><td>11268994536767935</td><td>235.43123</td><td>0.86691538</td><td>64</td><td>0</td><td>0</td><td>0</td><td>0</td><td>0</td><td>0</td><td>0</td><td>19.0573</td><td>17.9207</td><td>17.44</td><td>17.0802</td><td>16.9397</td><td>2327 .. 447</td><td>19.0573 .. 16.9397</td></tr>\n",
       "<tr><td>3327058490513451008</td><td>11268994536767618</td><td>235.36244</td><td>0.8715034</td><td>1048578</td><td>0</td><td>0</td><td>0</td><td>0</td><td>0</td><td>0</td><td>0</td><td>19.4175</td><td>19.0309</td><td>18.8887</td><td>18.9394</td><td>18.7425</td><td>2327 .. 130</td><td>19.4175 .. 18.7425</td></tr>\n",
       "</table>"
      ],
      "text/plain": [
       "<Table length=50>\n",
       "     specobjid         targetobjid    ...  OBJID [5]        MAG [5]      \n",
       "       int64              int64       ...    int64          float64      \n",
       "------------------- ----------------- ... ------------ ------------------\n",
       "3327035125891360768 11268994537292320 ...  2327 .. 544 21.3034 .. 16.5634\n",
       "3327036500280895488 11268994537161253 ...  2327 .. 549 20.5745 .. 16.9857\n",
       "3327037050036709376 11268994537095484 ...  2327 .. 316  19.8611 .. 17.246\n",
       "3327038424426244096 11268994537292314 ...  2327 .. 538 21.9935 .. 17.0533\n",
       "3327038974182057984 11268994537292219 ...  2327 .. 443 19.6481 .. 16.5255\n",
       "3327040073693685760 11265262790246829 ...  1458 .. 429 20.0069 .. 16.3942\n",
       "3327040348571592704 11265262790312240 ...  1458 .. 304 20.1158 .. 15.5032\n",
       "3327040623449499648 11265262252261744 ...  1458 .. 368         0.0 .. 0.0\n",
       "3327040898327406592 11268995074162967 ...  2327 .. 279 21.2316 .. 16.5934\n",
       "3327041173205313536 11265262790246975 ...  1458 .. 575  24.2818 .. 20.202\n",
       "                ...               ... ...          ...                ...\n",
       "3327055466856474624 11265262790181186 ...  1458 .. 322 20.8962 .. 16.9327\n",
       "3327056016612288512 11265262790181282 ...  1458 .. 418 19.0154 .. 15.9995\n",
       "3327056566368102400 11268994536767942 ...  2327 .. 454 20.0363 .. 16.0569\n",
       "3327056841246009344 11268994536702418 ...  2327 .. 466 20.4995 .. 18.8024\n",
       "3327057116123916288   284707516645555 ...   752 .. 179 19.5035 .. 17.2983\n",
       "3327057391001823232   284707516645557 ...   752 .. 181 19.2308 .. 17.8117\n",
       "3327057665879730176 11268994536768101 ...  2327 .. 613 23.7947 .. 19.4506\n",
       "3327057940757637120 11268994536703488 ... 2327 .. 1536         0.0 .. 0.0\n",
       "3327058215635544064 11268994536767935 ...  2327 .. 447 19.0573 .. 16.9397\n",
       "3327058490513451008 11268994536767618 ...  2327 .. 130 19.4175 .. 18.7425"
      ]
     },
     "execution_count": 7,
     "metadata": {},
     "output_type": "execute_result"
    }
   ],
   "source": [
    "q = \"\"\"SELECT s.specobjid, s.targetobjid, s.ra, s.dec,\n",
    "    s.primtarget, s.sectarget,\n",
    "    s.boss_target1,\n",
    "    s.ancillary_target1, s.ancillary_target2,\n",
    "    s.eboss_target0, s.eboss_target1, s.eboss_target2,\n",
    "    p.u, p.g, p.r, p.i, p.z\n",
    "FROM sdss_dr16.specobj AS s\n",
    "LEFT JOIN sdss_dr16.photoplate AS p\n",
    "ON s.bestobjid = p.objid\n",
    "WHERE specobjid IN ({0})\n",
    "ORDER BY specobjid\"\"\".format(','.join(map(str, sdss_ids.tolist())))\n",
    "sdss_plugmap = qc.query(sql=q, fmt='table')\n",
    "for c in ('ra', 'dec', 'primtarget', 'sectarget',\n",
    "          'boss_target1',\n",
    "          'ancillary_target1', 'ancillary_target2',\n",
    "          'eboss_target0', 'eboss_target1', 'eboss_target2'):\n",
    "    sdss_plugmap.rename_column(c, c.upper())\n",
    "sdss_plugmap['OBJID'] = np.vstack((np.bitwise_and(sdss_plugmap['targetobjid'] >> 32, 2**16 - 1).data,\n",
    "                                   np.bitwise_and(sdss_plugmap['targetobjid'] >> 48, 2**11 - 1).data,\n",
    "                                   np.bitwise_and(sdss_plugmap['targetobjid'] >> 29, 2**3 - 1).data,\n",
    "                                   np.bitwise_and(sdss_plugmap['targetobjid'] >> 16, 2**12 - 1).data,\n",
    "                                   np.bitwise_and(sdss_plugmap['targetobjid'], 2**16 - 1).data)).T\n",
    "sdss_plugmap['MAG'] = np.vstack((np.where(np.isnan(sdss_plugmap['u'].data), 0, sdss_plugmap['u'].data),\n",
    "                                 np.where(np.isnan(sdss_plugmap['g'].data), 0, sdss_plugmap['g'].data),\n",
    "                                 np.where(np.isnan(sdss_plugmap['r'].data), 0, sdss_plugmap['r'].data),\n",
    "                                 np.where(np.isnan(sdss_plugmap['i'].data), 0, sdss_plugmap['i'].data),\n",
    "                                 np.where(np.isnan(sdss_plugmap['z'].data), 0, sdss_plugmap['z'].data))).T\n",
    "\n",
    "sdss.meta['plugmap'] = sdss_plugmap\n",
    "sdss_plugmap"
   ]
  },
  {
   "cell_type": "markdown",
   "metadata": {},
   "source": [
    "## Launch the Visualization"
   ]
  },
  {
   "cell_type": "code",
   "execution_count": null,
   "metadata": {},
   "outputs": [],
   "source": [
    "plotspectra(sdss.new_flux_unit(u.Unit('1e-17 erg/(cm**2 s Angstrom)')), zcatalog=sdss_z, model=(sdss.spectral_axis.value, sdss.meta['model']),\n",
    "            notebook=True, title=os.path.basename('SDSS Plate %d' % plate),\n",
    "            model_from_zcat=False, with_coaddcam=False, mask_type='PRIMTARGET', with_thumb_tab=False, with_vi_widgets=False)"
   ]
  },
  {
   "cell_type": "markdown",
   "metadata": {},
   "source": [
    "## SDSS Spectra and Redshifts from Files\n",
    "\n",
    "For reference, and to compare timing, below is how one would fetch spectra from a file.  In addition, we need the redshift catalog."
   ]
  },
  {
   "cell_type": "code",
   "execution_count": null,
   "metadata": {},
   "outputs": [],
   "source": [
    "os.environ['SPECTRO_REDUX'] = 'sdss_dr16://' + os.path.join('sdss', 'spectro', 'redux')\n",
    "run2d = '26'\n",
    "plate = '2955'\n",
    "mjd = '54562'\n",
    "sdss_spectra = os.path.join(os.environ['SPECTRO_REDUX'], run2d, plate, f'spPlate-{plate}-{mjd}.fits')\n",
    "sdss_redshifts = os.path.join(os.environ['SPECTRO_REDUX'], run2d, plate, f'spZbest-{plate}-{mjd}.fits')\n",
    "print(sdss_spectra)\n",
    "print(sdss_redshifts)"
   ]
  },
  {
   "cell_type": "code",
   "execution_count": null,
   "metadata": {},
   "outputs": [],
   "source": [
    "%%time\n",
    "sdss_file = read_spPlate(sc.get(sdss_spectra, mode='fileobj'), limit=50)\n",
    "sdss_file"
   ]
  },
  {
   "cell_type": "code",
   "execution_count": null,
   "metadata": {},
   "outputs": [],
   "source": [
    "sdss_z, sdss_model = read_spZbest(sc.get(sdss_redshifts, mode='fileobj'), limit=50)"
   ]
  },
  {
   "cell_type": "markdown",
   "metadata": {},
   "source": [
    "# References & Resources\n",
    "\n",
    "* [Getting Started with Spectral Data](https://github.com/noaodatalab/specserver/blob/master/doc/03_GettingStartedWithSpectra.ipynb)"
   ]
  },
  {
   "cell_type": "code",
   "execution_count": null,
   "metadata": {},
   "outputs": [],
   "source": []
  }
 ],
 "metadata": {
  "kernelspec": {
   "display_name": "Python 3",
   "language": "python",
   "name": "python3"
  },
  "language_info": {
   "codemirror_mode": {
    "name": "ipython",
    "version": 3
   },
   "file_extension": ".py",
   "mimetype": "text/x-python",
   "name": "python",
   "nbconvert_exporter": "python",
   "pygments_lexer": "ipython3",
   "version": "3.7.6"
  }
 },
 "nbformat": 4,
 "nbformat_minor": 4
}
