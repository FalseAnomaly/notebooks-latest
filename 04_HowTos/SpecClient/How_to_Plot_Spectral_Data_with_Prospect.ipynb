{
 "cells": [
  {
   "cell_type": "code",
   "execution_count": null,
   "metadata": {},
   "outputs": [],
   "source": [
    "__author__ = 'Benjamin Weaver <benjamin.weaver@noirlab.edu>'\n",
    "__version__ = '20210125'\n",
    "__datasets__ = ['sdss_dr16']\n",
    "__keywords__ = ['HowTo','spectra','query','visualization','SDSS']"
   ]
  },
  {
   "cell_type": "markdown",
   "metadata": {},
   "source": [
    "# How to Plot Spectral Data with Prospect, Specutils and the Data Lab Spectrum Service\n",
    "\n",
    "## Table of Contents\n",
    "\n",
    "* [Goals](#Goals)\n",
    "* [Summary](#Summary)\n",
    "* [Disclaimer & Attribution](#Disclaimer-&-Attribution)\n",
    "* [Imports & Setup](#Imports-&-Setup)\n",
    "* [Authentication](#Authentication)\n",
    "* [SDSS/eBOSS spPlate file](#SDSS/eBOSS-spPlate-file)\n",
    "  - [Find Plate 2955 in the Spectrum Service](#Find-Plate-2955-in-the-Spectrum-Service)\n",
    "  - [Spectrum Identifiers](#Spectrum-Identifiers)\n",
    "  - [Spectrum Service: Flux versus Wavelength](#Spectrum-Service:-Flux-versus-Wavelength)\n",
    "  - [Redshift and other Metadata](#Redshift-and-other-Metadata)\n",
    "* [Launch the Visualization](#Launch-the-Visualization)\n",
    "* [SDSS Spectra and Redshifts from Files](#SDSS-Spectra-and-Redshifts-from-Files)\n",
    "* [References & Resources](#References-&-Resources)\n",
    "\n",
    "## Goals\n",
    "\n",
    "Obtain SDSS spectra using the Data Lab spectrum service, convert data to [specutils](https://github.com/astropy/specutils) objects as needed, and use [Prospect](https://github.com/desihub/prospect) to display the data.\n",
    "\n",
    "## Summary\n",
    "\n",
    "Prospect is an *interactive* spectrum visualization service that is being actively used by the [DESI](https://www.desi.lbl.gov/) project for visual inspection of commissioning and survey validation spectra right now.  Rather than just a simple *flux* versus *wavelength* plot, the interactive spectrum display provides pan, zoom, known spectral lines, targeting and other catalog information, metadata, *etc.*  The [Bokeh](https://bokeh.org) library handles the low-level interactivity.\n",
    "\n",
    "We can leverage the generic spectrum container objects provided by [specutils](https://github.com/astropy/specutils) to allow Prospect to plot data from other surveys.  In this example, we are using [SDSS DR16](https://www.sdss.org/dr16/).\n",
    "\n",
    "In the future we will extend this functionality to additional instruments.  For example, we are excited by the possibility of using Prospect and the Data Lab spectrum service for Gemini spectra.  And, of course, once DESI data become public, both the spectrum service and this tool will be ready.\n",
    "\n",
    "## Disclaimer & Attribution\n",
    "\n",
    "If you use this notebook for your published science, please acknowledge the following:\n",
    "\n",
    "* Data Lab concept paper: Fitzpatrick et al., \"The NOAO Data Laboratory: a conceptual overview\", SPIE, 9149, 2014, http://dx.doi.org/10.1117/12.2057445\n",
    "* Data Lab disclaimer: https://datalab.noirlab.edu/disclaimers.php"
   ]
  },
  {
   "cell_type": "markdown",
   "metadata": {},
   "source": [
    "## Imports & Setup\n",
    "\n",
    "This cell performs all necessary imports for this notebook.\n",
    "\n",
    "**TODO**: final clean-up needed when prospect is installed on the production server."
   ]
  },
  {
   "cell_type": "code",
   "execution_count": null,
   "metadata": {},
   "outputs": [],
   "source": [
    "import os\n",
    "import sys\n",
    "import time\n",
    "#\n",
    "# Manually install prospect for now.\n",
    "#\n",
    "sys.path.insert(0, os.path.join(os.environ['HOME'], 'Documents', 'Code', 'git', 'desihub', 'prospect', 'py'))\n",
    "#\n",
    "# Numpy, astropy, etc.\n",
    "#\n",
    "import numpy as np\n",
    "import astropy.units as u\n",
    "from astropy.table import Table\n",
    "from astropy.nddata import InverseVariance\n",
    "from specutils import Spectrum1D, SpectrumCollection, SpectrumList\n",
    "#\n",
    "# Prospect imports\n",
    "#\n",
    "from prospect.specutils import read_spPlate, read_spZbest\n",
    "from prospect.plotspecutils import plotspectra\n",
    "#\n",
    "# Data Lab imports\n",
    "#\n",
    "from dl import specClient as spec  # primary spectral data client interface\n",
    "from dl import storeClient as sc   # needed to use virtual storage\n",
    "from dl import queryClient as qc   # needed to query Data Lab catalogs\n",
    "from dl import authClient as ac    # needed for login authentication\n",
    "\n",
    "start_time = time.time()  # save start time of notebook run"
   ]
  },
  {
   "cell_type": "markdown",
   "metadata": {},
   "source": [
    "## Authentication\n",
    "\n",
    "Much of the functionality of spectrum services can be accessed without explicitly logging into Data Lab (the service then uses an anonymous login). But some capabilities, for instance saving the results of your queries to your virtual storage space, require a login (*i.e.* you will need a [registered user account](https://datalab.noao.edu/help/register.php?qa=register).\n",
    "\n",
    "If you need to log in to Data Lab, uncomment the `ac.login()` command and respond according to the prompts.  If you have previously logged into Data Lab, this cell will simply print your active user name."
   ]
  },
  {
   "cell_type": "code",
   "execution_count": null,
   "metadata": {},
   "outputs": [],
   "source": [
    "# ac.login(input(\"Enter user name: (+ENTER) \"),getpass(\"Enter password: (+ENTER) \"))\n",
    "ac.whoAmI()"
   ]
  },
  {
   "cell_type": "markdown",
   "metadata": {},
   "source": [
    "## SDSS/eBOSS spPlate file\n",
    "\n",
    "SDSS spectra are stored per-plate in spPlate files.  These contain 640 spectra for the original SDSS spectrograph or 1000 spectra for the BOSS/eBOSS spectrograph.  All spPlate files have a common wavelength solution, so a spPlate file can be represented by a [Spectrum1D](https://specutils.readthedocs.io/en/stable/api/specutils.Spectrum1D.html#specutils.Spectrum1D) object.  This object is an input to the visualization system, so we need to get outputs from the spectrum service that match the inputs to the visualization."
   ]
  },
  {
   "cell_type": "markdown",
   "metadata": {},
   "source": [
    "### Find Plate 2955 in the Spectrum Service\n",
    "\n",
    "Here we find spectra corresponding to SDSS plate 2955, but using the spectrum service instead of reading the spectra from a file."
   ]
  },
  {
   "cell_type": "code",
   "execution_count": null,
   "metadata": {},
   "outputs": [],
   "source": [
    "plate = 2955\n",
    "# What the heck? Can't use a semicolon any longer?\n",
    "# q = \"SELECT ra, dec FROM sdss_dr16.platex WHERE plate = %d;\" % plate\n",
    "q = \"SELECT ra, dec FROM sdss_dr16.platex WHERE plate = {0:d}\".format(plate)\n",
    "r = qc.query(sql=q, fmt='array')\n",
    "r"
   ]
  },
  {
   "cell_type": "markdown",
   "metadata": {},
   "source": [
    "### Spectrum Identifiers\n",
    "\n",
    "SDSS plates are circular, so we'll do a cone search around the nominal plate center.  This gets us the spectrum identifiers we need to retrieve the spectra themselves."
   ]
  },
  {
   "cell_type": "code",
   "execution_count": null,
   "metadata": {},
   "outputs": [],
   "source": [
    "sdss_ids = spec.query(r[0], r[1], 1.5, fmt='array', out='', constraint='plate=2955 ORDER BY specobjid LIMIT 50')\n",
    "sdss_ids"
   ]
  },
  {
   "cell_type": "markdown",
   "metadata": {},
   "source": [
    "### Spectrum Service: Flux versus Wavelength\n",
    "\n",
    "Now we fetch the spectra.  The returned data will be compacted into a single `Spectrum1D` object."
   ]
  },
  {
   "cell_type": "code",
   "execution_count": null,
   "metadata": {},
   "outputs": [],
   "source": [
    "%%time\n",
    "sdss = spec.getSpec(sdss_ids, fmt='Spectrum1D', align=True)\n",
    "sdss"
   ]
  },
  {
   "cell_type": "markdown",
   "metadata": {},
   "source": [
    "### Redshift and other Metadata\n",
    "\n",
    "We also need target and redshift information, which is stored in the SpecObj catalog.  Although all information is extractable from the database, we need to reformat it to match the expectations of Prospect."
   ]
  },
  {
   "cell_type": "code",
   "execution_count": null,
   "metadata": {},
   "outputs": [],
   "source": [
    "q = \"SELECT specobjid, class, subclass, z, zerr, rchi2diff, zwarning FROM sdss_dr16.specobj WHERE specobjid IN ({0}) ORDER BY specobjid\".format(','.join(map(str, sdss_ids.tolist())))\n",
    "sdss_z = qc.query(sql=q, fmt='table')\n",
    "for c in ('specobjid', 'class', 'subclass', 'z', 'zerr', 'rchi2diff', 'zwarning'):\n",
    "    if c == 'zerr':\n",
    "        sdss_z.rename_column(c, 'Z_ERR')\n",
    "    else:\n",
    "        sdss_z.rename_column(c, c.upper())\n",
    "sdss_z"
   ]
  },
  {
   "cell_type": "code",
   "execution_count": null,
   "metadata": {},
   "outputs": [],
   "source": [
    "q = \"\"\"SELECT s.specobjid, s.targetobjid, s.ra, s.dec,\n",
    "    s.primtarget, s.sectarget,\n",
    "    s.boss_target1,\n",
    "    s.ancillary_target1, s.ancillary_target2,\n",
    "    s.eboss_target0, s.eboss_target1, s.eboss_target2,\n",
    "    p.u, p.g, p.r, p.i, p.z\n",
    "FROM sdss_dr16.specobj AS s\n",
    "LEFT JOIN sdss_dr16.photoplate AS p\n",
    "ON s.bestobjid = p.objid\n",
    "WHERE specobjid IN ({0})\n",
    "ORDER BY specobjid\"\"\".format(','.join(map(str, sdss_ids.tolist())))\n",
    "sdss_plugmap = qc.query(sql=q, fmt='table')\n",
    "for c in ('ra', 'dec', 'primtarget', 'sectarget',\n",
    "          'boss_target1',\n",
    "          'ancillary_target1', 'ancillary_target2',\n",
    "          'eboss_target0', 'eboss_target1', 'eboss_target2'):\n",
    "    sdss_plugmap.rename_column(c, c.upper())\n",
    "sdss_plugmap['OBJID'] = np.vstack((np.bitwise_and(sdss_plugmap['targetobjid'] >> 32, 2**16 - 1).data,\n",
    "                                   np.bitwise_and(sdss_plugmap['targetobjid'] >> 48, 2**11 - 1).data,\n",
    "                                   np.bitwise_and(sdss_plugmap['targetobjid'] >> 29, 2**3 - 1).data,\n",
    "                                   np.bitwise_and(sdss_plugmap['targetobjid'] >> 16, 2**12 - 1).data,\n",
    "                                   np.bitwise_and(sdss_plugmap['targetobjid'], 2**16 - 1).data)).T\n",
    "sdss_plugmap['MAG'] = np.vstack((np.where(np.isnan(sdss_plugmap['u'].data), 0, sdss_plugmap['u'].data),\n",
    "                                 np.where(np.isnan(sdss_plugmap['g'].data), 0, sdss_plugmap['g'].data),\n",
    "                                 np.where(np.isnan(sdss_plugmap['r'].data), 0, sdss_plugmap['r'].data),\n",
    "                                 np.where(np.isnan(sdss_plugmap['i'].data), 0, sdss_plugmap['i'].data),\n",
    "                                 np.where(np.isnan(sdss_plugmap['z'].data), 0, sdss_plugmap['z'].data))).T\n",
    "\n",
    "sdss.meta['plugmap'] = sdss_plugmap\n",
    "sdss_plugmap"
   ]
  },
  {
   "cell_type": "markdown",
   "metadata": {},
   "source": [
    "## Launch the Visualization\n",
    "\n",
    "Once all the spectral data are assembled, the visualization is launched with a single `plotspectra()` function."
   ]
  },
  {
   "cell_type": "code",
   "execution_count": null,
   "metadata": {},
   "outputs": [],
   "source": [
    "plotspectra(sdss.new_flux_unit(u.Unit('1e-17 erg/(cm**2 s Angstrom)')), zcatalog=sdss_z, model=(sdss.spectral_axis.value, sdss.meta['model']),\n",
    "            notebook=True, title=os.path.basename('SDSS Plate %d' % plate),\n",
    "            model_from_zcat=False, with_coaddcam=False, mask_type='PRIMTARGET', with_thumb_tab=False, with_vi_widgets=False)"
   ]
  },
  {
   "cell_type": "markdown",
   "metadata": {},
   "source": [
    "## SDSS Spectra and Redshifts from Files\n",
    "\n",
    "For reference, and to compare timing, below is how one would fetch spectra and redshift metadata from file-based storage."
   ]
  },
  {
   "cell_type": "code",
   "execution_count": null,
   "metadata": {},
   "outputs": [],
   "source": [
    "os.environ['SPECTRO_REDUX'] = 'sdss_dr16://' + os.path.join('sdss', 'spectro', 'redux')\n",
    "run2d = '26'\n",
    "plate = 2955\n",
    "mjd = '54562'\n",
    "sdss_spectra = os.path.join(os.environ['SPECTRO_REDUX'], run2d, str(plate), f'spPlate-{plate:d}-{mjd}.fits')\n",
    "sdss_redshifts = os.path.join(os.environ['SPECTRO_REDUX'], run2d, str(plate), f'spZbest-{plate:d}-{mjd}.fits')\n",
    "print(sdss_spectra)\n",
    "print(sdss_redshifts)"
   ]
  },
  {
   "cell_type": "code",
   "execution_count": null,
   "metadata": {},
   "outputs": [],
   "source": [
    "%%time\n",
    "sdss_file = read_spPlate(sc.get(sdss_spectra, mode='fileobj'), limit=50)\n",
    "sdss_file"
   ]
  },
  {
   "cell_type": "code",
   "execution_count": null,
   "metadata": {},
   "outputs": [],
   "source": [
    "sdss_z_file, sdss_model_file = read_spZbest(sc.get(sdss_redshifts, mode='fileobj'), limit=50)"
   ]
  },
  {
   "cell_type": "code",
   "execution_count": null,
   "metadata": {},
   "outputs": [],
   "source": [
    "plotspectra(sdss_file, zcatalog=sdss_z_file, model=(sdss_model_file.spectral_axis.value, sdss_model_file.flux.value,),\n",
    "            notebook=True, title=os.path.basename('SDSS Plate %d' % plate),\n",
    "            model_from_zcat=False, with_coaddcam=False, mask_type='PRIMTARGET', with_thumb_tab=False, with_vi_widgets=False)"
   ]
  },
  {
   "cell_type": "markdown",
   "metadata": {},
   "source": [
    "## References & Resources\n",
    "\n",
    "* [Getting Started with Spectral Data](https://github.com/noaodatalab/specserver/blob/master/doc/03_GettingStartedWithSpectra.ipynb)"
   ]
  },
  {
   "cell_type": "code",
   "execution_count": null,
   "metadata": {},
   "outputs": [],
   "source": [
    "end_time = time.time()\n",
    "print('Notebook run time: %.3g sec' % (end_time - start_time))"
   ]
  }
 ],
 "metadata": {
  "kernelspec": {
   "display_name": "Python 3",
   "language": "python",
   "name": "python3"
  },
  "language_info": {
   "codemirror_mode": {
    "name": "ipython",
    "version": 3
   },
   "file_extension": ".py",
   "mimetype": "text/x-python",
   "name": "python",
   "nbconvert_exporter": "python",
   "pygments_lexer": "ipython3",
   "version": "3.7.6"
  }
 },
 "nbformat": 4,
 "nbformat_minor": 4
}
