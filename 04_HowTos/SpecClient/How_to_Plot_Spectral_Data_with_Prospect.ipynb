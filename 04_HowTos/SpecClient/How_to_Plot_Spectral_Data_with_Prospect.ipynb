{
 "cells": [
  {
   "cell_type": "code",
   "execution_count": null,
   "metadata": {},
   "outputs": [],
   "source": [
    "__author__ = 'Benjamin Weaver <benjamin.weaver@noirlab.edu>'\n",
    "__version__ = '20201123'\n",
    "__datasets__ = ['sdss_dr16']\n",
    "__keywords__ = ['HowTo','spectra','query','visualization','SDSS']"
   ]
  },
  {
   "cell_type": "markdown",
   "metadata": {},
   "source": [
    "# Prospect + Specutils + Data Lab Spectrum Service\n",
    "\n",
    "Project: Obtain SDSS spectra using the Data Lab spectrum service, convert data to [specutils](https://github.com/astropy/specutils) objects as needed, and use [prospect](https://github.com/desihub/prospect) to display the data.\n",
    "\n",
    "Prospect is an *interactive* spectrum visualization service that is being actively used by the DESI project for visual inspection of commissioning and survey validation spectra right now.  Rather than just a simple *flux* versus *wavelength* plot, the interactive spectrum display provides pan, zoom, known spectral lines, targeting and other catalog information, metadata, *etc.*  The [Bokeh](https://bokeh.org) library handles the low-level interactivity.\n",
    "\n",
    "We can leverage the generic spectrum container objects provided by [specutils](https://github.com/astropy/specutils) to allow Prospect to plot data from other surveys.  In this example, we are using [SDSS DR16](https://www.sdss.org/dr16/).\n",
    "\n",
    "In the future we will extend this functionality to additional instruments.  For example, we are excited by the possibility of using Prospect and the Data Lab spectrum service for Gemini spectra.\n",
    "\n",
    "*Caveat emptor:* Prospect is under active development, so it is not yet available as a standard Python package in the [PyPI repository](https://pypi.org).  An installable packages should be available as soon as December 2020."
   ]
  },
  {
   "cell_type": "code",
   "execution_count": null,
   "metadata": {},
   "outputs": [],
   "source": [
    "import os\n",
    "import sys\n",
    "# Manually install prospect for now.\n",
    "sys.path.insert(0, os.path.join(os.environ['HOME'], 'Documents', 'Code', 'git', 'desihub', 'prospect', 'py'))"
   ]
  },
  {
   "cell_type": "code",
   "execution_count": null,
   "metadata": {},
   "outputs": [],
   "source": [
    "import numpy as np\n",
    "import astropy.units as u\n",
    "from astropy.table import Table\n",
    "from astropy.nddata import InverseVariance\n",
    "from specutils import Spectrum1D, SpectrumCollection, SpectrumList\n",
    "from prospect.specutils import read_spPlate, read_spZbest\n",
    "from prospect.plotspecutils import plotspectra"
   ]
  },
  {
   "cell_type": "code",
   "execution_count": null,
   "metadata": {},
   "outputs": [],
   "source": [
    "from dl import queryClient as qc, storeClient as sc\n",
    "import specClient as spec"
   ]
  },
  {
   "cell_type": "markdown",
   "metadata": {},
   "source": [
    "## SDSS/eBOSS spPlate file\n",
    "\n",
    "SDSS spectra are stored per-plate in spPlate files.  These contain 640 spectra for the original SDSS spectrograph or 1000 spectra for the BOSS/eBOSS spectrograph.  All spPlate files have a common wavelength solution, so a spPlate file can be represented by a [Spectrum1D](https://specutils.readthedocs.io/en/stable/api/specutils.Spectrum1D.html#specutils.Spectrum1D) object.  This object is an input to the visualization system, so we need to get outputs from the spectrum service that match the inputs to the visualization."
   ]
  },
  {
   "cell_type": "markdown",
   "metadata": {},
   "source": [
    "## Find Plate 2955 in the Spectrum Service\n",
    "\n",
    "### Plate Location\n",
    "\n",
    "Here we find spectra corresponding to SDSS plate 2955, but using the spectrum service instead of reading the spectra from a file."
   ]
  },
  {
   "cell_type": "code",
   "execution_count": null,
   "metadata": {},
   "outputs": [],
   "source": [
    "plate = 2955\n",
    "q = \"SELECT ra, dec FROM sdss_dr16.platex WHERE plate = %d;\" % plate\n",
    "r = qc.query(sql=q, fmt='array')\n",
    "r"
   ]
  },
  {
   "cell_type": "markdown",
   "metadata": {},
   "source": [
    "### Spectrum Identifiers\n",
    "\n",
    "SDSS plates are circular, so we'll do a cone search around the nominal plate center.  This gets us the spectrum identifiers we need to retrieve the spectra themselves."
   ]
  },
  {
   "cell_type": "code",
   "execution_count": null,
   "metadata": {},
   "outputs": [],
   "source": [
    "sdss_ids = spec.query(r[0], r[1], 1.5, fmt='array', out='', constraint='plate=2955 ORDER BY specobjid LIMIT 50')\n",
    "sdss_ids"
   ]
  },
  {
   "cell_type": "markdown",
   "metadata": {},
   "source": [
    "### Spectrum Service: Flux versus Wavelength\n",
    "\n",
    "Now we fetch the spectra.  The returned data will be compacted into a single `Spectrum1D` object."
   ]
  },
  {
   "cell_type": "code",
   "execution_count": null,
   "metadata": {},
   "outputs": [],
   "source": [
    "%%time\n",
    "sdss = spec.getSpec(sdss_ids, fmt='Spectrum1D', align=True)\n",
    "sdss.mask = ~sdss.mask\n",
    "sdss"
   ]
  },
  {
   "cell_type": "markdown",
   "metadata": {},
   "source": [
    "### Redshift and other Metadata\n",
    "\n",
    "We also need target and redshift information, which is stored in the SpecObj catalog.  Although all information is extractable from the database, we need to reformat it to match the expectations of Prospect."
   ]
  },
  {
   "cell_type": "code",
   "execution_count": null,
   "metadata": {},
   "outputs": [],
   "source": [
    "q = \"SELECT specobjid, class, subclass, z, zerr, rchi2diff, zwarning FROM sdss_dr16.specobj WHERE specobjid IN ({0}) ORDER BY specobjid;\".format(','.join(map(str, sdss_ids.tolist())))\n",
    "sdss_z = qc.query(sql=q, fmt='table')\n",
    "for c in ('specobjid', 'class', 'subclass', 'z', 'zerr', 'rchi2diff', 'zwarning'):\n",
    "    if c == 'zerr':\n",
    "        sdss_z.rename_column(c, 'Z_ERR')\n",
    "    else:\n",
    "        sdss_z.rename_column(c, c.upper())\n",
    "sdss_z"
   ]
  },
  {
   "cell_type": "code",
   "execution_count": null,
   "metadata": {},
   "outputs": [],
   "source": [
    "q = \"\"\"SELECT s.specobjid, s.targetobjid, s.ra, s.dec,\n",
    "    s.primtarget, s.sectarget,\n",
    "    s.boss_target1,\n",
    "    s.ancillary_target1, s.ancillary_target2,\n",
    "    s.eboss_target0, s.eboss_target1, s.eboss_target2,\n",
    "    p.u, p.g, p.r, p.i, p.z\n",
    "FROM sdss_dr16.specobj AS s\n",
    "LEFT JOIN sdss_dr16.photoplate AS p\n",
    "ON s.bestobjid = p.objid\n",
    "WHERE specobjid IN ({0})\n",
    "ORDER BY specobjid;\"\"\".format(','.join(map(str, sdss_ids.tolist())))\n",
    "sdss_plugmap = qc.query(sql=q, fmt='table')\n",
    "for c in ('ra', 'dec', 'primtarget', 'sectarget',\n",
    "          'boss_target1',\n",
    "          'ancillary_target1', 'ancillary_target2',\n",
    "          'eboss_target0', 'eboss_target1', 'eboss_target2'):\n",
    "    sdss_plugmap.rename_column(c, c.upper())\n",
    "sdss_plugmap['OBJID'] = np.vstack((np.bitwise_and(sdss_plugmap['targetobjid'] >> 32, 2**16 - 1).data,\n",
    "                                   np.bitwise_and(sdss_plugmap['targetobjid'] >> 48, 2**11 - 1).data,\n",
    "                                   np.bitwise_and(sdss_plugmap['targetobjid'] >> 29, 2**3 - 1).data,\n",
    "                                   np.bitwise_and(sdss_plugmap['targetobjid'] >> 16, 2**12 - 1).data,\n",
    "                                   np.bitwise_and(sdss_plugmap['targetobjid'], 2**16 - 1).data)).T\n",
    "sdss_plugmap['MAG'] = np.vstack((np.where(np.isnan(sdss_plugmap['u'].data), 0, sdss_plugmap['u'].data),\n",
    "                                 np.where(np.isnan(sdss_plugmap['g'].data), 0, sdss_plugmap['g'].data),\n",
    "                                 np.where(np.isnan(sdss_plugmap['r'].data), 0, sdss_plugmap['r'].data),\n",
    "                                 np.where(np.isnan(sdss_plugmap['i'].data), 0, sdss_plugmap['i'].data),\n",
    "                                 np.where(np.isnan(sdss_plugmap['z'].data), 0, sdss_plugmap['z'].data))).T\n",
    "\n",
    "sdss.meta['plugmap'] = sdss_plugmap\n",
    "sdss_plugmap"
   ]
  },
  {
   "cell_type": "markdown",
   "metadata": {},
   "source": [
    "## Launch the Visualization"
   ]
  },
  {
   "cell_type": "code",
   "execution_count": null,
   "metadata": {},
   "outputs": [],
   "source": [
    "plotspectra(sdss.new_flux_unit(u.Unit('1e-17 erg/(cm**2 s Angstrom)')), zcatalog=sdss_z, model=(sdss.spectral_axis.value, sdss.meta['model']),\n",
    "            notebook=True, title=os.path.basename('SDSS Plate %d' % plate),\n",
    "            model_from_zcat=False, with_coaddcam=False, mask_type='PRIMTARGET', with_thumb_tab=False, with_vi_widgets=False)"
   ]
  },
  {
   "cell_type": "markdown",
   "metadata": {},
   "source": [
    "## SDSS Spectra and Redshifts from Files\n",
    "\n",
    "For reference, and to compare timing, below is how one would fetch spectra from a file.  In addition, we need the redshift catalog."
   ]
  },
  {
   "cell_type": "code",
   "execution_count": null,
   "metadata": {},
   "outputs": [],
   "source": [
    "os.environ['SPECTRO_REDUX'] = 'sdss_dr16://' + os.path.join('sdss', 'spectro', 'redux')\n",
    "run2d = '26'\n",
    "plate = '2955'\n",
    "mjd = '54562'\n",
    "sdss_spectra = os.path.join(os.environ['SPECTRO_REDUX'], run2d, plate, f'spPlate-{plate}-{mjd}.fits')\n",
    "sdss_redshifts = os.path.join(os.environ['SPECTRO_REDUX'], run2d, plate, f'spZbest-{plate}-{mjd}.fits')\n",
    "print(sdss_spectra)\n",
    "print(sdss_redshifts)"
   ]
  },
  {
   "cell_type": "code",
   "execution_count": null,
   "metadata": {},
   "outputs": [],
   "source": [
    "%%time\n",
    "sdss_file = read_spPlate(sc.get(sdss_spectra, mode='fileobj'), limit=50)\n",
    "sdss_file"
   ]
  },
  {
   "cell_type": "code",
   "execution_count": null,
   "metadata": {},
   "outputs": [],
   "source": [
    "sdss_z, sdss_model = read_spZbest(sc.get(sdss_redshifts, mode='fileobj'), limit=50)"
   ]
  },
  {
   "cell_type": "markdown",
   "metadata": {},
   "source": [
    "## eBOSS Spectra from Files"
   ]
  },
  {
   "cell_type": "code",
   "execution_count": null,
   "metadata": {},
   "outputs": [],
   "source": [
    "run2d = 'v5_13_0'\n",
    "plate = '9599'\n",
    "mjd = '58131'\n",
    "eboss_spectra = os.path.join(os.environ['SPECTRO_REDUX'], run2d, plate, f'spPlate-{plate}-{mjd}.fits')\n",
    "eboss_redshifts = os.path.join(os.environ['SPECTRO_REDUX'], run2d, plate, run2d, f'spZbest-{plate}-{mjd}.fits')\n",
    "print(eboss_spectra)\n",
    "print(eboss_redshifts)"
   ]
  },
  {
   "cell_type": "code",
   "execution_count": null,
   "metadata": {},
   "outputs": [],
   "source": [
    "%%time\n",
    "eboss = read_spPlate(sc.get(eboss_spectra, mode='fileobj'), limit=50)\n",
    "eboss_z, eboss_model = read_spZbest(sc.get(eboss_redshifts, mode='fileobj'), limit=50)\n",
    "eboss"
   ]
  },
  {
   "cell_type": "code",
   "execution_count": null,
   "metadata": {},
   "outputs": [],
   "source": [
    "plotspectra(eboss, zcatalog=eboss_z, model=(eboss_model.spectral_axis.value, eboss_model.flux.value),\n",
    "            notebook=True, title=os.path.basename(eboss_spectra),\n",
    "            model_from_zcat=False, with_coaddcam=False, mask_type='EBOSS_TARGET1', with_thumb_tab=False, with_vi_widgets=False)"
   ]
  },
  {
   "cell_type": "markdown",
   "metadata": {},
   "source": [
    "## Backup Code"
   ]
  },
  {
   "cell_type": "code",
   "execution_count": null,
   "metadata": {},
   "outputs": [],
   "source": [
    "sdss = Spectrum1D(flux=np.vstack([s.flux for s in sdss_list]),\n",
    "                  spectral_axis=sdss_list[0].spectral_axis,\n",
    "                  uncertainty=InverseVariance(np.vstack([s.uncertainty.quantity for s in sdss_list])),\n",
    "                  mask=np.vstack([s.mask for s in sdss_list]),\n",
    "                  meta={'model': np.vstack([s.meta['model'] for s in sdss_list])*sdss_list[0].flux.unit})\n",
    "sdss"
   ]
  }
 ],
 "metadata": {
  "kernelspec": {
   "display_name": "Python 3",
   "language": "python",
   "name": "python3"
  },
  "language_info": {
   "codemirror_mode": {
    "name": "ipython",
    "version": 3
   },
   "file_extension": ".py",
   "mimetype": "text/x-python",
   "name": "python",
   "nbconvert_exporter": "python",
   "pygments_lexer": "ipython3",
   "version": "3.7.6"
  }
 },
 "nbformat": 4,
 "nbformat_minor": 4
}
