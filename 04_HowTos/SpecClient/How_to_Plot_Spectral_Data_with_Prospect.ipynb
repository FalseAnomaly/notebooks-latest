{
 "cells": [
  {
   "cell_type": "code",
   "execution_count": null,
   "metadata": {},
   "outputs": [],
   "source": [
    "__author__ = 'Benjamin Weaver <benjamin.weaver@noirlab.edu>'\n",
    "__version__ = '202100301'\n",
    "__datasets__ = ['sdss_dr16']\n",
    "__keywords__ = ['HowTo','spectra','query','visualization','SDSS']"
   ]
  },
  {
   "cell_type": "markdown",
   "metadata": {},
   "source": [
    "# How to Plot Spectral Data with Prospect, Specutils and the Astro Data Lab Spectrum Service\n",
    "\n",
    "## Table of Contents\n",
    "\n",
    "* [Goals](#Goals)\n",
    "* [Summary](#Summary)\n",
    "* [Disclaimer & Attribution](#Disclaimer-&-Attribution)\n",
    "* [Imports & Setup](#Imports-&-Setup)\n",
    "* [Authentication](#Authentication)\n",
    "* [SDSS/eBOSS spPlate file](#SDSS/eBOSS-spPlate-file)\n",
    "  - [Find Plate 2955 in the Spectrum Service](#Find-Plate-2955-in-the-Spectrum-Service)\n",
    "  - [Spectrum Identifiers](#Spectrum-Identifiers)\n",
    "  - [Spectrum Service: Flux versus Wavelength](#Spectrum-Service:-Flux-versus-Wavelength)\n",
    "  - [Redshift and other Metadata](#Redshift-and-other-Metadata)\n",
    "    * [Redshift Catalog](#Redshift-Catalog)\n",
    "    * [Target Catalog](#Target-Catalog)\n",
    "* [Launch the Visualization](#Launch-the-Visualization)\n",
    "  - [Interface Visualization Details](#Interface-Visualization-Details)\n",
    "* [SDSS Spectra and Redshifts from Files](#SDSS-Spectra-and-Redshifts-from-Files)\n",
    "* [References & Resources](#References-&-Resources)\n",
    "\n",
    "## Goals\n",
    "\n",
    "Obtain SDSS spectra using the Astro Data Lab spectrum service, convert data to [specutils](https://github.com/astropy/specutils) objects as needed, and use [Prospect](https://github.com/desihub/prospect) to display the data.\n",
    "\n",
    "## Summary\n",
    "\n",
    "Prospect is an *interactive* spectrum visualization service that is being actively used by the [DESI](https://www.desi.lbl.gov/) project for visual inspection of commissioning and survey validation spectra right now.  Rather than just a simple *flux* versus *wavelength* plot, the interactive spectrum display provides pan, zoom, known spectral lines, targeting and other catalog information, metadata, *etc.*  The [Bokeh](https://bokeh.org) library handles the low-level interactivity.\n",
    "\n",
    "We can leverage the generic spectrum container objects provided by [specutils](https://github.com/astropy/specutils) to allow Prospect to plot data from other surveys.  In this example, we are using [SDSS DR16](https://www.sdss.org/dr16/).\n",
    "\n",
    "In the future we will extend this functionality to additional instruments.  For example, we are excited by the possibility of using Prospect and the Astro Data Lab spectrum service for Gemini spectra.  And, of course, once DESI data become public, both the spectrum service and this tool will be ready.\n",
    "\n",
    "## Disclaimer & Attribution\n",
    "\n",
    "If you use this notebook for your published science, please acknowledge the following:\n",
    "\n",
    "* Astro Data Lab concept paper: Fitzpatrick et al., \"The NOAO Data Laboratory: a conceptual overview\", SPIE, 9149, 2014, http://dx.doi.org/10.1117/12.2057445\n",
    "* Astro Data Lab disclaimer: https://datalab.noirlab.edu/disclaimers.php"
   ]
  },
  {
   "cell_type": "markdown",
   "metadata": {},
   "source": [
    "## Imports & Setup\n",
    "\n",
    "This cell performs all necessary imports for this notebook."
   ]
  },
  {
   "cell_type": "code",
   "execution_count": null,
   "metadata": {},
   "outputs": [],
   "source": [
    "import os\n",
    "import sys\n",
    "import time\n",
    "from getpass import getpass\n",
    "#\n",
    "# Numpy, astropy, etc.\n",
    "#\n",
    "import numpy as np\n",
    "import astropy.units as u\n",
    "from astropy.table import Table\n",
    "from astropy.nddata import InverseVariance\n",
    "from specutils import Spectrum1D, SpectrumCollection, SpectrumList\n",
    "#\n",
    "# Prospect imports\n",
    "#\n",
    "from prospect.specutils import read_spPlate, read_spZbest\n",
    "from prospect.viewer import plotspectra\n",
    "#\n",
    "# Astro Data Lab imports\n",
    "#\n",
    "from dl import specClient as spec  # primary spectral data client interface\n",
    "from dl import storeClient as sc   # needed to use virtual storage\n",
    "from dl import queryClient as qc   # needed to query Astro Data Lab catalogs\n",
    "from dl import authClient as ac    # needed for login authentication\n",
    "\n",
    "start_time = time.time()  # save start time of notebook run"
   ]
  },
  {
   "cell_type": "markdown",
   "metadata": {},
   "source": [
    "## Authentication\n",
    "\n",
    "Much of the functionality of spectrum services can be accessed without explicitly logging into Astro Data Lab (the service then uses an anonymous login). But some capabilities, for instance saving the results of your queries to your virtual storage space, require a login (*i.e.* you will need a [registered user account](https://datalab.noao.edu/help/register.php?qa=register)).\n",
    "\n",
    "If you need to log in to Astro Data Lab, uncomment the `ac.login()` command and respond according to the prompts.  If you have previously logged into Astro Data Lab, this cell will simply print your active user name."
   ]
  },
  {
   "cell_type": "code",
   "execution_count": null,
   "metadata": {},
   "outputs": [],
   "source": [
    "# ac.login(input(\"Enter user name: (+ENTER) \"),getpass(\"Enter password: (+ENTER) \"))\n",
    "ac.whoAmI()"
   ]
  },
  {
   "cell_type": "markdown",
   "metadata": {},
   "source": [
    "## SDSS/eBOSS spPlate file\n",
    "\n",
    "SDSS spectra are stored per-plate in spPlate files.  These contain 640 spectra for the original SDSS spectrograph or 1000 spectra for the BOSS/eBOSS spectrograph.  All spectra in an individual spPlate file have a common wavelength solution, so a single spPlate file can be represented by a [Spectrum1D](https://specutils.readthedocs.io/en/stable/api/specutils.Spectrum1D.html#specutils.Spectrum1D) object.  The Prospect visualization package can then take this Spectrum1D object as input data."
   ]
  },
  {
   "cell_type": "markdown",
   "metadata": {},
   "source": [
    "### Find Plate 2955 in the Spectrum Service\n",
    "\n",
    "In the cells below, we will find spectra corresponding to SDSS plate 2955, but using the spectrum service instead of reading the spectra from a file.  This starts by finding the coordinates of the plate center."
   ]
  },
  {
   "cell_type": "code",
   "execution_count": null,
   "metadata": {},
   "outputs": [],
   "source": [
    "plate = 2955\n",
    "q = f\"SELECT ra, dec FROM sdss_dr16.platex WHERE plate = {plate}\"\n",
    "r = qc.query(sql=q, fmt='array')\n",
    "r"
   ]
  },
  {
   "cell_type": "markdown",
   "metadata": {},
   "source": [
    "### Spectrum Identifiers\n",
    "\n",
    "SDSS plates are circular, so we'll do a cone search around the plate center found above.  This gets us the spectrum identifiers we need to retrieve the spectra themselves."
   ]
  },
  {
   "cell_type": "code",
   "execution_count": null,
   "metadata": {},
   "outputs": [],
   "source": [
    "sdss_ids = spec.query(r[0], r[1], 1.5, fmt='array', out='', constraint=f'plate = {plate} ORDER BY specobjid LIMIT 50')\n",
    "sdss_ids"
   ]
  },
  {
   "cell_type": "markdown",
   "metadata": {},
   "source": [
    "### Spectrum Service: Flux versus Wavelength\n",
    "\n",
    "Now we fetch the spectra.  The option `align=True` directes the service to return all spectra as a single `Spectrum1D` object with a common wavelength axis for all spectra.  Since all spectra on a single SDSS plate have a common wavelength axis anyway, this is a simple operation."
   ]
  },
  {
   "cell_type": "code",
   "execution_count": null,
   "metadata": {},
   "outputs": [],
   "source": [
    "%%time\n",
    "sdss = spec.getSpec(sdss_ids, fmt='Spectrum1D', align=True)\n",
    "sdss"
   ]
  },
  {
   "cell_type": "markdown",
   "metadata": {},
   "source": [
    "### Redshift and other Metadata\n",
    "\n",
    "The Prospect viewer requires certain spectral metadata that are normally provided with SDSS spectra--*i.e.*, these metadata are stored alongside the flux *versus* wavelength data.  There are two categories of metadata:\n",
    "\n",
    "1. Redshift catalog: this contains the redshift (how far away it is) and classification (what type of object it is) for each spectrum, as identified by the SDSS pipeline.\n",
    "2. Target catalog: this contains the information needed for taking a spectrum of the object in the first place.  This includes information about the object as identified in SDSS *imaging* (RA, Dec, optical magnitude), as well as the rationale for taking a spectrum of the object.\n",
    "\n",
    "In the cells below, we will extract the necessary metadata from the `specobj` and `photoplate` tables and reformat them slightly to match the appearance of these data as they would be extracted from SDSS files.\n",
    "\n",
    "#### Redshift Catalog\n",
    "\n",
    "This query extracts the redshift and classification information from the `specobj` table."
   ]
  },
  {
   "cell_type": "code",
   "execution_count": null,
   "metadata": {},
   "outputs": [],
   "source": [
    "q = \"SELECT specobjid, class, subclass, z, zerr, rchi2diff, zwarning FROM sdss_dr16.specobj WHERE specobjid IN ({0}) ORDER BY specobjid\".format(','.join(map(str, sdss_ids.tolist())))\n",
    "sdss_z = qc.query(sql=q, fmt='table')\n",
    "for c in ('specobjid', 'class', 'subclass', 'z', 'zerr', 'rchi2diff', 'zwarning'):\n",
    "    if c == 'zerr':\n",
    "        sdss_z.rename_column(c, 'Z_ERR')\n",
    "    else:\n",
    "        sdss_z.rename_column(c, c.upper())\n",
    "sdss_z"
   ]
  },
  {
   "cell_type": "markdown",
   "metadata": {},
   "source": [
    "#### Target Catalog\n",
    "\n",
    "This query extracts photometric targeting information from the `photoplate` table.  The data obtained needs to be reformatted to match the [\"plugmap\" metadata](https://data.sdss.org/datamodel/files/BOSS_SPECTRO_REDUX/RUN2D/PLATE4/spPlate.html#hdu5head) that is stored with SDSS spectrum files, including spPlate files."
   ]
  },
  {
   "cell_type": "code",
   "execution_count": null,
   "metadata": {},
   "outputs": [],
   "source": [
    "q = \"\"\"SELECT s.specobjid, s.targetobjid, s.ra, s.dec,\n",
    "    s.primtarget, s.sectarget,\n",
    "    s.boss_target1,\n",
    "    s.ancillary_target1, s.ancillary_target2,\n",
    "    s.eboss_target0, s.eboss_target1, s.eboss_target2,\n",
    "    p.u, p.g, p.r, p.i, p.z\n",
    "FROM sdss_dr16.specobj AS s\n",
    "LEFT JOIN sdss_dr16.photoplate AS p\n",
    "ON s.bestobjid = p.objid\n",
    "WHERE specobjid IN ({0})\n",
    "ORDER BY specobjid\"\"\".format(','.join(map(str, sdss_ids.tolist())))\n",
    "sdss_plugmap = qc.query(sql=q, fmt='table')\n",
    "for c in ('ra', 'dec', 'primtarget', 'sectarget',\n",
    "          'boss_target1',\n",
    "          'ancillary_target1', 'ancillary_target2',\n",
    "          'eboss_target0', 'eboss_target1', 'eboss_target2'):\n",
    "    sdss_plugmap.rename_column(c, c.upper())\n",
    "sdss_plugmap['OBJID'] = np.vstack((np.bitwise_and(sdss_plugmap['targetobjid'] >> 32, 2**16 - 1).data,\n",
    "                                   np.bitwise_and(sdss_plugmap['targetobjid'] >> 48, 2**11 - 1).data,\n",
    "                                   np.bitwise_and(sdss_plugmap['targetobjid'] >> 29, 2**3 - 1).data,\n",
    "                                   np.bitwise_and(sdss_plugmap['targetobjid'] >> 16, 2**12 - 1).data,\n",
    "                                   np.bitwise_and(sdss_plugmap['targetobjid'], 2**16 - 1).data)).T\n",
    "sdss_plugmap['MAG'] = np.vstack((np.where(np.isnan(sdss_plugmap['u'].data), 0, sdss_plugmap['u'].data),\n",
    "                                 np.where(np.isnan(sdss_plugmap['g'].data), 0, sdss_plugmap['g'].data),\n",
    "                                 np.where(np.isnan(sdss_plugmap['r'].data), 0, sdss_plugmap['r'].data),\n",
    "                                 np.where(np.isnan(sdss_plugmap['i'].data), 0, sdss_plugmap['i'].data),\n",
    "                                 np.where(np.isnan(sdss_plugmap['z'].data), 0, sdss_plugmap['z'].data))).T\n",
    "\n",
    "sdss.meta['plugmap'] = sdss_plugmap\n",
    "sdss_plugmap"
   ]
  },
  {
   "cell_type": "markdown",
   "metadata": {},
   "source": [
    "## Launch the Visualization\n",
    "\n",
    "Once all the spectral data are assembled, the visualization is launched with a single `plotspectra()` function in the cell below.  The primary input is the Spectrum1D object created above.  Prospect expects a certain scaling on the input flux, so `sdss.new_flux_unit()` handles that (this changes the numerical scale factor on the flux unit, not the flux unit itself).  Other inputs:\n",
    "\n",
    "* `zcatalog`: the [redshift table](#Redshift-Catalog) created above.\n",
    "* `model`: the model spectrum used by the SDSS pipeline to obtain the redshift and classification.\n",
    "* `notebook`: instructs Prospect to use notebook display mode (as opposed to standalone HTML).\n",
    "* `title`, `model_from_zcat`, etc.: these options control certain display options that are not directly related to the input data or that need to be switched off for SDSS data.  A [full description is available](https://desi-prospect.readthedocs.io/en/stable/api.html#prospect.viewer.plotspectra).\n",
    "\n",
    "Once the cell is run, it will take several seconds for the data to load and render.  Then you will be able to pan and zoom on the primary flux *versus* wavelength display, page through different spectra, show known emission or absorption lines, etc.  [More details are below the display.](#Visualization-Interface-Details)"
   ]
  },
  {
   "cell_type": "code",
   "execution_count": null,
   "metadata": {},
   "outputs": [],
   "source": [
    "plotspectra(sdss.new_flux_unit(u.Unit('1e-17 erg/(cm**2 s Angstrom)')),\n",
    "            zcatalog=sdss_z,\n",
    "            model=(sdss.spectral_axis.value, sdss.meta['model'].to(u.Unit('1e-17 erg/(cm**2 s Angstrom)'))),\n",
    "            notebook=True, title=os.path.basename('SDSS Plate %d' % plate), model_from_zcat=False, with_coaddcam=False, mask_type='PRIMTARGET', with_thumb_tab=False, with_vi_widgets=False)"
   ]
  },
  {
   "cell_type": "markdown",
   "metadata": {},
   "source": [
    "### Visualization Interface Details\n",
    "\n",
    "* The primary visualization area consists of three plots:\n",
    "  - The flux versus wavelength in the large area on the left.\n",
    "    * Pan and zoom functions can be adjusted by clicking on the icons on the upper right.\n",
    "    * Display of values can be toggled by clicking on the names in the legend in the upper right.  For example, to hide the noise spectrum, click on 'noise' in the legend.\n",
    "  - The zoom display on the lower right.  This plot is automatically updated when the mouse is hovered or moved over the large spectrum display on the left.\n",
    "  - The targeting image on the upper right.  This shows the image corresponding to the object.  The images are provided by the [Legacy Survey](https://www.legacysurvey.org/), and are actually deeper than SDSS images.  Click on the image to take you to the Legacy Survey Viewer.\n",
    "* Target information table: this table displays information related to the *photometric object* associated with the spectrum.\n",
    "  - `TARGETID`: For SDSS data, this tuple of numbers corresponds to the photometric imaging run, photometric processing version, camera column (\"camcol\"), imaging field (within the run), and object ID within the field.\n",
    "  - Target class: This contains information about why the photometric object was selected for spectroscopic observation.  For SDSS data this is currently a dummy value, but will change in future versions of Prospect.\n",
    "  - `mag_u`, ...: These are the photometric magnitudes in SDSS *u*, *g*, *r*, *i*, *z* filters.\n",
    "* Reset X-Y range button: reset the display to the default pan and zoom values.\n",
    "* OII-zoom button / Undo: pan and zoom the display to the position of the \\[OII\\] emission line.  This is not necessarily relevant for SDSS data.  \"Undo\" restores the previous pan/zoom values.\n",
    "* Spectrum slider (< / >): Use these buttons or the slider to page through the loaded spectra.\n",
    "* Pipeline fit (table): Displayes the classification and redshift obtained by the SDSS processing pipeline.\n",
    "  - `SPECTYPE`: The type of object, typically 'GALAXY', 'QSO', 'STAR'.\n",
    "  - `SUBTYPE`: A more specific classification of `SPECTYPE`, for example a 'STAR' may be 'K5' or a 'GALAXY' may be 'STARFORMING'.\n",
    "  - `Z`: The redshift.\n",
    "  - `ZERR`: The uncertainty on `Z`.\n",
    "  - `ZWARN`: If the processing pipeline produced errors, this value will be non-zero.\n",
    "  - $\\Delta\\chi^2$: the goodness of fit of the fitted model relative to the second-best model.\n",
    "* Redshift box (orange): Use this box to adjust the redshift of the *model* on the display.\n",
    "  - Rough and fine tuning adjust the displayed redshift in units of hundredths and ten-thousandths, respectively.\n",
    "  - Reset to z_pipe: restore the displayed redshift to the redshift value obtained from the SDSS pipeline.\n",
    "  - Copy z to VI: this button is disabled.\n",
    "* Gaussian Sigma: SDSS spectra are inherently faint and noisy.  Smoothing will reduce the \"jaggedness\" caused by noise.  This is especially useful when comparing to the fitted model or investigating spectra lines.\n",
    "* Emission lines / Absorption lines: Toggle the display of known spectral lines.  If \"Show only major lines\" is checked, only the spectral lines most likely to be visible are displayed.\n",
    "* Obs / Rest: Display flux as a function of observed wavelength or rest wavelength, respectively."
   ]
  },
  {
   "cell_type": "markdown",
   "metadata": {},
   "source": [
    "## SDSS Spectra and Redshifts from Files\n",
    "\n",
    "For reference, and to compare timing, below is how one would fetch spectra and redshift metadata from file-based storage.  First, obtain the path to the files in the Astro Data Lab file service."
   ]
  },
  {
   "cell_type": "code",
   "execution_count": null,
   "metadata": {},
   "outputs": [],
   "source": [
    "spectro_redux = 'sdss_dr16://' + os.path.join('sdss', 'spectro', 'redux')\n",
    "run2d = '26'\n",
    "plate = 2955\n",
    "mjd = '54562'\n",
    "sdss_spectra = os.path.join(spectro_redux, run2d, str(plate), f'spPlate-{plate:d}-{mjd}.fits')\n",
    "sdss_redshifts = os.path.join(spectro_redux, run2d, str(plate), f'spZbest-{plate:d}-{mjd}.fits')\n",
    "print(sdss_spectra)\n",
    "print(sdss_redshifts)"
   ]
  },
  {
   "cell_type": "markdown",
   "metadata": {},
   "source": [
    "Next, read the spPlate file.  This automatically loads the [targeting metadata](#Target-Catalog)."
   ]
  },
  {
   "cell_type": "code",
   "execution_count": null,
   "metadata": {},
   "outputs": [],
   "source": [
    "%%time\n",
    "sdss_file = read_spPlate(sc.get(sdss_spectra, mode='fileobj'), limit=50)\n",
    "sdss_file"
   ]
  },
  {
   "cell_type": "markdown",
   "metadata": {},
   "source": [
    "Read the spZbest file, which contains the [redshift catalog](#Redshift-Catalog)."
   ]
  },
  {
   "cell_type": "code",
   "execution_count": null,
   "metadata": {},
   "outputs": [],
   "source": [
    "sdss_z_file, sdss_model_file = read_spZbest(sc.get(sdss_redshifts, mode='fileobj'), limit=50)"
   ]
  },
  {
   "cell_type": "markdown",
   "metadata": {},
   "source": [
    "Launch the visualization.  Reading from files produces slightly different scaling on the flux values, but otherwise the options are the same as the example above."
   ]
  },
  {
   "cell_type": "code",
   "execution_count": null,
   "metadata": {},
   "outputs": [],
   "source": [
    "plotspectra(sdss_file,\n",
    "            zcatalog=sdss_z_file,\n",
    "            model=(sdss_model_file.spectral_axis.value, sdss_model_file.flux.value,),\n",
    "            notebook=True, title=os.path.basename('SDSS Plate %d' % plate), model_from_zcat=False, with_coaddcam=False, mask_type='PRIMTARGET', with_thumb_tab=False, with_vi_widgets=False)"
   ]
  },
  {
   "cell_type": "markdown",
   "metadata": {},
   "source": [
    "## References & Resources\n",
    "\n",
    "* [Getting Started with Spectral Data](https://github.com/noaodatalab/specserver/blob/master/doc/03_GettingStartedWithSpectra.ipynb)"
   ]
  },
  {
   "cell_type": "code",
   "execution_count": null,
   "metadata": {},
   "outputs": [],
   "source": [
    "end_time = time.time()\n",
    "print('Notebook run time: %.3g sec' % (end_time - start_time))"
   ]
  },
  {
   "cell_type": "code",
   "execution_count": null,
   "metadata": {},
   "outputs": [],
   "source": []
  }
 ],
 "metadata": {
  "kernelspec": {
   "display_name": "Python 3",
   "language": "python",
   "name": "python3"
  },
  "language_info": {
   "codemirror_mode": {
    "name": "ipython",
    "version": 3
   },
   "file_extension": ".py",
   "mimetype": "text/x-python",
   "name": "python",
   "nbconvert_exporter": "python",
   "pygments_lexer": "ipython3",
   "version": "3.7.6"
  }
 },
 "nbformat": 4,
 "nbformat_minor": 4
}
