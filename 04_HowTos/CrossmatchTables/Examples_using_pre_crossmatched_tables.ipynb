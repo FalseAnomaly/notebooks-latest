{
 "cells": [
  {
   "cell_type": "code",
   "execution_count": 1,
   "id": "b75ba0c0-ca5f-4ad6-8055-f53ed35d767d",
   "metadata": {},
   "outputs": [],
   "source": [
    "__author__ = 'Alice Jacques <alice.jacques@noirlab.edu>, Astro Data Lab Team <datalab@noirlab.edu>' \n",
    "__version__ = '20220713' #yyyymmdd \n",
    "__datasets__ = ['ls_dr9','sdss_dr16','gaia_dr3','des_dr2'] \n",
    "__keywords__ = ['crossmatch','joint query','mydb','vospace']"
   ]
  },
  {
   "cell_type": "markdown",
   "id": "58bbec8c-108a-4ab0-827f-e2db0a5201fd",
   "metadata": {},
   "source": [
    "# Examples using the pre-crossmatched tables at Astro Data Lab\n",
    "\n",
    "by Alice Jacques and the Astro Data Lab Team"
   ]
  },
  {
   "cell_type": "markdown",
   "id": "86d0f1ae-256a-4e39-803e-07a6aaf021af",
   "metadata": {},
   "source": [
    "### Table of contents\n",
    "* [Goals](#goals)\n",
    "* [Disclaimer & attribution](#attribution)\n",
    "* [Imports & setup](#import)\n",
    "* [Authentication](#auth)\n",
    "* [Writing a query with a JOIN statement](#joinquery)\n",
    "* [Examples of using a JOIN statement in a query with LS and SDSS catalogs](#lssdss)\n",
    "* [Saving results to VOSpace](#savetovospace)\n",
    "* [Saving results to MyDB](#savetomydb)\n",
    "* [Example Using a User Table and a pre-crossmatched Table](#usertable)\n",
    "* [Resources & references](#refs)"
   ]
  },
  {
   "cell_type": "markdown",
   "id": "4c17572e-fcd6-462c-a3b0-8f34831cd3af",
   "metadata": {},
   "source": [
    "<a class=\"anchor\" id=\"goals\"></a>\n",
    "# Goals\n",
    "\n",
    "* Learn how to write a query with a JOIN statement to retrieve information from a pre-crossmatched table and another Data Lab table\n",
    "* Use a user-provided table to crossmatch a Data Lab table\n",
    "\n",
    "For a more in-depth explanation of the pre-crossmatched tables hosted at Astro Data Lab, see our [How-to use pre-crossmatched tables notebook](https://github.com/astro-datalab/notebooks-latest/blob/master/04_HowTos/CrossmatchTables/How_to_use_pre_crossmatched_tables.ipynb). "
   ]
  },
  {
   "cell_type": "markdown",
   "id": "41676f15-4c39-44b1-a785-f7383f7843be",
   "metadata": {},
   "source": [
    "<a class=\"anchor\" id=\"attribution\"></a>\n",
    "# Disclaimer & attribution\n",
    "If you use this notebook for your published science, please acknowledge the following:\n",
    "\n",
    "* Data Lab concept paper: Fitzpatrick et al., \"The NOAO Data Laboratory: a conceptual overview\", SPIE, 9149, 2014, http://dx.doi.org/10.1117/12.2057445\n",
    "\n",
    "* Data Lab disclaimer: https://datalab.noirlab.edu/disclaimers.php"
   ]
  },
  {
   "cell_type": "markdown",
   "id": "c3fbcfc9-09e1-4dbc-beea-9fe52e4a00d8",
   "metadata": {},
   "source": [
    "<a class=\"anchor\" id=\"import\"></a>\n",
    "# Imports and setup"
   ]
  },
  {
   "cell_type": "code",
   "execution_count": 2,
   "id": "e570cd9d-745c-480d-8e2f-f23b9ff04d0b",
   "metadata": {},
   "outputs": [],
   "source": [
    "# std lib\n",
    "from getpass import getpass\n",
    "\n",
    "# 3rd party\n",
    "from astropy.utils.data import download_file  #import file from URL\n",
    "from matplotlib.ticker import NullFormatter\n",
    "import pylab as plt\n",
    "import matplotlib\n",
    "%matplotlib inline\n",
    "\n",
    "# Data Lab\n",
    "from dl import authClient as ac, queryClient as qc, storeClient as sc\n",
    "from dl.helpers.utils import convert # converts table to Pandas dataframe object"
   ]
  },
  {
   "cell_type": "markdown",
   "id": "86315630-c19b-4c32-a935-5847be1f94d1",
   "metadata": {},
   "source": [
    "<a class=\"anchor\" id=\"auth\"></a>\n",
    "# Authentication\n",
    "Much of the functionality of Data Lab can be accessed without explicitly logging in (the service then uses an anonymous login). But some capacities, for instance saving the results of your queries to your virtual storage space, require a login (i.e. you will need a registered user account).\n",
    "\n",
    "If you need to log in to Data Lab, issue this command, and respond according to the instructions:"
   ]
  },
  {
   "cell_type": "code",
   "execution_count": 3,
   "id": "49207a6a-0716-4270-a6b9-ba16606e57a8",
   "metadata": {},
   "outputs": [
    {
     "data": {
      "text/plain": [
       "'demo00'"
      ]
     },
     "execution_count": 3,
     "metadata": {},
     "output_type": "execute_result"
    }
   ],
   "source": [
    "#ac.login(input(\"Enter user name: (+ENTER) \"),getpass(\"Enter password: (+ENTER) \"))\n",
    "ac.whoAmI()"
   ]
  },
  {
   "cell_type": "markdown",
   "id": "249aee3d-10db-4737-9315-10444b680327",
   "metadata": {},
   "source": [
    "<a class=\"anchor\" id=\"joinquery\"></a>\n",
    "# Writing a query with a JOIN statement\n",
    "In order to extract only the relevant columns pertaining to our science question from multiple data tables, we may write a query that uses a JOIN statement. There are 4 main types of JOIN statements that we could use, and which one we decide to choose depends on how we want the information to be extracted. \n",
    "1. **(INNER) JOIN**: Returns rows that have matching values in both tables\n",
    "2. **LEFT (OUTER) JOIN**: Returns all rows from the left table, and the matched rows from the right table\n",
    "3. **RIGHT (OUTER) JOIN**: Returns all rows from the right table, and the matched rows from the left table\n",
    "4. **FULL (OUTER) JOIN**: Returns all rows when there is a match in either left or right table\n",
    "\n",
    "Take a moment to look over the figure below outlining the various JOIN statement types.  \n",
    "NOTE: the default JOIN is an `INNER JOIN`."
   ]
  },
  {
   "cell_type": "markdown",
   "id": "ce1cf3fd-d55f-4203-a6cb-4f39f0fda1f0",
   "metadata": {},
   "source": [
    "<img src='join.png'></img>"
   ]
  },
  {
   "cell_type": "markdown",
   "id": "8cc4b865-b5d1-4dd2-aad7-0f8a8edec6bc",
   "metadata": {},
   "source": [
    "### `JOIN LATERAL`\n",
    "In nearest neighbor crossmatch queries, we use `JOIN LATERAL`, which is like a SQL foreach loop that will iterate over each row in a result set and evaluate a subquery using that row as a parameter."
   ]
  },
  {
   "cell_type": "markdown",
   "id": "6ca2e4d4-2236-4d2e-9c11-c1962ad28932",
   "metadata": {},
   "source": [
    "<a class=\"anchor\" id=\"lssdss\"></a>\n",
    "# Examples of using a JOIN statement in a query with LS and SDSS catalogs\n",
    "## Example 1: A Single JOIN\n",
    "First we will examine the spectroscopic redshift of objects that are found in both the SDSS DR16 catalog and the LS DR9 catalog by writing a query with a single JOIN statement between their pre-crossmatched table and the SDSS DR16 table. The two crossmatch tables related to these two catalogs are:\n",
    "\n",
    "`ls_dr9.x1p5__tractor__sdss_dr16__specobj`  \n",
    "`sdss_dr16.x1p5__specobj__ls_dr9__tractor`\n",
    "\n",
    "The choice of which of these two crossmatch tables to use should be based on the science question being posed. For instance, the question *'how does a galaxy's structure change with redshift?'* is dependent on the redshift values obtained from SDSS DR16, so we should use the crossmatch table that has SDSS DR16 as the first table. So, the relevant information we want to select from our two tables of interest for this example are:\n",
    "\n",
    "1. \"X\" = `sdss_dr16.x1p5__specobj__ls_dr9__tractor`\n",
    "    - **ra1** (RA of SDSS object)\n",
    "    - **dec1** (Dec of SDSS object)\n",
    "2. \"S\" = `sdss_dr16.specobj`\n",
    "    - **z** (redshift)"
   ]
  },
  {
   "cell_type": "markdown",
   "id": "4c14c842-e832-497e-89d4-6c00035528d5",
   "metadata": {},
   "source": [
    "### Write the single JOIN statement query\n",
    "Now that we know what we want and where we want it from, let's write the query and then print the results on screen. Here we use one JOIN statement: it will search in the SDSS DR16 `specobj` table for rows that have the same SDSS id value (`specobjid`) as in the pre-crossmatched table (`id1`) and retrieve the desired columns from the SDSS DR16 `specobj` table within the specified RA and Dec region."
   ]
  },
  {
   "cell_type": "code",
   "execution_count": 4,
   "id": "730021ea-1262-4e71-8e31-13fb3c358595",
   "metadata": {},
   "outputs": [
    {
     "name": "stdout",
     "output_type": "stream",
     "text": [
      "\n",
      "SELECT \n",
      "    X.ra1 AS ra_sdss, X.dec1 AS dec_sdss,\n",
      "    S.z\n",
      "FROM\n",
      "    sdss_dr16.x1p5__specobj__ls_dr9__tractor AS X \n",
      "JOIN\n",
      "    sdss_dr16.specobj AS S ON X.id1 = S.specobjid \n",
      "WHERE\n",
      "    X.ra1 BETWEEN 110 and 200 and X.dec1 BETWEEN 7.0 and 40.0\n",
      "LIMIT 10000\n",
      "\n"
     ]
    }
   ],
   "source": [
    "query_single = (\"\"\"\n",
    "SELECT \n",
    "    X.ra1 AS ra_sdss, X.dec1 AS dec_sdss,\n",
    "    S.z\n",
    "FROM\n",
    "    sdss_dr16.x1p5__specobj__ls_dr9__tractor AS X \n",
    "JOIN\n",
    "    sdss_dr16.specobj AS S ON X.id1 = S.specobjid \n",
    "WHERE\n",
    "    X.ra1 BETWEEN %s and %s and X.dec1 BETWEEN %s and %s\n",
    "LIMIT 10000\n",
    "\"\"\"\n",
    ") %(110,200,7.,40.)  #large region\n",
    "print(query_single) # print the query statement to screen"
   ]
  },
  {
   "cell_type": "markdown",
   "id": "56ccb2f4-1eb0-4b52-9a9c-9a92a64001a6",
   "metadata": {},
   "source": [
    "### Execute the single JOIN statement query and print results"
   ]
  },
  {
   "cell_type": "code",
   "execution_count": 5,
   "id": "e82e6dd9-52aa-4456-8054-9df7ef667fd6",
   "metadata": {},
   "outputs": [
    {
     "name": "stdout",
     "output_type": "stream",
     "text": [
      "CPU times: user 42.8 ms, sys: 8.39 ms, total: 51.2 ms\n",
      "Wall time: 230 ms\n"
     ]
    },
    {
     "data": {
      "text/html": [
       "<div>\n",
       "<style scoped>\n",
       "    .dataframe tbody tr th:only-of-type {\n",
       "        vertical-align: middle;\n",
       "    }\n",
       "\n",
       "    .dataframe tbody tr th {\n",
       "        vertical-align: top;\n",
       "    }\n",
       "\n",
       "    .dataframe thead th {\n",
       "        text-align: right;\n",
       "    }\n",
       "</style>\n",
       "<table border=\"1\" class=\"dataframe\">\n",
       "  <thead>\n",
       "    <tr style=\"text-align: right;\">\n",
       "      <th></th>\n",
       "      <th>ra_sdss</th>\n",
       "      <th>dec_sdss</th>\n",
       "      <th>z</th>\n",
       "    </tr>\n",
       "  </thead>\n",
       "  <tbody>\n",
       "    <tr>\n",
       "      <th>0</th>\n",
       "      <td>110.00027</td>\n",
       "      <td>39.699210</td>\n",
       "      <td>0.516598</td>\n",
       "    </tr>\n",
       "    <tr>\n",
       "      <th>1</th>\n",
       "      <td>110.00065</td>\n",
       "      <td>39.613622</td>\n",
       "      <td>0.053511</td>\n",
       "    </tr>\n",
       "    <tr>\n",
       "      <th>2</th>\n",
       "      <td>110.00140</td>\n",
       "      <td>30.987794</td>\n",
       "      <td>-0.000062</td>\n",
       "    </tr>\n",
       "    <tr>\n",
       "      <th>3</th>\n",
       "      <td>110.00143</td>\n",
       "      <td>37.534445</td>\n",
       "      <td>-0.000253</td>\n",
       "    </tr>\n",
       "    <tr>\n",
       "      <th>4</th>\n",
       "      <td>110.00192</td>\n",
       "      <td>39.751928</td>\n",
       "      <td>0.000305</td>\n",
       "    </tr>\n",
       "    <tr>\n",
       "      <th>...</th>\n",
       "      <td>...</td>\n",
       "      <td>...</td>\n",
       "      <td>...</td>\n",
       "    </tr>\n",
       "    <tr>\n",
       "      <th>9995</th>\n",
       "      <td>113.28545</td>\n",
       "      <td>39.046797</td>\n",
       "      <td>0.217406</td>\n",
       "    </tr>\n",
       "    <tr>\n",
       "      <th>9996</th>\n",
       "      <td>113.28586</td>\n",
       "      <td>33.386140</td>\n",
       "      <td>0.731382</td>\n",
       "    </tr>\n",
       "    <tr>\n",
       "      <th>9997</th>\n",
       "      <td>113.28597</td>\n",
       "      <td>32.749380</td>\n",
       "      <td>0.951027</td>\n",
       "    </tr>\n",
       "    <tr>\n",
       "      <th>9998</th>\n",
       "      <td>113.28601</td>\n",
       "      <td>33.420892</td>\n",
       "      <td>5.299447</td>\n",
       "    </tr>\n",
       "    <tr>\n",
       "      <th>9999</th>\n",
       "      <td>113.28619</td>\n",
       "      <td>32.606597</td>\n",
       "      <td>0.950040</td>\n",
       "    </tr>\n",
       "  </tbody>\n",
       "</table>\n",
       "<p>10000 rows × 3 columns</p>\n",
       "</div>"
      ],
      "text/plain": [
       "        ra_sdss   dec_sdss         z\n",
       "0     110.00027  39.699210  0.516598\n",
       "1     110.00065  39.613622  0.053511\n",
       "2     110.00140  30.987794 -0.000062\n",
       "3     110.00143  37.534445 -0.000253\n",
       "4     110.00192  39.751928  0.000305\n",
       "...         ...        ...       ...\n",
       "9995  113.28545  39.046797  0.217406\n",
       "9996  113.28586  33.386140  0.731382\n",
       "9997  113.28597  32.749380  0.951027\n",
       "9998  113.28601  33.420892  5.299447\n",
       "9999  113.28619  32.606597  0.950040\n",
       "\n",
       "[10000 rows x 3 columns]"
      ]
     },
     "execution_count": 5,
     "metadata": {},
     "output_type": "execute_result"
    }
   ],
   "source": [
    "%%time\n",
    "df_single = qc.query(sql=query_single,fmt='pandas')\n",
    "df_single"
   ]
  },
  {
   "cell_type": "markdown",
   "id": "21aee4cb-fa02-40fb-9055-b1bb32fb5875",
   "metadata": {},
   "source": [
    "## Example 2: A Double JOIN\n",
    "Now we will examine both the spectroscopic redshifts from SDSS DR16 and the photometry from LS DR9 by writing a query with two JOIN statements. The relevant information we want to select from our three tables of interest for this example are:\n",
    "\n",
    "1. \"X\" = `sdss_dr16.x1p5__specobj__ls_dr9__tractor`\n",
    "    - **ra1** (RA of SDSS object)\n",
    "    - **dec1** (Dec of SDSS object)\n",
    "2. \"S\" = `sdss_dr16.specobj`\n",
    "    - **z** (redshift)\n",
    "3. \"L\" = `ls_dr9.tractor`\n",
    "    - **mag_g** (converted g magnitude)\n",
    "    - **mag_r** (converted r magnitude)"
   ]
  },
  {
   "cell_type": "markdown",
   "id": "12622b05-a630-43fd-b477-5cbee8becf57",
   "metadata": {},
   "source": [
    "### Write the double JOIN statement query\n",
    "In this example we use two JOIN statements: the first will search in the SDSS DR16 `specobj` table for rows that have the same SDSS id value (`specobjid`) as in the pre-crossmatched table (`id1`) and retrieve the desired columns from the SDSS DR16 `specobj` table. The second will search in the LS DR9 `tractor` table for rows that have the same LS id value (`ls_id`) as in the pre-crossmatched table (`id2`) and retrieve the desired columns from the LS DR9 `tractor` table within the specified RA and Dec region."
   ]
  },
  {
   "cell_type": "code",
   "execution_count": 6,
   "id": "6f74ac38-f2e7-48ba-b2b8-e621d75096c1",
   "metadata": {},
   "outputs": [
    {
     "name": "stdout",
     "output_type": "stream",
     "text": [
      "\n",
      "SELECT \n",
      "    X.ra1 AS ra_sdss, X.dec1 AS dec_sdss,\n",
      "    S.z,\n",
      "    L.mag_g, L.mag_r\n",
      "FROM\n",
      "    sdss_dr16.x1p5__specobj__ls_dr9__tractor AS X \n",
      "JOIN\n",
      "    sdss_dr16.specobj AS S ON X.id1 = S.specobjid \n",
      "JOIN\n",
      "    ls_dr9.tractor AS L ON X.id2 = L.ls_id\n",
      "WHERE\n",
      "    X.ra1 BETWEEN 110 and 200 and X.dec1 BETWEEN 7.0 and 40.0\n",
      "LIMIT 10000\n",
      "\n"
     ]
    }
   ],
   "source": [
    "query_double = (\"\"\"\n",
    "SELECT \n",
    "    X.ra1 AS ra_sdss, X.dec1 AS dec_sdss,\n",
    "    S.z,\n",
    "    L.mag_g, L.mag_r\n",
    "FROM\n",
    "    sdss_dr16.x1p5__specobj__ls_dr9__tractor AS X \n",
    "JOIN\n",
    "    sdss_dr16.specobj AS S ON X.id1 = S.specobjid \n",
    "JOIN\n",
    "    ls_dr9.tractor AS L ON X.id2 = L.ls_id\n",
    "WHERE\n",
    "    X.ra1 BETWEEN %s and %s and X.dec1 BETWEEN %s and %s\n",
    "LIMIT 10000\n",
    "\"\"\"\n",
    ") %(110,200,7.,40.)  #large region\n",
    "print(query_double) # print the query statement to screen"
   ]
  },
  {
   "cell_type": "markdown",
   "id": "feab669e-44b7-4713-848f-fc0f8f4557f7",
   "metadata": {},
   "source": [
    "### Execute the double JOIN statement query and print results"
   ]
  },
  {
   "cell_type": "code",
   "execution_count": 7,
   "id": "c420e32b-8592-44b7-ae55-cbceb9ee6664",
   "metadata": {},
   "outputs": [
    {
     "name": "stdout",
     "output_type": "stream",
     "text": [
      "CPU times: user 37.3 ms, sys: 7.13 ms, total: 44.5 ms\n",
      "Wall time: 949 ms\n"
     ]
    },
    {
     "data": {
      "text/html": [
       "<div>\n",
       "<style scoped>\n",
       "    .dataframe tbody tr th:only-of-type {\n",
       "        vertical-align: middle;\n",
       "    }\n",
       "\n",
       "    .dataframe tbody tr th {\n",
       "        vertical-align: top;\n",
       "    }\n",
       "\n",
       "    .dataframe thead th {\n",
       "        text-align: right;\n",
       "    }\n",
       "</style>\n",
       "<table border=\"1\" class=\"dataframe\">\n",
       "  <thead>\n",
       "    <tr style=\"text-align: right;\">\n",
       "      <th></th>\n",
       "      <th>ra_sdss</th>\n",
       "      <th>dec_sdss</th>\n",
       "      <th>z</th>\n",
       "      <th>mag_g</th>\n",
       "      <th>mag_r</th>\n",
       "    </tr>\n",
       "  </thead>\n",
       "  <tbody>\n",
       "    <tr>\n",
       "      <th>0</th>\n",
       "      <td>124.93368</td>\n",
       "      <td>39.862601</td>\n",
       "      <td>0.174130</td>\n",
       "      <td>18.598770</td>\n",
       "      <td>17.707087</td>\n",
       "    </tr>\n",
       "    <tr>\n",
       "      <th>1</th>\n",
       "      <td>124.91581</td>\n",
       "      <td>39.849342</td>\n",
       "      <td>1.784543</td>\n",
       "      <td>21.515312</td>\n",
       "      <td>21.335560</td>\n",
       "    </tr>\n",
       "    <tr>\n",
       "      <th>2</th>\n",
       "      <td>124.88087</td>\n",
       "      <td>39.829225</td>\n",
       "      <td>0.362639</td>\n",
       "      <td>20.689663</td>\n",
       "      <td>18.882698</td>\n",
       "    </tr>\n",
       "    <tr>\n",
       "      <th>3</th>\n",
       "      <td>124.52069</td>\n",
       "      <td>39.986561</td>\n",
       "      <td>0.031352</td>\n",
       "      <td>18.176840</td>\n",
       "      <td>17.582064</td>\n",
       "    </tr>\n",
       "    <tr>\n",
       "      <th>4</th>\n",
       "      <td>124.50651</td>\n",
       "      <td>39.977437</td>\n",
       "      <td>0.000255</td>\n",
       "      <td>17.876215</td>\n",
       "      <td>17.854273</td>\n",
       "    </tr>\n",
       "    <tr>\n",
       "      <th>...</th>\n",
       "      <td>...</td>\n",
       "      <td>...</td>\n",
       "      <td>...</td>\n",
       "      <td>...</td>\n",
       "      <td>...</td>\n",
       "    </tr>\n",
       "    <tr>\n",
       "      <th>9995</th>\n",
       "      <td>138.39385</td>\n",
       "      <td>39.620674</td>\n",
       "      <td>0.122326</td>\n",
       "      <td>17.721390</td>\n",
       "      <td>16.696081</td>\n",
       "    </tr>\n",
       "    <tr>\n",
       "      <th>9996</th>\n",
       "      <td>140.39495</td>\n",
       "      <td>39.445870</td>\n",
       "      <td>0.224668</td>\n",
       "      <td>18.444952</td>\n",
       "      <td>17.616922</td>\n",
       "    </tr>\n",
       "    <tr>\n",
       "      <th>9997</th>\n",
       "      <td>140.98451</td>\n",
       "      <td>39.800896</td>\n",
       "      <td>0.095002</td>\n",
       "      <td>17.533873</td>\n",
       "      <td>16.555084</td>\n",
       "    </tr>\n",
       "    <tr>\n",
       "      <th>9998</th>\n",
       "      <td>140.45823</td>\n",
       "      <td>39.444055</td>\n",
       "      <td>0.589554</td>\n",
       "      <td>21.350521</td>\n",
       "      <td>20.022564</td>\n",
       "    </tr>\n",
       "    <tr>\n",
       "      <th>9999</th>\n",
       "      <td>139.89338</td>\n",
       "      <td>39.830488</td>\n",
       "      <td>0.149572</td>\n",
       "      <td>18.264605</td>\n",
       "      <td>17.086712</td>\n",
       "    </tr>\n",
       "  </tbody>\n",
       "</table>\n",
       "<p>10000 rows × 5 columns</p>\n",
       "</div>"
      ],
      "text/plain": [
       "        ra_sdss   dec_sdss         z      mag_g      mag_r\n",
       "0     124.93368  39.862601  0.174130  18.598770  17.707087\n",
       "1     124.91581  39.849342  1.784543  21.515312  21.335560\n",
       "2     124.88087  39.829225  0.362639  20.689663  18.882698\n",
       "3     124.52069  39.986561  0.031352  18.176840  17.582064\n",
       "4     124.50651  39.977437  0.000255  17.876215  17.854273\n",
       "...         ...        ...       ...        ...        ...\n",
       "9995  138.39385  39.620674  0.122326  17.721390  16.696081\n",
       "9996  140.39495  39.445870  0.224668  18.444952  17.616922\n",
       "9997  140.98451  39.800896  0.095002  17.533873  16.555084\n",
       "9998  140.45823  39.444055  0.589554  21.350521  20.022564\n",
       "9999  139.89338  39.830488  0.149572  18.264605  17.086712\n",
       "\n",
       "[10000 rows x 5 columns]"
      ]
     },
     "execution_count": 7,
     "metadata": {},
     "output_type": "execute_result"
    }
   ],
   "source": [
    "%%time\n",
    "df_double = qc.query(sql=query_double,fmt='pandas')\n",
    "df_double"
   ]
  },
  {
   "cell_type": "markdown",
   "id": "9f6b6332-4837-4325-b48c-92b732f5269a",
   "metadata": {},
   "source": [
    "<a class=\"anchor\" id=\"savetovospace\"></a>\n",
    "# Saving results to VOSpace\n",
    "VOSpace is a convenient storage space for users to save their work. It can store any data or file type. We can save the results from a query to our virtual storage space. First, a basic query extracting a few thousand rows of the specobjid, ra, and dec columns from the SDSS DR16 specobj table:"
   ]
  },
  {
   "cell_type": "code",
   "execution_count": 8,
   "id": "a22d726d-4f77-4838-b153-2809018acba8",
   "metadata": {},
   "outputs": [
    {
     "name": "stdout",
     "output_type": "stream",
     "text": [
      "SELECT specobjid, ra, dec FROM sdss_dr16.specobj LIMIT 10000\n"
     ]
    }
   ],
   "source": [
    "basic_query = \"SELECT specobjid, ra, dec FROM sdss_dr16.specobj LIMIT 10000\"\n",
    "print(basic_query)"
   ]
  },
  {
   "cell_type": "markdown",
   "id": "40acf779-cbf7-46a4-9f78-0325ccf8e8f5",
   "metadata": {},
   "source": [
    "##### Submit the query, format the output as a CSV, and save it to VOSpace:"
   ]
  },
  {
   "cell_type": "code",
   "execution_count": 9,
   "id": "0440cde3-18af-47d1-927e-6ebad15c35f9",
   "metadata": {},
   "outputs": [
    {
     "name": "stdout",
     "output_type": "stream",
     "text": [
      "CPU times: user 22.4 ms, sys: 1.84 ms, total: 24.2 ms\n",
      "Wall time: 2.04 s\n"
     ]
    }
   ],
   "source": [
    "%%time\n",
    "response = qc.query(sql=basic_query,fmt='csv',out='vos://basic_result.csv')"
   ]
  },
  {
   "cell_type": "markdown",
   "id": "91e55bb9-ec4f-43b5-b444-8ac75ae23d5d",
   "metadata": {},
   "source": [
    "##### Let's ensure the file was saved in VOSpace:"
   ]
  },
  {
   "cell_type": "code",
   "execution_count": 10,
   "id": "d84a1bd5-1c36-4db2-90a8-e6c8e46356a1",
   "metadata": {},
   "outputs": [
    {
     "data": {
      "text/plain": [
       "'basic_result.csv'"
      ]
     },
     "execution_count": 10,
     "metadata": {},
     "output_type": "execute_result"
    }
   ],
   "source": [
    "sc.ls(name='vos://basic_result.csv')"
   ]
  },
  {
   "cell_type": "markdown",
   "id": "dfeca352-a3dc-4d22-b786-68ae7b8eb0d4",
   "metadata": {},
   "source": [
    "##### We will then remove the file from VOSpace:"
   ]
  },
  {
   "cell_type": "code",
   "execution_count": 11,
   "id": "1ad5fdbd-6ae6-41d9-b2ee-4417a8333484",
   "metadata": {},
   "outputs": [
    {
     "data": {
      "text/plain": [
       "'OK'"
      ]
     },
     "execution_count": 11,
     "metadata": {},
     "output_type": "execute_result"
    }
   ],
   "source": [
    "sc.rm(name='vos://basic_result.csv')"
   ]
  },
  {
   "cell_type": "markdown",
   "id": "919320b5-9537-49e6-b4ed-f10fa14ad590",
   "metadata": {},
   "source": [
    "##### And ensure it was removed:"
   ]
  },
  {
   "cell_type": "code",
   "execution_count": 12,
   "id": "644a0b79-aa48-45b5-a3bc-3381a6368c20",
   "metadata": {},
   "outputs": [
    {
     "data": {
      "text/plain": [
       "'A Node does not exist with the requested URI.'"
      ]
     },
     "execution_count": 12,
     "metadata": {},
     "output_type": "execute_result"
    }
   ],
   "source": [
    "sc.ls(name='vos://basic_result.csv')"
   ]
  },
  {
   "cell_type": "markdown",
   "id": "759849f7-c1aa-428d-ab09-9c966edeeb98",
   "metadata": {},
   "source": [
    "<a class=\"anchor\" id=\"savetomydb\"></a>\n",
    "# Saving results to MyDB\n",
    "MyDB is a useful remote per-user relational database that can store data tables. Furthermore, the results of queries can be directly saved to MyDB, as we show in the following example:"
   ]
  },
  {
   "cell_type": "code",
   "execution_count": 13,
   "id": "f6507c7b-5587-4e7c-946a-bcf9f9a6c72c",
   "metadata": {},
   "outputs": [
    {
     "name": "stdout",
     "output_type": "stream",
     "text": [
      "CPU times: user 24.6 ms, sys: 1.4 ms, total: 26 ms\n",
      "Wall time: 295 ms\n"
     ]
    }
   ],
   "source": [
    "%%time\n",
    "response = qc.query(sql=basic_query, fmt='csv', out='mydb://basic_result', drop=True)"
   ]
  },
  {
   "cell_type": "markdown",
   "id": "405f04d5-d2cf-4383-9f27-c1de08b96008",
   "metadata": {},
   "source": [
    "##### Ensure the table has been saved to MyDB by calling the `mydb_list()` function, which will list all tables currently in a user's MyDB:"
   ]
  },
  {
   "cell_type": "code",
   "execution_count": 14,
   "id": "84dcbec1-7f2f-435f-ac67-f49d8b6ad6aa",
   "metadata": {},
   "outputs": [
    {
     "name": "stdout",
     "output_type": "stream",
     "text": [
      "basic_result,created:2022-07-13 13:01:12 MST\n",
      "bgsfaint_dlnotebook,created:2021-08-03 16:40:27 MST\n",
      "desi_tile,created:2021-08-10 14:31:49 MST\n",
      "df_xmatch,created:2021-12-27 14:04:08 MST\n",
      "fastspec_everest_z_lt_0p6,created:2021-09-14 12:41:40 MST\n",
      "gaia_sample,created:2021-11-12 12:34:07 MST\n",
      "gaia_sample_xmatch,created:2021-11-12 12:34:08 MST\n",
      "gals,created:2021-12-27 14:05:56 MST\n",
      "lowmassagn_dlnotebook,created:2021-08-03 16:40:22 MST\n",
      "secondary_dark_subset,created:2021-08-11 12:08:30 MST\n",
      "sv1targets_bright_secondary,created:2021-08-10 14:08:01 MST\n",
      "sv1targets_dark_secondary,created:2021-08-10 14:41:39 MST\n",
      "test1,created:2021-11-22 17:32:45 MST\n",
      "twomasspsc,created:2021-11-23 11:47:37 MST\n",
      "usno_objects,created:2021-11-22 12:35:32 MST\n",
      " \n",
      "\n"
     ]
    }
   ],
   "source": [
    "print(qc.mydb_list(),\"\\n\")"
   ]
  },
  {
   "cell_type": "markdown",
   "id": "1a4cd0d4-5e93-4a8b-9994-e9a1bd561a46",
   "metadata": {},
   "source": [
    "<a class=\"anchor\" id=\"usertable\"></a>\n",
    "# Example: a User Table and a pre-crossmatched Table\n",
    "Example: a user has only ID, RA, and Dec columns for their own table. They then perform a crossmatch between their table and `gaia_dr3.gaia_source`. In doing so, they can use the pre-crossmatched table `gaia_dr3.x1p5__gaia_source__ls_dr9__tractor` to get `ls_dr9.tractor` ID, RA, and Dec columns for free since the pre-crossmatched table gives them the corresponding `gaia_dr3.gaia_source` ID. We will use the `basic_result` table we stored to our MyDB in the previous section as our \"user-provided\" table."
   ]
  },
  {
   "cell_type": "markdown",
   "id": "5c2d0393-3ab1-403b-bfd9-d71599b0b57a",
   "metadata": {},
   "source": [
    "##### Write the nearest-neighbor crossmatch query"
   ]
  },
  {
   "cell_type": "code",
   "execution_count": 15,
   "id": "3bc7feeb-2486-42e8-a3f3-6b4e14d3c6d9",
   "metadata": {},
   "outputs": [
    {
     "name": "stdout",
     "output_type": "stream",
     "text": [
      "\n",
      "SELECT\n",
      "    b.specobjid AS sdss_id, gg.source_id AS gaia_id, \n",
      "    (q3c_dist(b.ra,b.dec,gg.ra,gg.dec)*3600.0) AS dist_arcsec \n",
      "FROM\n",
      "    mydb://basic_result AS b\n",
      "LEFT JOIN LATERAL (\n",
      "    SELECT g.* \n",
      "    FROM \n",
      "        gaia_dr3.gaia_source AS g\n",
      "    WHERE\n",
      "        q3c_join(b.ra, b.dec, g.ra, g.dec, 0.01)\n",
      "    ORDER BY\n",
      "        q3c_dist(b.ra,b.dec,g.ra,g.dec)\n",
      "    ASC LIMIT 1\n",
      ") AS gg ON true\n",
      "\n"
     ]
    }
   ],
   "source": [
    "query_xmatch = \"\"\"\n",
    "SELECT\n",
    "    b.specobjid AS sdss_id, gg.source_id AS gaia_id, \n",
    "    (q3c_dist(b.ra,b.dec,gg.ra,gg.dec)*3600.0) AS dist_arcsec \n",
    "FROM\n",
    "    mydb://basic_result AS b\n",
    "LEFT JOIN LATERAL (\n",
    "    SELECT g.* \n",
    "    FROM \n",
    "        gaia_dr3.gaia_source AS g\n",
    "    WHERE\n",
    "        q3c_join(b.ra, b.dec, g.ra, g.dec, 0.01)\n",
    "    ORDER BY\n",
    "        q3c_dist(b.ra,b.dec,g.ra,g.dec)\n",
    "    ASC LIMIT 1\n",
    ") AS gg ON true\n",
    "\"\"\"\n",
    "print(query_xmatch)"
   ]
  },
  {
   "cell_type": "markdown",
   "id": "07593aaf-07f6-4a69-a180-4e4399d2ee74",
   "metadata": {},
   "source": [
    "##### Submit the crossmatch query and output to MyDB"
   ]
  },
  {
   "cell_type": "code",
   "execution_count": 16,
   "id": "12537ea4-991b-4d6a-9d0f-8b4eebbb5409",
   "metadata": {},
   "outputs": [
    {
     "name": "stdout",
     "output_type": "stream",
     "text": [
      "CPU times: user 24.1 ms, sys: 3.19 ms, total: 27.3 ms\n",
      "Wall time: 1.12 s\n"
     ]
    }
   ],
   "source": [
    "%%time\n",
    "df_xmatch = qc.query(sql=query_xmatch,out=\"mydb://df_xmatch\",drop=True) # set drop=True to remove an already existing table from MyDB with the same name"
   ]
  },
  {
   "cell_type": "markdown",
   "id": "88aed757-7e42-43d0-8797-6baca3433701",
   "metadata": {},
   "source": [
    "##### We can print the table by writing a query to MyDB"
   ]
  },
  {
   "cell_type": "code",
   "execution_count": 17,
   "id": "721507c3-a270-4814-b960-3e5057d213a1",
   "metadata": {},
   "outputs": [
    {
     "data": {
      "text/html": [
       "<div>\n",
       "<style scoped>\n",
       "    .dataframe tbody tr th:only-of-type {\n",
       "        vertical-align: middle;\n",
       "    }\n",
       "\n",
       "    .dataframe tbody tr th {\n",
       "        vertical-align: top;\n",
       "    }\n",
       "\n",
       "    .dataframe thead th {\n",
       "        text-align: right;\n",
       "    }\n",
       "</style>\n",
       "<table border=\"1\" class=\"dataframe\">\n",
       "  <thead>\n",
       "    <tr style=\"text-align: right;\">\n",
       "      <th></th>\n",
       "      <th>sdss_id</th>\n",
       "      <th>gaia_id</th>\n",
       "      <th>dist_arcsec</th>\n",
       "    </tr>\n",
       "  </thead>\n",
       "  <tbody>\n",
       "    <tr>\n",
       "      <th>0</th>\n",
       "      <td>407606586140289024</td>\n",
       "      <td>1.417758e+18</td>\n",
       "      <td>0.059682</td>\n",
       "    </tr>\n",
       "    <tr>\n",
       "      <th>1</th>\n",
       "      <td>407739077291436032</td>\n",
       "      <td>1.417761e+18</td>\n",
       "      <td>0.109204</td>\n",
       "    </tr>\n",
       "    <tr>\n",
       "      <th>2</th>\n",
       "      <td>407738802413529088</td>\n",
       "      <td>1.417774e+18</td>\n",
       "      <td>0.038132</td>\n",
       "    </tr>\n",
       "    <tr>\n",
       "      <th>3</th>\n",
       "      <td>405488373919148032</td>\n",
       "      <td>1.417965e+18</td>\n",
       "      <td>0.112825</td>\n",
       "    </tr>\n",
       "    <tr>\n",
       "      <th>4</th>\n",
       "      <td>407728631930972160</td>\n",
       "      <td>1.417941e+18</td>\n",
       "      <td>0.166325</td>\n",
       "    </tr>\n",
       "    <tr>\n",
       "      <th>...</th>\n",
       "      <td>...</td>\n",
       "      <td>...</td>\n",
       "      <td>...</td>\n",
       "    </tr>\n",
       "    <tr>\n",
       "      <th>9995</th>\n",
       "      <td>7114652879051575296</td>\n",
       "      <td>1.407530e+18</td>\n",
       "      <td>30.430855</td>\n",
       "    </tr>\n",
       "    <tr>\n",
       "      <th>9996</th>\n",
       "      <td>-8832658246329937920</td>\n",
       "      <td>1.407531e+18</td>\n",
       "      <td>33.463994</td>\n",
       "    </tr>\n",
       "    <tr>\n",
       "      <th>9997</th>\n",
       "      <td>7114652329295761408</td>\n",
       "      <td>1.407532e+18</td>\n",
       "      <td>35.740673</td>\n",
       "    </tr>\n",
       "    <tr>\n",
       "      <th>9998</th>\n",
       "      <td>-8832657971452030976</td>\n",
       "      <td>1.407530e+18</td>\n",
       "      <td>15.182376</td>\n",
       "    </tr>\n",
       "    <tr>\n",
       "      <th>9999</th>\n",
       "      <td>-8832659070963658752</td>\n",
       "      <td>1.407530e+18</td>\n",
       "      <td>24.887223</td>\n",
       "    </tr>\n",
       "  </tbody>\n",
       "</table>\n",
       "<p>10000 rows × 3 columns</p>\n",
       "</div>"
      ],
      "text/plain": [
       "                  sdss_id       gaia_id  dist_arcsec\n",
       "0      407606586140289024  1.417758e+18     0.059682\n",
       "1      407739077291436032  1.417761e+18     0.109204\n",
       "2      407738802413529088  1.417774e+18     0.038132\n",
       "3      405488373919148032  1.417965e+18     0.112825\n",
       "4      407728631930972160  1.417941e+18     0.166325\n",
       "...                   ...           ...          ...\n",
       "9995  7114652879051575296  1.407530e+18    30.430855\n",
       "9996 -8832658246329937920  1.407531e+18    33.463994\n",
       "9997  7114652329295761408  1.407532e+18    35.740673\n",
       "9998 -8832657971452030976  1.407530e+18    15.182376\n",
       "9999 -8832659070963658752  1.407530e+18    24.887223\n",
       "\n",
       "[10000 rows x 3 columns]"
      ]
     },
     "execution_count": 17,
     "metadata": {},
     "output_type": "execute_result"
    }
   ],
   "source": [
    "q = \"select * from mydb://df_xmatch\"\n",
    "re = qc.query(sql=q,fmt='pandas')\n",
    "re"
   ]
  },
  {
   "cell_type": "markdown",
   "id": "2b7494ac-6e40-44e0-9f01-51479cf9894e",
   "metadata": {},
   "source": [
    "##### We can now use the gaia_id column from our `df_xmatch` table above to get `ls_dr9.tractor` object information using the `gaia_dr3.x1p5__gaia_source__ls_dr9__tractor` pre-crossmatched table"
   ]
  },
  {
   "cell_type": "code",
   "execution_count": 18,
   "id": "d4ff84af-218e-4d4e-be3f-a1cf12251156",
   "metadata": {},
   "outputs": [
    {
     "name": "stdout",
     "output_type": "stream",
     "text": [
      "\n",
      "SELECT\n",
      "    id2 AS ls_id, ra2 AS ls_ra, dec2 AS ls_dec,\n",
      "    df_xmatch.gaia_id, df_xmatch.sdss_id\n",
      "FROM\n",
      "    gaia_dr3.x1p5__gaia_source__ls_dr9__tractor AS gxl\n",
      "JOIN\n",
      "    mydb://df_xmatch AS df_xmatch ON gxl.id1 = df_xmatch.gaia_id\n",
      "\n",
      "CPU times: user 117 µs, sys: 0 ns, total: 117 µs\n",
      "Wall time: 108 µs\n"
     ]
    }
   ],
   "source": [
    "%%time\n",
    "query_1 = \"\"\"\n",
    "SELECT\n",
    "    id2 AS ls_id, ra2 AS ls_ra, dec2 AS ls_dec,\n",
    "    df_xmatch.gaia_id, df_xmatch.sdss_id\n",
    "FROM\n",
    "    gaia_dr3.x1p5__gaia_source__ls_dr9__tractor AS gxl\n",
    "JOIN\n",
    "    mydb://df_xmatch AS df_xmatch ON gxl.id1 = df_xmatch.gaia_id\n",
    "\"\"\"\n",
    "print(query_1)"
   ]
  },
  {
   "cell_type": "markdown",
   "id": "9d0d5b46-90e9-4dbd-b445-a1953f2e5cd4",
   "metadata": {},
   "source": [
    "##### Submit the query and print the resulting table"
   ]
  },
  {
   "cell_type": "code",
   "execution_count": 19,
   "id": "5f90c8b4-fae1-474d-adf3-9c8a5fa0a926",
   "metadata": {},
   "outputs": [
    {
     "name": "stdout",
     "output_type": "stream",
     "text": [
      "CPU times: user 49.2 ms, sys: 8.81 ms, total: 58 ms\n",
      "Wall time: 494 ms\n"
     ]
    },
    {
     "data": {
      "text/html": [
       "<div>\n",
       "<style scoped>\n",
       "    .dataframe tbody tr th:only-of-type {\n",
       "        vertical-align: middle;\n",
       "    }\n",
       "\n",
       "    .dataframe tbody tr th {\n",
       "        vertical-align: top;\n",
       "    }\n",
       "\n",
       "    .dataframe thead th {\n",
       "        text-align: right;\n",
       "    }\n",
       "</style>\n",
       "<table border=\"1\" class=\"dataframe\">\n",
       "  <thead>\n",
       "    <tr style=\"text-align: right;\">\n",
       "      <th></th>\n",
       "      <th>ls_id</th>\n",
       "      <th>ls_ra</th>\n",
       "      <th>ls_dec</th>\n",
       "      <th>gaia_id</th>\n",
       "      <th>sdss_id</th>\n",
       "    </tr>\n",
       "  </thead>\n",
       "  <tbody>\n",
       "    <tr>\n",
       "      <th>0</th>\n",
       "      <td>9907738631015714</td>\n",
       "      <td>265.585571</td>\n",
       "      <td>54.518153</td>\n",
       "      <td>1417757713589461120</td>\n",
       "      <td>407606586140289024</td>\n",
       "    </tr>\n",
       "    <tr>\n",
       "      <th>1</th>\n",
       "      <td>9907738631015095</td>\n",
       "      <td>265.533827</td>\n",
       "      <td>54.562355</td>\n",
       "      <td>1417760943404869760</td>\n",
       "      <td>407739077291436032</td>\n",
       "    </tr>\n",
       "    <tr>\n",
       "      <th>2</th>\n",
       "      <td>9907738685800625</td>\n",
       "      <td>265.479042</td>\n",
       "      <td>54.688460</td>\n",
       "      <td>1417773759587719552</td>\n",
       "      <td>407738802413529088</td>\n",
       "    </tr>\n",
       "    <tr>\n",
       "      <th>3</th>\n",
       "      <td>9907738685737398</td>\n",
       "      <td>265.266888</td>\n",
       "      <td>54.727856</td>\n",
       "      <td>1417965383848150784</td>\n",
       "      <td>405488373919148032</td>\n",
       "    </tr>\n",
       "    <tr>\n",
       "      <th>4</th>\n",
       "      <td>9907738685735446</td>\n",
       "      <td>265.085212</td>\n",
       "      <td>54.658224</td>\n",
       "      <td>1417941228952064128</td>\n",
       "      <td>407728631930972160</td>\n",
       "    </tr>\n",
       "    <tr>\n",
       "      <th>...</th>\n",
       "      <td>...</td>\n",
       "      <td>...</td>\n",
       "      <td>...</td>\n",
       "      <td>...</td>\n",
       "      <td>...</td>\n",
       "    </tr>\n",
       "    <tr>\n",
       "      <th>9374</th>\n",
       "      <td>9907736639441127</td>\n",
       "      <td>253.623459</td>\n",
       "      <td>46.181360</td>\n",
       "      <td>1407529571095903360</td>\n",
       "      <td>7114652879051575296</td>\n",
       "    </tr>\n",
       "    <tr>\n",
       "      <th>9375</th>\n",
       "      <td>9907736639440624</td>\n",
       "      <td>253.581190</td>\n",
       "      <td>46.196592</td>\n",
       "      <td>1407530503104597888</td>\n",
       "      <td>-8832658246329937920</td>\n",
       "    </tr>\n",
       "    <tr>\n",
       "      <th>9376</th>\n",
       "      <td>9907736639441313</td>\n",
       "      <td>253.636990</td>\n",
       "      <td>46.245412</td>\n",
       "      <td>1407532182436417280</td>\n",
       "      <td>7114652329295761408</td>\n",
       "    </tr>\n",
       "    <tr>\n",
       "      <th>9377</th>\n",
       "      <td>9907736639440201</td>\n",
       "      <td>253.543293</td>\n",
       "      <td>46.217305</td>\n",
       "      <td>1407530430089747200</td>\n",
       "      <td>-8832657971452030976</td>\n",
       "    </tr>\n",
       "    <tr>\n",
       "      <th>9378</th>\n",
       "      <td>9907736639440400</td>\n",
       "      <td>253.561734</td>\n",
       "      <td>46.169876</td>\n",
       "      <td>1407529708534852480</td>\n",
       "      <td>-8832659070963658752</td>\n",
       "    </tr>\n",
       "  </tbody>\n",
       "</table>\n",
       "<p>9379 rows × 5 columns</p>\n",
       "</div>"
      ],
      "text/plain": [
       "                 ls_id       ls_ra     ls_dec              gaia_id  \\\n",
       "0     9907738631015714  265.585571  54.518153  1417757713589461120   \n",
       "1     9907738631015095  265.533827  54.562355  1417760943404869760   \n",
       "2     9907738685800625  265.479042  54.688460  1417773759587719552   \n",
       "3     9907738685737398  265.266888  54.727856  1417965383848150784   \n",
       "4     9907738685735446  265.085212  54.658224  1417941228952064128   \n",
       "...                ...         ...        ...                  ...   \n",
       "9374  9907736639441127  253.623459  46.181360  1407529571095903360   \n",
       "9375  9907736639440624  253.581190  46.196592  1407530503104597888   \n",
       "9376  9907736639441313  253.636990  46.245412  1407532182436417280   \n",
       "9377  9907736639440201  253.543293  46.217305  1407530430089747200   \n",
       "9378  9907736639440400  253.561734  46.169876  1407529708534852480   \n",
       "\n",
       "                  sdss_id  \n",
       "0      407606586140289024  \n",
       "1      407739077291436032  \n",
       "2      407738802413529088  \n",
       "3      405488373919148032  \n",
       "4      407728631930972160  \n",
       "...                   ...  \n",
       "9374  7114652879051575296  \n",
       "9375 -8832658246329937920  \n",
       "9376  7114652329295761408  \n",
       "9377 -8832657971452030976  \n",
       "9378 -8832659070963658752  \n",
       "\n",
       "[9379 rows x 5 columns]"
      ]
     },
     "execution_count": 19,
     "metadata": {},
     "output_type": "execute_result"
    }
   ],
   "source": [
    "%%time\n",
    "df = qc.query(sql=query_1,fmt='pandas')\n",
    "df"
   ]
  },
  {
   "cell_type": "markdown",
   "id": "9b39ece7-895a-4f1c-bddd-deac0a9e7488",
   "metadata": {},
   "source": [
    "<a class=\"anchor\" id=\"refs\"></a>\n",
    "# Resources & references"
   ]
  },
  {
   "cell_type": "markdown",
   "id": "d198321e-fa76-4034-9fcd-8a45141ac73e",
   "metadata": {},
   "source": [
    "W3Schools: SQL Joins https://www.w3schools.com/sql/sql_join.asp  "
   ]
  }
 ],
 "metadata": {
  "kernelspec": {
   "display_name": "Python 3",
   "language": "python",
   "name": "python3"
  },
  "language_info": {
   "codemirror_mode": {
    "name": "ipython",
    "version": 3
   },
   "file_extension": ".py",
   "mimetype": "text/x-python",
   "name": "python",
   "nbconvert_exporter": "python",
   "pygments_lexer": "ipython3",
   "version": "3.8.8"
  }
 },
 "nbformat": 4,
 "nbformat_minor": 5
}
