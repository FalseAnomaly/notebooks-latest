{
 "cells": [
  {
   "cell_type": "code",
   "execution_count": 1,
   "id": "b75ba0c0-ca5f-4ad6-8055-f53ed35d767d",
   "metadata": {},
   "outputs": [],
   "source": [
    "__author__ = 'Alice Jacques <alice.jacques@noirlab.edu>, Astro Data Lab Team <datalab@noirlab.edu>' \n",
    "__version__ = '20211217' #yyyymmdd \n",
    "__datasets__ = ['ls_dr9','sdss_dr16','gaia_edr3','des_dr2'] \n",
    "__keywords__ = ['crossmatch','joint query','mydb','vospace']"
   ]
  },
  {
   "cell_type": "markdown",
   "id": "58bbec8c-108a-4ab0-827f-e2db0a5201fd",
   "metadata": {},
   "source": [
    "# Examples using the pre-crossmatched tables at Astro Data Lab\n",
    "\n",
    "by Alice Jacques and the Astro Data Lab Team"
   ]
  },
  {
   "cell_type": "markdown",
   "id": "86d0f1ae-256a-4e39-803e-07a6aaf021af",
   "metadata": {},
   "source": [
    "### Table of contents\n",
    "* [Goals](#goals)\n",
    "* [Disclaimer & attribution](#attribution)\n",
    "* [Imports & setup](#import)\n",
    "* [Authentication](#auth)\n",
    "* [Writing a query with a JOIN statement](#joinquery)\n",
    "* [Examples of using a JOIN statement in a query with LS and SDSS catalogs](#lssdss)\n",
    "* [Saving results to VOSpace](#savetovospace)\n",
    "* [Saving results to MyDB](#savetomydb)\n",
    "* [Example Using a User Table and a pre-crossmatched Table](#usertable)\n",
    "* [Resources & references](#refs)"
   ]
  },
  {
   "cell_type": "markdown",
   "id": "4c17572e-fcd6-462c-a3b0-8f34831cd3af",
   "metadata": {},
   "source": [
    "<a class=\"anchor\" id=\"goals\"></a>\n",
    "# Goals\n",
    "\n",
    "* Learn how to write a query with a JOIN statement to retrieve information from a pre-crossmatched table and another Data Lab table\n",
    "* Use a user-provided table to crossmatch a Data Lab table\n",
    "\n",
    "For a more in-depth explanation of the pre-crossmatched tables hosted at Astro Data Lab, see our [How-to use pre-crossmatched tables notebook](https://github.com/noaodatalab/notebooks-latest/blob/master/04_HowTos/CrossmatchTables/How_to_use_pre_crossmatched_tables.ipynb). "
   ]
  },
  {
   "cell_type": "markdown",
   "id": "41676f15-4c39-44b1-a785-f7383f7843be",
   "metadata": {},
   "source": [
    "<a class=\"anchor\" id=\"attribution\"></a>\n",
    "# Disclaimer & attribution\n",
    "If you use this notebook for your published science, please acknowledge the following:\n",
    "\n",
    "* Data Lab concept paper: Fitzpatrick et al., \"The NOAO Data Laboratory: a conceptual overview\", SPIE, 9149, 2014, http://dx.doi.org/10.1117/12.2057445\n",
    "\n",
    "* Data Lab disclaimer: https://datalab.noirlab.edu/disclaimers.php"
   ]
  },
  {
   "cell_type": "markdown",
   "id": "c3fbcfc9-09e1-4dbc-beea-9fe52e4a00d8",
   "metadata": {},
   "source": [
    "<a class=\"anchor\" id=\"import\"></a>\n",
    "# Imports and setup"
   ]
  },
  {
   "cell_type": "code",
   "execution_count": 2,
   "id": "e570cd9d-745c-480d-8e2f-f23b9ff04d0b",
   "metadata": {},
   "outputs": [],
   "source": [
    "# std lib\n",
    "from getpass import getpass\n",
    "\n",
    "# 3rd party\n",
    "from astropy.utils.data import download_file  #import file from URL\n",
    "from matplotlib.ticker import NullFormatter\n",
    "import pylab as plt\n",
    "import matplotlib\n",
    "%matplotlib inline\n",
    "\n",
    "# Data Lab\n",
    "from dl import authClient as ac, queryClient as qc, storeClient as sc\n",
    "from dl.helpers.utils import convert # converts table to Pandas dataframe object"
   ]
  },
  {
   "cell_type": "markdown",
   "id": "86315630-c19b-4c32-a935-5847be1f94d1",
   "metadata": {},
   "source": [
    "<a class=\"anchor\" id=\"auth\"></a>\n",
    "# Authentication\n",
    "Much of the functionality of Data Lab can be accessed without explicitly logging in (the service then uses an anonymous login). But some capacities, for instance saving the results of your queries to your virtual storage space, require a login (i.e. you will need a registered user account).\n",
    "\n",
    "If you need to log in to Data Lab, issue this command, and respond according to the instructions:"
   ]
  },
  {
   "cell_type": "code",
   "execution_count": 3,
   "id": "49207a6a-0716-4270-a6b9-ba16606e57a8",
   "metadata": {},
   "outputs": [
    {
     "data": {
      "text/plain": [
       "'demo00'"
      ]
     },
     "execution_count": 3,
     "metadata": {},
     "output_type": "execute_result"
    }
   ],
   "source": [
    "#ac.login(input(\"Enter user name: (+ENTER) \"),getpass(\"Enter password: (+ENTER) \"))\n",
    "ac.whoAmI()"
   ]
  },
  {
   "cell_type": "markdown",
   "id": "249aee3d-10db-4737-9315-10444b680327",
   "metadata": {},
   "source": [
    "<a class=\"anchor\" id=\"joinquery\"></a>\n",
    "# Writing a query with a JOIN statement\n",
    "In order to extract only the relevant columns pertaining to our science question from multiple data tables, we may write a query that uses a JOIN statement. There are 4 main types of JOIN statements that we could use, and which one we decide to choose depends on how we want the information to be extracted. \n",
    "1. **(INNER) JOIN**: Returns rows that have matching values in both tables\n",
    "2. **LEFT (OUTER) JOIN**: Returns all rows from the left table, and the matched rows from the right table\n",
    "3. **RIGHT (OUTER) JOIN**: Returns all rows from the right table, and the matched rows from the left table\n",
    "4. **FULL (OUTER) JOIN**: Returns all rows when there is a match in either left or right table\n",
    "\n",
    "Take a moment to look over the figure below outlining the various JOIN statement types.  \n",
    "NOTE: the default JOIN is an `INNER JOIN`."
   ]
  },
  {
   "cell_type": "markdown",
   "id": "ce1cf3fd-d55f-4203-a6cb-4f39f0fda1f0",
   "metadata": {},
   "source": [
    "<img src='join.png'></img>"
   ]
  },
  {
   "cell_type": "markdown",
   "id": "8cc4b865-b5d1-4dd2-aad7-0f8a8edec6bc",
   "metadata": {},
   "source": [
    "### `JOIN LATERAL`\n",
    "In nearest neighbor crossmatch queries, we use `JOIN LATERAL`, which is like a SQL foreach loop that will iterate over each row in a result set and evaluate a subquery using that row as a parameter."
   ]
  },
  {
   "cell_type": "markdown",
   "id": "6ca2e4d4-2236-4d2e-9c11-c1962ad28932",
   "metadata": {},
   "source": [
    "<a class=\"anchor\" id=\"lssdss\"></a>\n",
    "# Examples of using a JOIN statement in a query with LS and SDSS catalogs\n",
    "## Example 1: A Single JOIN\n",
    "First we will examine the spectroscopic redshift of objects that are found in both the SDSS DR16 catalog and the LS DR9 catalog by writing a query with a single JOIN statement between their pre-crossmatched table and the SDSS DR16 table. The two crossmatch tables related to these two catalogs are:\n",
    "\n",
    "`ls_dr9.x1p5__tractor__sdss_dr16__specobj`  \n",
    "`sdss_dr16.x1p5__specobj__ls_dr9__tractor`\n",
    "\n",
    "The choice of which of these two crossmatch tables to use should be based on the science question being posed. For instance, the question *'how does a galaxy's structure change with redshift?'* is dependent on the redshift values obtained from SDSS DR16, so we should use the crossmatch table that has SDSS DR16 as the first table. So, the relevant information we want to select from our 2 tables of interest for this example are:\n",
    "\n",
    "1. \"X\" = `sdss_dr16.x1p5__specobj__ls_dr9__tractor`\n",
    "    - **ra1** (RA of sdss object)\n",
    "    - **dec1** (Dec of sdss object)\n",
    "2. \"S\" = `sdss_dr16.specobj`\n",
    "    - **z** (redshift)"
   ]
  },
  {
   "cell_type": "markdown",
   "id": "4c14c842-e832-497e-89d4-6c00035528d5",
   "metadata": {},
   "source": [
    "### Write the single JOIN statement query\n",
    "Now that we know what we want and where we want it from, let's write the query and then print the results on screen. Here we use one JOIN statement: it will search in the SDSS DR16 `specobj` table for rows that have the same SDSS id value (`specobjid`) as in the pre-crossmatched table (`id1`) and retrieve the desired columns from the SDSS DR16 `specobj` table within the specified RA and Dec region."
   ]
  },
  {
   "cell_type": "code",
   "execution_count": 4,
   "id": "730021ea-1262-4e71-8e31-13fb3c358595",
   "metadata": {},
   "outputs": [
    {
     "name": "stdout",
     "output_type": "stream",
     "text": [
      "SELECT \n",
      "           X.ra1 AS ra_sdss, X.dec1 AS dec_sdss,\n",
      "           S.z\n",
      "         FROM sdss_dr16.x1p5__specobj__ls_dr9__tractor AS X \n",
      "         JOIN sdss_dr16.specobj AS S ON X.id1 = S.specobjid \n",
      "         WHERE X.ra1 BETWEEN 110 and 200 and X.dec1 BETWEEN 7.0 and 40.0\n",
      "         LIMIT 10000\n",
      "         \n"
     ]
    }
   ],
   "source": [
    "query_single = (\"\"\"SELECT \n",
    "           X.ra1 AS ra_sdss, X.dec1 AS dec_sdss,\n",
    "           S.z\n",
    "         FROM sdss_dr16.x1p5__specobj__ls_dr9__tractor AS X \n",
    "         JOIN sdss_dr16.specobj AS S ON X.id1 = S.specobjid \n",
    "         WHERE X.ra1 BETWEEN %s and %s and X.dec1 BETWEEN %s and %s\n",
    "         LIMIT 10000\n",
    "         \"\"\") %(110,200,7.,40.)  #large region\n",
    "print(query_single) # print the query statement to screen"
   ]
  },
  {
   "cell_type": "markdown",
   "id": "56ccb2f4-1eb0-4b52-9a9c-9a92a64001a6",
   "metadata": {},
   "source": [
    "### Execute the single JOIN statement query and print results"
   ]
  },
  {
   "cell_type": "code",
   "execution_count": 5,
   "id": "e82e6dd9-52aa-4456-8054-9df7ef667fd6",
   "metadata": {},
   "outputs": [
    {
     "name": "stdout",
     "output_type": "stream",
     "text": [
      "CPU times: user 41.8 ms, sys: 6.56 ms, total: 48.4 ms\n",
      "Wall time: 192 ms\n"
     ]
    },
    {
     "data": {
      "text/html": [
       "<div>\n",
       "<style scoped>\n",
       "    .dataframe tbody tr th:only-of-type {\n",
       "        vertical-align: middle;\n",
       "    }\n",
       "\n",
       "    .dataframe tbody tr th {\n",
       "        vertical-align: top;\n",
       "    }\n",
       "\n",
       "    .dataframe thead th {\n",
       "        text-align: right;\n",
       "    }\n",
       "</style>\n",
       "<table border=\"1\" class=\"dataframe\">\n",
       "  <thead>\n",
       "    <tr style=\"text-align: right;\">\n",
       "      <th></th>\n",
       "      <th>ra_sdss</th>\n",
       "      <th>dec_sdss</th>\n",
       "      <th>z</th>\n",
       "    </tr>\n",
       "  </thead>\n",
       "  <tbody>\n",
       "    <tr>\n",
       "      <th>0</th>\n",
       "      <td>110.00027</td>\n",
       "      <td>39.699210</td>\n",
       "      <td>0.516598</td>\n",
       "    </tr>\n",
       "    <tr>\n",
       "      <th>1</th>\n",
       "      <td>110.00065</td>\n",
       "      <td>39.613622</td>\n",
       "      <td>0.053511</td>\n",
       "    </tr>\n",
       "    <tr>\n",
       "      <th>2</th>\n",
       "      <td>110.00140</td>\n",
       "      <td>30.987794</td>\n",
       "      <td>-0.000062</td>\n",
       "    </tr>\n",
       "    <tr>\n",
       "      <th>3</th>\n",
       "      <td>110.00143</td>\n",
       "      <td>37.534445</td>\n",
       "      <td>-0.000253</td>\n",
       "    </tr>\n",
       "    <tr>\n",
       "      <th>4</th>\n",
       "      <td>110.14336</td>\n",
       "      <td>31.806547</td>\n",
       "      <td>0.000142</td>\n",
       "    </tr>\n",
       "    <tr>\n",
       "      <th>...</th>\n",
       "      <td>...</td>\n",
       "      <td>...</td>\n",
       "      <td>...</td>\n",
       "    </tr>\n",
       "    <tr>\n",
       "      <th>9995</th>\n",
       "      <td>113.28693</td>\n",
       "      <td>28.588780</td>\n",
       "      <td>1.386999</td>\n",
       "    </tr>\n",
       "    <tr>\n",
       "      <th>9996</th>\n",
       "      <td>113.28717</td>\n",
       "      <td>31.895871</td>\n",
       "      <td>0.111349</td>\n",
       "    </tr>\n",
       "    <tr>\n",
       "      <th>9997</th>\n",
       "      <td>113.31892</td>\n",
       "      <td>39.762407</td>\n",
       "      <td>0.428941</td>\n",
       "    </tr>\n",
       "    <tr>\n",
       "      <th>9998</th>\n",
       "      <td>113.39171</td>\n",
       "      <td>25.877255</td>\n",
       "      <td>2.119476</td>\n",
       "    </tr>\n",
       "    <tr>\n",
       "      <th>9999</th>\n",
       "      <td>113.31926</td>\n",
       "      <td>25.973879</td>\n",
       "      <td>0.774009</td>\n",
       "    </tr>\n",
       "  </tbody>\n",
       "</table>\n",
       "<p>10000 rows × 3 columns</p>\n",
       "</div>"
      ],
      "text/plain": [
       "        ra_sdss   dec_sdss         z\n",
       "0     110.00027  39.699210  0.516598\n",
       "1     110.00065  39.613622  0.053511\n",
       "2     110.00140  30.987794 -0.000062\n",
       "3     110.00143  37.534445 -0.000253\n",
       "4     110.14336  31.806547  0.000142\n",
       "...         ...        ...       ...\n",
       "9995  113.28693  28.588780  1.386999\n",
       "9996  113.28717  31.895871  0.111349\n",
       "9997  113.31892  39.762407  0.428941\n",
       "9998  113.39171  25.877255  2.119476\n",
       "9999  113.31926  25.973879  0.774009\n",
       "\n",
       "[10000 rows x 3 columns]"
      ]
     },
     "execution_count": 5,
     "metadata": {},
     "output_type": "execute_result"
    }
   ],
   "source": [
    "%%time\n",
    "df_single = qc.query(sql=query_single,fmt='pandas')\n",
    "df_single"
   ]
  },
  {
   "cell_type": "markdown",
   "id": "21aee4cb-fa02-40fb-9055-b1bb32fb5875",
   "metadata": {},
   "source": [
    "## Example 2: A Double JOIN\n",
    "Now we will examine both the spectroscopic redshifts from SDSS DR16 and the photometry from LS DR9 by writing a query with two JOIN statements. The relevant information we want to select from our 3 tables of interest for this example are:\n",
    "\n",
    "1. \"X\" = `sdss_dr16.x1p5__specobj__ls_dr9__tractor`\n",
    "    - **ra1** (RA of sdss object)\n",
    "    - **dec1** (Dec of sdss object)\n",
    "2. \"S\" = `sdss_dr16.specobj`\n",
    "    - **z** (redshift)\n",
    "3. \"L\" = `ls_dr9.tractor`\n",
    "    - **mag_g** (converted g magnitude)\n",
    "    - **mag_r** (converted r magnitude)"
   ]
  },
  {
   "cell_type": "markdown",
   "id": "12622b05-a630-43fd-b477-5cbee8becf57",
   "metadata": {},
   "source": [
    "### Write the double JOIN statement query\n",
    "In this example we use two JOIN statements: the first will search in the SDSS DR16 `specobj` table for rows that have the same SDSS id value (`specobjid`) as in the pre-crossmatched table (`id1`) and retrieve the desired columns from the SDSS DR16 `specobj` table. The second will search in the LS DR9 `tractor` table for rows that have the same LS id value (`ls_id`) as in the pre-crossmatched table (`id2`) and retrieve the desired columns from the LS DR9 `tractor` table within the specified RA and Dec region."
   ]
  },
  {
   "cell_type": "code",
   "execution_count": 6,
   "id": "6f74ac38-f2e7-48ba-b2b8-e621d75096c1",
   "metadata": {},
   "outputs": [
    {
     "name": "stdout",
     "output_type": "stream",
     "text": [
      "SELECT \n",
      "           X.ra1 AS ra_sdss, X.dec1 AS dec_sdss,\n",
      "           S.z,\n",
      "           L.mag_g, L.mag_r\n",
      "         FROM sdss_dr16.x1p5__specobj__ls_dr9__tractor AS X \n",
      "         JOIN sdss_dr16.specobj AS S ON X.id1 = S.specobjid \n",
      "         JOIN ls_dr9.tractor AS L ON X.id2 = L.ls_id\n",
      "         WHERE X.ra1 BETWEEN 110 and 200 and X.dec1 BETWEEN 7.0 and 40.0\n",
      "         LIMIT 10000\n",
      "         \n"
     ]
    }
   ],
   "source": [
    "query_double = (\"\"\"SELECT \n",
    "           X.ra1 AS ra_sdss, X.dec1 AS dec_sdss,\n",
    "           S.z,\n",
    "           L.mag_g, L.mag_r\n",
    "         FROM sdss_dr16.x1p5__specobj__ls_dr9__tractor AS X \n",
    "         JOIN sdss_dr16.specobj AS S ON X.id1 = S.specobjid \n",
    "         JOIN ls_dr9.tractor AS L ON X.id2 = L.ls_id\n",
    "         WHERE X.ra1 BETWEEN %s and %s and X.dec1 BETWEEN %s and %s\n",
    "         LIMIT 10000\n",
    "         \"\"\") %(110,200,7.,40.)  #large region\n",
    "print(query_double) # print the query statement to screen"
   ]
  },
  {
   "cell_type": "markdown",
   "id": "feab669e-44b7-4713-848f-fc0f8f4557f7",
   "metadata": {},
   "source": [
    "### Execute the double JOIN statement query and print results"
   ]
  },
  {
   "cell_type": "code",
   "execution_count": 7,
   "id": "c420e32b-8592-44b7-ae55-cbceb9ee6664",
   "metadata": {},
   "outputs": [
    {
     "name": "stdout",
     "output_type": "stream",
     "text": [
      "CPU times: user 39.4 ms, sys: 7.71 ms, total: 47.1 ms\n",
      "Wall time: 924 ms\n"
     ]
    },
    {
     "data": {
      "text/html": [
       "<div>\n",
       "<style scoped>\n",
       "    .dataframe tbody tr th:only-of-type {\n",
       "        vertical-align: middle;\n",
       "    }\n",
       "\n",
       "    .dataframe tbody tr th {\n",
       "        vertical-align: top;\n",
       "    }\n",
       "\n",
       "    .dataframe thead th {\n",
       "        text-align: right;\n",
       "    }\n",
       "</style>\n",
       "<table border=\"1\" class=\"dataframe\">\n",
       "  <thead>\n",
       "    <tr style=\"text-align: right;\">\n",
       "      <th></th>\n",
       "      <th>ra_sdss</th>\n",
       "      <th>dec_sdss</th>\n",
       "      <th>z</th>\n",
       "      <th>mag_g</th>\n",
       "      <th>mag_r</th>\n",
       "    </tr>\n",
       "  </thead>\n",
       "  <tbody>\n",
       "    <tr>\n",
       "      <th>0</th>\n",
       "      <td>124.52069</td>\n",
       "      <td>39.986561</td>\n",
       "      <td>0.031352</td>\n",
       "      <td>18.176840</td>\n",
       "      <td>17.582064</td>\n",
       "    </tr>\n",
       "    <tr>\n",
       "      <th>1</th>\n",
       "      <td>124.50651</td>\n",
       "      <td>39.977437</td>\n",
       "      <td>0.000255</td>\n",
       "      <td>17.876215</td>\n",
       "      <td>17.854273</td>\n",
       "    </tr>\n",
       "    <tr>\n",
       "      <th>2</th>\n",
       "      <td>124.55036</td>\n",
       "      <td>39.957123</td>\n",
       "      <td>0.609857</td>\n",
       "      <td>21.274117</td>\n",
       "      <td>20.050620</td>\n",
       "    </tr>\n",
       "    <tr>\n",
       "      <th>3</th>\n",
       "      <td>124.93368</td>\n",
       "      <td>39.862601</td>\n",
       "      <td>0.174130</td>\n",
       "      <td>18.598770</td>\n",
       "      <td>17.707087</td>\n",
       "    </tr>\n",
       "    <tr>\n",
       "      <th>4</th>\n",
       "      <td>124.91581</td>\n",
       "      <td>39.849342</td>\n",
       "      <td>1.784543</td>\n",
       "      <td>21.515312</td>\n",
       "      <td>21.335560</td>\n",
       "    </tr>\n",
       "    <tr>\n",
       "      <th>...</th>\n",
       "      <td>...</td>\n",
       "      <td>...</td>\n",
       "      <td>...</td>\n",
       "      <td>...</td>\n",
       "      <td>...</td>\n",
       "    </tr>\n",
       "    <tr>\n",
       "      <th>9995</th>\n",
       "      <td>138.22253</td>\n",
       "      <td>39.595639</td>\n",
       "      <td>0.302148</td>\n",
       "      <td>NaN</td>\n",
       "      <td>22.110443</td>\n",
       "    </tr>\n",
       "    <tr>\n",
       "      <th>9996</th>\n",
       "      <td>140.12286</td>\n",
       "      <td>39.443345</td>\n",
       "      <td>0.000498</td>\n",
       "      <td>18.833876</td>\n",
       "      <td>18.510561</td>\n",
       "    </tr>\n",
       "    <tr>\n",
       "      <th>9997</th>\n",
       "      <td>141.06439</td>\n",
       "      <td>39.792393</td>\n",
       "      <td>0.000077</td>\n",
       "      <td>21.980827</td>\n",
       "      <td>22.134087</td>\n",
       "    </tr>\n",
       "    <tr>\n",
       "      <th>9998</th>\n",
       "      <td>139.60113</td>\n",
       "      <td>39.613745</td>\n",
       "      <td>0.560051</td>\n",
       "      <td>21.138893</td>\n",
       "      <td>20.845846</td>\n",
       "    </tr>\n",
       "    <tr>\n",
       "      <th>9999</th>\n",
       "      <td>138.11724</td>\n",
       "      <td>39.564458</td>\n",
       "      <td>0.644078</td>\n",
       "      <td>22.565754</td>\n",
       "      <td>20.759590</td>\n",
       "    </tr>\n",
       "  </tbody>\n",
       "</table>\n",
       "<p>10000 rows × 5 columns</p>\n",
       "</div>"
      ],
      "text/plain": [
       "        ra_sdss   dec_sdss         z      mag_g      mag_r\n",
       "0     124.52069  39.986561  0.031352  18.176840  17.582064\n",
       "1     124.50651  39.977437  0.000255  17.876215  17.854273\n",
       "2     124.55036  39.957123  0.609857  21.274117  20.050620\n",
       "3     124.93368  39.862601  0.174130  18.598770  17.707087\n",
       "4     124.91581  39.849342  1.784543  21.515312  21.335560\n",
       "...         ...        ...       ...        ...        ...\n",
       "9995  138.22253  39.595639  0.302148        NaN  22.110443\n",
       "9996  140.12286  39.443345  0.000498  18.833876  18.510561\n",
       "9997  141.06439  39.792393  0.000077  21.980827  22.134087\n",
       "9998  139.60113  39.613745  0.560051  21.138893  20.845846\n",
       "9999  138.11724  39.564458  0.644078  22.565754  20.759590\n",
       "\n",
       "[10000 rows x 5 columns]"
      ]
     },
     "execution_count": 7,
     "metadata": {},
     "output_type": "execute_result"
    }
   ],
   "source": [
    "%%time\n",
    "df_double = qc.query(sql=query_double,fmt='pandas')\n",
    "df_double"
   ]
  },
  {
   "cell_type": "markdown",
   "id": "9f6b6332-4837-4325-b48c-92b732f5269a",
   "metadata": {},
   "source": [
    "<a class=\"anchor\" id=\"savetovospace\"></a>\n",
    "# Saving results to VOSpace\n",
    "VOSpace is a convenient storage space for users to save their work. It can store any data or file type. We can save the results from a query to our virtual storage space. First, a basic query extracting a few thousand rows of the specobjid, ra, and dec columns from the SDSS DR16 specobj table:"
   ]
  },
  {
   "cell_type": "code",
   "execution_count": 8,
   "id": "a22d726d-4f77-4838-b153-2809018acba8",
   "metadata": {},
   "outputs": [
    {
     "name": "stdout",
     "output_type": "stream",
     "text": [
      "SELECT specobjid, ra, dec FROM sdss_dr16.specobj LIMIT 10000\n"
     ]
    }
   ],
   "source": [
    "basic_query = \"SELECT specobjid, ra, dec FROM sdss_dr16.specobj LIMIT 10000\"\n",
    "print(basic_query)"
   ]
  },
  {
   "cell_type": "markdown",
   "id": "40acf779-cbf7-46a4-9f78-0325ccf8e8f5",
   "metadata": {},
   "source": [
    "##### Submit the query, format the output as a CSV, and save it to VOSpace:"
   ]
  },
  {
   "cell_type": "code",
   "execution_count": 9,
   "id": "0440cde3-18af-47d1-927e-6ebad15c35f9",
   "metadata": {},
   "outputs": [
    {
     "name": "stdout",
     "output_type": "stream",
     "text": [
      "CPU times: user 22.7 ms, sys: 0 ns, total: 22.7 ms\n",
      "Wall time: 1.73 s\n"
     ]
    }
   ],
   "source": [
    "%%time\n",
    "response = qc.query(sql=basic_query,fmt='csv',out='vos://basic_result.csv')"
   ]
  },
  {
   "cell_type": "markdown",
   "id": "91e55bb9-ec4f-43b5-b444-8ac75ae23d5d",
   "metadata": {},
   "source": [
    "##### Let's ensure the file was saved in VOSpace:"
   ]
  },
  {
   "cell_type": "code",
   "execution_count": 10,
   "id": "d84a1bd5-1c36-4db2-90a8-e6c8e46356a1",
   "metadata": {},
   "outputs": [
    {
     "data": {
      "text/plain": [
       "'basic_result.csv'"
      ]
     },
     "execution_count": 10,
     "metadata": {},
     "output_type": "execute_result"
    }
   ],
   "source": [
    "sc.ls(name='vos://basic_result.csv')"
   ]
  },
  {
   "cell_type": "markdown",
   "id": "dfeca352-a3dc-4d22-b786-68ae7b8eb0d4",
   "metadata": {},
   "source": [
    "##### We will then remove the file from VOSpace:"
   ]
  },
  {
   "cell_type": "code",
   "execution_count": 11,
   "id": "1ad5fdbd-6ae6-41d9-b2ee-4417a8333484",
   "metadata": {},
   "outputs": [
    {
     "data": {
      "text/plain": [
       "'OK'"
      ]
     },
     "execution_count": 11,
     "metadata": {},
     "output_type": "execute_result"
    }
   ],
   "source": [
    "sc.rm(name='vos://basic_result.csv')"
   ]
  },
  {
   "cell_type": "markdown",
   "id": "919320b5-9537-49e6-b4ed-f10fa14ad590",
   "metadata": {},
   "source": [
    "##### And ensure it was removed:"
   ]
  },
  {
   "cell_type": "code",
   "execution_count": 12,
   "id": "644a0b79-aa48-45b5-a3bc-3381a6368c20",
   "metadata": {},
   "outputs": [
    {
     "data": {
      "text/plain": [
       "'A Node does not exist with the requested URI.'"
      ]
     },
     "execution_count": 12,
     "metadata": {},
     "output_type": "execute_result"
    }
   ],
   "source": [
    "sc.ls(name='vos://basic_result.csv')"
   ]
  },
  {
   "cell_type": "markdown",
   "id": "759849f7-c1aa-428d-ab09-9c966edeeb98",
   "metadata": {},
   "source": [
    "<a class=\"anchor\" id=\"savetomydb\"></a>\n",
    "# Saving results to MyDB\n",
    "MyDB is a useful OS remote per-user relational database that can store data tables. Furthermore, the results of queries can be directly saved to MyDB, as we show in the following example:"
   ]
  },
  {
   "cell_type": "code",
   "execution_count": 13,
   "id": "f6507c7b-5587-4e7c-946a-bcf9f9a6c72c",
   "metadata": {},
   "outputs": [
    {
     "name": "stdout",
     "output_type": "stream",
     "text": [
      "CPU times: user 23.6 ms, sys: 1.93 ms, total: 25.5 ms\n",
      "Wall time: 238 ms\n"
     ]
    }
   ],
   "source": [
    "%%time\n",
    "response = qc.query(sql=basic_query, fmt='csv', out='mydb://basic_result', drop=True)"
   ]
  },
  {
   "cell_type": "markdown",
   "id": "405f04d5-d2cf-4383-9f27-c1de08b96008",
   "metadata": {},
   "source": [
    "##### Ensure the table has been saved to MyDB by calling the `mydb_list()` function, which will list all tables currently in a user's MyDB:"
   ]
  },
  {
   "cell_type": "code",
   "execution_count": 14,
   "id": "84dcbec1-7f2f-435f-ac67-f49d8b6ad6aa",
   "metadata": {},
   "outputs": [
    {
     "name": "stdout",
     "output_type": "stream",
     "text": [
      "basic_result,created:2021-12-17 15:50:33 MST\n",
      "bgsfaint_dlnotebook,created:2021-08-03 16:40:27 MST\n",
      "desi_tile,created:2021-08-10 14:31:49 MST\n",
      "df_xmatch,created:2021-12-17 15:38:43 MST\n",
      "fastspec_everest_z_lt_0p6,created:2021-09-14 12:41:40 MST\n",
      "gaia_sample,created:2021-11-12 12:34:07 MST\n",
      "gaia_sample_xmatch,created:2021-11-12 12:34:08 MST\n",
      "gals,created:2021-12-17 15:47:40 MST\n",
      "lowmassagn_dlnotebook,created:2021-08-03 16:40:22 MST\n",
      "secondary_dark_subset,created:2021-08-11 12:08:30 MST\n",
      "sv1targets_bright_secondary,created:2021-08-10 14:08:01 MST\n",
      "sv1targets_dark_secondary,created:2021-08-10 14:41:39 MST\n",
      "test1,created:2021-11-22 17:32:45 MST\n",
      "twomasspsc,created:2021-11-23 11:47:37 MST\n",
      "usno_objects,created:2021-11-22 12:35:32 MST\n",
      " \n",
      "\n"
     ]
    }
   ],
   "source": [
    "print(qc.mydb_list(),\"\\n\")"
   ]
  },
  {
   "cell_type": "markdown",
   "id": "1a4cd0d4-5e93-4a8b-9994-e9a1bd561a46",
   "metadata": {},
   "source": [
    "<a class=\"anchor\" id=\"usertable\"></a>\n",
    "# Example: a User Table and a pre-crossmatched Table\n",
    "Example: a user has only ID, RA, and Dec columns for their own table. They then perform a crossmatch between their table and `gaia_edr3.gaia_source`. In doing so, they can use the pre-crossmatched table `gaia_edr3.x1p5__gaia_source__ls_dr9__tractor` to get `ls_dr9.tractor` ID, RA, and Dec columns for free since the pre-crossmatched table gives them the corresponding `gaia_edr3.gaia_source` ID. We will use the `basic_result` table we stored to our MyDB in the previous section as our \"user-provided\" table."
   ]
  },
  {
   "cell_type": "markdown",
   "id": "5c2d0393-3ab1-403b-bfd9-d71599b0b57a",
   "metadata": {},
   "source": [
    "##### Write the nearest-neighbor crossmatch query"
   ]
  },
  {
   "cell_type": "code",
   "execution_count": 15,
   "id": "3bc7feeb-2486-42e8-a3f3-6b4e14d3c6d9",
   "metadata": {},
   "outputs": [
    {
     "name": "stdout",
     "output_type": "stream",
     "text": [
      "SELECT b.specobjid AS sdss_id, gg.source_id AS gaia_id, (q3c_dist(b.ra,b.dec,gg.ra,gg.dec)*3600.0) AS dist_arcsec \n",
      "         FROM mydb://basic_result AS b\n",
      "         LEFT JOIN LATERAL (\n",
      "               SELECT g.* \n",
      "                    FROM \n",
      "                        gaia_edr3.gaia_source AS g\n",
      "                    WHERE\n",
      "                        q3c_join(b.ra, b.dec, g.ra, g.dec, 0.01)\n",
      "                    ORDER BY\n",
      "                        q3c_dist(b.ra,b.dec,g.ra,g.dec)\n",
      "                    ASC LIMIT 1\n",
      "               ) AS gg ON true\n"
     ]
    }
   ],
   "source": [
    "query_xmatch = \"\"\"SELECT b.specobjid AS sdss_id, gg.source_id AS gaia_id, (q3c_dist(b.ra,b.dec,gg.ra,gg.dec)*3600.0) AS dist_arcsec \n",
    "         FROM mydb://basic_result AS b\n",
    "         LEFT JOIN LATERAL (\n",
    "               SELECT g.* \n",
    "                    FROM \n",
    "                        gaia_edr3.gaia_source AS g\n",
    "                    WHERE\n",
    "                        q3c_join(b.ra, b.dec, g.ra, g.dec, 0.01)\n",
    "                    ORDER BY\n",
    "                        q3c_dist(b.ra,b.dec,g.ra,g.dec)\n",
    "                    ASC LIMIT 1\n",
    "               ) AS gg ON true\"\"\"\n",
    "print(query_xmatch)"
   ]
  },
  {
   "cell_type": "markdown",
   "id": "07593aaf-07f6-4a69-a180-4e4399d2ee74",
   "metadata": {},
   "source": [
    "##### Submit the crossmatch query and output to MyDB"
   ]
  },
  {
   "cell_type": "code",
   "execution_count": 16,
   "id": "12537ea4-991b-4d6a-9d0f-8b4eebbb5409",
   "metadata": {},
   "outputs": [
    {
     "name": "stdout",
     "output_type": "stream",
     "text": [
      "CPU times: user 27 ms, sys: 257 µs, total: 27.3 ms\n",
      "Wall time: 618 ms\n"
     ]
    }
   ],
   "source": [
    "%%time\n",
    "df_xmatch = qc.query(sql=query_xmatch,out=\"mydb://df_xmatch\",drop=True) # set drop=True to remove an already existing table from MyDB with the same name"
   ]
  },
  {
   "cell_type": "markdown",
   "id": "88aed757-7e42-43d0-8797-6baca3433701",
   "metadata": {},
   "source": [
    "##### We can print the table by writing a query to MyDB"
   ]
  },
  {
   "cell_type": "code",
   "execution_count": 17,
   "id": "721507c3-a270-4814-b960-3e5057d213a1",
   "metadata": {},
   "outputs": [
    {
     "data": {
      "text/html": [
       "<div>\n",
       "<style scoped>\n",
       "    .dataframe tbody tr th:only-of-type {\n",
       "        vertical-align: middle;\n",
       "    }\n",
       "\n",
       "    .dataframe tbody tr th {\n",
       "        vertical-align: top;\n",
       "    }\n",
       "\n",
       "    .dataframe thead th {\n",
       "        text-align: right;\n",
       "    }\n",
       "</style>\n",
       "<table border=\"1\" class=\"dataframe\">\n",
       "  <thead>\n",
       "    <tr style=\"text-align: right;\">\n",
       "      <th></th>\n",
       "      <th>sdss_id</th>\n",
       "      <th>gaia_id</th>\n",
       "      <th>dist_arcsec</th>\n",
       "    </tr>\n",
       "  </thead>\n",
       "  <tbody>\n",
       "    <tr>\n",
       "      <th>0</th>\n",
       "      <td>7114642158813204480</td>\n",
       "      <td>1.407556e+18</td>\n",
       "      <td>17.391270</td>\n",
       "    </tr>\n",
       "    <tr>\n",
       "      <th>1</th>\n",
       "      <td>-8832415804016013312</td>\n",
       "      <td>1.407532e+18</td>\n",
       "      <td>0.185691</td>\n",
       "    </tr>\n",
       "    <tr>\n",
       "      <th>2</th>\n",
       "      <td>7114650405150412800</td>\n",
       "      <td>NaN</td>\n",
       "      <td>NaN</td>\n",
       "    </tr>\n",
       "    <tr>\n",
       "      <th>3</th>\n",
       "      <td>7114644082958553088</td>\n",
       "      <td>1.407557e+18</td>\n",
       "      <td>10.379782</td>\n",
       "    </tr>\n",
       "    <tr>\n",
       "      <th>4</th>\n",
       "      <td>-8832415529138106368</td>\n",
       "      <td>1.407545e+18</td>\n",
       "      <td>10.267332</td>\n",
       "    </tr>\n",
       "    <tr>\n",
       "      <th>...</th>\n",
       "      <td>...</td>\n",
       "      <td>...</td>\n",
       "      <td>...</td>\n",
       "    </tr>\n",
       "    <tr>\n",
       "      <th>9995</th>\n",
       "      <td>7105673442381549568</td>\n",
       "      <td>1.413342e+18</td>\n",
       "      <td>0.216448</td>\n",
       "    </tr>\n",
       "    <tr>\n",
       "      <th>9996</th>\n",
       "      <td>9069277526946500608</td>\n",
       "      <td>1.413343e+18</td>\n",
       "      <td>0.253815</td>\n",
       "    </tr>\n",
       "    <tr>\n",
       "      <th>9997</th>\n",
       "      <td>7105671793114107904</td>\n",
       "      <td>1.413343e+18</td>\n",
       "      <td>28.489515</td>\n",
       "    </tr>\n",
       "    <tr>\n",
       "      <th>9998</th>\n",
       "      <td>7105671518236200960</td>\n",
       "      <td>1.413349e+18</td>\n",
       "      <td>21.486028</td>\n",
       "    </tr>\n",
       "    <tr>\n",
       "      <th>9999</th>\n",
       "      <td>7105674267015270400</td>\n",
       "      <td>1.413346e+18</td>\n",
       "      <td>0.148609</td>\n",
       "    </tr>\n",
       "  </tbody>\n",
       "</table>\n",
       "<p>10000 rows × 3 columns</p>\n",
       "</div>"
      ],
      "text/plain": [
       "                  sdss_id       gaia_id  dist_arcsec\n",
       "0     7114642158813204480  1.407556e+18    17.391270\n",
       "1    -8832415804016013312  1.407532e+18     0.185691\n",
       "2     7114650405150412800           NaN          NaN\n",
       "3     7114644082958553088  1.407557e+18    10.379782\n",
       "4    -8832415529138106368  1.407545e+18    10.267332\n",
       "...                   ...           ...          ...\n",
       "9995  7105673442381549568  1.413342e+18     0.216448\n",
       "9996  9069277526946500608  1.413343e+18     0.253815\n",
       "9997  7105671793114107904  1.413343e+18    28.489515\n",
       "9998  7105671518236200960  1.413349e+18    21.486028\n",
       "9999  7105674267015270400  1.413346e+18     0.148609\n",
       "\n",
       "[10000 rows x 3 columns]"
      ]
     },
     "execution_count": 17,
     "metadata": {},
     "output_type": "execute_result"
    }
   ],
   "source": [
    "q = \"select * from mydb://df_xmatch\"\n",
    "re = qc.query(sql=q,fmt='pandas')\n",
    "re"
   ]
  },
  {
   "cell_type": "markdown",
   "id": "2b7494ac-6e40-44e0-9f01-51479cf9894e",
   "metadata": {},
   "source": [
    "##### We can now use the gaia_id column from our `df_xmatch` table above to get `ls_dr9.tractor` object information using the `gaia_edr3.x1p5__gaia_source__ls_dr9__tractor` pre-crossmatched table"
   ]
  },
  {
   "cell_type": "code",
   "execution_count": 18,
   "id": "d4ff84af-218e-4d4e-be3f-a1cf12251156",
   "metadata": {},
   "outputs": [
    {
     "name": "stdout",
     "output_type": "stream",
     "text": [
      "SELECT id2 AS ls_id, ra2 AS ls_ra, dec2 AS ls_dec, df_xmatch.gaia_id, df_xmatch.sdss_id\n",
      "             FROM gaia_edr3.x1p5__gaia_source__ls_dr9__tractor AS gxl\n",
      "             JOIN mydb://df_xmatch AS df_xmatch ON gxl.id1 = df_xmatch.gaia_id\n",
      "CPU times: user 43 µs, sys: 67 µs, total: 110 µs\n",
      "Wall time: 110 µs\n"
     ]
    }
   ],
   "source": [
    "%%time\n",
    "query_1 = \"\"\"SELECT id2 AS ls_id, ra2 AS ls_ra, dec2 AS ls_dec, df_xmatch.gaia_id, df_xmatch.sdss_id\n",
    "             FROM gaia_edr3.x1p5__gaia_source__ls_dr9__tractor AS gxl\n",
    "             JOIN mydb://df_xmatch AS df_xmatch ON gxl.id1 = df_xmatch.gaia_id\"\"\"\n",
    "print(query_1)"
   ]
  },
  {
   "cell_type": "markdown",
   "id": "9d0d5b46-90e9-4dbd-b445-a1953f2e5cd4",
   "metadata": {},
   "source": [
    "##### Submit the query and print the resulting table"
   ]
  },
  {
   "cell_type": "code",
   "execution_count": 19,
   "id": "5f90c8b4-fae1-474d-adf3-9c8a5fa0a926",
   "metadata": {},
   "outputs": [
    {
     "name": "stdout",
     "output_type": "stream",
     "text": [
      "CPU times: user 50 ms, sys: 13.6 ms, total: 63.6 ms\n",
      "Wall time: 340 ms\n"
     ]
    },
    {
     "data": {
      "text/html": [
       "<div>\n",
       "<style scoped>\n",
       "    .dataframe tbody tr th:only-of-type {\n",
       "        vertical-align: middle;\n",
       "    }\n",
       "\n",
       "    .dataframe tbody tr th {\n",
       "        vertical-align: top;\n",
       "    }\n",
       "\n",
       "    .dataframe thead th {\n",
       "        text-align: right;\n",
       "    }\n",
       "</style>\n",
       "<table border=\"1\" class=\"dataframe\">\n",
       "  <thead>\n",
       "    <tr style=\"text-align: right;\">\n",
       "      <th></th>\n",
       "      <th>ls_id</th>\n",
       "      <th>ls_ra</th>\n",
       "      <th>ls_dec</th>\n",
       "      <th>gaia_id</th>\n",
       "      <th>sdss_id</th>\n",
       "    </tr>\n",
       "  </thead>\n",
       "  <tbody>\n",
       "    <tr>\n",
       "      <th>0</th>\n",
       "      <td>9907736639504634</td>\n",
       "      <td>253.818388</td>\n",
       "      <td>46.325681</td>\n",
       "      <td>1407555512698825856</td>\n",
       "      <td>7114642158813204480</td>\n",
       "    </tr>\n",
       "    <tr>\n",
       "      <th>1</th>\n",
       "      <td>9907736639443103</td>\n",
       "      <td>253.782188</td>\n",
       "      <td>46.304692</td>\n",
       "      <td>1407532079356854528</td>\n",
       "      <td>-8832415804016013312</td>\n",
       "    </tr>\n",
       "    <tr>\n",
       "      <th>2</th>\n",
       "      <td>9907736639504415</td>\n",
       "      <td>253.800025</td>\n",
       "      <td>46.371270</td>\n",
       "      <td>1407556582146016000</td>\n",
       "      <td>7114644082958553088</td>\n",
       "    </tr>\n",
       "    <tr>\n",
       "      <th>3</th>\n",
       "      <td>9907736704716129</td>\n",
       "      <td>253.749831</td>\n",
       "      <td>46.375637</td>\n",
       "      <td>1407544968553236096</td>\n",
       "      <td>-8832415529138106368</td>\n",
       "    </tr>\n",
       "    <tr>\n",
       "      <th>4</th>\n",
       "      <td>9907736639442270</td>\n",
       "      <td>253.716406</td>\n",
       "      <td>46.291527</td>\n",
       "      <td>1407532667766889216</td>\n",
       "      <td>-8833698667126566912</td>\n",
       "    </tr>\n",
       "    <tr>\n",
       "      <th>...</th>\n",
       "      <td>...</td>\n",
       "      <td>...</td>\n",
       "      <td>...</td>\n",
       "      <td>...</td>\n",
       "      <td>...</td>\n",
       "    </tr>\n",
       "    <tr>\n",
       "      <th>9025</th>\n",
       "      <td>9907737886069133</td>\n",
       "      <td>250.482206</td>\n",
       "      <td>51.263024</td>\n",
       "      <td>1413341795718436096</td>\n",
       "      <td>7105673442381549568</td>\n",
       "    </tr>\n",
       "    <tr>\n",
       "      <th>9026</th>\n",
       "      <td>9907737886068457</td>\n",
       "      <td>250.418733</td>\n",
       "      <td>51.308297</td>\n",
       "      <td>1413342830806144256</td>\n",
       "      <td>9069277526946500608</td>\n",
       "    </tr>\n",
       "    <tr>\n",
       "      <th>9027</th>\n",
       "      <td>9907737886068447</td>\n",
       "      <td>250.418017</td>\n",
       "      <td>51.276693</td>\n",
       "      <td>1413342551635279744</td>\n",
       "      <td>7105671793114107904</td>\n",
       "    </tr>\n",
       "    <tr>\n",
       "      <th>9028</th>\n",
       "      <td>9907737886130483</td>\n",
       "      <td>250.511157</td>\n",
       "      <td>51.362007</td>\n",
       "      <td>1413348908184325248</td>\n",
       "      <td>7105671518236200960</td>\n",
       "    </tr>\n",
       "    <tr>\n",
       "      <th>9029</th>\n",
       "      <td>9907737945178922</td>\n",
       "      <td>250.467932</td>\n",
       "      <td>51.375035</td>\n",
       "      <td>1413346021966556416</td>\n",
       "      <td>7105674267015270400</td>\n",
       "    </tr>\n",
       "  </tbody>\n",
       "</table>\n",
       "<p>9030 rows × 5 columns</p>\n",
       "</div>"
      ],
      "text/plain": [
       "                 ls_id       ls_ra     ls_dec              gaia_id  \\\n",
       "0     9907736639504634  253.818388  46.325681  1407555512698825856   \n",
       "1     9907736639443103  253.782188  46.304692  1407532079356854528   \n",
       "2     9907736639504415  253.800025  46.371270  1407556582146016000   \n",
       "3     9907736704716129  253.749831  46.375637  1407544968553236096   \n",
       "4     9907736639442270  253.716406  46.291527  1407532667766889216   \n",
       "...                ...         ...        ...                  ...   \n",
       "9025  9907737886069133  250.482206  51.263024  1413341795718436096   \n",
       "9026  9907737886068457  250.418733  51.308297  1413342830806144256   \n",
       "9027  9907737886068447  250.418017  51.276693  1413342551635279744   \n",
       "9028  9907737886130483  250.511157  51.362007  1413348908184325248   \n",
       "9029  9907737945178922  250.467932  51.375035  1413346021966556416   \n",
       "\n",
       "                  sdss_id  \n",
       "0     7114642158813204480  \n",
       "1    -8832415804016013312  \n",
       "2     7114644082958553088  \n",
       "3    -8832415529138106368  \n",
       "4    -8833698667126566912  \n",
       "...                   ...  \n",
       "9025  7105673442381549568  \n",
       "9026  9069277526946500608  \n",
       "9027  7105671793114107904  \n",
       "9028  7105671518236200960  \n",
       "9029  7105674267015270400  \n",
       "\n",
       "[9030 rows x 5 columns]"
      ]
     },
     "execution_count": 19,
     "metadata": {},
     "output_type": "execute_result"
    }
   ],
   "source": [
    "%%time\n",
    "df = qc.query(sql=query_1,fmt='pandas')\n",
    "df"
   ]
  },
  {
   "cell_type": "markdown",
   "id": "9b39ece7-895a-4f1c-bddd-deac0a9e7488",
   "metadata": {},
   "source": [
    "<a class=\"anchor\" id=\"refs\"></a>\n",
    "# Resources & references"
   ]
  },
  {
   "cell_type": "markdown",
   "id": "d198321e-fa76-4034-9fcd-8a45141ac73e",
   "metadata": {},
   "source": [
    "W3Schools: SQL Joins https://www.w3schools.com/sql/sql_join.asp  "
   ]
  }
 ],
 "metadata": {
  "kernelspec": {
   "display_name": "Python 3",
   "language": "python",
   "name": "python3"
  },
  "language_info": {
   "codemirror_mode": {
    "name": "ipython",
    "version": 3
   },
   "file_extension": ".py",
   "mimetype": "text/x-python",
   "name": "python",
   "nbconvert_exporter": "python",
   "pygments_lexer": "ipython3",
   "version": "3.8.8"
  }
 },
 "nbformat": 4,
 "nbformat_minor": 5
}
