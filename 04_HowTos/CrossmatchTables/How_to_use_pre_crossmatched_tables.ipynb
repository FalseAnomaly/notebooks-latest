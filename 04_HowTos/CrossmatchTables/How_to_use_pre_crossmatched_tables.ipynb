{
 "cells": [
  {
   "cell_type": "code",
   "execution_count": 1,
   "metadata": {},
   "outputs": [],
   "source": [
    "__author__ = 'Alice Jacques <alice.jacques@noirlab.edu>, NOIRLab Astro Data Lab Team <datalab@noirlab.edu>' \n",
    "__version__ = '20210908' #yyyymmdd \n",
    "__datasets__ = ['ls_dr8','sdss_dr16','gaia_dr2','des_dr1','smash_dr2','unwise_dr1','allwise','nsc_dr2'] \n",
    "__keywords__ = ['crossmatch','joint query','mydb','vospace','image cutout']"
   ]
  },
  {
   "cell_type": "markdown",
   "metadata": {},
   "source": [
    "# How to use the pre-crossmatched tables at Astro Data Lab\n",
    "\n",
    "by Alice Jacques and the NOIRLab Astro Data Lab Team"
   ]
  },
  {
   "cell_type": "markdown",
   "metadata": {},
   "source": [
    "### Table of contents\n",
    "* [Goals & notebook summary](#goals)\n",
    "* [Disclaimer & attribution](#attribution)\n",
    "* [Imports & setup](#import)\n",
    "* [Authentication](#auth)\n",
    "* [Accessing the pre-crossmatched tables](#access)\n",
    "* [Writing a JOIN query](#joinquery)\n",
    "* [Joint query of LS and SDSS catalogs](#lssdss)\n",
    "* [Crossmatch a user-provided table and a pre-crossmatched table](#usertable)\n",
    "* [Speed test](#speedtest)\n",
    "* [Appendix](#appendix)\n",
    "* [Resources & references](#refs)"
   ]
  },
  {
   "cell_type": "markdown",
   "metadata": {},
   "source": [
    "<a class=\"anchor\" id=\"goals\"></a>\n",
    "# Goals\n",
    "\n",
    "* Learn how to use a pre-crossmatched table to do a joint query on two Data Lab data sets\n",
    "* Learn how to do an efficient crossmatch of a user-provided data table against a Data Lab pre-crossmatched table"
   ]
  },
  {
   "cell_type": "markdown",
   "metadata": {},
   "source": [
    "# Summary\n",
    "\n",
    "#### Crossmatch table naming template\n",
    "The crossmatch tables at Astro Data Lab are named as follows:\n",
    "\n",
    "`schema1.xNpN__table1__schema2__table2`\n",
    "\n",
    "where the N in NpN encode the numerical value of the crossmatching radius (since dots '.' are not allowed in table names).\n",
    "\n",
    "Example: \n",
    "\n",
    "`ls_dr8.x1p5__tractor_primary__nsc_dr2__object`\n",
    "\n",
    "is a crossmatch table (indicated by the leading x), located in the ls_dr8 schema, and it crossmatches the **ls_dr8.tractor_primary** table with the **nsc_dr2.object** table (which lives in the nsc_dr2 schema) within a 1.5 arcseconds radius ('1p5') .\n",
    "\n",
    "This is admittedly long, but clean, consistent, and most importantly, parsable. The use of double-underscores '\\__' is to distinguish from single underscores often used in schema and table names.\n",
    "\n",
    "\n",
    "#### Columns in crossmatch tables\n",
    "All crossmatch tables shall be minimalist, i.e. have only these columns: id1,ra1,dec1,id2,ra2,dec2,distance.\n",
    "Column descriptions in the crossmatch table shall contain the original column names in parentheses (makes it parsable).\n",
    "\n",
    "For example:\n",
    "\n",
    "`ls_dr8.x1p5__tractor_primary__nsc_dr2__object`\n",
    "\n",
    "| Column   | Description                                     | Datatype |\n",
    "|----------|-------------------------------------------------|----------|\n",
    "| id1      | ID in left/first table (ls_id)                  | BIGINT   |\n",
    "| ra1      | Right ascension in left/first table (ra)        | DOUBLE   |\n",
    "| dec1     | Declination in left/first table (dec)           | DOUBLE   |\n",
    "| id2      | ID in right/second table (id)                   | VARCHAR  |\n",
    "| ra2      | Right ascension in right/second table (ra)      | DOUBLE   |\n",
    "| dec2     | Declination in right/second table (dec)         | DOUBLE   |\n",
    "| distance | Distance between ra1,dec1 and ra2,dec2 (arcsec) | DOUBLE   |\n",
    "\n",
    "\n",
    "#### Datatypes in crossmatch tables\n",
    "\n",
    "* The column data types in a crossmatch table for columns id1 and id2 shall be retained from the mother tables. The example above, BIGINT, is valid in many cases, but need not be for all data sets.\n",
    "* The data types for columns ra1, dec1, ra2, dec2 shall be DOUBLE, which they usually will be anyway.\n",
    "* The column distance can be either REAL or DOUBLE.\n",
    "\n",
    "#### Overview\n",
    "\n",
    "* **The following 5 data sets are considered the main reference tables** and are crossmatched against all data sets (if there is sky overlap) and when a new data set is ingested:  \n",
    "    - latest gaia_drN.gaia_source    \n",
    "    - latest nsc_drN.object\n",
    "    - latest unwise_drN.object\n",
    "    - allwise.source  \n",
    "    - latest sdss_drN.specobj\n",
    "* **\"Crossmatch\" means for now \"single nearest neighbor\"** (and this is the current mode at Data Lab).\n",
    "* **Object tables only**, not single epoch measurements or metadata tables.\n",
    "* For every crossmatch table with table1 as the left/first table and table2 as the right/second table, there exists a corresponding crossmatch table with table2 as the left/first table and table1 as the right/second table. \n",
    "    - For example, `allwise.x1p5__source__des_dr2__main` and `des_dr2.x1p5__main__allwise__source`.\n",
    "\n",
    "\n",
    "The list of available crossmatch tables can be viewed on our query interface [here](https://datalab.noirlab.edu/query.php) under their respective schema."
   ]
  },
  {
   "cell_type": "markdown",
   "metadata": {},
   "source": [
    "<a class=\"anchor\" id=\"attribution\"></a>\n",
    "# Disclaimer & attribution\n",
    "If you use this notebook for your published science, please acknowledge the following:\n",
    "\n",
    "* Data Lab concept paper: Fitzpatrick et al., \"The NOAO Data Laboratory: a conceptual overview\", SPIE, 9149, 2014, http://dx.doi.org/10.1117/12.2057445\n",
    "\n",
    "* Data Lab disclaimer: https://datalab.noirlab.edu/disclaimers.php"
   ]
  },
  {
   "cell_type": "markdown",
   "metadata": {},
   "source": [
    "<a class=\"anchor\" id=\"import\"></a>\n",
    "# Imports and setup"
   ]
  },
  {
   "cell_type": "code",
   "execution_count": 2,
   "metadata": {},
   "outputs": [],
   "source": [
    "# std lib\n",
    "from getpass import getpass\n",
    "\n",
    "# 3rd party\n",
    "from astropy.utils.data import download_file  #import file from URL\n",
    "from matplotlib.ticker import NullFormatter\n",
    "import pylab as plt\n",
    "import matplotlib\n",
    "%matplotlib inline\n",
    "\n",
    "# Data Lab\n",
    "from dl import authClient as ac, queryClient as qc, storeClient as sc\n",
    "from dl.helpers.utils import convert # converts table to Pandas dataframe object"
   ]
  },
  {
   "cell_type": "markdown",
   "metadata": {},
   "source": [
    "<a class=\"anchor\" id=\"auth\"></a>\n",
    "# Authentication\n",
    "Much of the functionality of Data Lab can be accessed without explicitly logging in (the service then uses an anonymous login). But some capacities, for instance saving the results of your queries to your virtual storage space, require a login (i.e. you will need a registered user account).\n",
    "\n",
    "If you need to log in to Data Lab, issue this command, and respond according to the instructions:"
   ]
  },
  {
   "cell_type": "code",
   "execution_count": 3,
   "metadata": {},
   "outputs": [
    {
     "data": {
      "text/plain": [
       "'demo00'"
      ]
     },
     "execution_count": 3,
     "metadata": {},
     "output_type": "execute_result"
    }
   ],
   "source": [
    "#ac.login(input(\"Enter user name: (+ENTER) \"),getpass(\"Enter password: (+ENTER) \"))\n",
    "ac.whoAmI()"
   ]
  },
  {
   "cell_type": "markdown",
   "metadata": {},
   "source": [
    "<a class=\"anchor\" id=\"access\"></a>\n",
    "# Accessing the pre-crossmatched tables \n",
    "We can use Data Lab's Query Client to access the pre-crossmatched tables hosted by Data Lab. First let's get a total count of the number of objects (nrows) in SDSS DR16 that are also in LS DR8:"
   ]
  },
  {
   "cell_type": "code",
   "execution_count": 4,
   "metadata": {},
   "outputs": [
    {
     "name": "stdout",
     "output_type": "stream",
     "text": [
      "nrows\n",
      "4542898\n",
      "\n",
      "CPU times: user 26.9 ms, sys: 3.99 ms, total: 30.9 ms\n",
      "Wall time: 88.6 ms\n"
     ]
    }
   ],
   "source": [
    "%%time\n",
    "query=\"SELECT nrows FROM tbl_stat WHERE schema='sdss_dr16' and tbl_name='x1p5__specobj__ls_dr8__tractor_primary'\"\n",
    "\n",
    "# Call query manager\n",
    "response = qc.query(sql=query)\n",
    "print(response)"
   ]
  },
  {
   "cell_type": "markdown",
   "metadata": {},
   "source": [
    "Now let's print just the first 100 rows:"
   ]
  },
  {
   "cell_type": "code",
   "execution_count": 5,
   "metadata": {},
   "outputs": [
    {
     "name": "stdout",
     "output_type": "stream",
     "text": [
      "CPU times: user 30.5 ms, sys: 1.97 ms, total: 32.5 ms\n",
      "Wall time: 84.6 ms\n"
     ]
    },
    {
     "data": {
      "text/html": [
       "<div>\n",
       "<style scoped>\n",
       "    .dataframe tbody tr th:only-of-type {\n",
       "        vertical-align: middle;\n",
       "    }\n",
       "\n",
       "    .dataframe tbody tr th {\n",
       "        vertical-align: top;\n",
       "    }\n",
       "\n",
       "    .dataframe thead th {\n",
       "        text-align: right;\n",
       "    }\n",
       "</style>\n",
       "<table border=\"1\" class=\"dataframe\">\n",
       "  <thead>\n",
       "    <tr style=\"text-align: right;\">\n",
       "      <th></th>\n",
       "      <th>id1</th>\n",
       "      <th>ra1</th>\n",
       "      <th>dec1</th>\n",
       "      <th>id2</th>\n",
       "      <th>ra2</th>\n",
       "      <th>dec2</th>\n",
       "      <th>distance</th>\n",
       "    </tr>\n",
       "  </thead>\n",
       "  <tbody>\n",
       "    <tr>\n",
       "      <th>0</th>\n",
       "      <td>3384465917919389696</td>\n",
       "      <td>287.22826</td>\n",
       "      <td>48.064735</td>\n",
       "      <td>8797230351783516</td>\n",
       "      <td>287.228165</td>\n",
       "      <td>48.064735</td>\n",
       "      <td>0.000063</td>\n",
       "    </tr>\n",
       "    <tr>\n",
       "      <th>1</th>\n",
       "      <td>3384466192797296640</td>\n",
       "      <td>287.44889</td>\n",
       "      <td>48.229698</td>\n",
       "      <td>8797230414957399</td>\n",
       "      <td>287.448870</td>\n",
       "      <td>48.229697</td>\n",
       "      <td>0.000014</td>\n",
       "    </tr>\n",
       "    <tr>\n",
       "      <th>2</th>\n",
       "      <td>3384462344506599424</td>\n",
       "      <td>287.38750</td>\n",
       "      <td>48.168965</td>\n",
       "      <td>8797230414890143</td>\n",
       "      <td>287.387517</td>\n",
       "      <td>48.168933</td>\n",
       "      <td>0.000034</td>\n",
       "    </tr>\n",
       "    <tr>\n",
       "      <th>3</th>\n",
       "      <td>3384463718896134144</td>\n",
       "      <td>287.69779</td>\n",
       "      <td>48.382804</td>\n",
       "      <td>8797230477803600</td>\n",
       "      <td>287.697861</td>\n",
       "      <td>48.382752</td>\n",
       "      <td>0.000070</td>\n",
       "    </tr>\n",
       "    <tr>\n",
       "      <th>4</th>\n",
       "      <td>3384465093285668864</td>\n",
       "      <td>287.54718</td>\n",
       "      <td>48.407654</td>\n",
       "      <td>8797230477804882</td>\n",
       "      <td>287.547174</td>\n",
       "      <td>48.407548</td>\n",
       "      <td>0.000106</td>\n",
       "    </tr>\n",
       "    <tr>\n",
       "      <th>...</th>\n",
       "      <td>...</td>\n",
       "      <td>...</td>\n",
       "      <td>...</td>\n",
       "      <td>...</td>\n",
       "      <td>...</td>\n",
       "      <td>...</td>\n",
       "      <td>...</td>\n",
       "    </tr>\n",
       "    <tr>\n",
       "      <th>95</th>\n",
       "      <td>3384471690355435520</td>\n",
       "      <td>287.70990</td>\n",
       "      <td>48.888661</td>\n",
       "      <td>8797230602453456</td>\n",
       "      <td>287.709937</td>\n",
       "      <td>48.888637</td>\n",
       "      <td>0.000034</td>\n",
       "    </tr>\n",
       "    <tr>\n",
       "      <th>96</th>\n",
       "      <td>3384469491332179968</td>\n",
       "      <td>287.66389</td>\n",
       "      <td>48.944252</td>\n",
       "      <td>8797230602454731</td>\n",
       "      <td>287.663800</td>\n",
       "      <td>48.944491</td>\n",
       "      <td>0.000247</td>\n",
       "    </tr>\n",
       "    <tr>\n",
       "      <th>97</th>\n",
       "      <td>3384480486448457728</td>\n",
       "      <td>287.22115</td>\n",
       "      <td>48.827232</td>\n",
       "      <td>8797230540199804</td>\n",
       "      <td>287.221105</td>\n",
       "      <td>48.827183</td>\n",
       "      <td>0.000057</td>\n",
       "    </tr>\n",
       "    <tr>\n",
       "      <th>98</th>\n",
       "      <td>3384477737669388288</td>\n",
       "      <td>287.29420</td>\n",
       "      <td>48.927487</td>\n",
       "      <td>8797230602388155</td>\n",
       "      <td>287.294186</td>\n",
       "      <td>48.927487</td>\n",
       "      <td>0.000009</td>\n",
       "    </tr>\n",
       "    <tr>\n",
       "      <th>99</th>\n",
       "      <td>3384470590843807744</td>\n",
       "      <td>287.46812</td>\n",
       "      <td>49.027895</td>\n",
       "      <td>8797230602391658</td>\n",
       "      <td>287.468139</td>\n",
       "      <td>49.027900</td>\n",
       "      <td>0.000013</td>\n",
       "    </tr>\n",
       "  </tbody>\n",
       "</table>\n",
       "<p>100 rows × 7 columns</p>\n",
       "</div>"
      ],
      "text/plain": [
       "                    id1        ra1       dec1               id2         ra2  \\\n",
       "0   3384465917919389696  287.22826  48.064735  8797230351783516  287.228165   \n",
       "1   3384466192797296640  287.44889  48.229698  8797230414957399  287.448870   \n",
       "2   3384462344506599424  287.38750  48.168965  8797230414890143  287.387517   \n",
       "3   3384463718896134144  287.69779  48.382804  8797230477803600  287.697861   \n",
       "4   3384465093285668864  287.54718  48.407654  8797230477804882  287.547174   \n",
       "..                  ...        ...        ...               ...         ...   \n",
       "95  3384471690355435520  287.70990  48.888661  8797230602453456  287.709937   \n",
       "96  3384469491332179968  287.66389  48.944252  8797230602454731  287.663800   \n",
       "97  3384480486448457728  287.22115  48.827232  8797230540199804  287.221105   \n",
       "98  3384477737669388288  287.29420  48.927487  8797230602388155  287.294186   \n",
       "99  3384470590843807744  287.46812  49.027895  8797230602391658  287.468139   \n",
       "\n",
       "         dec2  distance  \n",
       "0   48.064735  0.000063  \n",
       "1   48.229697  0.000014  \n",
       "2   48.168933  0.000034  \n",
       "3   48.382752  0.000070  \n",
       "4   48.407548  0.000106  \n",
       "..        ...       ...  \n",
       "95  48.888637  0.000034  \n",
       "96  48.944491  0.000247  \n",
       "97  48.827183  0.000057  \n",
       "98  48.927487  0.000009  \n",
       "99  49.027900  0.000013  \n",
       "\n",
       "[100 rows x 7 columns]"
      ]
     },
     "execution_count": 5,
     "metadata": {},
     "output_type": "execute_result"
    }
   ],
   "source": [
    "%%time\n",
    "query = \"SELECT * FROM sdss_dr16.x1p5__specobj__ls_dr8__tractor_primary LIMIT 100\"\n",
    "result = qc.query(sql=query,fmt='pandas')\n",
    "result"
   ]
  },
  {
   "cell_type": "markdown",
   "metadata": {},
   "source": [
    "<a class=\"anchor\" id=\"joinquery\"></a>\n",
    "# Writing a JOIN query\n",
    "In order to extract only the relevant columns pertaining to our science question from multiple data tables, we may write a query that uses a JOIN statement. There are 4 main types of JOIN statements that we could use, and which one we decide to choose depends on how we want the information to be extracted. \n",
    "1. **(INNER) JOIN**: Returns rows that have matching values in both tables\n",
    "2. **LEFT (OUTER) JOIN**: Returns all rows from the left table, and the matched rows from the right table\n",
    "3. **RIGHT (OUTER) JOIN**: Returns all rows from the right table, and the matched rows from the left table\n",
    "4. **FULL (OUTER) JOIN**: Returns all rows when there is a match in either left or right table\n",
    "\n",
    "Take a moment to look over the figure below outlining the various JOIN statement types.  \n",
    "NOTE: the default JOIN is an `INNER JOIN`."
   ]
  },
  {
   "cell_type": "markdown",
   "metadata": {},
   "source": [
    "<img src='join.png'></img>"
   ]
  },
  {
   "cell_type": "markdown",
   "metadata": {},
   "source": [
    "### `JOIN LATERAL`"
   ]
  },
  {
   "cell_type": "markdown",
   "metadata": {},
   "source": [
    "In nearest neighbor crossmatch queries, we use `JOIN LATERAL`, which is like a SQL foreach loop that will iterate over each row in a result set and evaluate a subquery using that row as a parameter."
   ]
  },
  {
   "cell_type": "markdown",
   "metadata": {},
   "source": [
    "<a class=\"anchor\" id=\"lssdss\"></a>\n",
    "# Joint query of LS and SDSS catalogs\n",
    "Here we will examine spectroscopic redshifts from SDSS DR16 and photometry from LS DR8. The two crossmatch tables related to these two catalogs are: \n",
    "`ls_dr8.x1p5__tractor__sdss_dr16__specobj` and `sdss_dr16.x1p5__specobj__ls_dr8__tractor_primary`. The choice of which of these two crossmatch tables to use should be based on the science question being posed. For instance,  the question *'how does a galaxy's structure change with redshift?'* is dependent on the redshift values obtained from SDSS DR16, so we should use the crossmatch table that has SDSS DR16 as the first table. So, the relevant information we want from our 3 tables of interest for this example are:\n",
    "\n",
    "1. \"X\" = `sdss_dr16.x1p5__specobj__ls_dr8__tractor_primary`\n",
    "    - **ra1** (RA of sdss object)\n",
    "    - **dec1** (Dec of sdss object)\n",
    "2. \"S\" = `sdss_dr16.specobj`\n",
    "    - **z** (redshift)\n",
    "    - **class** (spectroscopic class: GALAXY, QSO, or STAR)\n",
    "    - **veldisp** (velocity dispersion)\n",
    "    - **veldisperr** (error in velocity dispersion)\n",
    "3. \"L\" = `ls_dr8.tractor`\n",
    "    - **ra** (RA of ls object)\n",
    "    - **dec** (Dec of ls object)\n",
    "    - **type** (morphological model: PSF=stellar, REX=round exponential galaxy, DEV=deVauc, EXP=exponential, COMP=composite, DUP=Gaia source fit by different model)\n",
    "    - **g_r** (computed g-r color)\n",
    "    - **r_z** (computed r-z color)"
   ]
  },
  {
   "cell_type": "markdown",
   "metadata": {},
   "source": [
    "### Write the query\n",
    "Now that we know what we want and where we want it from, let's write the query and then print the results on screen. Here we use two join statements: the first will search in the SDSS DR16 `specobj` table for rows that have the same SDSS id value (`specobjid`) as in the pre-crossmatched table (`id1`) and retrieve the desired columns from the SDSS DR16 `specobj` table. The second will search in the LS DR8 `tractor` table for rows that have the same LS id value (`ls_id`) as in the pre-crossmatched table (`id2`) and retrieve the desired columns from the LS DR8 `tractor` table."
   ]
  },
  {
   "cell_type": "code",
   "execution_count": 6,
   "metadata": {},
   "outputs": [
    {
     "name": "stdout",
     "output_type": "stream",
     "text": [
      "SELECT \n",
      "           X.ra1 as ra_sdss,X.dec1 as dec_sdss,\n",
      "           S.z,S.class,S.veldisp,S.veldisperr,\n",
      "           L.ra as ra_ls,L.dec as dec_ls,L.type,L.g_r,L.r_z\n",
      "         FROM sdss_dr16.x1p5__specobj__ls_dr8__tractor_primary as X \n",
      "         JOIN sdss_dr16.specobj as S ON X.id1 = S.specobjid \n",
      "         JOIN ls_dr8.tractor_primary AS L ON X.id2 = L.ls_id\n",
      "         WHERE X.ra1 BETWEEN 110 and 200 and X.dec1 BETWEEN 7.0 and 40.0\n",
      "         LIMIT 10000\n",
      "         \n"
     ]
    }
   ],
   "source": [
    "query = (\"\"\"SELECT \n",
    "           X.ra1 as ra_sdss,X.dec1 as dec_sdss,\n",
    "           S.z,S.class,S.veldisp,S.veldisperr,\n",
    "           L.ra as ra_ls,L.dec as dec_ls,L.type,L.g_r,L.r_z\n",
    "         FROM sdss_dr16.x1p5__specobj__ls_dr8__tractor_primary as X \n",
    "         JOIN sdss_dr16.specobj as S ON X.id1 = S.specobjid \n",
    "         JOIN ls_dr8.tractor_primary AS L ON X.id2 = L.ls_id\n",
    "         WHERE X.ra1 BETWEEN %s and %s and X.dec1 BETWEEN %s and %s\n",
    "         LIMIT 10000\n",
    "         \"\"\") %(110,200,7.,40.)  #large region\n",
    "print(query)"
   ]
  },
  {
   "cell_type": "code",
   "execution_count": 7,
   "metadata": {},
   "outputs": [
    {
     "name": "stdout",
     "output_type": "stream",
     "text": [
      "CPU times: user 69.7 ms, sys: 18.4 ms, total: 88.1 ms\n",
      "Wall time: 667 ms\n"
     ]
    },
    {
     "data": {
      "text/html": [
       "<div>\n",
       "<style scoped>\n",
       "    .dataframe tbody tr th:only-of-type {\n",
       "        vertical-align: middle;\n",
       "    }\n",
       "\n",
       "    .dataframe tbody tr th {\n",
       "        vertical-align: top;\n",
       "    }\n",
       "\n",
       "    .dataframe thead th {\n",
       "        text-align: right;\n",
       "    }\n",
       "</style>\n",
       "<table border=\"1\" class=\"dataframe\">\n",
       "  <thead>\n",
       "    <tr style=\"text-align: right;\">\n",
       "      <th></th>\n",
       "      <th>ra_sdss</th>\n",
       "      <th>dec_sdss</th>\n",
       "      <th>z</th>\n",
       "      <th>class</th>\n",
       "      <th>veldisp</th>\n",
       "      <th>veldisperr</th>\n",
       "      <th>ra_ls</th>\n",
       "      <th>dec_ls</th>\n",
       "      <th>type</th>\n",
       "      <th>g_r</th>\n",
       "      <th>r_z</th>\n",
       "    </tr>\n",
       "  </thead>\n",
       "  <tbody>\n",
       "    <tr>\n",
       "      <th>0</th>\n",
       "      <td>123.12650</td>\n",
       "      <td>39.993317</td>\n",
       "      <td>0.124905</td>\n",
       "      <td>GALAXY</td>\n",
       "      <td>221.71207</td>\n",
       "      <td>10.674141</td>\n",
       "      <td>123.126449</td>\n",
       "      <td>39.993302</td>\n",
       "      <td>DEV</td>\n",
       "      <td>1.153234</td>\n",
       "      <td>0.772179</td>\n",
       "    </tr>\n",
       "    <tr>\n",
       "      <th>1</th>\n",
       "      <td>123.36125</td>\n",
       "      <td>39.996015</td>\n",
       "      <td>-0.000118</td>\n",
       "      <td>STAR</td>\n",
       "      <td>0.00000</td>\n",
       "      <td>0.000000</td>\n",
       "      <td>123.361280</td>\n",
       "      <td>39.995986</td>\n",
       "      <td>PSF</td>\n",
       "      <td>1.564987</td>\n",
       "      <td>1.792353</td>\n",
       "    </tr>\n",
       "    <tr>\n",
       "      <th>2</th>\n",
       "      <td>123.23940</td>\n",
       "      <td>39.990355</td>\n",
       "      <td>0.067814</td>\n",
       "      <td>GALAXY</td>\n",
       "      <td>80.26507</td>\n",
       "      <td>13.973932</td>\n",
       "      <td>123.239365</td>\n",
       "      <td>39.990334</td>\n",
       "      <td>EXP</td>\n",
       "      <td>0.747831</td>\n",
       "      <td>0.448318</td>\n",
       "    </tr>\n",
       "    <tr>\n",
       "      <th>3</th>\n",
       "      <td>123.18048</td>\n",
       "      <td>39.935782</td>\n",
       "      <td>0.067945</td>\n",
       "      <td>GALAXY</td>\n",
       "      <td>102.33417</td>\n",
       "      <td>14.977492</td>\n",
       "      <td>123.180441</td>\n",
       "      <td>39.935786</td>\n",
       "      <td>EXP</td>\n",
       "      <td>0.899620</td>\n",
       "      <td>0.669617</td>\n",
       "    </tr>\n",
       "    <tr>\n",
       "      <th>4</th>\n",
       "      <td>123.25379</td>\n",
       "      <td>39.959822</td>\n",
       "      <td>0.000056</td>\n",
       "      <td>STAR</td>\n",
       "      <td>0.00000</td>\n",
       "      <td>0.000000</td>\n",
       "      <td>123.253686</td>\n",
       "      <td>39.959713</td>\n",
       "      <td>PSF</td>\n",
       "      <td>1.730957</td>\n",
       "      <td>2.775591</td>\n",
       "    </tr>\n",
       "    <tr>\n",
       "      <th>...</th>\n",
       "      <td>...</td>\n",
       "      <td>...</td>\n",
       "      <td>...</td>\n",
       "      <td>...</td>\n",
       "      <td>...</td>\n",
       "      <td>...</td>\n",
       "      <td>...</td>\n",
       "      <td>...</td>\n",
       "      <td>...</td>\n",
       "      <td>...</td>\n",
       "      <td>...</td>\n",
       "    </tr>\n",
       "    <tr>\n",
       "      <th>9995</th>\n",
       "      <td>140.21556</td>\n",
       "      <td>39.497348</td>\n",
       "      <td>0.000131</td>\n",
       "      <td>STAR</td>\n",
       "      <td>0.00000</td>\n",
       "      <td>0.000000</td>\n",
       "      <td>140.215527</td>\n",
       "      <td>39.497391</td>\n",
       "      <td>PSF</td>\n",
       "      <td>1.499718</td>\n",
       "      <td>2.748608</td>\n",
       "    </tr>\n",
       "    <tr>\n",
       "      <th>9996</th>\n",
       "      <td>140.18273</td>\n",
       "      <td>39.483614</td>\n",
       "      <td>1.604115</td>\n",
       "      <td>QSO</td>\n",
       "      <td>0.00000</td>\n",
       "      <td>0.000000</td>\n",
       "      <td>140.182709</td>\n",
       "      <td>39.483605</td>\n",
       "      <td>DEV</td>\n",
       "      <td>0.351505</td>\n",
       "      <td>0.141357</td>\n",
       "    </tr>\n",
       "    <tr>\n",
       "      <th>9997</th>\n",
       "      <td>140.23871</td>\n",
       "      <td>39.485560</td>\n",
       "      <td>1.586918</td>\n",
       "      <td>QSO</td>\n",
       "      <td>0.00000</td>\n",
       "      <td>0.000000</td>\n",
       "      <td>140.238728</td>\n",
       "      <td>39.485567</td>\n",
       "      <td>PSF</td>\n",
       "      <td>0.007940</td>\n",
       "      <td>-0.090954</td>\n",
       "    </tr>\n",
       "    <tr>\n",
       "      <th>9998</th>\n",
       "      <td>140.06011</td>\n",
       "      <td>39.505254</td>\n",
       "      <td>0.556660</td>\n",
       "      <td>GALAXY</td>\n",
       "      <td>380.18970</td>\n",
       "      <td>63.783504</td>\n",
       "      <td>140.060038</td>\n",
       "      <td>39.505223</td>\n",
       "      <td>DEV</td>\n",
       "      <td>1.652349</td>\n",
       "      <td>1.173664</td>\n",
       "    </tr>\n",
       "    <tr>\n",
       "      <th>9999</th>\n",
       "      <td>140.08294</td>\n",
       "      <td>39.482892</td>\n",
       "      <td>2.097656</td>\n",
       "      <td>QSO</td>\n",
       "      <td>0.00000</td>\n",
       "      <td>0.000000</td>\n",
       "      <td>140.082905</td>\n",
       "      <td>39.482889</td>\n",
       "      <td>PSF</td>\n",
       "      <td>0.159481</td>\n",
       "      <td>0.410814</td>\n",
       "    </tr>\n",
       "  </tbody>\n",
       "</table>\n",
       "<p>10000 rows × 11 columns</p>\n",
       "</div>"
      ],
      "text/plain": [
       "        ra_sdss   dec_sdss         z   class    veldisp  veldisperr  \\\n",
       "0     123.12650  39.993317  0.124905  GALAXY  221.71207   10.674141   \n",
       "1     123.36125  39.996015 -0.000118    STAR    0.00000    0.000000   \n",
       "2     123.23940  39.990355  0.067814  GALAXY   80.26507   13.973932   \n",
       "3     123.18048  39.935782  0.067945  GALAXY  102.33417   14.977492   \n",
       "4     123.25379  39.959822  0.000056    STAR    0.00000    0.000000   \n",
       "...         ...        ...       ...     ...        ...         ...   \n",
       "9995  140.21556  39.497348  0.000131    STAR    0.00000    0.000000   \n",
       "9996  140.18273  39.483614  1.604115     QSO    0.00000    0.000000   \n",
       "9997  140.23871  39.485560  1.586918     QSO    0.00000    0.000000   \n",
       "9998  140.06011  39.505254  0.556660  GALAXY  380.18970   63.783504   \n",
       "9999  140.08294  39.482892  2.097656     QSO    0.00000    0.000000   \n",
       "\n",
       "           ra_ls     dec_ls type       g_r       r_z  \n",
       "0     123.126449  39.993302  DEV  1.153234  0.772179  \n",
       "1     123.361280  39.995986  PSF  1.564987  1.792353  \n",
       "2     123.239365  39.990334  EXP  0.747831  0.448318  \n",
       "3     123.180441  39.935786  EXP  0.899620  0.669617  \n",
       "4     123.253686  39.959713  PSF  1.730957  2.775591  \n",
       "...          ...        ...  ...       ...       ...  \n",
       "9995  140.215527  39.497391  PSF  1.499718  2.748608  \n",
       "9996  140.182709  39.483605  DEV  0.351505  0.141357  \n",
       "9997  140.238728  39.485567  PSF  0.007940 -0.090954  \n",
       "9998  140.060038  39.505223  DEV  1.652349  1.173664  \n",
       "9999  140.082905  39.482889  PSF  0.159481  0.410814  \n",
       "\n",
       "[10000 rows x 11 columns]"
      ]
     },
     "execution_count": 7,
     "metadata": {},
     "output_type": "execute_result"
    }
   ],
   "source": [
    "%%time\n",
    "df = qc.query(sql=query,fmt='pandas')\n",
    "df"
   ]
  },
  {
   "cell_type": "markdown",
   "metadata": {},
   "source": [
    "### Saving results to VOSpace\n",
    "VOSpace is a convenient storage space for users to save their work. It can store any data or file type. We can save the results from the same query to our virtual storage space:"
   ]
  },
  {
   "cell_type": "code",
   "execution_count": 8,
   "metadata": {},
   "outputs": [
    {
     "name": "stdout",
     "output_type": "stream",
     "text": [
      "CPU times: user 21.8 ms, sys: 976 µs, total: 22.7 ms\n",
      "Wall time: 2 s\n"
     ]
    }
   ],
   "source": [
    "%%time\n",
    "response = qc.query(sql=query,fmt='csv',out='vos://testresult.csv')"
   ]
  },
  {
   "cell_type": "markdown",
   "metadata": {},
   "source": [
    "Let's ensure the file was saved in VOSpace:"
   ]
  },
  {
   "cell_type": "code",
   "execution_count": 9,
   "metadata": {},
   "outputs": [
    {
     "data": {
      "text/plain": [
       "'testresult.csv'"
      ]
     },
     "execution_count": 9,
     "metadata": {},
     "output_type": "execute_result"
    }
   ],
   "source": [
    "sc.ls(name='vos://testresult.csv')"
   ]
  },
  {
   "cell_type": "markdown",
   "metadata": {},
   "source": [
    "Now let's remove the file we just saved to VOSpace:"
   ]
  },
  {
   "cell_type": "code",
   "execution_count": 10,
   "metadata": {},
   "outputs": [
    {
     "data": {
      "text/plain": [
       "'OK'"
      ]
     },
     "execution_count": 10,
     "metadata": {},
     "output_type": "execute_result"
    }
   ],
   "source": [
    "sc.rm (name='vos://testresult.csv')"
   ]
  },
  {
   "cell_type": "markdown",
   "metadata": {},
   "source": [
    "Let's ensure the file was removed from VOSpace:"
   ]
  },
  {
   "cell_type": "code",
   "execution_count": 11,
   "metadata": {},
   "outputs": [
    {
     "data": {
      "text/plain": [
       "'A Node does not exist with the requested URI.'"
      ]
     },
     "execution_count": 11,
     "metadata": {},
     "output_type": "execute_result"
    }
   ],
   "source": [
    "sc.rm (name='vos://testresult.csv')"
   ]
  },
  {
   "cell_type": "markdown",
   "metadata": {},
   "source": [
    "### Saving results to MyDB\n",
    "MyDB is a useful OS remote per-user relational database that can store data tables. Furthermore, the results of queries can be directly saved to MyDB, as we show in the following example:"
   ]
  },
  {
   "cell_type": "code",
   "execution_count": 12,
   "metadata": {},
   "outputs": [
    {
     "name": "stdout",
     "output_type": "stream",
     "text": [
      "CPU times: user 25 ms, sys: 1.02 ms, total: 26.1 ms\n",
      "Wall time: 599 ms\n"
     ]
    }
   ],
   "source": [
    "%%time\n",
    "response = qc.query(sql=query, fmt='csv', out='mydb://testresult')"
   ]
  },
  {
   "cell_type": "markdown",
   "metadata": {},
   "source": [
    "Ensure the table has been saved to MyDB by calling the `mydb_list()` function, which will list all tables currently in a user's MyDB:"
   ]
  },
  {
   "cell_type": "code",
   "execution_count": 13,
   "metadata": {},
   "outputs": [
    {
     "name": "stdout",
     "output_type": "stream",
     "text": [
      "bgsfaint_dlnotebook\n",
      "desi_tile\n",
      "gaia_sample\n",
      "gaia_sample_xmatch\n",
      "gals\n",
      "lowmassagn_dlnotebook\n",
      "secondary_dark_subset\n",
      "sv1targets_bright_secondary\n",
      "sv1targets_dark_secondary\n",
      "testresult\n",
      " \n",
      "\n"
     ]
    }
   ],
   "source": [
    "print(qc.mydb_list(),\"\\n\")"
   ]
  },
  {
   "cell_type": "markdown",
   "metadata": {},
   "source": [
    "Now let's drop the table from our MyDB."
   ]
  },
  {
   "cell_type": "code",
   "execution_count": 14,
   "metadata": {},
   "outputs": [
    {
     "data": {
      "text/plain": [
       "'OK'"
      ]
     },
     "execution_count": 14,
     "metadata": {},
     "output_type": "execute_result"
    }
   ],
   "source": [
    "qc.mydb_drop('testresult')"
   ]
  },
  {
   "cell_type": "markdown",
   "metadata": {},
   "source": [
    "Ensure it has been removed by calling the `mydb_list()` function again:"
   ]
  },
  {
   "cell_type": "code",
   "execution_count": 15,
   "metadata": {},
   "outputs": [
    {
     "name": "stdout",
     "output_type": "stream",
     "text": [
      "bgsfaint_dlnotebook\n",
      "desi_tile\n",
      "gaia_sample\n",
      "gaia_sample_xmatch\n",
      "gals\n",
      "lowmassagn_dlnotebook\n",
      "secondary_dark_subset\n",
      "sv1targets_bright_secondary\n",
      "sv1targets_dark_secondary\n",
      " \n",
      "\n"
     ]
    }
   ],
   "source": [
    "print(qc.mydb_list(),\"\\n\")"
   ]
  },
  {
   "cell_type": "markdown",
   "metadata": {},
   "source": [
    "<a class=\"anchor\" id=\"usertable\"></a>\n",
    "# Crossmatch a user-provided data table and a pre-crossmatched table\n",
    "We can construct a query to run a crossmatch in the database using the `q3c_join()` function, which identifies all matching objects within a specified radius in degrees (see details on [using Q3C functions](https://github.com/segasai/q3c)). For this example, we will search only for the single nearest neighbor. For different examples of crossmatching, see our [How to crossmatch tables notebook](https://github.com/noaodatalab/notebooks-latest/blob/master/04_HowTos/CrossmatchTables/How_to_crossmatch_tables.ipynb). \n",
    "\n",
    "First, let's query a small selection of sample data from the Data Lab database and store it in MyDB as `gaia_sample`. This will act as our \"user-provided table\"."
   ]
  },
  {
   "cell_type": "code",
   "execution_count": 16,
   "metadata": {},
   "outputs": [
    {
     "name": "stdout",
     "output_type": "stream",
     "text": [
      "SELECT source_id,ra,dec,parallax,pmra,pmdec \n",
      "            FROM gaia_dr2.gaia_source \n",
      "            WHERE ra<200 AND ra>124 AND random_id<10 \n",
      "            LIMIT 10000\n"
     ]
    }
   ],
   "source": [
    "query = \"\"\"SELECT source_id,ra,dec,parallax,pmra,pmdec \n",
    "            FROM gaia_dr2.gaia_source \n",
    "            WHERE ra<200 AND ra>124 AND random_id<10 \n",
    "            LIMIT 10000\"\"\"\n",
    "print(query)"
   ]
  },
  {
   "cell_type": "code",
   "execution_count": 17,
   "metadata": {},
   "outputs": [
    {
     "name": "stdout",
     "output_type": "stream",
     "text": [
      "CPU times: user 25.7 ms, sys: 53 µs, total: 25.7 ms\n",
      "Wall time: 770 ms\n"
     ]
    }
   ],
   "source": [
    "%%time\n",
    "response = qc.query(sql=query,out='mydb://gaia_sample',drop=True)"
   ]
  },
  {
   "cell_type": "markdown",
   "metadata": {},
   "source": [
    "### Write a crossmatch query\n",
    "\n",
    "Next let's crossmatch our `gaia_sample` table with Data Lab's pre-crossmatched table between SMASH DR2 and allWISE `smash_dr2.x1p5__object__allwise__source`. We'll write our crossmatch query using the `q3c_join()` function as well as the `q3c_dist()` function, searching for the nearest neighbor within a 1.5 arcsec radius (which must be converted into degrees for the query, so we divide by 3600.0). We will then save it in MyDB as `gaia_sample_xmatch`."
   ]
  },
  {
   "cell_type": "code",
   "execution_count": 18,
   "metadata": {},
   "outputs": [
    {
     "name": "stdout",
     "output_type": "stream",
     "text": [
      "CPU times: user 27.7 ms, sys: 1.09 ms, total: 28.8 ms\n",
      "Wall time: 364 ms\n"
     ]
    }
   ],
   "source": [
    "%%time\n",
    "qu = \"\"\"SELECT\n",
    "        G.source_id,ss.id1,ss.id2,G.ra,G.dec,ss.ra1,ss.dec1,ss.ra2,ss.dec2,\n",
    "        (q3c_dist(G.ra,G.dec,ss.ra1,ss.dec1)*3600.0) as dist_arcsec\n",
    "        FROM mydb://gaia_sample AS G\n",
    "        JOIN LATERAL (\n",
    "            SELECT S.id1,S.id2,S.ra1,S.dec1,S.ra2,S.dec2\n",
    "            FROM \n",
    "                smash_dr2.x1p5__object__allwise__source AS S\n",
    "            WHERE \n",
    "                q3c_join(G.ra,G.dec,S.ra1,S.dec1, 1.5/3600.0)\n",
    "            ORDER BY\n",
    "                q3c_dist(G.ra,G.dec,S.ra1,S.dec1)\n",
    "            ASC LIMIT 1\n",
    "            ) AS ss ON true\n",
    "    \"\"\"\n",
    "resp = qc.query(sql=qu,out='mydb://gaia_sample_xmatch',drop=True)"
   ]
  },
  {
   "cell_type": "markdown",
   "metadata": {},
   "source": [
    "We can query the newly created table from MyDB and convert it into a Pandas Dataframe object in order to print it on screen:"
   ]
  },
  {
   "cell_type": "code",
   "execution_count": 19,
   "metadata": {},
   "outputs": [
    {
     "data": {
      "text/html": [
       "<div>\n",
       "<style scoped>\n",
       "    .dataframe tbody tr th:only-of-type {\n",
       "        vertical-align: middle;\n",
       "    }\n",
       "\n",
       "    .dataframe tbody tr th {\n",
       "        vertical-align: top;\n",
       "    }\n",
       "\n",
       "    .dataframe thead th {\n",
       "        text-align: right;\n",
       "    }\n",
       "</style>\n",
       "<table border=\"1\" class=\"dataframe\">\n",
       "  <thead>\n",
       "    <tr style=\"text-align: right;\">\n",
       "      <th></th>\n",
       "      <th>source_id</th>\n",
       "      <th>id1</th>\n",
       "      <th>id2</th>\n",
       "      <th>ra</th>\n",
       "      <th>dec</th>\n",
       "      <th>ra1</th>\n",
       "      <th>dec1</th>\n",
       "      <th>ra2</th>\n",
       "      <th>dec2</th>\n",
       "      <th>dist_arcsec</th>\n",
       "    </tr>\n",
       "  </thead>\n",
       "  <tbody>\n",
       "    <tr>\n",
       "      <th>0</th>\n",
       "      <td>5205696522501120512</td>\n",
       "      <td>Field80.880606</td>\n",
       "      <td>1482m743_ac51-023387</td>\n",
       "      <td>150.869988</td>\n",
       "      <td>-74.496170</td>\n",
       "      <td>150.869990</td>\n",
       "      <td>-74.496177</td>\n",
       "      <td>150.869098</td>\n",
       "      <td>-74.496177</td>\n",
       "      <td>0.023617</td>\n",
       "    </tr>\n",
       "    <tr>\n",
       "      <th>1</th>\n",
       "      <td>5205674807146027008</td>\n",
       "      <td>Field80.61312</td>\n",
       "      <td>1535m743_ac51-011624</td>\n",
       "      <td>151.032199</td>\n",
       "      <td>-74.745129</td>\n",
       "      <td>151.032198</td>\n",
       "      <td>-74.745131</td>\n",
       "      <td>151.032752</td>\n",
       "      <td>-74.745275</td>\n",
       "      <td>0.008880</td>\n",
       "    </tr>\n",
       "    <tr>\n",
       "      <th>2</th>\n",
       "      <td>6141410299609363840</td>\n",
       "      <td>Field127.835819</td>\n",
       "      <td>1993m394_ac51-059307</td>\n",
       "      <td>199.455692</td>\n",
       "      <td>-38.742563</td>\n",
       "      <td>199.455696</td>\n",
       "      <td>-38.742564</td>\n",
       "      <td>199.455683</td>\n",
       "      <td>-38.742551</td>\n",
       "      <td>0.010309</td>\n",
       "    </tr>\n",
       "    <tr>\n",
       "      <th>3</th>\n",
       "      <td>5467823633613278720</td>\n",
       "      <td>Field85.328869</td>\n",
       "      <td>1577m288_ac51-061337</td>\n",
       "      <td>157.482148</td>\n",
       "      <td>-28.132586</td>\n",
       "      <td>157.482144</td>\n",
       "      <td>-28.132586</td>\n",
       "      <td>157.482181</td>\n",
       "      <td>-28.132587</td>\n",
       "      <td>0.013867</td>\n",
       "    </tr>\n",
       "    <tr>\n",
       "      <th>4</th>\n",
       "      <td>5659712743651975424</td>\n",
       "      <td>Field76.497391</td>\n",
       "      <td>1486m243_ac51-024709</td>\n",
       "      <td>149.263676</td>\n",
       "      <td>-24.547096</td>\n",
       "      <td>149.263677</td>\n",
       "      <td>-24.547099</td>\n",
       "      <td>149.263713</td>\n",
       "      <td>-24.547078</td>\n",
       "      <td>0.011663</td>\n",
       "    </tr>\n",
       "    <tr>\n",
       "      <th>...</th>\n",
       "      <td>...</td>\n",
       "      <td>...</td>\n",
       "      <td>...</td>\n",
       "      <td>...</td>\n",
       "      <td>...</td>\n",
       "      <td>...</td>\n",
       "      <td>...</td>\n",
       "      <td>...</td>\n",
       "      <td>...</td>\n",
       "      <td>...</td>\n",
       "    </tr>\n",
       "    <tr>\n",
       "      <th>89</th>\n",
       "      <td>6140399848423784704</td>\n",
       "      <td>Field123.357216</td>\n",
       "      <td>1938m409_ac51-041921</td>\n",
       "      <td>193.066126</td>\n",
       "      <td>-40.631637</td>\n",
       "      <td>193.066126</td>\n",
       "      <td>-40.631640</td>\n",
       "      <td>193.066449</td>\n",
       "      <td>-40.631733</td>\n",
       "      <td>0.012575</td>\n",
       "    </tr>\n",
       "    <tr>\n",
       "      <th>90</th>\n",
       "      <td>5657777362669240832</td>\n",
       "      <td>Field72.334225</td>\n",
       "      <td>1453m273_ac51-012842</td>\n",
       "      <td>144.723530</td>\n",
       "      <td>-27.558006</td>\n",
       "      <td>144.723537</td>\n",
       "      <td>-27.558003</td>\n",
       "      <td>144.723371</td>\n",
       "      <td>-27.557954</td>\n",
       "      <td>0.023406</td>\n",
       "    </tr>\n",
       "    <tr>\n",
       "      <th>91</th>\n",
       "      <td>5199446211212147072</td>\n",
       "      <td>Field106.327557</td>\n",
       "      <td>1757m803_ac51-022489</td>\n",
       "      <td>178.830071</td>\n",
       "      <td>-80.663561</td>\n",
       "      <td>178.830075</td>\n",
       "      <td>-80.663567</td>\n",
       "      <td>178.830290</td>\n",
       "      <td>-80.663502</td>\n",
       "      <td>0.020608</td>\n",
       "    </tr>\n",
       "    <tr>\n",
       "      <th>92</th>\n",
       "      <td>5633393184062155776</td>\n",
       "      <td>Field70.586563</td>\n",
       "      <td>1405m288_ac51-001788</td>\n",
       "      <td>141.354936</td>\n",
       "      <td>-29.324287</td>\n",
       "      <td>141.354935</td>\n",
       "      <td>-29.324292</td>\n",
       "      <td>141.354917</td>\n",
       "      <td>-29.324244</td>\n",
       "      <td>0.020400</td>\n",
       "    </tr>\n",
       "    <tr>\n",
       "      <th>93</th>\n",
       "      <td>6159483934306951552</td>\n",
       "      <td>Field170.707647</td>\n",
       "      <td>1925m334_ac51-053184</td>\n",
       "      <td>193.448268</td>\n",
       "      <td>-32.702949</td>\n",
       "      <td>193.448276</td>\n",
       "      <td>-32.702939</td>\n",
       "      <td>193.448262</td>\n",
       "      <td>-32.702943</td>\n",
       "      <td>0.042348</td>\n",
       "    </tr>\n",
       "  </tbody>\n",
       "</table>\n",
       "<p>94 rows × 10 columns</p>\n",
       "</div>"
      ],
      "text/plain": [
       "              source_id              id1                   id2          ra  \\\n",
       "0   5205696522501120512   Field80.880606  1482m743_ac51-023387  150.869988   \n",
       "1   5205674807146027008    Field80.61312  1535m743_ac51-011624  151.032199   \n",
       "2   6141410299609363840  Field127.835819  1993m394_ac51-059307  199.455692   \n",
       "3   5467823633613278720   Field85.328869  1577m288_ac51-061337  157.482148   \n",
       "4   5659712743651975424   Field76.497391  1486m243_ac51-024709  149.263676   \n",
       "..                  ...              ...                   ...         ...   \n",
       "89  6140399848423784704  Field123.357216  1938m409_ac51-041921  193.066126   \n",
       "90  5657777362669240832   Field72.334225  1453m273_ac51-012842  144.723530   \n",
       "91  5199446211212147072  Field106.327557  1757m803_ac51-022489  178.830071   \n",
       "92  5633393184062155776   Field70.586563  1405m288_ac51-001788  141.354936   \n",
       "93  6159483934306951552  Field170.707647  1925m334_ac51-053184  193.448268   \n",
       "\n",
       "          dec         ra1       dec1         ra2       dec2  dist_arcsec  \n",
       "0  -74.496170  150.869990 -74.496177  150.869098 -74.496177     0.023617  \n",
       "1  -74.745129  151.032198 -74.745131  151.032752 -74.745275     0.008880  \n",
       "2  -38.742563  199.455696 -38.742564  199.455683 -38.742551     0.010309  \n",
       "3  -28.132586  157.482144 -28.132586  157.482181 -28.132587     0.013867  \n",
       "4  -24.547096  149.263677 -24.547099  149.263713 -24.547078     0.011663  \n",
       "..        ...         ...        ...         ...        ...          ...  \n",
       "89 -40.631637  193.066126 -40.631640  193.066449 -40.631733     0.012575  \n",
       "90 -27.558006  144.723537 -27.558003  144.723371 -27.557954     0.023406  \n",
       "91 -80.663561  178.830075 -80.663567  178.830290 -80.663502     0.020608  \n",
       "92 -29.324287  141.354935 -29.324292  141.354917 -29.324244     0.020400  \n",
       "93 -32.702949  193.448276 -32.702939  193.448262 -32.702943     0.042348  \n",
       "\n",
       "[94 rows x 10 columns]"
      ]
     },
     "execution_count": 19,
     "metadata": {},
     "output_type": "execute_result"
    }
   ],
   "source": [
    "query = \"SELECT * FROM mydb://gaia_sample_xmatch\"\n",
    "df = qc.query(sql=query,fmt='pandas')\n",
    "df"
   ]
  },
  {
   "cell_type": "markdown",
   "metadata": {},
   "source": [
    "### Write the joint query\n",
    "Now we can write a query using the JOIN statement in order to extract the columns we want from our tables of interest. Just as in the previous section, let's first make an outline of which tables we'd like to extract columns from.\n",
    "\n",
    "1. \"X\" = `mydb://gaia_sample_xmatch`\n",
    "    - **source_id** (source id from gaia dr2)\n",
    "    - **id1** (source id from smash dr1) \n",
    "    - **id2** (source id from allwise)\n",
    "    - **ra** (RA value from gaia dr2)\n",
    "    - **dec** (Dec value from gaia dr2)\n",
    "2. \"s\" = `smash_dr2.object`\n",
    "    - **gmag** (weighted-avarage, calibrated g-band magnitude, 99.99 if no detection)\n",
    "    - **rmag** (weighted-avarage, calibrated r-band magnitude, 99.99 if no detection)\n",
    "    - **zmag** (weighted-avarege, calibrated z-band magnitude, 99.99 if no detection)\n",
    "3. \"a\" = `allwise.source` \n",
    "    - **w1mpro** (W1 magnitude measured with profile-fitting photometry)\n",
    "    - **w2mpro** (W2 magnitude measured with profile-fitting photometry)\n",
    "    - **w3mpro** (W3 magnitude measured with profile-fitting photometry)\n",
    "4. \"g\" = `mydb://gaia_sample`\n",
    "    - **parallax**\n",
    "    - **pmra** (proper motion in right ascension direction)\n",
    "    - **pmdec** (proper motion in declination direction)\n",
    "    \n",
    "    "
   ]
  },
  {
   "cell_type": "code",
   "execution_count": 20,
   "metadata": {},
   "outputs": [
    {
     "name": "stdout",
     "output_type": "stream",
     "text": [
      "SELECT \n",
      "           X.source_id,X.id1,X.id2,X.ra,X.dec,\n",
      "           s.gmag,s.rmag,s.zmag,\n",
      "           a.w1mpro,a.w2mpro,a.w3mpro,\n",
      "           g.parallax,g.pmra,g.pmdec\n",
      "         FROM mydb://gaia_sample_xmatch as X \n",
      "         JOIN smash_dr2.object as s ON X.id1 = s.id \n",
      "         JOIN allwise.source AS a ON X.id2 = a.source_id\n",
      "         JOIN mydb://gaia_sample AS g ON X.source_id = g.source_id\n",
      "         \n"
     ]
    }
   ],
   "source": [
    "query = (\"\"\"SELECT \n",
    "           X.source_id,X.id1,X.id2,X.ra,X.dec,\n",
    "           s.gmag,s.rmag,s.zmag,\n",
    "           a.w1mpro,a.w2mpro,a.w3mpro,\n",
    "           g.parallax,g.pmra,g.pmdec\n",
    "         FROM mydb://gaia_sample_xmatch as X \n",
    "         JOIN smash_dr2.object as s ON X.id1 = s.id \n",
    "         JOIN allwise.source AS a ON X.id2 = a.source_id\n",
    "         JOIN mydb://gaia_sample AS g ON X.source_id = g.source_id\n",
    "         \"\"\")\n",
    "print(query)"
   ]
  },
  {
   "cell_type": "code",
   "execution_count": 21,
   "metadata": {},
   "outputs": [
    {
     "data": {
      "text/html": [
       "<div>\n",
       "<style scoped>\n",
       "    .dataframe tbody tr th:only-of-type {\n",
       "        vertical-align: middle;\n",
       "    }\n",
       "\n",
       "    .dataframe tbody tr th {\n",
       "        vertical-align: top;\n",
       "    }\n",
       "\n",
       "    .dataframe thead th {\n",
       "        text-align: right;\n",
       "    }\n",
       "</style>\n",
       "<table border=\"1\" class=\"dataframe\">\n",
       "  <thead>\n",
       "    <tr style=\"text-align: right;\">\n",
       "      <th></th>\n",
       "      <th>source_id</th>\n",
       "      <th>id1</th>\n",
       "      <th>id2</th>\n",
       "      <th>ra</th>\n",
       "      <th>dec</th>\n",
       "      <th>gmag</th>\n",
       "      <th>rmag</th>\n",
       "      <th>zmag</th>\n",
       "      <th>w1mpro</th>\n",
       "      <th>w2mpro</th>\n",
       "      <th>w3mpro</th>\n",
       "      <th>parallax</th>\n",
       "      <th>pmra</th>\n",
       "      <th>pmdec</th>\n",
       "    </tr>\n",
       "  </thead>\n",
       "  <tbody>\n",
       "    <tr>\n",
       "      <th>0</th>\n",
       "      <td>5205696522501120512</td>\n",
       "      <td>Field80.880606</td>\n",
       "      <td>1482m743_ac51-023387</td>\n",
       "      <td>150.869988</td>\n",
       "      <td>-74.496170</td>\n",
       "      <td>20.678373</td>\n",
       "      <td>19.158497</td>\n",
       "      <td>18.168558</td>\n",
       "      <td>16.026</td>\n",
       "      <td>16.102</td>\n",
       "      <td>13.308</td>\n",
       "      <td>0.551829</td>\n",
       "      <td>-9.752906</td>\n",
       "      <td>4.869220</td>\n",
       "    </tr>\n",
       "    <tr>\n",
       "      <th>1</th>\n",
       "      <td>5205674807146027008</td>\n",
       "      <td>Field80.61312</td>\n",
       "      <td>1535m743_ac51-011624</td>\n",
       "      <td>151.032199</td>\n",
       "      <td>-74.745129</td>\n",
       "      <td>21.323969</td>\n",
       "      <td>19.730803</td>\n",
       "      <td>18.502588</td>\n",
       "      <td>16.329</td>\n",
       "      <td>17.933</td>\n",
       "      <td>13.250</td>\n",
       "      <td>0.858763</td>\n",
       "      <td>-6.702968</td>\n",
       "      <td>1.961605</td>\n",
       "    </tr>\n",
       "    <tr>\n",
       "      <th>2</th>\n",
       "      <td>6141410299609363840</td>\n",
       "      <td>Field127.835819</td>\n",
       "      <td>1993m394_ac51-059307</td>\n",
       "      <td>199.455692</td>\n",
       "      <td>-38.742563</td>\n",
       "      <td>15.066941</td>\n",
       "      <td>99.990000</td>\n",
       "      <td>99.990000</td>\n",
       "      <td>12.891</td>\n",
       "      <td>12.946</td>\n",
       "      <td>12.681</td>\n",
       "      <td>0.726484</td>\n",
       "      <td>-8.683367</td>\n",
       "      <td>-6.934360</td>\n",
       "    </tr>\n",
       "    <tr>\n",
       "      <th>3</th>\n",
       "      <td>5467823633613278720</td>\n",
       "      <td>Field85.328869</td>\n",
       "      <td>1577m288_ac51-061337</td>\n",
       "      <td>157.482148</td>\n",
       "      <td>-28.132586</td>\n",
       "      <td>17.074688</td>\n",
       "      <td>16.452244</td>\n",
       "      <td>16.070230</td>\n",
       "      <td>14.428</td>\n",
       "      <td>14.616</td>\n",
       "      <td>12.749</td>\n",
       "      <td>0.602111</td>\n",
       "      <td>-1.884323</td>\n",
       "      <td>-1.545751</td>\n",
       "    </tr>\n",
       "    <tr>\n",
       "      <th>4</th>\n",
       "      <td>5659712743651975424</td>\n",
       "      <td>Field76.497391</td>\n",
       "      <td>1486m243_ac51-024709</td>\n",
       "      <td>149.263676</td>\n",
       "      <td>-24.547096</td>\n",
       "      <td>18.163761</td>\n",
       "      <td>17.786285</td>\n",
       "      <td>17.640320</td>\n",
       "      <td>16.565</td>\n",
       "      <td>17.321</td>\n",
       "      <td>12.651</td>\n",
       "      <td>0.201747</td>\n",
       "      <td>-6.185929</td>\n",
       "      <td>2.255060</td>\n",
       "    </tr>\n",
       "    <tr>\n",
       "      <th>...</th>\n",
       "      <td>...</td>\n",
       "      <td>...</td>\n",
       "      <td>...</td>\n",
       "      <td>...</td>\n",
       "      <td>...</td>\n",
       "      <td>...</td>\n",
       "      <td>...</td>\n",
       "      <td>...</td>\n",
       "      <td>...</td>\n",
       "      <td>...</td>\n",
       "      <td>...</td>\n",
       "      <td>...</td>\n",
       "      <td>...</td>\n",
       "      <td>...</td>\n",
       "    </tr>\n",
       "    <tr>\n",
       "      <th>89</th>\n",
       "      <td>6140399848423784704</td>\n",
       "      <td>Field123.357216</td>\n",
       "      <td>1938m409_ac51-041921</td>\n",
       "      <td>193.066126</td>\n",
       "      <td>-40.631637</td>\n",
       "      <td>22.674843</td>\n",
       "      <td>21.302620</td>\n",
       "      <td>19.869620</td>\n",
       "      <td>17.992</td>\n",
       "      <td>16.876</td>\n",
       "      <td>12.884</td>\n",
       "      <td>NaN</td>\n",
       "      <td>NaN</td>\n",
       "      <td>NaN</td>\n",
       "    </tr>\n",
       "    <tr>\n",
       "      <th>90</th>\n",
       "      <td>5657777362669240832</td>\n",
       "      <td>Field72.334225</td>\n",
       "      <td>1453m273_ac51-012842</td>\n",
       "      <td>144.723530</td>\n",
       "      <td>-27.558006</td>\n",
       "      <td>17.380468</td>\n",
       "      <td>16.859613</td>\n",
       "      <td>16.566624</td>\n",
       "      <td>15.086</td>\n",
       "      <td>15.181</td>\n",
       "      <td>12.171</td>\n",
       "      <td>0.315982</td>\n",
       "      <td>-8.430329</td>\n",
       "      <td>3.314922</td>\n",
       "    </tr>\n",
       "    <tr>\n",
       "      <th>91</th>\n",
       "      <td>5199446211212147072</td>\n",
       "      <td>Field106.327557</td>\n",
       "      <td>1757m803_ac51-022489</td>\n",
       "      <td>178.830071</td>\n",
       "      <td>-80.663561</td>\n",
       "      <td>20.597034</td>\n",
       "      <td>18.872198</td>\n",
       "      <td>17.433577</td>\n",
       "      <td>14.758</td>\n",
       "      <td>14.772</td>\n",
       "      <td>12.880</td>\n",
       "      <td>0.732882</td>\n",
       "      <td>-17.285191</td>\n",
       "      <td>-2.581523</td>\n",
       "    </tr>\n",
       "    <tr>\n",
       "      <th>92</th>\n",
       "      <td>5633393184062155776</td>\n",
       "      <td>Field70.586563</td>\n",
       "      <td>1405m288_ac51-001788</td>\n",
       "      <td>141.354936</td>\n",
       "      <td>-29.324287</td>\n",
       "      <td>22.779097</td>\n",
       "      <td>21.246712</td>\n",
       "      <td>20.019642</td>\n",
       "      <td>17.605</td>\n",
       "      <td>16.911</td>\n",
       "      <td>12.524</td>\n",
       "      <td>NaN</td>\n",
       "      <td>NaN</td>\n",
       "      <td>NaN</td>\n",
       "    </tr>\n",
       "    <tr>\n",
       "      <th>93</th>\n",
       "      <td>6159483934306951552</td>\n",
       "      <td>Field170.707647</td>\n",
       "      <td>1925m334_ac51-053184</td>\n",
       "      <td>193.448268</td>\n",
       "      <td>-32.702949</td>\n",
       "      <td>18.246746</td>\n",
       "      <td>17.519882</td>\n",
       "      <td>17.003748</td>\n",
       "      <td>15.279</td>\n",
       "      <td>15.279</td>\n",
       "      <td>12.794</td>\n",
       "      <td>0.520946</td>\n",
       "      <td>-8.734354</td>\n",
       "      <td>-11.577876</td>\n",
       "    </tr>\n",
       "  </tbody>\n",
       "</table>\n",
       "<p>94 rows × 14 columns</p>\n",
       "</div>"
      ],
      "text/plain": [
       "              source_id              id1                   id2          ra  \\\n",
       "0   5205696522501120512   Field80.880606  1482m743_ac51-023387  150.869988   \n",
       "1   5205674807146027008    Field80.61312  1535m743_ac51-011624  151.032199   \n",
       "2   6141410299609363840  Field127.835819  1993m394_ac51-059307  199.455692   \n",
       "3   5467823633613278720   Field85.328869  1577m288_ac51-061337  157.482148   \n",
       "4   5659712743651975424   Field76.497391  1486m243_ac51-024709  149.263676   \n",
       "..                  ...              ...                   ...         ...   \n",
       "89  6140399848423784704  Field123.357216  1938m409_ac51-041921  193.066126   \n",
       "90  5657777362669240832   Field72.334225  1453m273_ac51-012842  144.723530   \n",
       "91  5199446211212147072  Field106.327557  1757m803_ac51-022489  178.830071   \n",
       "92  5633393184062155776   Field70.586563  1405m288_ac51-001788  141.354936   \n",
       "93  6159483934306951552  Field170.707647  1925m334_ac51-053184  193.448268   \n",
       "\n",
       "          dec       gmag       rmag       zmag  w1mpro  w2mpro  w3mpro  \\\n",
       "0  -74.496170  20.678373  19.158497  18.168558  16.026  16.102  13.308   \n",
       "1  -74.745129  21.323969  19.730803  18.502588  16.329  17.933  13.250   \n",
       "2  -38.742563  15.066941  99.990000  99.990000  12.891  12.946  12.681   \n",
       "3  -28.132586  17.074688  16.452244  16.070230  14.428  14.616  12.749   \n",
       "4  -24.547096  18.163761  17.786285  17.640320  16.565  17.321  12.651   \n",
       "..        ...        ...        ...        ...     ...     ...     ...   \n",
       "89 -40.631637  22.674843  21.302620  19.869620  17.992  16.876  12.884   \n",
       "90 -27.558006  17.380468  16.859613  16.566624  15.086  15.181  12.171   \n",
       "91 -80.663561  20.597034  18.872198  17.433577  14.758  14.772  12.880   \n",
       "92 -29.324287  22.779097  21.246712  20.019642  17.605  16.911  12.524   \n",
       "93 -32.702949  18.246746  17.519882  17.003748  15.279  15.279  12.794   \n",
       "\n",
       "    parallax       pmra      pmdec  \n",
       "0   0.551829  -9.752906   4.869220  \n",
       "1   0.858763  -6.702968   1.961605  \n",
       "2   0.726484  -8.683367  -6.934360  \n",
       "3   0.602111  -1.884323  -1.545751  \n",
       "4   0.201747  -6.185929   2.255060  \n",
       "..       ...        ...        ...  \n",
       "89       NaN        NaN        NaN  \n",
       "90  0.315982  -8.430329   3.314922  \n",
       "91  0.732882 -17.285191  -2.581523  \n",
       "92       NaN        NaN        NaN  \n",
       "93  0.520946  -8.734354 -11.577876  \n",
       "\n",
       "[94 rows x 14 columns]"
      ]
     },
     "execution_count": 21,
     "metadata": {},
     "output_type": "execute_result"
    }
   ],
   "source": [
    "df = qc.query(sql=query,fmt='pandas')\n",
    "df"
   ]
  },
  {
   "cell_type": "markdown",
   "metadata": {},
   "source": [
    "<a class=\"anchor\" id=\"speedtest\"></a>\n",
    "# Speed test\n",
    "Here we compare the speed of using the `q3c_join()` function to crossmatch directly in a JOIN query (`query1`) versus using a pre-crossmatched table in a JOIN query (`query2`). We select objects from the two catalogs and retrieve the same specified columns for the two queries. We will see that `query2` retrieves 1000 results faster than `query1` can retrieve 1000 results.\n",
    "\n",
    "#### First, running the crossmatch ourselves:"
   ]
  },
  {
   "cell_type": "code",
   "execution_count": 22,
   "metadata": {},
   "outputs": [
    {
     "name": "stdout",
     "output_type": "stream",
     "text": [
      "Query timeout at 180 seconds (3 minutes)\n",
      "CPU times: user 26.3 ms, sys: 5.92 ms, total: 32.2 ms\n",
      "Wall time: 3min\n"
     ]
    }
   ],
   "source": [
    "%%time\n",
    "query1 = \"\"\"SELECT\n",
    "           a.source_id as id1,a.ra as ra1,a.dec as dec1,a.pmdec,a.pmra,a.w1mpro,a.w2mpro,\n",
    "           gg.specobjid as id2,gg.ra as ra2,gg.dec as dec2,gg.z,gg.class,gg.veldisp,gg.veldisperr,\n",
    "           (q3c_dist(a.ra,a.dec,gg.ra,gg.dec)*3600.0) as dist_arcsec \n",
    "         FROM \n",
    "            allwise.source AS a\n",
    "         INNER JOIN LATERAL (\n",
    "            SELECT s.specobjid,s.ra,s.dec,s.z,s.class,s.veldisp,s.veldisperr\n",
    "            FROM \n",
    "                sdss_dr16.specobj AS s\n",
    "            WHERE\n",
    "                q3c_join(a.ra, a.dec, s.ra, s.dec, 1.5/3600.0)\n",
    "            ORDER BY\n",
    "                random()\n",
    "            ASC LIMIT 1\n",
    "        ) as gg ON true\n",
    "        LIMIT 1000\n",
    "\"\"\"\n",
    "try:\n",
    "    df1 = qc.query(sql=query1,timeout=180,fmt='pandas')\n",
    "except:\n",
    "    print(\"Query timeout at 180 seconds (3 minutes)\")"
   ]
  },
  {
   "cell_type": "markdown",
   "metadata": {},
   "source": [
    "#### Now, the same but using pre-crossmatched tables:"
   ]
  },
  {
   "cell_type": "code",
   "execution_count": 23,
   "metadata": {},
   "outputs": [
    {
     "name": "stdout",
     "output_type": "stream",
     "text": [
      "CPU times: user 40.1 ms, sys: 4.77 ms, total: 44.9 ms\n",
      "Wall time: 290 ms\n"
     ]
    }
   ],
   "source": [
    "%%time\n",
    "query2 = \"\"\"SELECT \n",
    "           X.id1,X.id2,X.ra1,X.dec1,X.ra2,X.dec2,X.distance as dist_arcsec,\n",
    "           a.pmdec,a.pmra,a.w1mpro,a.w2mpro,\n",
    "           s.z,s.class,s.veldisp,s.veldisperr\n",
    "         FROM \n",
    "             allwise.x1p5__source__sdss_dr16__specobj as X \n",
    "         JOIN \n",
    "             allwise.source as a ON X.id1 = a.source_id \n",
    "         JOIN \n",
    "             sdss_dr16.specobj AS s ON X.id2 = s.specobjid\n",
    "         LIMIT 1000\n",
    "         \"\"\"\n",
    "df2 = qc.query(sql=query2,fmt='pandas')"
   ]
  },
  {
   "cell_type": "markdown",
   "metadata": {},
   "source": [
    "### For completeness, we switch the order of the queries and query from a different catalog.\n",
    "We again select objects from two catalogs and retrieve the same specified columns for two queries. `query3` uses a pre-crossmatched table in a JOIN query and `query4` crossmatches directly in the JOIN query. We will see that `query3` retrieves 1000 results much faster than `query4` can retrieve 1000 results.\n",
    "\n",
    "#### First, using pre-crossmatched tables:"
   ]
  },
  {
   "cell_type": "code",
   "execution_count": 24,
   "metadata": {},
   "outputs": [
    {
     "name": "stdout",
     "output_type": "stream",
     "text": [
      "CPU times: user 36.2 ms, sys: 5.27 ms, total: 41.5 ms\n",
      "Wall time: 323 ms\n"
     ]
    }
   ],
   "source": [
    "%%time\n",
    "query3 = \"\"\"SELECT \n",
    "           X.id1,X.id2,X.ra1,X.dec1,X.ra2,X.dec2,X.distance as dist_arcsec,\n",
    "           u.rchi2_w1,u.rchi2_w2,s.z,s.class,s.veldisp,s.veldisperr\n",
    "         FROM \n",
    "             unwise_dr1.x1p5__object__sdss_dr16__specobj as X \n",
    "         JOIN \n",
    "             unwise_dr1.object as u ON X.id1 = u.unwise_objid \n",
    "         JOIN \n",
    "             sdss_dr16.specobj AS s ON X.id2 = s.specobjid\n",
    "         LIMIT 1000\n",
    "         \"\"\"\n",
    "df3 = qc.query(sql=query3,fmt='pandas')"
   ]
  },
  {
   "cell_type": "markdown",
   "metadata": {},
   "source": [
    "#### Now, running the crossmatch ourselves: "
   ]
  },
  {
   "cell_type": "code",
   "execution_count": 25,
   "metadata": {},
   "outputs": [
    {
     "name": "stdout",
     "output_type": "stream",
     "text": [
      "CPU times: user 42.1 ms, sys: 1.65 ms, total: 43.7 ms\n",
      "Wall time: 856 ms\n"
     ]
    }
   ],
   "source": [
    "%%time\n",
    "query4 = \"\"\"SELECT\n",
    "           u.unwise_objid as id1,u.ra as ra1,u.dec as dec1,u.rchi2_w1,u.rchi2_w2,\n",
    "           ss.specobjid as id2,ss.ra as ra2,ss.dec as dec2,ss.z,ss.class,ss.veldisp,ss.veldisperr,\n",
    "           (q3c_dist(u.ra,u.dec,ss.ra,ss.dec)*3600.0) as dist_arcsec \n",
    "         FROM \n",
    "            unwise_dr1.object AS u\n",
    "         INNER JOIN LATERAL (\n",
    "            SELECT s.specobjid,s.ra,s.dec,s.z,s.class,s.veldisp,s.veldisperr\n",
    "            FROM \n",
    "                sdss_dr16.specobj AS s\n",
    "            WHERE\n",
    "                q3c_join(u.ra, u.dec, s.ra, s.dec, 1.5/3600.0)\n",
    "            ORDER BY\n",
    "                random()\n",
    "            ASC LIMIT 1\n",
    "        ) as ss ON true\n",
    "        LIMIT 1000\n",
    "\"\"\"\n",
    "df4 = qc.query(sql=query4,fmt='pandas')"
   ]
  },
  {
   "cell_type": "markdown",
   "metadata": {},
   "source": [
    "<a class=\"anchor\" id=\"appendix\"></a>\n",
    "# Appendix\n",
    "\n",
    "A clear benefit of pre-crossmatched tables is that they contain the positions of the same objects in two datasets. We can use this to e.g. fetch images of an object from both surveys.\n",
    "\n",
    "## A1. unWISE DR1 vs LS DR8 \n",
    "Here we will compare two images of the same object from two different catalogs, unWISE DR1 and LS DR8. "
   ]
  },
  {
   "cell_type": "markdown",
   "metadata": {},
   "source": [
    "### Function to retrieve cutouts"
   ]
  },
  {
   "cell_type": "code",
   "execution_count": 26,
   "metadata": {},
   "outputs": [],
   "source": [
    "def make_cutout_comparison_table(ra_in1, dec_in1, layer1, layer2, pixscale, ra_in2=None, dec_in2=None):\n",
    "    \"\"\"\n",
    "    Obtain color JPEG images from Legacy Survey team cutout tool at NERSC\n",
    "    \"\"\"    \n",
    "    img1 = []\n",
    "    img2 = []\n",
    "    \n",
    "    for i in range(len(ra_in1)):\n",
    "        cutout_url1 = \"https://www.legacysurvey.org/viewer/cutout.jpg?ra=%g&dec=%g&layer=%s&pixscale=%s\" % (ra_in1[i],dec_in1[i],layer1,pixscale)\n",
    "        img = plt.imread(download_file(cutout_url1,cache=True,show_progress=False,timeout=120))\n",
    "        img1.append(img)\n",
    "        \n",
    "        cutout_url2 = \"https://www.legacysurvey.org/viewer/cutout.jpg?ra=%g&dec=%g&layer=%s&pixscale=%s\" % (ra_in2[i],dec_in2[i],layer2,pixscale)\n",
    "        img = plt.imread(download_file(cutout_url2,cache=True,show_progress=False,timeout=120))\n",
    "        img2.append(img)\n",
    "\n",
    "    return img1,img2"
   ]
  },
  {
   "cell_type": "markdown",
   "metadata": {},
   "source": [
    "### Function to generate plots"
   ]
  },
  {
   "cell_type": "code",
   "execution_count": 27,
   "metadata": {},
   "outputs": [],
   "source": [
    "def plot_cutouts(img1,img2,cat1,cat2):\n",
    "    \"\"\"\n",
    "    Plot images in two rows with 5 images in each row\n",
    "    \"\"\"\n",
    "    fig = plt.figure(figsize=(21,7))\n",
    "\n",
    "    for i in range(len(img1)):\n",
    "        ax = fig.add_subplot(2,6,i+1)\n",
    "        ax.imshow(img1[i])\n",
    "        ax.xaxis.set_major_formatter(NullFormatter())\n",
    "        ax.yaxis.set_major_formatter(NullFormatter())\n",
    "        ax.tick_params(axis='both',which='both',length=0)\n",
    "        ax.text(0.02,0.93,'ra=%.5f'%list_ra1[i],transform=ax.transAxes,fontsize=12,color='white')\n",
    "        ax.text(0.02,0.85,'dec=%.5f'%list_dec1[i],transform=ax.transAxes,fontsize=12,color='white')\n",
    "        ax.text(0.02,0.77,cat1,transform=ax.transAxes,fontsize=12,color='white')\n",
    "\n",
    "        ax = fig.add_subplot(2,6,i+7)\n",
    "        ax.imshow(img2[i])\n",
    "        ax.xaxis.set_major_formatter(NullFormatter())\n",
    "        ax.yaxis.set_major_formatter(NullFormatter())\n",
    "        ax.tick_params(axis='both',which='both',length=0)\n",
    "        ax.text(0.02,0.93,'ra=%.5f'%list_ra2[i],transform=ax.transAxes,fontsize=12,color='white')\n",
    "        ax.text(0.02,0.85,'dec=%.5f'%list_dec2[i],transform=ax.transAxes,fontsize=12,color='white')\n",
    "        ax.text(0.02,0.77,cat2,transform=ax.transAxes,fontsize=12,color='white')\n",
    "\n",
    "    plt.subplots_adjust(wspace=0.02, hspace=0.03)"
   ]
  },
  {
   "cell_type": "markdown",
   "metadata": {},
   "source": [
    "###  Write query to randomly select five targets (RA/Dec positions) from unWISE DR1 and LS DR8 crossmatch table\n",
    "... then save them as arrays and set the captions, layers, and pixscale. Finally we plot the cutout images."
   ]
  },
  {
   "cell_type": "code",
   "execution_count": null,
   "metadata": {},
   "outputs": [],
   "source": [
    "%%time\n",
    "q = \"\"\"SELECT ra1,dec1,ra2,dec2 \n",
    "        FROM unwise_dr1.x1p5__object__ls_dr8__tractor_primary \n",
    "        WHERE ra1>300 AND dec1>33 \n",
    "        ORDER BY random() \n",
    "        LIMIT 5\"\"\"\n",
    "\n",
    "r = qc.query(sql=q,fmt='pandas')\n",
    "\n",
    "list_ra1=r['ra1'].values       # \".values\" convert to numpy array\n",
    "list_dec1=r['dec1'].values\n",
    "list_ra2=r['ra2'].values       \n",
    "list_dec2=r['dec2'].values\n",
    "\n",
    "cat1='unWISE'\n",
    "cat2='ls dr8'\n",
    "layer1='unwise-neo6'\n",
    "layer2='ls-dr8'\n",
    "pixscale='0.3'\n",
    "img1,img2 = make_cutout_comparison_table(list_ra1,list_dec1,layer1,layer2,\n",
    "                                         pixscale,list_ra2,list_dec2)\n",
    "plot_cutouts(img1,img2,cat1,cat2)"
   ]
  },
  {
   "cell_type": "markdown",
   "metadata": {},
   "source": [
    "## A2. SDSS vs DES DR1\n",
    "Here we will compare two images of the same object from two different catalogs, SDSS and DES DR1."
   ]
  },
  {
   "cell_type": "markdown",
   "metadata": {},
   "source": [
    "### Write query to randomly select five targets (RA/Dec positions) from SDSS DR16 and DES DR1 crossmatch table\n",
    "... then save them as arrays and set the captions, layers, and pixscale. Finally we plot the cutout images."
   ]
  },
  {
   "cell_type": "code",
   "execution_count": null,
   "metadata": {},
   "outputs": [],
   "source": [
    "%%time\n",
    "q = \"\"\"SELECT ra1,dec1,ra2,dec2 \n",
    "        FROM sdss_dr16.x1p5__specobj__des_dr1__main \n",
    "        ORDER BY random() \n",
    "        LIMIT 5\"\"\"\n",
    "\n",
    "r = qc.query(sql=q,fmt='pandas')\n",
    "\n",
    "list_ra1=r['ra1'].values       # \".values\" convert to numpy array\n",
    "list_dec1=r['dec1'].values\n",
    "list_ra2=r['ra2'].values       \n",
    "list_dec2=r['dec2'].values\n",
    "\n",
    "cat1='sdss dr16'\n",
    "cat2='des dr1'\n",
    "layer1='sdss'\n",
    "layer2='des-dr1'\n",
    "pixscale='0.25'\n",
    "img1,img2 = make_cutout_comparison_table(list_ra1,list_dec1,layer1,layer2,\n",
    "                                         pixscale,list_ra2,list_dec2)\n",
    "plot_cutouts(img1,img2,cat1,cat2)"
   ]
  },
  {
   "cell_type": "markdown",
   "metadata": {},
   "source": [
    "## A3. Cool galaxy finds: SDSS vs DES DR1\n",
    "\n",
    "We compare two images of the same galaxy from two different catalogs, SDSS and DES DR1. We use a list of identified galaxies (RA/Dec positions) to compare the difference in observable features and quality between the two catalogs.\n",
    "\n",
    "First we import the CSV file of identified galaxies (RA/Dec positions) into MyDB:"
   ]
  },
  {
   "cell_type": "code",
   "execution_count": null,
   "metadata": {},
   "outputs": [],
   "source": [
    "qc.mydb_import('gals','./gals.csv',drop=True)"
   ]
  },
  {
   "cell_type": "markdown",
   "metadata": {},
   "source": [
    "We write the query to select the first five RA/Dec positions from our table. We then save them as arrays and set the captions, layers, and pixscale. Finally we plot the cutout images."
   ]
  },
  {
   "cell_type": "code",
   "execution_count": null,
   "metadata": {},
   "outputs": [],
   "source": [
    "%%time\n",
    "qg = \"\"\"SELECT ra,dec \n",
    "        FROM mydb://gals \n",
    "        LIMIT 5\"\"\"\n",
    "rg = qc.query(sql=qg)\n",
    "rp = convert(rg)\n",
    "list_ra1=rp['ra'].values \n",
    "list_dec1=rp['dec'].values\n",
    "list_ra2=rp['ra'].values\n",
    "list_dec2=rp['dec'].values\n",
    "\n",
    "cat1='sdss dr16'\n",
    "cat2='des dr1'\n",
    "layer1='sdss'\n",
    "layer2='des-dr1'\n",
    "pixscale='0.5'\n",
    "\n",
    "img1,img2 = make_cutout_comparison_table(list_ra1,list_dec1,layer1,layer2,\n",
    "                                        pixscale,ra_in2=list_ra1,dec_in2=list_dec1)\n",
    "plot_cutouts(img1,img2,cat1,cat2)"
   ]
  },
  {
   "cell_type": "markdown",
   "metadata": {},
   "source": [
    "We write the next query to select the next five RA/Dec positions from our table. We then save them as arrays and set the captions, layers, and pixscale. Finally we plot the cutout images."
   ]
  },
  {
   "cell_type": "code",
   "execution_count": null,
   "metadata": {},
   "outputs": [],
   "source": [
    "%%time\n",
    "qg = \"\"\"SELECT ra,dec \n",
    "        FROM mydb://gals \n",
    "        LIMIT 5 \n",
    "        OFFSET 5\"\"\"\n",
    "rg = qc.query(sql=qg)\n",
    "rp = convert(rg)\n",
    "list_ra1=rp['ra'].values      \n",
    "list_dec1=rp['dec'].values\n",
    "list_ra2=rp['ra'].values     \n",
    "list_dec2=rp['dec'].values\n",
    "\n",
    "img1,img2 = make_cutout_comparison_table(list_ra1,list_dec1,layer1,layer2,\n",
    "                                        pixscale,ra_in2=list_ra1,dec_in2=list_dec1)\n",
    "plot_cutouts(img1,img2,cat1,cat2)"
   ]
  },
  {
   "cell_type": "markdown",
   "metadata": {},
   "source": [
    "We write the next query to select the last five RA/Dec positions from our table. We then save them as arrays and set the captions, layers, and pixscale. Finally we plot the cutout images."
   ]
  },
  {
   "cell_type": "code",
   "execution_count": null,
   "metadata": {},
   "outputs": [],
   "source": [
    "%%time\n",
    "qg = \"\"\"SELECT ra,dec \n",
    "        FROM mydb://gals \n",
    "        LIMIT 5 \n",
    "        OFFSET 10\"\"\"\n",
    "rg = qc.query(sql=qg)\n",
    "rp = convert(rg)\n",
    "list_ra1=rp['ra'].values    \n",
    "list_dec1=rp['dec'].values\n",
    "list_ra2=rp['ra'].values     \n",
    "list_dec2=rp['dec'].values\n",
    "\n",
    "img1,img2 = make_cutout_comparison_table(list_ra1,list_dec1,layer1,layer2,\n",
    "                                        pixscale,ra_in2=list_ra1,dec_in2=list_dec1)\n",
    "plot_cutouts(img1,img2,cat1,cat2)"
   ]
  },
  {
   "cell_type": "markdown",
   "metadata": {},
   "source": [
    "<a class=\"anchor\" id=\"refs\"></a>\n",
    "# Resources & references"
   ]
  },
  {
   "cell_type": "markdown",
   "metadata": {},
   "source": [
    "W3Schools: SQL Joins https://www.w3schools.com/sql/sql_join.asp  \n",
    "Legacy Survey Sky Browser: https://www.legacysurvey.org/viewer#NGC%203098"
   ]
  }
 ],
 "metadata": {
  "kernelspec": {
   "display_name": "Python 3",
   "language": "python",
   "name": "python3"
  },
  "language_info": {
   "codemirror_mode": {
    "name": "ipython",
    "version": 3
   },
   "file_extension": ".py",
   "mimetype": "text/x-python",
   "name": "python",
   "nbconvert_exporter": "python",
   "pygments_lexer": "ipython3",
   "version": "3.7.6"
  }
 },
 "nbformat": 4,
 "nbformat_minor": 4
}
