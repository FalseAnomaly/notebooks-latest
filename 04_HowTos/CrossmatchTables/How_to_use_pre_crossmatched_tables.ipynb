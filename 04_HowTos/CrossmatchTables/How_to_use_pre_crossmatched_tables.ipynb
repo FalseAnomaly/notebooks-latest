{
 "cells": [
  {
   "cell_type": "code",
   "execution_count": null,
   "metadata": {},
   "outputs": [],
   "source": [
    "__author__ = 'Alice Jacques <alice.jacques@noirlab.edu>, NOIRLab Astro Data Lab Team <datalab@noirlab.edu>' \n",
    "__version__ = '20211112' #yyyymmdd \n",
    "__datasets__ = ['ls_dr9','sdss_dr16','gaia_dr2','des_dr1','smash_dr2','unwise_dr1','allwise','nsc_dr2'] \n",
    "__keywords__ = ['crossmatch','joint query','mydb','vospace','image cutout']"
   ]
  },
  {
   "cell_type": "markdown",
   "metadata": {},
   "source": [
    "# How to use the pre-crossmatched tables at Astro Data Lab\n",
    "\n",
    "by Alice Jacques and the NOIRLab Astro Data Lab Team"
   ]
  },
  {
   "cell_type": "markdown",
   "metadata": {
    "jp-MarkdownHeadingCollapsed": true,
    "tags": []
   },
   "source": [
    "### Table of contents\n",
    "* [Goals & notebook summary](#goals)\n",
    "* [Disclaimer & attribution](#attribution)\n",
    "* [Imports & setup](#import)\n",
    "* [Authentication](#auth)\n",
    "* [Accessing the pre-crossmatched tables](#access)\n",
    "* [Writing a JOIN query](#joinquery)\n",
    "* [Joint query of LS and SDSS catalogs](#lssdss)\n",
    "* [Crossmatch a user-provided table and a pre-crossmatched table](#usertable)\n",
    "* [Speed test](#speedtest)\n",
    "* [Appendix](#appendix)\n",
    "* [Resources & references](#refs)"
   ]
  },
  {
   "cell_type": "markdown",
   "metadata": {},
   "source": [
    "<a class=\"anchor\" id=\"goals\"></a>\n",
    "# Goals\n",
    "\n",
    "* Learn how to use a pre-crossmatched table to do a joint query on two Data Lab data sets\n",
    "* Learn how to do an efficient crossmatch of a user-provided data table against a Data Lab pre-crossmatched table"
   ]
  },
  {
   "cell_type": "markdown",
   "metadata": {},
   "source": [
    "# Summary\n",
    "\n",
    "#### Crossmatch table naming template\n",
    "The crossmatch tables at Astro Data Lab are named as follows:\n",
    "\n",
    "`schema1.xNpN__table1__schema2__table2`\n",
    "\n",
    "where the N in NpN encode the numerical value of the crossmatching radius (since dots '.' are not allowed in table names).\n",
    "\n",
    "Example: \n",
    "\n",
    "`ls_dr9.x1p5__tractor__nsc_dr2__object`\n",
    "\n",
    "is a crossmatch table (indicated by the leading x after the dot '.'), located in the ls_dr9 schema, and it crossmatches the **ls_dr9.tractor** table with the **nsc_dr2.object** table (which lives in the nsc_dr2 schema) within a 1.5 arcseconds radius ('1p5') .\n",
    "\n",
    "This is admittedly long, but clean, consistent, and most importantly, parsable. The use of double-underscores '\\__' is to distinguish from single underscores often used in schema and table names.\n",
    "\n",
    "\n",
    "#### Columns in crossmatch tables\n",
    "All crossmatch tables shall be minimalist, i.e. have only these columns: id1,ra1,dec1,id2,ra2,dec2,distance.\n",
    "Column descriptions in the crossmatch table shall contain the original column names in parentheses (makes it parsable).\n",
    "\n",
    "For example:\n",
    "\n",
    "`ls_dr9.x1p5__tractor__nsc_dr2__object`\n",
    "\n",
    "| Column   | Description                                     | Datatype |\n",
    "|----------|-------------------------------------------------|----------|\n",
    "| id1      | ID in left/first table (ls_id)                  | BIGINT   |\n",
    "| ra1      | Right ascension in left/first table (ra)        | DOUBLE   |\n",
    "| dec1     | Declination in left/first table (dec)           | DOUBLE   |\n",
    "| id2      | ID in right/second table (id)                   | VARCHAR  |\n",
    "| ra2      | Right ascension in right/second table (ra)      | DOUBLE   |\n",
    "| dec2     | Declination in right/second table (dec)         | DOUBLE   |\n",
    "| distance | Distance between ra1,dec1 and ra2,dec2 (arcsec) | DOUBLE   |\n",
    "\n",
    "\n",
    "#### Datatypes in crossmatch tables\n",
    "\n",
    "* The column data types in a crossmatch table for columns id1 and id2 shall be retained from the mother tables. The example above, BIGINT, is valid in many cases, but need not be for all data sets.\n",
    "* The data types for columns ra1, dec1, ra2, dec2 shall be DOUBLE, which they usually will be anyway.\n",
    "* The column distance can be either REAL or DOUBLE.\n",
    "\n",
    "#### Overview\n",
    "\n",
    "* **The following 5 data sets are considered the main reference tables** and are crossmatched against all data sets (if there is sky overlap) and when a new data set is ingested:  \n",
    "    - latest gaia_drN.gaia_source    \n",
    "    - latest nsc_drN.object\n",
    "    - latest unwise_drN.object\n",
    "    - allwise.source  \n",
    "    - latest sdss_drN.specobj\n",
    "* **\"Crossmatch\" means for now \"single nearest neighbor\"** (and this is the current mode at Data Lab).\n",
    "* **Object tables only**, not single epoch measurements or metadata tables.\n",
    "* For every crossmatch table with table1 as the left/first table and table2 as the right/second table, there exists a corresponding crossmatch table with table2 as the left/first table and table1 as the right/second table. \n",
    "    - For example, `allwise.x1p5__source__des_dr2__main` and `des_dr2.x1p5__main__allwise__source`.\n",
    "\n",
    "\n",
    "The list of available crossmatch tables can be viewed on our query interface [here](https://datalab.noirlab.edu/query.php) under their respective schema."
   ]
  },
  {
   "cell_type": "markdown",
   "metadata": {},
   "source": [
    "<a class=\"anchor\" id=\"attribution\"></a>\n",
    "# Disclaimer & attribution\n",
    "If you use this notebook for your published science, please acknowledge the following:\n",
    "\n",
    "* Data Lab concept paper: Fitzpatrick et al., \"The NOAO Data Laboratory: a conceptual overview\", SPIE, 9149, 2014, http://dx.doi.org/10.1117/12.2057445\n",
    "\n",
    "* Data Lab disclaimer: https://datalab.noirlab.edu/disclaimers.php"
   ]
  },
  {
   "cell_type": "markdown",
   "metadata": {},
   "source": [
    "<a class=\"anchor\" id=\"import\"></a>\n",
    "# Imports and setup"
   ]
  },
  {
   "cell_type": "code",
   "execution_count": null,
   "metadata": {},
   "outputs": [],
   "source": [
    "# std lib\n",
    "from getpass import getpass\n",
    "\n",
    "# 3rd party\n",
    "from astropy.utils.data import download_file  #import file from URL\n",
    "from matplotlib.ticker import NullFormatter\n",
    "import pylab as plt\n",
    "import matplotlib\n",
    "%matplotlib inline\n",
    "\n",
    "# Data Lab\n",
    "from dl import authClient as ac, queryClient as qc, storeClient as sc\n",
    "from dl.helpers.utils import convert # converts table to Pandas dataframe object"
   ]
  },
  {
   "cell_type": "markdown",
   "metadata": {},
   "source": [
    "<a class=\"anchor\" id=\"auth\"></a>\n",
    "# Authentication\n",
    "Much of the functionality of Data Lab can be accessed without explicitly logging in (the service then uses an anonymous login). But some capacities, for instance saving the results of your queries to your virtual storage space, require a login (i.e. you will need a registered user account).\n",
    "\n",
    "If you need to log in to Data Lab, issue this command, and respond according to the instructions:"
   ]
  },
  {
   "cell_type": "code",
   "execution_count": null,
   "metadata": {},
   "outputs": [],
   "source": [
    "#ac.login(input(\"Enter user name: (+ENTER) \"),getpass(\"Enter password: (+ENTER) \"))\n",
    "ac.whoAmI()"
   ]
  },
  {
   "cell_type": "markdown",
   "metadata": {},
   "source": [
    "<a class=\"anchor\" id=\"access\"></a>\n",
    "# Accessing the pre-crossmatched tables \n",
    "We can use Data Lab's Query Client to access the pre-crossmatched tables hosted by Data Lab. First let's get a total count of the number of objects (nrows) in SDSS DR16 that are also in LS DR9:"
   ]
  },
  {
   "cell_type": "code",
   "execution_count": null,
   "metadata": {},
   "outputs": [],
   "source": [
    "%%time\n",
    "query=\"SELECT nrows FROM tbl_stat WHERE schema='sdss_dr16' and tbl_name='x1p5__specobj__ls_dr9__tractor'\"\n",
    "\n",
    "# Call query manager\n",
    "response = qc.query(sql=query)\n",
    "print(response)"
   ]
  },
  {
   "cell_type": "markdown",
   "metadata": {},
   "source": [
    "Now let's print just the first 100 rows:"
   ]
  },
  {
   "cell_type": "code",
   "execution_count": null,
   "metadata": {},
   "outputs": [],
   "source": [
    "%%time\n",
    "query = \"SELECT * FROM sdss_dr16.x1p5__specobj__ls_dr9__tractor LIMIT 100\"\n",
    "result = qc.query(sql=query,fmt='pandas')\n",
    "result"
   ]
  },
  {
   "cell_type": "markdown",
   "metadata": {},
   "source": [
    "<a class=\"anchor\" id=\"joinquery\"></a>\n",
    "# Writing a JOIN query\n",
    "In order to extract only the relevant columns pertaining to our science question from multiple data tables, we may write a query that uses a JOIN statement. There are 4 main types of JOIN statements that we could use, and which one we decide to choose depends on how we want the information to be extracted. \n",
    "1. **(INNER) JOIN**: Returns rows that have matching values in both tables\n",
    "2. **LEFT (OUTER) JOIN**: Returns all rows from the left table, and the matched rows from the right table\n",
    "3. **RIGHT (OUTER) JOIN**: Returns all rows from the right table, and the matched rows from the left table\n",
    "4. **FULL (OUTER) JOIN**: Returns all rows when there is a match in either left or right table\n",
    "\n",
    "Take a moment to look over the figure below outlining the various JOIN statement types.  \n",
    "NOTE: the default JOIN is an `INNER JOIN`."
   ]
  },
  {
   "cell_type": "markdown",
   "metadata": {},
   "source": [
    "<img src='join.png'></img>"
   ]
  },
  {
   "cell_type": "markdown",
   "metadata": {},
   "source": [
    "### `JOIN LATERAL`"
   ]
  },
  {
   "cell_type": "markdown",
   "metadata": {},
   "source": [
    "In nearest neighbor crossmatch queries, we use `JOIN LATERAL`, which is like a SQL foreach loop that will iterate over each row in a result set and evaluate a subquery using that row as a parameter."
   ]
  },
  {
   "cell_type": "markdown",
   "metadata": {},
   "source": [
    "<a class=\"anchor\" id=\"lssdss\"></a>\n",
    "# Joint query of LS and SDSS catalogs\n",
    "Here we will examine spectroscopic redshifts from SDSS DR16 and photometry from LS DR9. The two crossmatch tables related to these two catalogs are: \n",
    "`ls_dr9.x1p5__tractor__sdss_dr16__specobj` and `sdss_dr16.x1p5__specobj__ls_dr9__tractor`. The choice of which of these two crossmatch tables to use should be based on the science question being posed. For instance, the question *'how does a galaxy's structure change with redshift?'* is dependent on the redshift values obtained from SDSS DR16, so we should use the crossmatch table that has SDSS DR16 as the first table. So, the relevant information we want from our 3 tables of interest for this example are:\n",
    "\n",
    "1. \"X\" = `sdss_dr16.x1p5__specobj__ls_dr9__tractor`\n",
    "    - **ra1** (RA of sdss object)\n",
    "    - **dec1** (Dec of sdss object)\n",
    "2. \"S\" = `sdss_dr16.specobj`\n",
    "    - **z** (redshift)\n",
    "3. \"L\" = `ls_dr9.tractor`\n",
    "    - **ra** (RA of ls object)\n",
    "    - **dec** (Dec of ls object)\n",
    "    - **g_r** (computed g-r color)"
   ]
  },
  {
   "cell_type": "markdown",
   "metadata": {},
   "source": [
    "### Write the query\n",
    "Now that we know what we want and where we want it from, let's write the query and then print the results on screen. Here we use two join statements: the first will search in the SDSS DR16 `specobj` table for rows that have the same SDSS id value (`specobjid`) as in the pre-crossmatched table (`id1`) and retrieve the desired columns from the SDSS DR16 `specobj` table. The second will search in the LS DR9 `tractor` table for rows that have the same LS id value (`ls_id`) as in the pre-crossmatched table (`id2`) and retrieve the desired columns from the LS DR9 `tractor` table."
   ]
  },
  {
   "cell_type": "code",
   "execution_count": null,
   "metadata": {},
   "outputs": [],
   "source": [
    "query = (\"\"\"SELECT \n",
    "           X.ra1 as ra_sdss, X.dec1 as dec_sdss, S.z,\n",
    "           L.ra as ra_ls, L.dec as dec_ls, L.g_r\n",
    "         FROM sdss_dr16.x1p5__specobj__ls_dr9__tractor as X \n",
    "         JOIN sdss_dr16.specobj as S ON X.id1 = S.specobjid \n",
    "         JOIN ls_dr9.tractor AS L ON X.id2 = L.ls_id\n",
    "         WHERE X.ra1 BETWEEN %s and %s and X.dec1 BETWEEN %s and %s\n",
    "         LIMIT 10000\n",
    "         \"\"\") %(110,200,7.,40.)  #large region\n",
    "print(query)"
   ]
  },
  {
   "cell_type": "code",
   "execution_count": null,
   "metadata": {},
   "outputs": [],
   "source": [
    "%%time\n",
    "df = qc.query(sql=query,fmt='pandas')\n",
    "df"
   ]
  },
  {
   "cell_type": "markdown",
   "metadata": {},
   "source": [
    "### Saving results to VOSpace\n",
    "VOSpace is a convenient storage space for users to save their work. It can store any data or file type. We can save the results from the same query to our virtual storage space:"
   ]
  },
  {
   "cell_type": "code",
   "execution_count": null,
   "metadata": {},
   "outputs": [],
   "source": [
    "%%time\n",
    "response = qc.query(sql=query,fmt='csv',out='vos://testresult.csv')"
   ]
  },
  {
   "cell_type": "markdown",
   "metadata": {},
   "source": [
    "Let's ensure the file was saved in VOSpace:"
   ]
  },
  {
   "cell_type": "code",
   "execution_count": null,
   "metadata": {},
   "outputs": [],
   "source": [
    "sc.ls(name='vos://testresult.csv')"
   ]
  },
  {
   "cell_type": "markdown",
   "metadata": {},
   "source": [
    "Now let's remove the file we just saved to VOSpace:"
   ]
  },
  {
   "cell_type": "code",
   "execution_count": null,
   "metadata": {},
   "outputs": [],
   "source": [
    "sc.rm (name='vos://testresult.csv')"
   ]
  },
  {
   "cell_type": "markdown",
   "metadata": {},
   "source": [
    "Let's ensure the file was removed from VOSpace:"
   ]
  },
  {
   "cell_type": "code",
   "execution_count": null,
   "metadata": {},
   "outputs": [],
   "source": [
    "sc.rm (name='vos://testresult.csv')"
   ]
  },
  {
   "cell_type": "markdown",
   "metadata": {},
   "source": [
    "### Saving results to MyDB\n",
    "MyDB is a useful OS remote per-user relational database that can store data tables. Furthermore, the results of queries can be directly saved to MyDB, as we show in the following example:"
   ]
  },
  {
   "cell_type": "code",
   "execution_count": null,
   "metadata": {},
   "outputs": [],
   "source": [
    "%%time\n",
    "response = qc.query(sql=query, fmt='csv', out='mydb://testresult')"
   ]
  },
  {
   "cell_type": "markdown",
   "metadata": {},
   "source": [
    "Ensure the table has been saved to MyDB by calling the `mydb_list()` function, which will list all tables currently in a user's MyDB:"
   ]
  },
  {
   "cell_type": "code",
   "execution_count": null,
   "metadata": {},
   "outputs": [],
   "source": [
    "print(qc.mydb_list(),\"\\n\")"
   ]
  },
  {
   "cell_type": "markdown",
   "metadata": {},
   "source": [
    "Now let's drop the table from our MyDB."
   ]
  },
  {
   "cell_type": "code",
   "execution_count": null,
   "metadata": {},
   "outputs": [],
   "source": [
    "qc.mydb_drop('testresult')"
   ]
  },
  {
   "cell_type": "markdown",
   "metadata": {},
   "source": [
    "Ensure it has been removed by calling the `mydb_list()` function again:"
   ]
  },
  {
   "cell_type": "code",
   "execution_count": null,
   "metadata": {},
   "outputs": [],
   "source": [
    "print(qc.mydb_list(),\"\\n\")"
   ]
  },
  {
   "cell_type": "markdown",
   "metadata": {},
   "source": [
    "<a class=\"anchor\" id=\"usertable\"></a>\n",
    "# Crossmatch a user-provided data table and a pre-crossmatched table\n",
    "We can construct a query to run a crossmatch in the database using the `q3c_join()` function, which identifies all matching objects within a specified radius in degrees (see details on [using Q3C functions](https://github.com/segasai/q3c)). For this example, we will search only for the single nearest neighbor. For different examples of crossmatching, see our [How to crossmatch tables notebook](https://github.com/noaodatalab/notebooks-latest/blob/master/04_HowTos/CrossmatchTables/How_to_crossmatch_tables.ipynb). \n",
    "\n",
    "First, let's query a small selection of sample data from the Data Lab database and store it in MyDB as `gaia_sample`. This will act as our \"user-provided table\"."
   ]
  },
  {
   "cell_type": "code",
   "execution_count": null,
   "metadata": {},
   "outputs": [],
   "source": [
    "query = \"\"\"SELECT source_id, ra, dec, parallax, pmra, pmdec \n",
    "            FROM gaia_dr2.gaia_source \n",
    "            WHERE ra<200 AND ra>124 AND random_id<10 \n",
    "            LIMIT 10000\"\"\"\n",
    "print(query)"
   ]
  },
  {
   "cell_type": "code",
   "execution_count": null,
   "metadata": {},
   "outputs": [],
   "source": [
    "%%time\n",
    "response = qc.query(sql=query,out='mydb://gaia_sample',drop=True)"
   ]
  },
  {
   "cell_type": "markdown",
   "metadata": {},
   "source": [
    "### Write a crossmatch query\n",
    "\n",
    "Next let's crossmatch our `gaia_sample` table with Data Lab's pre-crossmatched table between SMASH DR2 and allWISE `smash_dr2.x1p5__object__allwise__source`. We'll write our crossmatch query using the `q3c_join()` function as well as the `q3c_dist()` function, searching for the nearest neighbor within a 1.5 arcsec radius (which must be converted into degrees for the query, so we divide by 3600.0). We will then save it in MyDB as `gaia_sample_xmatch`."
   ]
  },
  {
   "cell_type": "code",
   "execution_count": null,
   "metadata": {},
   "outputs": [],
   "source": [
    "%%time\n",
    "qu = \"\"\"SELECT\n",
    "        G.source_id, ss.id1, ss.id2, G.ra, G.dec, ss.ra1, ss.dec1, ss.ra2, ss.dec2,\n",
    "        (q3c_dist(G.ra, G.dec, ss.ra1, ss.dec1)*3600.0) as dist_arcsec\n",
    "        FROM mydb://gaia_sample AS G\n",
    "        JOIN LATERAL (\n",
    "            SELECT S.id1, S.id2, S.ra1, S.dec1, S.ra2, S.dec2\n",
    "            FROM \n",
    "                smash_dr2.x1p5__object__allwise__source AS S\n",
    "            WHERE \n",
    "                q3c_join(G.ra, G.dec, S.ra1, S.dec1, 1.5/3600.0)\n",
    "            ORDER BY\n",
    "                q3c_dist(G.ra, G.dec, S.ra1, S.dec1)\n",
    "            ASC LIMIT 1\n",
    "            ) AS ss ON true\n",
    "    \"\"\"\n",
    "resp = qc.query(sql=qu,out='mydb://gaia_sample_xmatch',drop=True)"
   ]
  },
  {
   "cell_type": "markdown",
   "metadata": {},
   "source": [
    "We can query the newly created table from MyDB and convert it into a Pandas Dataframe object in order to print it on screen:"
   ]
  },
  {
   "cell_type": "code",
   "execution_count": null,
   "metadata": {},
   "outputs": [],
   "source": [
    "query = \"SELECT * FROM mydb://gaia_sample_xmatch\"\n",
    "df = qc.query(sql=query,fmt='pandas')\n",
    "df"
   ]
  },
  {
   "cell_type": "markdown",
   "metadata": {},
   "source": [
    "### Write the joint query\n",
    "Now we can write a query using the JOIN statement in order to extract the columns we want from our tables of interest. Just as in the previous section, let's first make an outline of which tables we'd like to extract columns from.\n",
    "\n",
    "1. \"X\" = `mydb://gaia_sample_xmatch`\n",
    "    - **source_id** (source id from gaia dr2)\n",
    "    - **id1** (source id from smash dr1) \n",
    "    - **id2** (source id from allwise)\n",
    "    - **ra** (RA value from gaia dr2)\n",
    "    - **dec** (Dec value from gaia dr2)\n",
    "2. \"s\" = `smash_dr2.object`\n",
    "    - **gmag** (weighted-avarage, calibrated g-band magnitude, 99.99 if no detection)\n",
    "3. \"a\" = `allwise.source` \n",
    "    - **w1mpro** (W1 magnitude measured with profile-fitting photometry)\n",
    "4. \"g\" = `mydb://gaia_sample`\n",
    "    - **parallax**\n",
    "    - **pmra** (proper motion in right ascension direction)\n",
    "    - **pmdec** (proper motion in declination direction)\n",
    "    \n",
    "    "
   ]
  },
  {
   "cell_type": "code",
   "execution_count": null,
   "metadata": {},
   "outputs": [],
   "source": [
    "query = (\"\"\"SELECT \n",
    "           X.source_id, X.id1, X.id2, X.ra, X.dec,\n",
    "           s.gmag, a.w1mpro, g.parallax, g.pmra, g.pmdec\n",
    "         FROM mydb://gaia_sample_xmatch as X \n",
    "         JOIN smash_dr2.object as s ON X.id1 = s.id \n",
    "         JOIN allwise.source AS a ON X.id2 = a.source_id\n",
    "         JOIN mydb://gaia_sample AS g ON X.source_id = g.source_id\n",
    "         \"\"\")\n",
    "print(query)"
   ]
  },
  {
   "cell_type": "code",
   "execution_count": null,
   "metadata": {},
   "outputs": [],
   "source": [
    "%%time\n",
    "df = qc.query(sql=query,fmt='pandas')\n",
    "df"
   ]
  },
  {
   "cell_type": "markdown",
   "metadata": {},
   "source": [
    "<a class=\"anchor\" id=\"speedtest\"></a>\n",
    "# Speed test\n",
    "Here we compare the speed of using the `q3c_join()` function to crossmatch directly in a JOIN query (`query1`) versus using a pre-crossmatched table (`query2`). We retrieve the same specified columns for the two queries. We will see that `query2` retrieves 1000 results much faster than `query1` can retrieve 1000 results.\n",
    "\n",
    "#### First, running the crossmatch ourselves:"
   ]
  },
  {
   "cell_type": "code",
   "execution_count": null,
   "metadata": {},
   "outputs": [],
   "source": [
    "%%time\n",
    "query1 = \"\"\"SELECT\n",
    "           a.source_id as id1, a.ra as ra1, a.dec as dec1,\n",
    "           gg.specobjid as id2, gg.ra as ra2, gg.dec as dec2,\n",
    "           (q3c_dist(a.ra, a.dec, gg.ra, gg.dec)*3600) as distance \n",
    "         FROM \n",
    "            allwise.source AS a\n",
    "         INNER JOIN LATERAL (\n",
    "            SELECT s.specobjid, s.ra, s.dec\n",
    "            FROM \n",
    "                sdss_dr16.specobj AS s\n",
    "            WHERE\n",
    "                q3c_join(a.ra, a.dec, s.ra, s.dec, 1.5/3600.0)\n",
    "            ORDER BY\n",
    "                q3c_dist(a.ra, a.dec, s.ra, s.dec)\n",
    "            ASC LIMIT 1\n",
    "        ) as gg ON true\n",
    "        LIMIT 1000\n",
    "\"\"\"\n",
    "df1 = qc.query(sql=query1,fmt='pandas')\n",
    "df1 = df1.sort_values('id1')"
   ]
  },
  {
   "cell_type": "markdown",
   "metadata": {},
   "source": [
    "#### Now, the same but using pre-crossmatched tables:"
   ]
  },
  {
   "cell_type": "code",
   "execution_count": null,
   "metadata": {},
   "outputs": [],
   "source": [
    "%%time\n",
    "query2 = \"\"\"SELECT \n",
    "           X.id1, X.id2, X.ra1, X.dec1, X.ra2, X.dec2, X.distance\n",
    "         FROM \n",
    "             allwise.x1p5__source__sdss_dr16__specobj as X \n",
    "         LIMIT 1000\n",
    "\"\"\"\n",
    "df2 = qc.query(sql=query2,fmt='pandas')\n",
    "df2 = df2.sort_values('id1')"
   ]
  },
  {
   "cell_type": "markdown",
   "metadata": {},
   "source": [
    "### For completeness, we switch the order of the queries and query from a different catalog.\n",
    "We again select objects from two catalogs and retrieve the same specified columns for two queries. `query3` uses a pre-crossmatched table in a JOIN query and `query4` crossmatches directly in the JOIN query. We will see that `query3` retrieves 1000 results much faster than `query4` can retrieve 1000 results.\n",
    "\n",
    "#### First, using pre-crossmatched tables:"
   ]
  },
  {
   "cell_type": "code",
   "execution_count": null,
   "metadata": {},
   "outputs": [],
   "source": [
    "%%time\n",
    "query3 = \"\"\"SELECT \n",
    "           X.id1, X.id2, X.ra1, X.dec1, X.ra2, X.dec2, X.distance\n",
    "         FROM \n",
    "             unwise_dr1.x1p5__object__sdss_dr16__specobj as X \n",
    "         LIMIT 1000\n",
    "         \"\"\"\n",
    "df3 = qc.query(sql=query3,fmt='pandas')\n",
    "df3 = df3.sort_values('id1')"
   ]
  },
  {
   "cell_type": "markdown",
   "metadata": {},
   "source": [
    "#### Now, running the crossmatch ourselves: "
   ]
  },
  {
   "cell_type": "code",
   "execution_count": null,
   "metadata": {},
   "outputs": [],
   "source": [
    "%%time\n",
    "query4 = \"\"\"SELECT\n",
    "           u.unwise_objid as id1, u.ra as ra1 ,u.dec as dec1,\n",
    "           ss.specobjid as id2, ss.ra as ra2, ss.dec as dec2,\n",
    "           (q3c_dist(u.ra, u.dec, ss.ra, ss.dec)*3600.0) as distance \n",
    "         FROM \n",
    "            unwise_dr1.object AS u\n",
    "         INNER JOIN LATERAL (\n",
    "            SELECT s.specobjid, s.ra, s.dec\n",
    "            FROM \n",
    "                sdss_dr16.specobj AS s\n",
    "            WHERE\n",
    "                q3c_join(u.ra, u.dec, s.ra, s.dec, 1.5/3600.0)\n",
    "            ORDER BY\n",
    "                q3c_dist(u.ra, u.dec, s.ra, s.dec)\n",
    "            ASC LIMIT 1\n",
    "        ) as ss ON true\n",
    "        LIMIT 1000\n",
    "\"\"\"\n",
    "df4 = qc.query(sql=query4,fmt='pandas')\n",
    "df4 = df4.sort_values('id1')"
   ]
  },
  {
   "cell_type": "markdown",
   "metadata": {},
   "source": [
    "<a class=\"anchor\" id=\"appendix\"></a>\n",
    "# Appendix\n",
    "\n",
    "A clear benefit of pre-crossmatched tables is that they contain the positions of the same objects in two datasets. We can use this to e.g. fetch images of an object from both surveys.\n",
    "\n",
    "## A1. unWISE DR1 vs LS DR9 \n",
    "Here we will compare two images of the same object from two different catalogs, unWISE DR1 and LS DR9. "
   ]
  },
  {
   "cell_type": "markdown",
   "metadata": {},
   "source": [
    "### Function to retrieve cutouts"
   ]
  },
  {
   "cell_type": "code",
   "execution_count": null,
   "metadata": {},
   "outputs": [],
   "source": [
    "def make_cutout_comparison_table(ra_in1, dec_in1, layer1, layer2, pixscale, ra_in2=None, dec_in2=None):\n",
    "    \"\"\"\n",
    "    Obtain color JPEG images from Legacy Survey team cutout tool at NERSC\n",
    "    \"\"\"    \n",
    "    img1 = []\n",
    "    img2 = []\n",
    "    \n",
    "    for i in range(len(ra_in1)):\n",
    "        cutout_url1 = \"https://www.legacysurvey.org/viewer/cutout.jpg?ra=%g&dec=%g&layer=%s&pixscale=%s\" % (ra_in1[i],dec_in1[i],layer1,pixscale)\n",
    "        img = plt.imread(download_file(cutout_url1,cache=True,show_progress=False,timeout=120))\n",
    "        img1.append(img)\n",
    "        \n",
    "        cutout_url2 = \"https://www.legacysurvey.org/viewer/cutout.jpg?ra=%g&dec=%g&layer=%s&pixscale=%s\" % (ra_in2[i],dec_in2[i],layer2,pixscale)\n",
    "        img = plt.imread(download_file(cutout_url2,cache=True,show_progress=False,timeout=120))\n",
    "        img2.append(img)\n",
    "\n",
    "    return img1,img2"
   ]
  },
  {
   "cell_type": "markdown",
   "metadata": {},
   "source": [
    "### Function to generate plots"
   ]
  },
  {
   "cell_type": "code",
   "execution_count": null,
   "metadata": {},
   "outputs": [],
   "source": [
    "def plot_cutouts(img1,img2,cat1,cat2):\n",
    "    \"\"\"\n",
    "    Plot images in two rows with 5 images in each row\n",
    "    \"\"\"\n",
    "    fig = plt.figure(figsize=(21,7))\n",
    "\n",
    "    for i in range(len(img1)):\n",
    "        ax = fig.add_subplot(2,6,i+1)\n",
    "        ax.imshow(img1[i])\n",
    "        ax.xaxis.set_major_formatter(NullFormatter())\n",
    "        ax.yaxis.set_major_formatter(NullFormatter())\n",
    "        ax.tick_params(axis='both',which='both',length=0)\n",
    "        ax.text(0.02,0.93,'ra=%.5f'%list_ra1[i],transform=ax.transAxes,fontsize=12,color='white')\n",
    "        ax.text(0.02,0.85,'dec=%.5f'%list_dec1[i],transform=ax.transAxes,fontsize=12,color='white')\n",
    "        ax.text(0.02,0.77,cat1,transform=ax.transAxes,fontsize=12,color='white')\n",
    "\n",
    "        ax = fig.add_subplot(2,6,i+7)\n",
    "        ax.imshow(img2[i])\n",
    "        ax.xaxis.set_major_formatter(NullFormatter())\n",
    "        ax.yaxis.set_major_formatter(NullFormatter())\n",
    "        ax.tick_params(axis='both',which='both',length=0)\n",
    "        ax.text(0.02,0.93,'ra=%.5f'%list_ra2[i],transform=ax.transAxes,fontsize=12,color='white')\n",
    "        ax.text(0.02,0.85,'dec=%.5f'%list_dec2[i],transform=ax.transAxes,fontsize=12,color='white')\n",
    "        ax.text(0.02,0.77,cat2,transform=ax.transAxes,fontsize=12,color='white')\n",
    "\n",
    "    plt.subplots_adjust(wspace=0.02, hspace=0.03)"
   ]
  },
  {
   "cell_type": "markdown",
   "metadata": {},
   "source": [
    "###  Write query to randomly select five targets (RA/Dec positions) from unWISE DR1 and LS DR9 crossmatch table\n",
    "... then save them as arrays and set the captions, layers, and pixscale. Finally we plot the cutout images."
   ]
  },
  {
   "cell_type": "code",
   "execution_count": null,
   "metadata": {},
   "outputs": [],
   "source": [
    "%%time\n",
    "q = \"\"\"SELECT ra1,dec1,ra2,dec2 \n",
    "        FROM unwise_dr1.x1p5__object__ls_dr9__tractor \n",
    "        WHERE ra1>300 AND dec1>33 \n",
    "        ORDER BY random() \n",
    "        LIMIT 5\"\"\"\n",
    "\n",
    "r = qc.query(sql=q,fmt='pandas')\n",
    "\n",
    "list_ra1=r['ra1'].values       # \".values\" convert to numpy array\n",
    "list_dec1=r['dec1'].values\n",
    "list_ra2=r['ra2'].values       \n",
    "list_dec2=r['dec2'].values\n",
    "\n",
    "cat1='unWISE'\n",
    "cat2='ls dr9'\n",
    "layer1='unwise-neo6'\n",
    "layer2='ls-dr9'\n",
    "pixscale='0.3'\n",
    "img1,img2 = make_cutout_comparison_table(list_ra1,list_dec1,layer1,layer2,\n",
    "                                         pixscale,list_ra2,list_dec2)\n",
    "plot_cutouts(img1,img2,cat1,cat2)"
   ]
  },
  {
   "cell_type": "markdown",
   "metadata": {},
   "source": [
    "## A2. SDSS vs DES DR1\n",
    "Here we will compare two images of the same object from two different catalogs, SDSS and DES DR1."
   ]
  },
  {
   "cell_type": "markdown",
   "metadata": {},
   "source": [
    "### Write query to randomly select five targets (RA/Dec positions) from SDSS DR16 and DES DR1 crossmatch table\n",
    "... then save them as arrays and set the captions, layers, and pixscale. Finally we plot the cutout images."
   ]
  },
  {
   "cell_type": "code",
   "execution_count": null,
   "metadata": {},
   "outputs": [],
   "source": [
    "%%time\n",
    "q = \"\"\"SELECT ra1,dec1,ra2,dec2 \n",
    "        FROM sdss_dr16.x1p5__specobj__des_dr1__main \n",
    "        ORDER BY random() \n",
    "        LIMIT 5\"\"\"\n",
    "\n",
    "r = qc.query(sql=q,fmt='pandas')\n",
    "\n",
    "list_ra1=r['ra1'].values       # \".values\" convert to numpy array\n",
    "list_dec1=r['dec1'].values\n",
    "list_ra2=r['ra2'].values       \n",
    "list_dec2=r['dec2'].values\n",
    "\n",
    "cat1='sdss dr16'\n",
    "cat2='des dr1'\n",
    "layer1='sdss'\n",
    "layer2='des-dr1'\n",
    "pixscale='0.25'\n",
    "img1,img2 = make_cutout_comparison_table(list_ra1,list_dec1,layer1,layer2,\n",
    "                                         pixscale,list_ra2,list_dec2)\n",
    "plot_cutouts(img1,img2,cat1,cat2)"
   ]
  },
  {
   "cell_type": "markdown",
   "metadata": {},
   "source": [
    "## A3. Cool galaxy finds: SDSS vs DES DR1\n",
    "\n",
    "We compare two images of the same galaxy from two different catalogs, SDSS and DES DR1. We use a list of identified galaxies (RA/Dec positions) to compare the difference in observable features and quality between the two catalogs.\n",
    "\n",
    "First we import the CSV file of identified galaxies (RA/Dec positions) into MyDB:"
   ]
  },
  {
   "cell_type": "code",
   "execution_count": null,
   "metadata": {},
   "outputs": [],
   "source": [
    "qc.mydb_import('gals','./gals.csv',drop=True)"
   ]
  },
  {
   "cell_type": "markdown",
   "metadata": {},
   "source": [
    "We write the query to select the first five RA/Dec positions from our table. We then save them as arrays and set the captions, layers, and pixscale. Finally we plot the cutout images."
   ]
  },
  {
   "cell_type": "code",
   "execution_count": null,
   "metadata": {},
   "outputs": [],
   "source": [
    "%%time\n",
    "qg = \"\"\"SELECT ra,dec \n",
    "        FROM mydb://gals \n",
    "        LIMIT 5\"\"\"\n",
    "rg = qc.query(sql=qg)\n",
    "rp = convert(rg)\n",
    "list_ra1=rp['ra'].values \n",
    "list_dec1=rp['dec'].values\n",
    "list_ra2=rp['ra'].values\n",
    "list_dec2=rp['dec'].values\n",
    "\n",
    "cat1='sdss dr16'\n",
    "cat2='des dr1'\n",
    "layer1='sdss'\n",
    "layer2='des-dr1'\n",
    "pixscale='0.5'\n",
    "\n",
    "img1,img2 = make_cutout_comparison_table(list_ra1,list_dec1,layer1,layer2,\n",
    "                                        pixscale,ra_in2=list_ra1,dec_in2=list_dec1)\n",
    "plot_cutouts(img1,img2,cat1,cat2)"
   ]
  },
  {
   "cell_type": "markdown",
   "metadata": {},
   "source": [
    "We write the next query to select the next five RA/Dec positions from our table. We then save them as arrays and set the captions, layers, and pixscale. Finally we plot the cutout images."
   ]
  },
  {
   "cell_type": "code",
   "execution_count": null,
   "metadata": {},
   "outputs": [],
   "source": [
    "%%time\n",
    "qg = \"\"\"SELECT ra,dec \n",
    "        FROM mydb://gals \n",
    "        LIMIT 5 \n",
    "        OFFSET 5\"\"\"\n",
    "rg = qc.query(sql=qg)\n",
    "rp = convert(rg)\n",
    "list_ra1=rp['ra'].values      \n",
    "list_dec1=rp['dec'].values\n",
    "list_ra2=rp['ra'].values     \n",
    "list_dec2=rp['dec'].values\n",
    "\n",
    "img1,img2 = make_cutout_comparison_table(list_ra1,list_dec1,layer1,layer2,\n",
    "                                        pixscale,ra_in2=list_ra1,dec_in2=list_dec1)\n",
    "plot_cutouts(img1,img2,cat1,cat2)"
   ]
  },
  {
   "cell_type": "markdown",
   "metadata": {},
   "source": [
    "We write the next query to select the last five RA/Dec positions from our table. We then save them as arrays and set the captions, layers, and pixscale. Finally we plot the cutout images."
   ]
  },
  {
   "cell_type": "code",
   "execution_count": null,
   "metadata": {},
   "outputs": [],
   "source": [
    "%%time\n",
    "qg = \"\"\"SELECT ra,dec \n",
    "        FROM mydb://gals \n",
    "        LIMIT 5 \n",
    "        OFFSET 10\"\"\"\n",
    "rg = qc.query(sql=qg)\n",
    "rp = convert(rg)\n",
    "list_ra1=rp['ra'].values    \n",
    "list_dec1=rp['dec'].values\n",
    "list_ra2=rp['ra'].values     \n",
    "list_dec2=rp['dec'].values\n",
    "\n",
    "img1,img2 = make_cutout_comparison_table(list_ra1,list_dec1,layer1,layer2,\n",
    "                                        pixscale,ra_in2=list_ra1,dec_in2=list_dec1)\n",
    "plot_cutouts(img1,img2,cat1,cat2)"
   ]
  },
  {
   "cell_type": "markdown",
   "metadata": {},
   "source": [
    "<a class=\"anchor\" id=\"refs\"></a>\n",
    "# Resources & references"
   ]
  },
  {
   "cell_type": "markdown",
   "metadata": {},
   "source": [
    "W3Schools: SQL Joins https://www.w3schools.com/sql/sql_join.asp  \n",
    "Legacy Survey Sky Browser: https://www.legacysurvey.org/viewer#NGC%203098"
   ]
  }
 ],
 "metadata": {
  "kernelspec": {
   "display_name": "Python 3",
   "language": "python",
   "name": "python3"
  },
  "language_info": {
   "codemirror_mode": {
    "name": "ipython",
    "version": 3
   },
   "file_extension": ".py",
   "mimetype": "text/x-python",
   "name": "python",
   "nbconvert_exporter": "python",
   "pygments_lexer": "ipython3",
   "version": "3.8.8"
  }
 },
 "nbformat": 4,
 "nbformat_minor": 4
}
