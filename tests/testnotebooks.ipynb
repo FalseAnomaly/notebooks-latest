{
 "cells": [
  {
   "cell_type": "code",
   "execution_count": null,
   "metadata": {},
   "outputs": [],
   "source": [
    "__version__ = '20200922'\n",
    "__author__ = ['Robert Nikutta <nikutta@noao.edu>', 'Data Lab Team <datalab@noao.edu']"
   ]
  },
  {
   "cell_type": "markdown",
   "metadata": {},
   "source": [
    "# Automatic notebook testing\n",
    "### Run the cells in this notebook in order."
   ]
  },
  {
   "cell_type": "markdown",
   "metadata": {},
   "source": [
    "## Imports & setup"
   ]
  },
  {
   "cell_type": "code",
   "execution_count": null,
   "metadata": {},
   "outputs": [],
   "source": [
    "from testnotebooks import *"
   ]
  },
  {
   "cell_type": "markdown",
   "metadata": {},
   "source": [
    "## Log in to Data Lab once"
   ]
  },
  {
   "cell_type": "code",
   "execution_count": null,
   "metadata": {},
   "outputs": [],
   "source": [
    "token = login(input('Username: '),getpass('Password: '))"
   ]
  },
  {
   "cell_type": "markdown",
   "metadata": {},
   "source": [
    "## Set up which notebooks to test, and which to exclude from testing"
   ]
  },
  {
   "cell_type": "code",
   "execution_count": null,
   "metadata": {},
   "outputs": [],
   "source": [
    "# List all paths with notebooks to test.\n",
    "# Paths can be single notebooks, directories, or a mix.\n",
    "# If single ipynb or single directory, paths can be a string.\n",
    "# If multiple elements, make it a sequence of strings.\n",
    "#\n",
    "# Examples:\n",
    "#\n",
    "#paths = '../01_GettingStartedWithDataLab/'  # test only notebooks in the ../01_GetttingStartedWithDataLab/ directory\n",
    "#paths = ('../01_GettingStartedWithDataLab/','../02_DataAccessOverview/')  # test notebooks in these two directories; Note: this is a tuple of paths\n",
    "#paths = ('../01_GettingStartedWithDataLab/02_GettingStartedWithDataLab.ipynb','../02_DataAccessOverview/')  # test one NB in 01... dir, and all NBs in 02... dir\n",
    "#paths = '../' # test all Data Lab notebooks that are not excluded below\n",
    "paths = '../'\n",
    "\n",
    "# List pattern of notebook names, and/or paths, to exclude from testing.\n",
    "# ** means \"any number of intermediate directries\"\n",
    "# * means \"any number if intermediate characters in this directory\"\n",
    "# A few default notebooks are explicitly excluded here b/c they absolutely require interactive execution.\n",
    "# A few others are temporarily excluded until they will be fixed.\n",
    "exclude = ('**/*AuthClient.ipynb','**/Rowstore*.ipynb')"
   ]
  },
  {
   "cell_type": "markdown",
   "metadata": {},
   "source": [
    "## Run the test suite\n",
    "**This can take a while!**"
   ]
  },
  {
   "cell_type": "code",
   "execution_count": null,
   "metadata": {},
   "outputs": [],
   "source": [
    "%%time\n",
    "testresults = run(paths=paths,exclude=exclude)"
   ]
  },
  {
   "cell_type": "markdown",
   "metadata": {},
   "source": [
    "## Summarize the test results"
   ]
  },
  {
   "cell_type": "code",
   "execution_count": null,
   "metadata": {},
   "outputs": [],
   "source": [
    "testresults"
   ]
  }
 ],
 "metadata": {
  "kernelspec": {
   "display_name": "Python 3",
   "language": "python",
   "name": "python3"
  },
  "language_info": {
   "codemirror_mode": {
    "name": "ipython",
    "version": 3
   },
   "file_extension": ".py",
   "mimetype": "text/x-python",
   "name": "python",
   "nbconvert_exporter": "python",
   "pygments_lexer": "ipython3",
   "version": "3.8.0"
  }
 },
 "nbformat": 4,
 "nbformat_minor": 4
}
